{
 "cells": [
  {
   "cell_type": "code",
   "execution_count": 1,
   "metadata": {},
   "outputs": [],
   "source": [
    "import matplotlib.pyplot as plt\n",
    "import numpy as np\n",
    "from Packages.RK4 import *\n",
    "from Packages.Configuration import *\n",
    "from Packages.Variables import *\n",
    "#import Packages.Variables as Vars"
   ]
  },
  {
   "cell_type": "code",
   "execution_count": 2,
   "metadata": {},
   "outputs": [
    {
     "name": "stdout",
     "output_type": "stream",
     "text": [
      "[[126000000.0], [1000, 31536000, 0, True, True, False, False, 100, 0.001, 4, 2], [[<function R_ininsolalbedo at 0x7f62e9e14620>, <function R_outplanck at 0x7f62d4bc2c80>, <function PredefinedForcing at 0x7f62d4bc60d0>], [[342, 1, 0, <function Albedo0D at 0x7f62d4bc28c8>, True, [0.32], False, 10.26, 1, True, 0, False, 1, 'annualmean', False, 0], [0.67, 5.6703726225913323e-08], [0, 'Config/', 'ForcingTry.txt', ',', 0, 0, 1, 'day', True, 10000, 1]]], [0, 288, 288, 0, 0, True, 30, True, 5]]\n",
      "{'eqparam': {'c_ao': 126000000.0}, 'rk4input': {'number_of_integration': 1000, 'stepsize_of_integration': 31536000, 'spatial_resolution': 0, 'both_hemispheres': True, 'latitudinal_circle': True, 'latitudinal_belt': False, 'eq_condition': False, 'eq_condition_length': 100, 'eq_condition_amplitude': 0.001, 'data_readout': 4, 'number_of_externals': 2}, 'funccomp': {'funclist': {'func0': <function R_ininsolalbedo at 0x7f62e9e14620>, 'func1': <function R_outplanck at 0x7f62d4bc2c80>, 'func2': <function PredefinedForcing at 0x7f62d4bc60d0>}, 'funcparam': {'func0': {'q': 342, 'm': 1, 'dq': 0, 'albedo': <function Albedo0D at 0x7f62d4bc28c8>, 'albedoread': True, 'albedoparam': [0.32], 'noise': False, 'noiseamp': 10.26, 'noisedelay': 1, 'seed': True, 'seedmanipulation': 0, 'sinusodial': False, 'convfactor': 1, 'timeunit': 'annualmean', 'orbital': False, 'orbitalyear': 0}, 'func1': {'grey': 0.67, 'sigma': 5.6703726225913323e-08}, 'func2': {'forcingnumber': 0, 'datapath': 'Config/', 'name': 'ForcingTry.txt', 'delimiter': ',', 'header': 0, 'col_time': 0, 'col_forcing': 1, 'timeunit': 'day', 'bp': True, 'time_start': 10000, 'k': 1}}}, 'initials': {'time': 0, 'zmt': 288, 'gmt': 288, 'latitude_c': 0, 'latitude_b': 0, 'initial_temperature_cosine': True, 'initial_temperature_amplitude': 30, 'initial_temperature_noise': True, 'initial_temperature_noise_amplitude': 5}}\n",
      "func0\n"
     ]
    }
   ],
   "source": [
    "c,cdic,fd=importer('ForcingTry.ini')\n",
    "print(c)\n",
    "print(cdic)\n",
    "#print(c[2])\n",
    "#print(dict_to_list(fd))\n",
    "funccomp=cdic['funccomp']\n",
    "print(list(funccomp['funclist'].keys())[list(funccomp['funclist'].values()).index(R_ininsolalbedo)])"
   ]
  },
  {
   "cell_type": "code",
   "execution_count": 3,
   "metadata": {},
   "outputs": [
    {
     "name": "stdout",
     "output_type": "stream",
     "text": [
      "0D\n",
      "[342, 1, 0, <function Albedo0D at 0x7f62d4bc28c8>, True, [0.32], False, 10.26, 1, True, 0, False, 1, 'annualmean', False, 0]\n"
     ]
    },
    {
     "ename": "TypeError",
     "evalue": "unsupported operand type(s) for %: 'type' and 'int'",
     "output_type": "error",
     "traceback": [
      "\u001b[0;31m---------------------------------------------------------------------------\u001b[0m",
      "\u001b[0;31mTypeError\u001b[0m                                 Traceback (most recent call last)",
      "\u001b[0;32m<ipython-input-3-99a45af974eb>\u001b[0m in \u001b[0;36m<module>\u001b[0;34m()\u001b[0m\n\u001b[1;32m      8\u001b[0m \u001b[0mrk\u001b[0m\u001b[0;34m=\u001b[0m\u001b[0mconfigdic\u001b[0m\u001b[0;34m[\u001b[0m\u001b[0;34m'rk4input'\u001b[0m\u001b[0;34m]\u001b[0m\u001b[0;34m\u001b[0m\u001b[0m\n\u001b[1;32m      9\u001b[0m \u001b[0mfun\u001b[0m\u001b[0;34m=\u001b[0m\u001b[0mconfigdic\u001b[0m\u001b[0;34m[\u001b[0m\u001b[0;34m'funccomp'\u001b[0m\u001b[0;34m]\u001b[0m\u001b[0;34m\u001b[0m\u001b[0m\n\u001b[0;32m---> 10\u001b[0;31m \u001b[0mdata\u001b[0m\u001b[0;34m=\u001b[0m\u001b[0mrk4alg\u001b[0m\u001b[0;34m(\u001b[0m\u001b[0mBaseEquation\u001b[0m\u001b[0;34m,\u001b[0m\u001b[0meq\u001b[0m\u001b[0;34m,\u001b[0m\u001b[0mrk\u001b[0m\u001b[0;34m,\u001b[0m\u001b[0mfun\u001b[0m\u001b[0;34m)\u001b[0m\u001b[0;34m\u001b[0m\u001b[0m\n\u001b[0m\u001b[1;32m     11\u001b[0m \u001b[0mprint\u001b[0m\u001b[0;34m(\u001b[0m\u001b[0mVars\u001b[0m\u001b[0;34m.\u001b[0m\u001b[0mt\u001b[0m\u001b[0;34m)\u001b[0m\u001b[0;34m\u001b[0m\u001b[0m\n\u001b[1;32m     12\u001b[0m \u001b[0;31m#datareset()\u001b[0m\u001b[0;34m\u001b[0m\u001b[0;34m\u001b[0m\u001b[0m\n",
      "\u001b[0;32m~/Programs/ebms/Packages/RK4.py\u001b[0m in \u001b[0;36mrk4alg\u001b[0;34m(func, eqparam, rk4input, funccomp)\u001b[0m\n\u001b[1;32m     30\u001b[0m         \u001b[0;31m#Calculating increments at 4 positions from the energy balance equation (func)\u001b[0m\u001b[0;34m\u001b[0m\u001b[0;34m\u001b[0m\u001b[0m\n\u001b[1;32m     31\u001b[0m         \u001b[0mT0\u001b[0m\u001b[0;34m=\u001b[0m\u001b[0mVars\u001b[0m\u001b[0;34m.\u001b[0m\u001b[0mT\u001b[0m\u001b[0;34m\u001b[0m\u001b[0m\n\u001b[0;32m---> 32\u001b[0;31m         \u001b[0mk1\u001b[0m \u001b[0;34m=\u001b[0m \u001b[0mh\u001b[0m \u001b[0;34m*\u001b[0m \u001b[0mfunc\u001b[0m\u001b[0;34m(\u001b[0m\u001b[0meqparam\u001b[0m\u001b[0;34m,\u001b[0m\u001b[0mfunccomp\u001b[0m\u001b[0;34m)\u001b[0m\u001b[0;34m\u001b[0m\u001b[0m\n\u001b[0m\u001b[1;32m     33\u001b[0m         \u001b[0mRuntime_Tracker\u001b[0m \u001b[0;34m+=\u001b[0m \u001b[0;36m1\u001b[0m\u001b[0;34m\u001b[0m\u001b[0m\n\u001b[1;32m     34\u001b[0m         \u001b[0mVars\u001b[0m\u001b[0;34m.\u001b[0m\u001b[0mT\u001b[0m\u001b[0;34m=\u001b[0m\u001b[0mT0\u001b[0m\u001b[0;34m+\u001b[0m\u001b[0;36m0.5\u001b[0m\u001b[0;34m*\u001b[0m\u001b[0mk1\u001b[0m\u001b[0;34m\u001b[0m\u001b[0m\n",
      "\u001b[0;32m~/Programs/ebms/Packages/BaseEquation.py\u001b[0m in \u001b[0;36mBaseEquation\u001b[0;34m(eqparam, funccomp)\u001b[0m\n\u001b[1;32m     11\u001b[0m     \u001b[0mC_ao\u001b[0m\u001b[0;34m=\u001b[0m\u001b[0meqparam\u001b[0m\u001b[0;34m[\u001b[0m\u001b[0;34m'c_ao'\u001b[0m\u001b[0;34m]\u001b[0m                    \u001b[0;31m#Extracting Equationparameters\u001b[0m\u001b[0;34m\u001b[0m\u001b[0m\n\u001b[1;32m     12\u001b[0m     \u001b[0;32mfor\u001b[0m \u001b[0mi\u001b[0m \u001b[0;32min\u001b[0m \u001b[0mrange\u001b[0m\u001b[0;34m(\u001b[0m\u001b[0mlen\u001b[0m\u001b[0;34m(\u001b[0m\u001b[0mfunclist\u001b[0m\u001b[0;34m)\u001b[0m\u001b[0;34m)\u001b[0m\u001b[0;34m:\u001b[0m\u001b[0;34m\u001b[0m\u001b[0m\n\u001b[0;32m---> 13\u001b[0;31m             \u001b[0my\u001b[0m \u001b[0;34m+=\u001b[0m \u001b[0mfunclist\u001b[0m\u001b[0;34m[\u001b[0m\u001b[0;34m'func'\u001b[0m\u001b[0;34m+\u001b[0m\u001b[0mstr\u001b[0m\u001b[0;34m(\u001b[0m\u001b[0mi\u001b[0m\u001b[0;34m)\u001b[0m\u001b[0;34m]\u001b[0m\u001b[0;34m(\u001b[0m\u001b[0mfuncparam\u001b[0m\u001b[0;34m[\u001b[0m\u001b[0;34m'func'\u001b[0m\u001b[0;34m+\u001b[0m\u001b[0mstr\u001b[0m\u001b[0;34m(\u001b[0m\u001b[0mi\u001b[0m\u001b[0;34m)\u001b[0m\u001b[0;34m]\u001b[0m\u001b[0;34m)\u001b[0m    \u001b[0;31m#Calling the selected function and sum them up\u001b[0m\u001b[0;34m\u001b[0m\u001b[0m\n\u001b[0m\u001b[1;32m     14\u001b[0m     \u001b[0;32mreturn\u001b[0m \u001b[0my\u001b[0m\u001b[0;34m/\u001b[0m\u001b[0mC_ao\u001b[0m           \u001b[0;31m#output of y, weighted with the heat capacity\u001b[0m\u001b[0;34m\u001b[0m\u001b[0m\n\u001b[1;32m     15\u001b[0m \u001b[0;34m\u001b[0m\u001b[0m\n",
      "\u001b[0;32m~/Programs/ebms/Packages/Functions.py\u001b[0m in \u001b[0;36mR_ininsolalbedo\u001b[0;34m(funcparam)\u001b[0m\n\u001b[1;32m     34\u001b[0m     \u001b[0;31m#Readout to give albedo as output\u001b[0m\u001b[0;34m\u001b[0m\u001b[0;34m\u001b[0m\u001b[0m\n\u001b[1;32m     35\u001b[0m     \u001b[0;32mif\u001b[0m \u001b[0malbedoread\u001b[0m\u001b[0;34m==\u001b[0m\u001b[0;32mTrue\u001b[0m\u001b[0;34m:\u001b[0m\u001b[0;34m\u001b[0m\u001b[0m\n\u001b[0;32m---> 36\u001b[0;31m         \u001b[0;32mif\u001b[0m \u001b[0mRuntime_Tracker\u001b[0m \u001b[0;34m%\u001b[0m \u001b[0;36m4\u001b[0m\u001b[0;34m*\u001b[0m\u001b[0mdata_readout\u001b[0m \u001b[0;34m==\u001b[0m \u001b[0;36m0\u001b[0m\u001b[0;34m:\u001b[0m    \u001b[0;31m#Only on 4th step (due to rk4)\u001b[0m\u001b[0;34m\u001b[0m\u001b[0m\n\u001b[0m\u001b[1;32m     37\u001b[0m             \u001b[0mVars\u001b[0m\u001b[0;34m.\u001b[0m\u001b[0mRead\u001b[0m\u001b[0;34m[\u001b[0m\u001b[0;36m6\u001b[0m\u001b[0;34m]\u001b[0m\u001b[0;34m[\u001b[0m\u001b[0mint\u001b[0m\u001b[0;34m(\u001b[0m\u001b[0mRuntime_Tracker\u001b[0m\u001b[0;34m/\u001b[0m\u001b[0;34m(\u001b[0m\u001b[0;36m4\u001b[0m\u001b[0;34m*\u001b[0m\u001b[0mdata_readout\u001b[0m\u001b[0;34m)\u001b[0m\u001b[0;34m)\u001b[0m\u001b[0;34m]\u001b[0m\u001b[0;34m=\u001b[0m\u001b[0malpha\u001b[0m\u001b[0;34m\u001b[0m\u001b[0m\n\u001b[1;32m     38\u001b[0m \u001b[0;34m\u001b[0m\u001b[0m\n",
      "\u001b[0;31mTypeError\u001b[0m: unsupported operand type(s) for %: 'type' and 'int'"
     ]
    }
   ],
   "source": [
    "#Datapath=('../ebms/Config/Output/')\n",
    "#Lat_bud,T_dis_bud_set1,T_dis_bud_set2,T_dis_bud_set3=np.loadtxt(Datapath+'T_bud.txt',delimiter=',')\n",
    "\n",
    "config,configdic,f=importer('ForcingTry.ini')\n",
    "Variable_importer(configdic)\n",
    "#Vars.T=T_dis_bud_set1\n",
    "eq=configdic['eqparam']\n",
    "rk=configdic['rk4input']\n",
    "fun=configdic['funccomp']\n",
    "data=rk4alg(BaseEquation,eq,rk,fun)\n",
    "print(Vars.t)\n",
    "#datareset()\n",
    "print(Vars.ForcingTracker)\n",
    "reset('t')\n",
    "reset('ForcingTracker')\n",
    "print(Vars.t)\n",
    "print(Vars.ForcingTracker)"
   ]
  },
  {
   "cell_type": "code",
   "execution_count": 4,
   "metadata": {},
   "outputs": [
    {
     "name": "stdout",
     "output_type": "stream",
     "text": [
      "3\n",
      "{'EQparam': ['c_ao'], 'rk4input': ['n', 'h', 'step', 'ns', 'circle', 'belt', 'tempstartcosine', 'tempstartamplitude', 'tempstartnoise', 'tempstartnoiseamp', 'tracker', 'noisetracker', 'condition', 'condlen', 'cond', 'readoutstep', 'numberofexternals'], 'funccomp': [['R_ininsolalbedo', 'R_outplanck', 'PredefinedForcing'], [['q', 'm', 'dq', 'albedo', 'albedoread', 'albedoparam', 'noise', 'noiseamp', 'noisedelay', 'seed', 'seedmanipulation', 'sinusodial', 'convfactor', 'timeunit', 'orbital', 'orbitalyear'], ['grey', 'sigma'], ['forcingnumber', 'datapath', 'name', 'delimiter', 'header', 'col_time', 'col_forcing', 'timeunit', 'bp', 'time_start', 'k']]], 'var': ['time', 'temp', 'planetarytemp', 'latc', 'latb']}\n"
     ]
    },
    {
     "data": {
      "image/png": "[encoded data removed]",
      "text/plain": [
       "<matplotlib.figure.Figure at 0x7f7ed1d8d748>"
      ]
     },
     "metadata": {},
     "output_type": "display_data"
    }
   ],
   "source": [
    "print(len(data))\n",
    "plt.plot(lna(data[0])/stepsize_of_integration,data[2])\n",
    "#print(Vars.ExternalInput)\n",
    "print(configdic)"
   ]
  },
  {
   "cell_type": "code",
   "execution_count": 8,
   "metadata": {},
   "outputs": [
    {
     "name": "stdout",
     "output_type": "stream",
     "text": [
      "[[126000000.0], [1000, 31536000, 0, True, True, False, True, 30, True, 5, 0, 0, False, 100, 0.001, 4], [[<function R_ininsolalbedo at 0x7f4b8f514620>, <function R_outplanck at 0x7f4b7a2c18c8>, <function PredefinedForcing at 0x7f4b7a2c1c80>], [[342, 1, 0, <function Albedo0D at 0x7f4b8f5146a8>, True, [0.32], False, 10.26, 1, True, 0, False, 1, 'annualmean', False, 0], [0.67, 5.6703726225913323e-08], [0, 'Config', 'ForcingTry.txt', ',', 0, 0, 1, 'day', True, 10000, 1]]], [0, 288, 288, 0, 0]]\n"
     ]
    }
   ],
   "source": [
    "print(config)"
   ]
  },
  {
   "cell_type": "code",
   "execution_count": null,
   "metadata": {},
   "outputs": [],
   "source": []
  }
 ],
 "metadata": {
  "kernelspec": {
   "display_name": "Python 3",
   "language": "python",
   "name": "python3"
  },
  "language_info": {
   "codemirror_mode": {
    "name": "ipython",
    "version": 3
   },
   "file_extension": ".py",
   "mimetype": "text/x-python",
   "name": "python",
   "nbconvert_exporter": "python",
   "pygments_lexer": "ipython3",
   "version": "3.6.4"
  }
 },
 "nbformat": 4,
 "nbformat_minor": 2
}
