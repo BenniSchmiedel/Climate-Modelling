{
 "cells": [
  {
   "cell_type": "code",
   "execution_count": 1,
   "metadata": {},
   "outputs": [],
   "source": [
    "import matplotlib.pyplot as plt\n",
    "import numpy as np\n",
    "from Packages.RK4 import *\n",
    "from Packages.Configuration import *\n",
    "from Packages.Variables import *\n",
    "#import Packages.Variables as Vars"
   ]
  },
  {
   "cell_type": "code",
   "execution_count": 8,
   "metadata": {},
   "outputs": [
    {
     "name": "stdout",
     "output_type": "stream",
     "text": [
      "0D\n",
      "250\n",
      "31536000000\n",
      "[[1 0]\n",
      " [0 0]]\n",
      "<class 'float'>\n",
      "[0, 0]\n"
     ]
    }
   ],
   "source": [
    "#Datapath=('../ebms/Config/Output/')\n",
    "#Lat_bud,T_dis_bud_set1,T_dis_bud_set2,T_dis_bud_set3=np.loadtxt(Datapath+'T_bud.txt',delimiter=',')\n",
    "\n",
    "config,configdic=importer('ForcingTry.ini')\n",
    "Variable_importer(config)\n",
    "#Vars.T=T_dis_bud_set1\n",
    "data=rk4alg(BaseEquation,*config)\n",
    "print(Vars.t)\n",
    "#datareset()\n",
    "print(Vars.ForcingTracker)\n",
    "reset('t')\n",
    "reset('ForcingTracker')\n",
    "print(Vars.t)\n",
    "print(Vars.ForcingTracker)"
   ]
  },
  {
   "cell_type": "code",
   "execution_count": 5,
   "metadata": {},
   "outputs": [
    {
     "name": "stdout",
     "output_type": "stream",
     "text": [
      "3\n"
     ]
    },
    {
     "data": {
      "text/plain": [
       "[<matplotlib.lines.Line2D at 0x7f5da5bf9128>]"
      ]
     },
     "execution_count": 5,
     "metadata": {},
     "output_type": "execute_result"
    },
    {
     "data": {
      "image/png": "[encoded data removed]",
      "text/plain": [
       "<matplotlib.figure.Figure at 0x7f5da5d900f0>"
      ]
     },
     "metadata": {},
     "output_type": "display_data"
    }
   ],
   "source": [
    "print(len(data))\n",
    "plt.plot(lna(data[0])/stepsize_of_integration,data[2])\n",
    "#print(Vars.ExternalInput)\n"
   ]
  },
  {
   "cell_type": "code",
   "execution_count": 8,
   "metadata": {},
   "outputs": [
    {
     "name": "stdout",
     "output_type": "stream",
     "text": [
      "[[126000000.0], [1000, 31536000, 0, True, True, False, True, 30, True, 5, 0, 0, False, 100, 0.001, 4], [[<function R_ininsolalbedo at 0x7f4b8f514620>, <function R_outplanck at 0x7f4b7a2c18c8>, <function PredefinedForcing at 0x7f4b7a2c1c80>], [[342, 1, 0, <function Albedo0D at 0x7f4b8f5146a8>, True, [0.32], False, 10.26, 1, True, 0, False, 1, 'annualmean', False, 0], [0.67, 5.6703726225913323e-08], [0, 'Config', 'ForcingTry.txt', ',', 0, 0, 1, 'day', True, 10000, 1]]], [0, 288, 288, 0, 0]]\n"
     ]
    }
   ],
   "source": [
    "print(config)"
   ]
  },
  {
   "cell_type": "code",
   "execution_count": null,
   "metadata": {},
   "outputs": [],
   "source": []
  }
 ],
 "metadata": {
  "kernelspec": {
   "display_name": "Python 3",
   "language": "python",
   "name": "python3"
  },
  "language_info": {
   "codemirror_mode": {
    "name": "ipython",
    "version": 3
   },
   "file_extension": ".py",
   "mimetype": "text/x-python",
   "name": "python",
   "nbconvert_exporter": "python",
   "pygments_lexer": "ipython3",
   "version": "3.6.4"
  }
 },
 "nbformat": 4,
 "nbformat_minor": 2
}
