{
 "cells": [
  {
   "cell_type": "code",
   "execution_count": 1,
   "metadata": {},
   "outputs": [],
   "source": [
    "import matplotlib.pyplot as plt\n",
    "import numpy as np\n",
    "from lowEBMs.Packages.Configuration import importer, add_sellersparameters, parameterinterpolatorstepwise, reset\n",
    "from lowEBMs.Packages.Configuration import import_parallelparameter, allocate_parallelparameter, write_parallelparameter\n",
    "from lowEBMs.Packages.Variables import variable_importer\n",
    "from lowEBMs.Packages.RK4 import rk4alg\n",
    "from lowEBMs.Packages.ModelEquation import model_equation\n",
    "from lowEBMs.Packages.Variables import Vars,reset, trackerreset, datareset\n",
    "from lowEBMs.Packages.Functions import plotmeanstd\n",
    "from lowEBMs import update_plotstyle, moving_average\n",
    "import lowEBMs.Packages.Constants as const\n",
    "\n",
    "import builtins\n",
    "import matplotlib\n",
    "update_plotstyle()\n",
    "matplotlib.rcParams['lines.linewidth']=1.1"
   ]
  },
  {
   "cell_type": "code",
   "execution_count": 2,
   "metadata": {},
   "outputs": [],
   "source": [
    "time_HADCM3_str=np.genfromtxt('Data/gmt_hadcm3.csv',usecols=[0],delimiter=',',skip_header=1,dtype='str',unpack=True,encoding='ISO-8859-1')\n",
    "time_HADCM3=np.zeros(len(time_HADCM3_str))\n",
    "for i in range(len(time_HADCM3_str)):\n",
    "    if time_HADCM3_str[i][-4]=='.':\n",
    "        year=float(time_HADCM3_str[i][-3:])\n",
    "    if time_HADCM3_str[i][-5]=='.':\n",
    "        year=float(time_HADCM3_str[i][-4:])\n",
    "    if time_HADCM3_str[i][4]=='.':\n",
    "        month=(float(time_HADCM3_str[i][3:5])-1)/12\n",
    "    if time_HADCM3_str[i][5]=='.':\n",
    "        month=(float(time_HADCM3_str[i][3:5])-1)/12\n",
    "    day=float(time_HADCM3_str[i][:2])/365\n",
    "    time_HADCM3[i]=year+month+day\n",
    "GMT_HADCM3=np.genfromtxt('Data/gmt_hadcm3.csv',usecols=[17],delimiter=',',skip_header=1,unpack=True,encoding='ISO-8859-1')\n",
    "order=np.argsort(time_HADCM3)\n",
    "GMT_HADCM3_smoothed=moving_average(GMT_HADCM3[order],12)"
   ]
  },
  {
   "cell_type": "code",
   "execution_count": 2,
   "metadata": {},
   "outputs": [],
   "source": [
    "Year_volc, CWL_GMT,  EVA_GMT, CWLcorr_GMT=np.genfromtxt('Data/Volc_800_2000.txt',skip_header=1,unpack=True)\n",
    "#Year_NorESM, SO4_FORC, SAT_GISS, SAT_VOLC, SAT_ZERO, SAT_AFIT, SAT_TREN= \\\n",
    "#np.genfromtxt('Data/NorESM_Pinatubo_GMST_response.txt',skip_header=1,unpack=True)"
   ]
  },
  {
   "cell_type": "code",
   "execution_count": 3,
   "metadata": {},
   "outputs": [],
   "source": [
    "Year_volc_1800_1850=Year_volc[int(1000*365/4):int(1040*365/4)]\n",
    "Year_volc_1808_1858=Year_volc[int(1008*365/4):int(1048*365/4)]\n",
    "EVA_GMT_1800_1850=EVA_GMT[int(1000*365/4):int(1040*365/4)]\n",
    "EVA_GMT_1808_1858=EVA_GMT[int(1008*365/4):int(1048*365/4)]"
   ]
  },
  {
   "cell_type": "code",
   "execution_count": 5,
   "metadata": {},
   "outputs": [
    {
     "data": {
      "text/plain": [
       "<matplotlib.legend.Legend at 0x7f3a3a962240>"
      ]
     },
     "execution_count": 5,
     "metadata": {},
     "output_type": "execute_result"
    },
    {
     "data": {
      "image/png": "[encoded data removed]",
      "text/plain": [
       "<Figure size 432x288 with 1 Axes>"
      ]
     },
     "metadata": {
      "needs_background": "light"
     },
     "output_type": "display_data"
    }
   ],
   "source": [
    "#print(time_HADCM3)\n",
    "#print(GMT_HADCM3)\n",
    "plt.plot(Year_volc,CWL_GMT+15)\n",
    "plt.scatter(time_HADCM3,moving_average(GMT_HADCM3,12),s=5,c='r',label='no sort')\n",
    "plt.plot(time_HADCM3[order],moving_average(GMT_HADCM3[order],12),label='sort')\n",
    "#plt.plot(time_HADCM3,moving_average(GMT_HADCM3,12),label='sort')\n",
    "plt.xlim(1810,1830)\n",
    "plt.legend()\n",
    "#plt.savefig('HADCM3-data.png',format='PNG')"
   ]
  },
  {
   "cell_type": "code",
   "execution_count": 4,
   "metadata": {},
   "outputs": [],
   "source": [
    "def coremodule(config,P0,P_pert_ratio,Pmin,Pmax,labels,ZMT,GMT,grid,maxlength,targetmode,target,targetfunction,ratio_ZMT_GMT,elevation,precision,num_paras,gamma0,control,controlconfig):\n",
    "    from tqdm import tqdm, tnrange\n",
    "    \n",
    "    F=np.reshape(np.zeros(maxlength*(2*num_paras+1)),(maxlength,2*num_paras+1))\n",
    "    dF=np.reshape(np.zeros(maxlength*(num_paras)),(maxlength,num_paras))\n",
    "    P=np.reshape(np.zeros(maxlength*(num_paras)),(maxlength,num_paras))\n",
    "    Ptrans=np.reshape(np.zeros(maxlength*(num_paras)),(maxlength,num_paras))\n",
    "    gamma=np.zeros(maxlength)\n",
    "    \n",
    "    if targetmode=='Single':\n",
    "        dataout=np.reshape(np.zeros(maxlength*(2*num_paras+1)),(maxlength,(2*num_paras+1)))\n",
    "    elif targetmode=='ZMT':\n",
    "        dataout=np.reshape(np.zeros(maxlength*len(grid)*(2*num_paras+1)),(maxlength,(2*num_paras+1),len(grid)))\n",
    "    elif targetmode=='GMT':\n",
    "        dataout=np.reshape(np.zeros(maxlength*int(number_of_integration/data_readout)*(2*num_paras+1)),(maxlength,(2*num_paras+1),int(number_of_integration/data_readout)))\n",
    "    elif targetmode=='Coupled':\n",
    "        dataout_ZMT=np.reshape(np.zeros(maxlength*len(grid)*(2*num_paras+1)),(maxlength,(2*num_paras+1),len(grid)))\n",
    "        dataout_GMT=np.reshape(np.zeros(maxlength*int(number_of_integration/data_readout)*(2*num_paras+1)),(maxlength,(2*num_paras+1),int(number_of_integration/data_readout)))     \n",
    "    for i in tnrange(maxlength):\n",
    "        print('Iteration no.'+str(i))\n",
    "        if i==0:\n",
    "            P[i]=P0\n",
    "            P_pert=(Pmax-Pmin)*P_pert_ratio\n",
    "            Ptrans[i]=(P0-Pmin)/(Pmax-Pmin)\n",
    "            Ptrans_pert=Ptrans[i]*P_pert_ratio\n",
    "\n",
    "        if targetmode=='Coupled':\n",
    "            data_ZMT,data_GMT=run_model(config,P[i],P_pert,labels,ZMT,GMT,targetmode,control,controlconfig,grid,elevation)\n",
    "            dataout_ZMT[i]=data_ZMT\n",
    "            dataout_GMT[i]=data_GMT\n",
    "        else:\n",
    "            data=run_model(config,P[i],P_pert,labels,ZMT,GMT,targetmode,control,controlconfig,grid,elevation)\n",
    "            dataout[i]=data\n",
    "            \n",
    "        if targetmode=='Coupled':\n",
    "            target_ZMT=target['ZMT']\n",
    "            target_GMT=target['GMT']\n",
    "            F_ZMT=target_comparison(data_ZMT,'ZMT',target_ZMT,targetfunction,num_paras,grid)\n",
    "            F_GMT=target_comparison(data_GMT,'GMT',target_GMT,targetfunction,num_paras,grid)\n",
    "            F[i]=ratio_ZMT_GMT*F_ZMT+(1-ratio_ZMT_GMT)*F_GMT\n",
    "        else:\n",
    "            F[i]=target_comparison(data,targetmode,target,targetfunction,num_paras,grid)\n",
    "\n",
    "        dF[i]=local_gradient(F[i],Ptrans_pert)\n",
    "        #dF[i]=local_gradient(F[i],P_pert)\n",
    "        if i==0:\n",
    "            gamma[i]=gamma0\n",
    "        else:\n",
    "            #gamma[i]=step_weighting(dF[i-1],dF[i],P[i-1],P[i])\n",
    "            gamma[i]=step_weighting(dF[i-1],dF[i],Ptrans[i-1],Ptrans[i])\n",
    "            \n",
    "        if precision_check(dF[0],dF[i],precision):\n",
    "            print('stop',i)\n",
    "            P=P[:i]\n",
    "            Ptrans=Ptrans[:i]\n",
    "            F=F[:i]\n",
    "            dF=dF[:i]\n",
    "            gamma=gamma[:i]\n",
    "            break\n",
    "                \n",
    "        #P_next=new_parameters(P[i],gamma[i],dF[i])        \n",
    "        Ptrans_next=new_parameters(Ptrans[i],gamma[i],dF[i])\n",
    "\n",
    "        for k in range(num_paras):\n",
    "            if Ptrans_next[k]<0:\n",
    "                Ptrans_next[k]=0.\n",
    "            if Ptrans_next[k]>1:\n",
    "                Ptrans_next[k]=1.\n",
    "\n",
    "        if i<maxlength-1:\n",
    "            Ptrans[i+1]=Ptrans_next\n",
    "            P[i+1]=Pmin+Ptrans_next*(Pmax-Pmin)\n",
    "            print(F[i])\n",
    "            print(gamma[i])\n",
    "            print(P[i+1])\n",
    "            \n",
    "        if targetmode=='Coupled':\n",
    "            dataout=[dataout_ZMT,dataout_GMT]\n",
    "            \n",
    "    return F, dF, P , Ptrans, gamma, dataout\n",
    "    \n",
    "def target_comparison(data,targetmode,target,targetfunction,num_paras,grid):\n",
    "    F=np.zeros(2*num_paras+1)\n",
    "    if targetfunction=='LeastSquare':\n",
    "        if targetmode=='Single':\n",
    "            F=(np.array(data)-target)**2\n",
    "        elif targetmode=='ZMT':\n",
    "            for i in range(len(F)):\n",
    "                if len(data[i])==len(target):\n",
    "                    F[i]=np.sum(((data[i]-target)*np.cos(grid*np.pi/180)/np.mean(np.cos(grid*np.pi/180)))**2)\n",
    "                elif len(data[i])==len(F):\n",
    "                    F[i]=np.sum(((data[:,i]-target)*np.cos(grid*np.pi/180)/np.mean(np.cos(grid*np.pi/180)))**2)\n",
    "        elif targetmode=='GMT':\n",
    "            for i in range(len(F)):\n",
    "                F[i]=np.sum((data[i]-target)**2)\n",
    "\n",
    "    return F\n",
    "\n",
    "def local_gradient(F,P_pert):\n",
    "    dF=np.zeros(len(P_pert))\n",
    "    for k in range(len(P_pert)):\n",
    "        dF[k]=(F[2*(k+1)-1]-F[2*(k+1)])/(2*P_pert[k])\n",
    "    return dF\n",
    "\n",
    "def step_weighting(dF0,dF1,P0,P1):\n",
    "    gamma=np.abs(np.dot(P1-P0,dF1-dF0)/np.dot(np.abs(dF1-dF0),np.abs(dF1-dF0)))\n",
    "    return gamma\n",
    "\n",
    "def precision_check(dF0,dF,precision):\n",
    "    dFabs=np.sqrt(np.dot(dF,dF))\n",
    "    dF0abs=np.sqrt(np.dot(dF0,dF0))\n",
    "    if dFabs/dF0abs <= precision:\n",
    "        return True\n",
    "    \n",
    "def new_parameters(P,gamma,dF):\n",
    "    P_next=P-gamma*dF\n",
    "    return P_next\n",
    "\n",
    "def run_model(config,P,P_pert,labels,ZMT,GMT,targetmode,control,controlconfig,grid,elevation):\n",
    "    \n",
    "    P_config=reshape_parameters(P,P_pert)\n",
    "    setup={'number_of_parameters': len(P), 'number_of_cycles': 1, 'number_of_parallels': len(P)*2+1}\n",
    "    \n",
    "    if targetmode=='Coupled':\n",
    "        control=True\n",
    "        \n",
    "    if control==True:\n",
    "        variable_importer(controlconfig,initialZMT=True,parallel=True,parallel_config=setup)\n",
    "        controlconfig=add_parameters(controlconfig,P_config,labels)\n",
    "        data_CTRL=rk4alg(model_equation,controlconfig['eqparam'],controlconfig['rk4input'],controlconfig['funccomp'],progressbar=True)\n",
    "        ZMT,GMT=data_CTRL[1][-1],data_CTRL[2][-1]\n",
    "\n",
    "    variable_importer(config,initialZMT=False,parallel=True,parallel_config=setup)\n",
    "    config=add_parameters(config,P_config,labels)\n",
    "    Vars.T,Vars.T_global=ZMT,GMT   \n",
    "    data=rk4alg(model_equation,config['eqparam'],config['rk4input'],config['funccomp'],progressbar=True)\n",
    "    \n",
    "    if targetmode=='Single':\n",
    "        data_out=data[2][-1]\n",
    "    elif targetmode=='ZMT':\n",
    "        dataZMT=data[1][-1]\n",
    "        for i in range(len(dataZMT)):\n",
    "            dataZMT[i]=dataZMT[i]+elevation\n",
    "        data_out=dataZMT\n",
    "    elif targetmode=='GMT':\n",
    "        data_out=np.transpose(data[2][:-1]-data[2][0])\n",
    "    elif targetmode=='Coupled':\n",
    "        dataZMT=data_CTRL[1][-1]\n",
    "        for i in range(len(dataZMT)):\n",
    "            dataZMT[i]=dataZMT[i]+elevation\n",
    "        dataGMT=np.transpose(data[2][:-1]-data[2][0])\n",
    "        data_out=[dataZMT,dataGMT]\n",
    "    return data_out\n",
    "\n",
    "def reshape_parameters(P,P_pert):\n",
    "    num_para=len(P)\n",
    "    P_config=np.reshape(np.zeros(num_para*(2*num_para+1)),(num_para,2*num_para+1))\n",
    "    for i in range(num_para):\n",
    "        P_config[i]=np.array([P[i]]*(2*num_para+1))\n",
    "        P_config[i][i*2+1]=P[i]+P_pert[i]\n",
    "        P_config[i][i*2+2]=P[i]-P_pert[i]\n",
    "                      \n",
    "    return P_config\n",
    "             \n",
    "def add_parameters(config,P_config,labels):\n",
    "    num_para=len(P_config)\n",
    "    \n",
    "    for i in range(num_para):\n",
    "        if labels[i][0][:4]=='func':\n",
    "            config['funccomp']['funcparam'][labels[i][0]][labels[i][1]]=P_config[i]\n",
    "        if labels[i][0]=='eqparam':\n",
    "            config[labels[i][0]][labels[i][1]]=P_config[i]\n",
    "    return config"
   ]
  },
  {
   "cell_type": "code",
   "execution_count": 7,
   "metadata": {},
   "outputs": [
    {
     "name": "stdout",
     "output_type": "stream",
     "text": [
      "Loading Configuration from: Dev_Data/Optimization/Volcanic_Sellers_CTRL.ini\n",
      "Loading Parameters from: /Home/siv32/bsc029/.local/lib/python3.6/site-packages/lowEBMs/Tutorials/Config/Data/SellersParameterization.ini\n",
      "Loading Configuration from: Dev_Data/Optimization/Volcanic_Sellers.ini\n",
      "Loading Parameters from: /Home/siv32/bsc029/.local/lib/python3.6/site-packages/lowEBMs/Tutorials/Config/Data/SellersParameterization.ini\n"
     ]
    },
    {
     "data": {
      "application/vnd.jupyter.widget-view+json": {
       "model_id": "ee6900fdc3624006ad21a713eed8cc7e",
       "version_major": 2,
       "version_minor": 0
      },
      "text/plain": [
       "HBox(children=(IntProgress(value=0, max=10), HTML(value='')))"
      ]
     },
     "metadata": {},
     "output_type": "display_data"
    },
    {
     "name": "stdout",
     "output_type": "stream",
     "text": [
      "Iteration no.0\n"
     ]
    },
    {
     "data": {
      "application/vnd.jupyter.widget-view+json": {
       "model_id": "2e99efcb18ba4f9f92b8d8c2580cf95b",
       "version_major": 2,
       "version_minor": 0
      },
      "text/plain": [
       "HBox(children=(IntProgress(value=0, max=36500), HTML(value='')))"
      ]
     },
     "metadata": {},
     "output_type": "display_data"
    },
    {
     "data": {
      "application/vnd.jupyter.widget-view+json": {
       "model_id": "470bf8e4c0e74e749658a6cdff92330b",
       "version_major": 2,
       "version_minor": 0
      },
      "text/plain": [
       "HBox(children=(IntProgress(value=0, max=14600), HTML(value='')))"
      ]
     },
     "metadata": {},
     "output_type": "display_data"
    },
    {
     "name": "stdout",
     "output_type": "stream",
     "text": [
      "[6469.98651147 6468.33193268 6471.60767403 6447.54785567 6496.90996609\n",
      " 6405.49432901 6575.81652645 6469.78398037 6470.18869259 6469.94972625\n",
      " 6470.028958   6469.18889592 6470.70745633]\n",
      "1e-07\n",
      "[2.96213361e+08 5.09872422e-01 3.13179446e-15 1.16512218e+00\n",
      " 1.16502392e+00 1.16545843e+00]\n",
      "Iteration no.1\n"
     ]
    },
    {
     "data": {
      "application/vnd.jupyter.widget-view+json": {
       "model_id": "b750850601e64b99b0ec568908ec4bc9",
       "version_major": 2,
       "version_minor": 0
      },
      "text/plain": [
       "HBox(children=(IntProgress(value=0, max=36500), HTML(value='')))"
      ]
     },
     "metadata": {},
     "output_type": "display_data"
    },
    {
     "data": {
      "application/vnd.jupyter.widget-view+json": {
       "model_id": "040494ab38e7418493b8fffef86b6d24",
       "version_major": 2,
       "version_minor": 0
      },
      "text/plain": [
       "HBox(children=(IntProgress(value=0, max=14600), HTML(value='')))"
      ]
     },
     "metadata": {},
     "output_type": "display_data"
    },
    {
     "name": "stdout",
     "output_type": "stream",
     "text": [
      "[33.56693193 33.56525406 33.56861823 33.56229986 33.5715638  33.54460821\n",
      " 33.58927669 33.56681855 33.56704531 33.56688368 33.56698018 33.56618939\n",
      " 33.56767453]\n",
      "1.0002601136226804e-07\n",
      "[2.96215635e+08 5.09874275e-01 3.13211760e-15 1.16512225e+00\n",
      " 1.16502395e+00 1.16545888e+00]\n",
      "Iteration no.2\n"
     ]
    },
    {
     "data": {
      "application/vnd.jupyter.widget-view+json": {
       "model_id": "e5ccf63295384eafb77213ef7d0c5ac5",
       "version_major": 2,
       "version_minor": 0
      },
      "text/plain": [
       "HBox(children=(IntProgress(value=0, max=36500), HTML(value='')))"
      ]
     },
     "metadata": {},
     "output_type": "display_data"
    },
    {
     "data": {
      "application/vnd.jupyter.widget-view+json": {
       "model_id": "99fd183da2d447f0b712a27b2b560d5b",
       "version_major": 2,
       "version_minor": 0
      },
      "text/plain": [
       "HBox(children=(IntProgress(value=0, max=14600), HTML(value='')))"
      ]
     },
     "metadata": {},
     "output_type": "display_data"
    },
    {
     "name": "stdout",
     "output_type": "stream",
     "text": [
      "[33.55040113 33.54872483 33.55208584 33.54577134 33.55503071 33.52809286\n",
      " 33.57273041 33.55028779 33.55051446 33.55035289 33.55044936 33.54965888\n",
      " 33.55114342]\n",
      "0.00014476589465660367\n",
      "[2.99503233e+08 5.12555155e-01 3.59945827e-15 1.16522131e+00\n",
      " 1.16506611e+00 1.16610767e+00]\n",
      "Iteration no.3\n"
     ]
    },
    {
     "data": {
      "application/vnd.jupyter.widget-view+json": {
       "model_id": "bc005f347f7d42fd8aed1140f7619046",
       "version_major": 2,
       "version_minor": 0
      },
      "text/plain": [
       "HBox(children=(IntProgress(value=0, max=36500), HTML(value='')))"
      ]
     },
     "metadata": {},
     "output_type": "display_data"
    },
    {
     "data": {
      "application/vnd.jupyter.widget-view+json": {
       "model_id": "e4e501b3bd47461cbcda7c294a5a442e",
       "version_major": 2,
       "version_minor": 0
      },
      "text/plain": [
       "HBox(children=(IntProgress(value=0, max=14600), HTML(value='')))"
      ]
     },
     "metadata": {},
     "output_type": "display_data"
    },
    {
     "name": "stdout",
     "output_type": "stream",
     "text": [
      "[10.10892471 10.10907918 10.10877623 10.10301892 10.11489918 10.10199244\n",
      " 10.11583947 10.10878993 10.10904488 10.10888953 10.10895988 10.10836256\n",
      " 10.10947358]\n",
      "0.00020738826012823894\n",
      "[2.99078710e+08 5.17482810e-01 3.80714467e-15 1.16538093e+00\n",
      " 1.16511015e+00 1.16680325e+00]\n",
      "Iteration no.4\n"
     ]
    },
    {
     "data": {
      "application/vnd.jupyter.widget-view+json": {
       "model_id": "19795a4c576c4e8e8d0970ac608b53c0",
       "version_major": 2,
       "version_minor": 0
      },
      "text/plain": [
       "HBox(children=(IntProgress(value=0, max=36500), HTML(value='')))"
      ]
     },
     "metadata": {},
     "output_type": "display_data"
    },
    {
     "data": {
      "application/vnd.jupyter.widget-view+json": {
       "model_id": "24bc5aa2bae24c4daf893e5a306fb2f1",
       "version_major": 2,
       "version_minor": 0
      },
      "text/plain": [
       "HBox(children=(IntProgress(value=0, max=14600), HTML(value='')))"
      ]
     },
     "metadata": {},
     "output_type": "display_data"
    },
    {
     "name": "stdout",
     "output_type": "stream",
     "text": [
      "[7.63003577 7.63035851 7.62972029 7.62959371 7.63047793 7.6265215\n",
      " 7.63355287 7.63001527 7.63005627 7.63002632 7.63004523 7.62989807\n",
      " 7.63017348]\n",
      "0.0003219605388107808\n",
      "[2.97690309e+08 5.18052177e-01 3.97086758e-15 1.16542078e+00\n",
      " 1.16512853e+00 1.16707094e+00]\n",
      "Iteration no.5\n"
     ]
    },
    {
     "data": {
      "application/vnd.jupyter.widget-view+json": {
       "model_id": "8853b3b122604f9d99b06f2be926ba38",
       "version_major": 2,
       "version_minor": 0
      },
      "text/plain": [
       "HBox(children=(IntProgress(value=0, max=36500), HTML(value='')))"
      ]
     },
     "metadata": {},
     "output_type": "display_data"
    },
    {
     "data": {
      "application/vnd.jupyter.widget-view+json": {
       "model_id": "852bda26d7d341eabc9b5aaa42ce834f",
       "version_major": 2,
       "version_minor": 0
      },
      "text/plain": [
       "HBox(children=(IntProgress(value=0, max=14600), HTML(value='')))"
      ]
     },
     "metadata": {},
     "output_type": "display_data"
    },
    {
     "name": "stdout",
     "output_type": "stream",
     "text": [
      "[6.50399166 6.50421558 6.50377507 6.50374358 6.50423984 6.50136018\n",
      " 6.50662516 6.50397437 6.50400896 6.50398359 6.50399973 6.50387475\n",
      " 6.50410858]\n",
      "0.0012703852950773306\n",
      "[2.93909032e+08 5.19313049e-01 4.45459250e-15 1.16555343e+00\n",
      " 1.16519046e+00 1.16796773e+00]\n",
      "Iteration no.6\n"
     ]
    },
    {
     "data": {
      "application/vnd.jupyter.widget-view+json": {
       "model_id": "665efc7a155042ccab5746f5456b823e",
       "version_major": 2,
       "version_minor": 0
      },
      "text/plain": [
       "HBox(children=(IntProgress(value=0, max=36500), HTML(value='')))"
      ]
     },
     "metadata": {},
     "output_type": "display_data"
    },
    {
     "data": {
      "application/vnd.jupyter.widget-view+json": {
       "model_id": "ce88efdd68444529a04f41d11c15eeda",
       "version_major": 2,
       "version_minor": 0
      },
      "text/plain": [
       "HBox(children=(IntProgress(value=0, max=14600), HTML(value='')))"
      ]
     },
     "metadata": {},
     "output_type": "display_data"
    },
    {
     "name": "stdout",
     "output_type": "stream",
     "text": [
      "[4.35665634 4.35652487 4.35679733 4.35413266 4.35919318 4.35523142\n",
      " 4.35808332 4.35659588 4.35671932 4.35663907 4.35667361 4.35635707\n",
      " 4.35695782]\n",
      "0.001072909020145257\n",
      "[2.95884187e+08 5.30172001e-01 4.67588394e-15 1.16595323e+00\n",
      " 1.16530232e+00 1.16991354e+00]\n",
      "Iteration no.7\n"
     ]
    },
    {
     "data": {
      "application/vnd.jupyter.widget-view+json": {
       "model_id": "beedd7f2bc054c1b9e2e28c2ae20b03e",
       "version_major": 2,
       "version_minor": 0
      },
      "text/plain": [
       "HBox(children=(IntProgress(value=0, max=36500), HTML(value='')))"
      ]
     },
     "metadata": {},
     "output_type": "display_data"
    },
    {
     "data": {
      "application/vnd.jupyter.widget-view+json": {
       "model_id": "cd0fcb2f460546a786c6cc68b801f63f",
       "version_major": 2,
       "version_minor": 0
      },
      "text/plain": [
       "HBox(children=(IntProgress(value=0, max=14600), HTML(value='')))"
      ]
     },
     "metadata": {},
     "output_type": "display_data"
    },
    {
     "name": "stdout",
     "output_type": "stream",
     "text": [
      "stop 7\n"
     ]
    }
   ],
   "source": [
    "#labels=[['eqparam','c_ao'],['func1','a'],['func1','b'],['func2','factor_oc'],['func2','factor_kwv'],['func2','factor_kair']]\n",
    "#labels=[['eqparam','c_ao'],['func1','a'],['func1','b']]\n",
    "labels=[['eqparam','c_ao'],['func1','m'],['func1','gamma'],['func2','factor_oc'],['func2','factor_kwv'],['func2','factor_kair']]\n",
    "#P0=np.array([70*4.2e6,230,2.5])\n",
    "P0=np.array([70*4.2e6,0.5,1.9e-15,1.165,1.165,1.165])\n",
    "Pmin=np.array([1*4.2e6,0.4,0.5e-15,0.9,0.9,0.9])\n",
    "Pmax=np.array([150*4.2e6,0.6,5e-15,1.3,1.3,1.3])\n",
    "P_pert_ratio=1/10000\n",
    "#Pmin=np.array([20*4.2e6,190,1.7])\n",
    "#Pmax=np.array([120*4.2e6,250,3.3])\n",
    "#P_pert=(Pmax-Pmin)/100\n",
    "precision=1e-5\n",
    "maxlength=int(10)\n",
    "targetmode='GMT'\n",
    "target=EVA_GMT_1808_1858\n",
    "targetfunction='LeastSquare'\n",
    "ratio_ZMT_GMT=0.5\n",
    "num_params=6\n",
    "gamma0=1e-7\n",
    "setup={'number_of_parameters': num_params, 'number_of_cycles': 1, 'number_of_parallels': int(num_params*2+1)}\n",
    "control=True\n",
    "\n",
    "config_CTRL=importer('Dev_Data/Optimization/Volcanic_Sellers_CTRL.ini')\n",
    "variable_importer(config_CTRL,initialZMT=True,parallel=False)\n",
    "config_CTRL,ParasCTRL=add_sellersparameters(config_CTRL,\\\n",
    "                                        parameterinterpolatorstepwise,'SellersParameterization.ini',2,0,True,True)\n",
    "        \n",
    "config_base=importer('Dev_Data/Optimization/Volcanic_Sellers.ini')\n",
    "variable_importer(config_base,initialZMT=True,parallel=True,parallel_config=setup)\n",
    "\n",
    "config_base,ParasCTRL=add_sellersparameters(config_base,\\\n",
    "                                    parameterinterpolatorstepwise,'SellersParameterization.ini',2,0,True,True)\n",
    "\n",
    "elevation=-0.0065*np.array(ParasCTRL[1][1])\n",
    "Zero_ZMT,Zero_GMT=Vars.T,Vars.T_global\n",
    "grid=Vars.Lat\n",
    "\n",
    "F, dF, P, Ptrans , gamma, data=coremodule(config_base,P0,P_pert_ratio,Pmin,Pmax,labels,Zero_ZMT,Zero_GMT,grid,maxlength\\\n",
    "        ,targetmode,target,targetfunction,ratio_ZMT_GMT,elevation,precision,num_params,gamma0,control,config_CTRL)"
   ]
  },
  {
   "cell_type": "code",
   "execution_count": 8,
   "metadata": {},
   "outputs": [
    {
     "name": "stdout",
     "output_type": "stream",
     "text": [
      "[1.00000000e-07 1.00026011e-07 1.44765895e-04 2.07388260e-04\n",
      " 3.21960539e-04 1.27038530e-03 1.07290902e-03]\n"
     ]
    },
    {
     "data": {
      "image/png": "[encoded data removed]",
      "text/plain": [
       "<Figure size 432x288 with 1 Axes>"
      ]
     },
     "metadata": {
      "needs_background": "light"
     },
     "output_type": "display_data"
    }
   ],
   "source": [
    "for i in range(7):\n",
    "    plt.plot(Year_volc_1808_1858,data[i,0],label=i)\n",
    "#plt.plot(Year_volc_1808_1858,data[1,1])\n",
    "#plt.plot(Year_volc_1808_1858,data[1,2])\n",
    "#plt.plot(Year_volc_1808_1858,data[1,3])\n",
    "#plt.plot(Year_volc_1808_1858,data[1,4])\n",
    "plt.plot(Year_volc_1808_1858,EVA_GMT_1808_1858,c='k')\n",
    "#plt.legend()\n",
    "#plt.xlim(1808,1858)\n",
    "print(gamma)"
   ]
  },
  {
   "cell_type": "code",
   "execution_count": 13,
   "metadata": {},
   "outputs": [
    {
     "data": {
      "text/plain": [
       "[<matplotlib.lines.Line2D at 0x7f6ac3eb2240>]"
      ]
     },
     "execution_count": 13,
     "metadata": {},
     "output_type": "execute_result"
    },
    {
     "data": {
      "image/png": "[encoded data removed]",
      "text/plain": [
       "<Figure size 432x288 with 1 Axes>"
      ]
     },
     "metadata": {
      "needs_background": "light"
     },
     "output_type": "display_data"
    }
   ],
   "source": [
    "plt.plot(np.arange(50),dF[:,0])"
   ]
  },
  {
   "cell_type": "code",
   "execution_count": 10,
   "metadata": {},
   "outputs": [
    {
     "name": "stdout",
     "output_type": "stream",
     "text": [
      "Loading Configuration from: Dev_Data/Optimization/Volcanic_Sellers_CTRL.ini\n",
      "Loading Parameters from: /Home/siv32/bsc029/.local/lib/python3.6/site-packages/lowEBMs/Tutorials/Config/Data/SellersParameterization.ini\n"
     ]
    },
    {
     "data": {
      "application/vnd.jupyter.widget-view+json": {
       "model_id": "d6aa36ed86094f479fd077f12955e9db",
       "version_major": 2,
       "version_minor": 0
      },
      "text/plain": [
       "HBox(children=(IntProgress(value=0, max=36500), HTML(value='')))"
      ]
     },
     "metadata": {},
     "output_type": "display_data"
    },
    {
     "name": "stdout",
     "output_type": "stream",
     "text": [
      "Loading Configuration from: Dev_Data/Optimization/Volcanic_Sellers.ini\n",
      "Loading Parameters from: /Home/siv32/bsc029/.local/lib/python3.6/site-packages/lowEBMs/Tutorials/Config/Data/SellersParameterization.ini\n"
     ]
    },
    {
     "data": {
      "application/vnd.jupyter.widget-view+json": {
       "model_id": "9f413ba24eb6434fb04793fa5bddf858",
       "version_major": 2,
       "version_minor": 0
      },
      "text/plain": [
       "HBox(children=(IntProgress(value=0, max=14600), HTML(value='')))"
      ]
     },
     "metadata": {},
     "output_type": "display_data"
    }
   ],
   "source": [
    "labels=[['eqparam','c_ao'],['func1','m'],['func1','gamma'],['func2','factor_oc'],['func2','factor_kwv'],['func2','factor_kair']]\n",
    "P_optimal=[2.95884187e+08, 5.30172001e-01, 4.67588394e-15, 1.16595323e+00, 1.16530232e+00, 1.16991354e+00]\n",
    "\n",
    "config_CTRL=importer('Dev_Data/Optimization/Volcanic_Sellers_CTRL.ini')\n",
    "variable_importer(config_CTRL)\n",
    "config_CTRL,ParasCTRL=add_sellersparameters(config_CTRL,\\\n",
    "                                        parameterinterpolatorstepwise,'SellersParameterization.ini',2,0,True,True)\n",
    "config_CTRL=add_parameters(config_CTRL,P_optimal,labels)\n",
    "data_CTRL=rk4alg(model_equation,config_CTRL['eqparam'],config_CTRL['rk4input'],config_CTRL['funccomp'],progressbar=True)\n",
    "\n",
    "config_base=importer('Dev_Data/Optimization/Volcanic_Sellers.ini')\n",
    "variable_importer(config_base)\n",
    "\n",
    "config_base,ParasCTRL=add_sellersparameters(config_base,\\\n",
    "                                    parameterinterpolatorstepwise,'SellersParameterization.ini',2,0,True,True)\n",
    "config_base=add_parameters(config_base,P_optimal,labels)\n",
    "elevation=-0.0065*np.array(ParasCTRL[1][1])\n",
    "#P_config=reshape_parameters(P0,P_pert)\n",
    "\n",
    "#print(config)\n",
    "Vars.T,Vars.T_global=data_CTRL[1][-1],data_CTRL[2][-1]\n",
    "data=rk4alg(model_equation,config_base['eqparam'],config_base['rk4input'],config_base['funccomp'],progressbar=True)"
   ]
  },
  {
   "cell_type": "code",
   "execution_count": 14,
   "metadata": {},
   "outputs": [
    {
     "data": {
      "text/plain": [
       "[<matplotlib.lines.Line2D at 0x7f8656e4bf98>]"
      ]
     },
     "execution_count": 14,
     "metadata": {},
     "output_type": "execute_result"
    },
    {
     "data": {
      "image/png": "[encoded data removed]",
      "text/plain": [
       "<Figure size 432x288 with 1 Axes>"
      ]
     },
     "metadata": {
      "needs_background": "light"
     },
     "output_type": "display_data"
    }
   ],
   "source": [
    "Lat_10,ZMT_10=np.loadtxt('Data/ERA_ZMT_Mean_10deginterpolated.txt')\n",
    "Lat_ERA,ZMT_ERA=np.loadtxt('Data/ERA_ZMT_Mean.txt')\n",
    "plt.plot(Vars.Lat,data[1][-1]+elevation)\n",
    "plt.plot(Lat_10,ZMT_10)"
   ]
  },
  {
   "cell_type": "code",
   "execution_count": null,
   "metadata": {},
   "outputs": [],
   "source": []
  }
 ],
 "metadata": {
  "kernelspec": {
   "display_name": "Python 3",
   "language": "python",
   "name": "python3"
  },
  "language_info": {
   "codemirror_mode": {
    "name": "ipython",
    "version": 3
   },
   "file_extension": ".py",
   "mimetype": "text/x-python",
   "name": "python",
   "nbconvert_exporter": "python",
   "pygments_lexer": "ipython3",
   "version": "3.6.8"
  }
 },
 "nbformat": 4,
 "nbformat_minor": 2
}
