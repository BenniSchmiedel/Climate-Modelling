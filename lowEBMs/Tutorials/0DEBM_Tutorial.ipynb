{
 "cells": [
  {
   "cell_type": "code",
   "execution_count": 6,
   "metadata": {},
   "outputs": [],
   "source": [
    "import matplotlib as plt\n",
    "import numpy as np\n",
    "import os\n",
    "os.chdir('/home/benni/Programs/ebms/lowEBMs/Packages')\n",
    "from RK4 import rk4alg\n",
    "from Configuration import importer\n",
    "from Variables import variable_importer"
   ]
  },
  {
   "cell_type": "code",
   "execution_count": 2,
   "metadata": {},
   "outputs": [],
   "source": [
    "config,configdic=importer('/home/benni/Programs/ebms/lowEBMs/Tutorials','0DEBM_Config.ini')"
   ]
  },
  {
   "cell_type": "code",
   "execution_count": 4,
   "metadata": {},
   "outputs": [
    {
     "name": "stdout",
     "output_type": "stream",
     "text": [
      "{'eqparam': {'c_ao': 294000000.0}, 'rk4input': {'number_of_integration': 365, 'stepsize_of_integration': 86400, 'spatial_resolution': 0, 'both_hemispheres': True, 'latitudinal_circle': True, 'latitudinal_belt': False, 'eq_condition': False, 'eq_condition_length': 100, 'eq_condition_amplitude': 0.001, 'data_readout': 1, 'number_of_externals': 0}, 'funccomp': {'funclist': {'func0': <function R_ininsolalbedo at 0x7fb6079a5ea0>, 'func1': <function R_outplanck at 0x7fb5ee310730>}, 'funcparam': {'func0': {'q': 342, 'm': 1, 'dq': 0, 'albedo': <function Albedo0D at 0x7fb5ee310378>, 'albedoread': True, 'albedoparam': [0.32], 'noise': False, 'noiseamp': 10.26, 'noisedelay': 1, 'seed': True, 'seedmanipulation': 0, 'sinusodial': False, 'convfactor': 1, 'timeunit': 'annualmean', 'orbital': False, 'orbitalyear': 0}, 'func1': {'grey': 0.67, 'sigma': 5.6703726225913323e-08}}}, 'initials': {'time': 0, 'zmt': 288, 'gmt': 288, 'latitude_c': 0, 'latitude_b': 0, 'initial_temperature_cosine': True, 'initial_temperature_amplitude': 30, 'initial_temperature_noise': True, 'initial_temperature_noise_amplitude': 5}}\n"
     ]
    }
   ],
   "source": []
  },
  {
   "cell_type": "code",
   "execution_count": null,
   "metadata": {},
   "outputs": [],
   "source": []
  }
 ],
 "metadata": {
  "kernelspec": {
   "display_name": "Python 3",
   "language": "python",
   "name": "python3"
  },
  "language_info": {
   "codemirror_mode": {
    "name": "ipython",
    "version": 3
   },
   "file_extension": ".py",
   "mimetype": "text/x-python",
   "name": "python",
   "nbconvert_exporter": "python",
   "pygments_lexer": "ipython3",
   "version": "3.6.4"
  }
 },
 "nbformat": 4,
 "nbformat_minor": 2
}
