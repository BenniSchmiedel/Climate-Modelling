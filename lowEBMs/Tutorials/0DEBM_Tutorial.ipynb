{
 "cells": [
  {
   "cell_type": "code",
   "execution_count": 1,
   "metadata": {},
   "outputs": [],
   "source": [
    "import matplotlib as plt\n",
    "import numpy as np\n",
    "import os\n",
    "os.chdir('/home/benni/Programs/ebms/lowEBMs'+'/Packages')\n",
    "from Configuration import importer\n",
    "from Variables import variable_importer\n",
    "from RK4 import rk4alg\n",
    "from ModelEquation import model_equation"
   ]
  },
  {
   "cell_type": "code",
   "execution_count": 2,
   "metadata": {},
   "outputs": [
    {
     "name": "stdout",
     "output_type": "stream",
     "text": [
      "0D\n",
      "Finished!\n"
     ]
    }
   ],
   "source": [
    "configdic=importer('/home/benni/Programs/ebms/lowEBMs/Tutorials','0DEBM_Config.ini')\n",
    "eq=configdic['eqparam']\n",
    "rk=configdic['rk4input']\n",
    "fun=configdic['funccomp']\n",
    "variable_importer(configdic)\n",
    "data=rk4alg(model_equation,eq,rk,fun)"
   ]
  },
  {
   "cell_type": "code",
   "execution_count": 3,
   "metadata": {},
   "outputs": [
    {
     "name": "stdout",
     "output_type": "stream",
     "text": [
      "3\n"
     ]
    }
   ],
   "source": []
  },
  {
   "cell_type": "code",
   "execution_count": null,
   "metadata": {},
   "outputs": [],
   "source": []
  }
 ],
 "metadata": {
  "kernelspec": {
   "display_name": "Python 3",
   "language": "python",
   "name": "python3"
  },
  "language_info": {
   "codemirror_mode": {
    "name": "ipython",
    "version": 3
   },
   "file_extension": ".py",
   "mimetype": "text/x-python",
   "name": "python",
   "nbconvert_exporter": "python",
   "pygments_lexer": "ipython3",
   "version": "3.6.4"
  }
 },
 "nbformat": 4,
 "nbformat_minor": 2
}
