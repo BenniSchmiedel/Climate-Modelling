{
 "cells": [
  {
   "cell_type": "code",
   "execution_count": 5,
   "metadata": {},
   "outputs": [],
   "source": [
    "\"\"\"Package for importing system configuration.\n",
    "   The needed data is imported from a specific config.ini and placed in different arrays\n",
    "   to make it easier to handle when executing the runge-kutta algorithm.\"\"\"\n",
    "import configparser\n",
    "from Packages.Functions import *\n",
    "\n",
    "def importer(filename): \n",
    "    \n",
    "    config=configparser.ConfigParser()\n",
    "    config.read('/home/benni/ebms/Config/'+filename+'.ini')     #Import\n",
    "\n",
    "    funclist=config.options('funclist')                        #Placing imported configuration in arrays\n",
    "    funcparam=config.options('funcparam')\n",
    "    subfunclist=config.options('subfunclist')  \n",
    "    EQparam=config.options('EQparam')\n",
    "    rk4input=config.options('rk4input')\n",
    "    var0=config.options('var0')\n",
    "    var=config.options('var')\n",
    "    \n",
    "    for i in range(len(funclist)):                        #Filling the arrays with the inserted values from\n",
    "        funclist[i]=eval(config['funclist'][funclist[i]])  #the config.ini (converted from string to variables)\n",
    "        funcparam[i]=eval(config['funcparam'][funcparam[i]])\n",
    "       # subfunclist[i]=eval(config['subfunclist'][subfunclist[i]])\n",
    "    for i in range(len(EQparam)):\n",
    "        EQparam[i]=eval(config['EQparam'][EQparam[i]])\n",
    "    for i in range(len(rk4input)):\n",
    "        rk4input[i]=eval(config['rk4input'][rk4input[i]])\n",
    "    for i in range(len(var0)):\n",
    "        var0[i]=eval(config['var0'][var0[i]])\n",
    "        var[i]=eval(config['var'][var[i]])\n",
    "        \n",
    "    funccomp=[funclist,funcparam,subfunclist]                #packing the function components into one array\n",
    "    return EQparam, rk4input, funccomp, var, var0"
   ]
  },
  {
   "cell_type": "code",
   "execution_count": null,
   "metadata": {},
   "outputs": [],
   "source": []
  }
 ],
 "metadata": {
  "kernelspec": {
   "display_name": "Python 3",
   "language": "python",
   "name": "python3"
  },
  "language_info": {
   "codemirror_mode": {
    "name": "ipython",
    "version": 3
   },
   "file_extension": ".py",
   "mimetype": "text/x-python",
   "name": "python",
   "nbconvert_exporter": "python",
   "pygments_lexer": "ipython3",
   "version": "3.6.4"
  }
 },
 "nbformat": 4,
 "nbformat_minor": 2
}
