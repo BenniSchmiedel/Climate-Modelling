{
 "cells": [
  {
   "cell_type": "code",
   "execution_count": 1,
   "metadata": {},
   "outputs": [],
   "source": [
    "def BaseEquation(EQparam,funccomp):\n",
    "    #variable which can be used to sum up functions\n",
    "    y=0                                \n",
    "    #Extracting needed arrays from the funccomp array\n",
    "    funclist=funccomp[0]               \n",
    "    funcparam=funccomp[1]\n",
    "    #Extracting Equationparameters\n",
    "    C_ao=EQparam[0]  \n",
    "    #Calling the selected function and sum them up                   \n",
    "    for i in range(len(funclist)):\n",
    "            y += funclist[i](funcparam[i])    \n",
    "    #output of y, weighted with the heat capacity\n",
    "    return y/C_ao           "
   ]
  }
 ],
 "metadata": {
  "kernelspec": {
   "display_name": "Python 3",
   "language": "python",
   "name": "python3"
  },
  "language_info": {
   "codemirror_mode": {
    "name": "ipython",
    "version": 3
   },
   "file_extension": ".py",
   "mimetype": "text/x-python",
   "name": "python",
   "nbconvert_exporter": "python",
   "pygments_lexer": "ipython3",
   "version": "3.6.4"
  }
 },
 "nbformat": 4,
 "nbformat_minor": 2
}
