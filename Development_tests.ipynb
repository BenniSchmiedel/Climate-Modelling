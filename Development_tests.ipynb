{
 "cells": [
  {
   "cell_type": "code",
   "execution_count": 1,
   "metadata": {},
   "outputs": [],
   "source": [
    "import matplotlib.pyplot as plt\n",
    "import numpy as np\n",
    "from lowEBMs.Packages.Configuration import importer , add_sellersparameters, parameterinterpolatorstepwise, reset\n",
    "from lowEBMs.Packages.Variables import variable_importer\n",
    "from lowEBMs.Packages.RK4 import rk4alg, controlrun\n",
    "from lowEBMs.Packages.ModelEquation import model_equation\n",
    "from lowEBMs.Packages.Variables import Vars\n",
    "#from lowEBMs.Packages.Functions import asd"
   ]
  },
  {
   "cell_type": "code",
   "execution_count": 2,
   "metadata": {},
   "outputs": [
    {
     "name": "stdout",
     "output_type": "stream",
     "text": [
      "Loading Configuration from: Development_config.ini\n",
      "Starting controlrun with a temperature accuracy of 0.08 K on the GMT over 500 datapoints.\n",
      "Loading Parameters from: /home/benni/anaconda3/lib/python3.6/site-packages/lowEBMs/Tutorials/Config/Data/SellersParameterization.ini\n",
      "Starting simulation...\n",
      "[260.61467228 265.76457135 270.67854785 275.20729309 279.21320344\n",
      " 282.57456133 285.18923361 286.97777479 287.88584094 287.88584094\n",
      " 286.97777479 285.18923361 282.57456133 279.21320344 275.20729309\n",
      " 270.67854785 265.76457135 260.61467228]\n",
      "Steady State reached after 1865 steps, within 2.676715135574341 seconds\n",
      "Simulation finished within 2.6769461631774902 seconds\n",
      "Finished controlrun over 5.109589041095891 years. Runtime: 2.6769959926605225 s\n",
      "[247.003476   254.25888499 264.47214192 273.44527652 281.07286474\n",
      " 287.11915434 291.3696496  293.53914781 294.27659134 294.57241179\n",
      " 294.1142501  290.83835633 284.60830383 276.73926085 270.24254106\n",
      " 264.19807532 258.49281695 254.9606866 ]\n",
      "Starting simulation...\n",
      "[247.003476   254.25888499 264.47214192 273.44527652 281.07286474\n",
      " 287.11915434 291.3696496  293.53914781 294.27659134 294.57241179\n",
      " 294.1142501  290.83835633 284.60830383 276.73926085 270.24254106\n",
      " 264.19807532 258.49281695 254.9606866 ]\n",
      "Simulation finished within 5.006659746170044 seconds\n"
     ]
    }
   ],
   "source": [
    "configdic=importer('Development_config.ini')\n",
    "variable_importer(configdic,True,accuracy_number=500,accuracy=0.08)\n",
    "configdic1,paras=add_sellersparameters(configdic,parameterinterpolatorstepwise,'SellersParameterization.ini',2,0,True,True)\n",
    "controldata=controlrun(configdic)\n",
    "variable_importer(configdic,False)\n",
    "eq=configdic1['eqparam']\n",
    "rk=configdic1['rk4input']\n",
    "fun=configdic1['funccomp']\n",
    "Vars.T=controldata[1][-1]\n",
    "print(Vars.T)\n",
    "Vars.T_global=controldata[2][-1]\n",
    "Vars.t=controldata[0][-1]\n",
    "outputdata=rk4alg(model_equation,eq,fun)\n",
    "out=[]\n",
    "for l in outputdata:\n",
    "    out.append(np.array(l))\n",
    "    "
   ]
  },
  {
   "cell_type": "code",
   "execution_count": 5,
   "metadata": {},
   "outputs": [
    {
     "data": {
      "text/plain": [
       "[<matplotlib.lines.Line2D at 0x7f1f55e33c88>]"
      ]
     },
     "execution_count": 5,
     "metadata": {},
     "output_type": "execute_result"
    },
    {
     "data": {
      "image/png": "[encoded data removed]",
      "text/plain": [
       "<Figure size 432x288 with 1 Axes>"
      ]
     },
     "metadata": {},
     "output_type": "display_data"
    }
   ],
   "source": [
    "plt.plot(np.array(controldata[0])/(60*60*24*365),np.array(controldata[1])[:,9])\n",
    "plt.plot(out[0]/(60*60*24*365),out[1][:,9])#[:,0])\n",
    "#plt.ylim(-1,1)\n",
    "#print(out[1][:,1])"
   ]
  },
  {
   "cell_type": "code",
   "execution_count": null,
   "metadata": {},
   "outputs": [],
   "source": []
  }
 ],
 "metadata": {
  "kernelspec": {
   "display_name": "Python 3",
   "language": "python",
   "name": "python3"
  },
  "language_info": {
   "codemirror_mode": {
    "name": "ipython",
    "version": 3
   },
   "file_extension": ".py",
   "mimetype": "text/x-python",
   "name": "python",
   "nbconvert_exporter": "python",
   "pygments_lexer": "ipython3",
   "version": "3.6.8"
  }
 },
 "nbformat": 4,
 "nbformat_minor": 2
}
