{
 "cells": [
  {
   "cell_type": "code",
   "execution_count": 1,
   "metadata": {},
   "outputs": [],
   "source": [
    "from climlab.solar.insolation import daily_insolation\n",
    "import numpy as np\n",
    "import matplotlib.pyplot as plt\n",
    "Lat=np.linspace(-90,90,18)\n",
    "x=np.linspace(0,60*60*24*365,101)\n",
    "sol=daily_insolation(Lat,x/60/60/24)#%365)\n",
    "#int(x/xconv)%365"
   ]
  },
  {
   "cell_type": "code",
   "execution_count": 2,
   "metadata": {},
   "outputs": [
    {
     "name": "stdout",
     "output_type": "stream",
     "text": [
      "[  0.     3.65   7.3   10.95  14.6   18.25  21.9   25.55  29.2   32.85\n",
      "  36.5   40.15  43.8   47.45  51.1   54.75  58.4   62.05  65.7   69.35\n",
      "  73.    76.65  80.3   83.95  87.6   91.25  94.9   98.55 102.2  105.85\n",
      " 109.5  113.15 116.8  120.45 124.1  127.75 131.4  135.05 138.7  142.35\n",
      " 146.   149.65 153.3  156.95 160.6  164.25 167.9  171.55 175.2  178.85\n",
      " 182.5  186.15 189.8  193.45 197.1  200.75 204.4  208.05 211.7  215.35\n",
      " 219.   222.65 226.3  229.95 233.6  237.25 240.9  244.55 248.2  251.85\n",
      " 255.5  259.15 262.8  266.45 270.1  273.75 277.4  281.05 284.7  288.35\n",
      " 292.   295.65 299.3  302.95 306.6  310.25 313.9  317.55 321.2  324.85\n",
      " 328.5  332.15 335.8  339.45 343.1  346.75 350.4  354.05 357.7  361.35\n",
      "   0.  ]\n"
     ]
    },
    {
     "data": {
      "text/plain": [
       "[<matplotlib.lines.Line2D at 0x7fe3415e4be0>]"
      ]
     },
     "execution_count": 2,
     "metadata": {},
     "output_type": "execute_result"
    },
    {
     "data": {
      "image/png": "[encoded data removed]",
      "text/plain": [
       "<Figure size 432x288 with 1 Axes>"
      ]
     },
     "metadata": {},
     "output_type": "display_data"
    }
   ],
   "source": [
    "print(x/(60*60*24)%365)\n",
    "plt.plot(x,sol[0])"
   ]
  },
  {
   "cell_type": "code",
   "execution_count": null,
   "metadata": {},
   "outputs": [],
   "source": []
  }
 ],
 "metadata": {
  "kernelspec": {
   "display_name": "Python 3",
   "language": "python",
   "name": "python3"
  },
  "language_info": {
   "codemirror_mode": {
    "name": "ipython",
    "version": 3
   },
   "file_extension": ".py",
   "mimetype": "text/x-python",
   "name": "python",
   "nbconvert_exporter": "python",
   "pygments_lexer": "ipython3",
   "version": "3.6.7"
  }
 },
 "nbformat": 4,
 "nbformat_minor": 2
}
