{
 "cells": [
  {
   "cell_type": "code",
   "execution_count": 17,
   "metadata": {},
   "outputs": [],
   "source": [
    "import matplotlib.pyplot as plt\n",
    "import numpy as np\n",
    "from lowEBMs.Packages.Configuration import importer, add_sellersparameters, parameterinterpolatorstepwise, reset\n",
    "from lowEBMs.Packages.Configuration import import_parallelparameter, allocate_parallelparameter, write_parallelparameter\n",
    "from lowEBMs.Packages.Variables import variable_importer\n",
    "from lowEBMs.Packages.RK4 import rk4alg, controlrun\n",
    "from lowEBMs.Packages.ModelEquation import model_equation\n",
    "from lowEBMs.Packages.Variables import Vars,reset, trackerreset, datareset\n",
    "from lowEBMs.Packages.Functions import plotmeanstd\n",
    "from lowEBMs import update_plotstyle\n",
    "import builtins\n",
    "import matplotlib\n",
    "update_plotstyle()\n",
    "matplotlib.rcParams['lines.linewidth']=1.1\n",
    "time_sec_year=60*60*24*365\n",
    "def moving_average(signal, period):\n",
    "    buffer = [np.nan] * period\n",
    "    for i in range(period,len(signal)):\n",
    "        buffer.append(signal[i-period:i].mean())\n",
    "    return buffer"
   ]
  },
  {
   "cell_type": "code",
   "execution_count": 22,
   "metadata": {},
   "outputs": [],
   "source": [
    "def func(a,b):\n",
    "    data=(a)**2+b**4\n",
    "    return data\n",
    "    \n",
    "def coremodule(config,P0,P_pert,Pmin,Pmax,labels,ZMT,GMT,grid,maxlength,targetmode,target,targetfunction,elevation,precision,num_paras,gamma0,control,controlconfig):\n",
    "    F=np.reshape(np.zeros(maxlength*(2*num_paras+1)),(maxlength,2*num_paras+1))\n",
    "    #F=np.reshape(np.zeros(maxlength*(num_paras+1)),(maxlength,num_paras+1))\n",
    "    dF=np.reshape(np.zeros(maxlength*(num_paras)),(maxlength,num_paras))\n",
    "    P=np.reshape(np.zeros(maxlength*(num_paras)),(maxlength,num_paras))\n",
    "    Ptrans=np.reshape(np.zeros(maxlength*(num_paras)),(maxlength,num_paras))\n",
    "    gamma=np.zeros(maxlength)\n",
    "    if targetmode=='Single':\n",
    "        dataout=np.reshape(np.zeros(maxlength*(2*num_paras+1)),(maxlength,(2*num_paras+1)))\n",
    "    elif targetmode=='ZMT':\n",
    "        dataout=np.reshape(np.zeros(maxlength*len(grid)*(2*num_paras+1)),(maxlength,(2*num_paras+1),len(grid)))\n",
    "    elif targetmode=='GMT':\n",
    "        dataout=np.reshape(np.zeros(maxlength*int(number_of_integration/data_readout)),(maxlength,int(number_of_integration/data_readout)))\n",
    "    #data=np.reshape(np.zeros(maxlength*(2*num_paras+1)),(maxlength,2*num_paras+1))\n",
    "    for i in range(maxlength):\n",
    "        if i==0:\n",
    "            P[i]=P0\n",
    "            Ptrans[i]=(P0-Pmin)/(Pmax-Pmin)\n",
    "            #Ptrans_pert1=(P_pert-Pmin)/(Pmax-Pmin)\n",
    "            Ptrans_pert=Ptrans[i]*P_pert[0]/P0[0]\n",
    "            #print(Ptrans_pert1,Ptrans_pert)\n",
    "        #data[i][0]=(func(*P[i]))\n",
    "        \"\"\"for k in range(0,num_paras):\n",
    "            Pk=np.zeros(num_paras)\n",
    "            Pk[k]=P_pert[k]\n",
    "            data[i][k+1]=(func(*P[i]+Pk))\"\"\"\n",
    "  \n",
    "        \n",
    "        \n",
    "        #for k in range(0,2*num_paras):\n",
    "            #Pk=np.zeros(num_paras)\n",
    "            #Pk[int(k/2)]=(-1)**k*P_pert[int(k/2)]\n",
    "            #print(Pk)\n",
    "            \n",
    "            #data[i]=(func(*P[i]+Pk))\n",
    "        data=run_model(config,P[i],P_pert,labels,ZMT,GMT,targetmode,control,controlconfig)\n",
    "        dataout[i]=data\n",
    "        F[i]=target_comparison(data,targetmode,target,targetfunction,grid,num_paras,elevation)\n",
    "\n",
    "        #dF[i]=local_gradient1(F[i],P_pert)\n",
    "        dF[i]=local_gradient1(F[i],Ptrans_pert)\n",
    "        \n",
    "        if i==0:\n",
    "            gamma[i]=gamma0\n",
    "        else:\n",
    "            #gamma[i]=step_weighting(dF[i-1],dF[i],P[i-1],P[i])\n",
    "            gamma[i]=step_weighting(dF[i-1],dF[i],Ptrans[i-1],Ptrans[i])\n",
    "            \n",
    "        if precision_check(dF[0],dF[i],precision):\n",
    "            print('stop',i)\n",
    "            P=P[:i]\n",
    "            Ptrans=Ptrans[:i]\n",
    "            F=F[:i]\n",
    "            gamma=gamma[:i]\n",
    "            break\n",
    "                \n",
    "        #P_next=new_parameters(P[i],gamma[i],dF[i])        \n",
    "        Ptrans_next=new_parameters(Ptrans[i],gamma[i],dF[i])\n",
    "\n",
    "        for k in range(num_paras):\n",
    "            if Ptrans_next[k]<0:\n",
    "                Ptrans_next[k]=0.\n",
    "            if Ptrans_next[k]>1:\n",
    "                Ptrans_next[k]=1.\n",
    "\n",
    "        if i<maxlength-1:\n",
    "            Ptrans[i+1]=Ptrans_next\n",
    "            P[i+1]=Pmin+Ptrans_next*(Pmax-Pmin)\n",
    "            #P[i+1]=P_next    \n",
    "            print(P[i+1])\n",
    "            print(Ptrans[i+1])\n",
    "    return F, dF, P , Ptrans, gamma, dataout\n",
    "    \n",
    "def target_comparison(data,targetmode,target,targetfunction,grid,num_paras,elevation):\n",
    "    F=np.zeros(2*num_paras+1)\n",
    "    if targetfunction=='LeastSquare':\n",
    "        if targetmode=='Single':\n",
    "            F=(np.array(data)-target)**2\n",
    "        elif targetmode=='ZMT':\n",
    "            for i in range(len(data)):\n",
    "                data[i]=data[i]+elevation\n",
    "            for i in range(len(F)):\n",
    "                F[i]=np.sum(((data[i]-target)*np.cos(grid*np.pi/180)/np.mean(np.cos(grid*np.pi/180)))**2)\n",
    "        elif targetmode=='GMT':\n",
    "            for i in range(len(F)):\n",
    "                F[i]=np.sum((data[i]-target)**2)\n",
    "\n",
    "    print(F)\n",
    "    return F\n",
    "\n",
    "def parameter_gradient(P0,P1):\n",
    "    dP=P1-P0\n",
    "    return dP\n",
    "\n",
    "def local_gradient(F,P_pert):\n",
    "    dF=(F[1:]-F[0])/P_pert\n",
    "    return dF\n",
    "\n",
    "def local_gradient1(F,P_pert):\n",
    "    dF=np.zeros(len(P_pert))\n",
    "    for k in range(len(P_pert)):\n",
    "        #print(2*(k+1)-1,2*(k+1))\n",
    "        #print(F[2*(k+1)-1]-F[2*(k+1)])\n",
    "        dF[k]=(F[2*(k+1)-1]-F[2*(k+1)])/(2*P_pert[k])\n",
    "    return dF\n",
    "\n",
    "def step_weighting(dF0,dF1,P0,P1):\n",
    "    gamma=np.abs(np.dot(P1-P0,dF1-dF0)/np.dot(dF1-dF0,dF1-dF0))\n",
    "    return gamma\n",
    "\n",
    "def precision_check(dF0,dF,precision):\n",
    "    dFabs=np.sqrt(np.dot(dF,dF))\n",
    "    dF0abs=np.sqrt(np.dot(dF0,dF0))\n",
    "    if dFabs/dF0abs <= precision:\n",
    "        return True\n",
    "    \n",
    "def new_parameters(P,gamma,dF):\n",
    "    #print(gamma,dF)\n",
    "    P_next=P-gamma*dF\n",
    "    return P_next\n",
    "#def gradient_descent(xn,)\n",
    "\n",
    "def run_model(config,P,P_pert,labels,ZMT,GMT,targetmode,control,controlconfig):\n",
    "    \n",
    "    if control==True:\n",
    "        config_CTRL=importer(controlconfig)\n",
    "        variable_importer(config_CTRL,parallel=False)\n",
    "\n",
    "        config_CTRL,ParasCTRL=add_sellersparameters(config_CTRL,\\\n",
    "                                        parameterinterpolatorstepwise,'SellersParameterization.ini',2,0,True,True)\n",
    "        config_CTRL=add_parameters(config_CTRL,P,labels)\n",
    "        data_CTRL=rk4alg(model_equation,config_CTRL['eqparam'],config_CTRL['funccomp'])\n",
    "        ZMT,GMT=data_CTRL[1][-1],data_CTRL[2][-1]\n",
    "        \n",
    "    P_config=reshape_parameters(P,P_pert)\n",
    "    setup={'number_of_parameters': len(P), 'number_of_cycles': 1, 'number_of_parallels': len(P)*2+1}\n",
    "    \n",
    "    datareset()\n",
    "    variable_importer(config,parallel=True,parallel_config=setup)\n",
    "    config=add_parameters(config,P_config,labels)\n",
    "    \n",
    "    if control==True:\n",
    "        Vars.T,Vars.T_global=np.array([ZMT]*int(len(P)*2+1)),np.array([GMT]*int(len(P)*2+1))\n",
    "    else:\n",
    "        Vars.T,Vars.T_global=ZMT,GMT\n",
    "    data=rk4alg(model_equation,config['eqparam'],config['funccomp'])\n",
    "    if targetmode=='Single':\n",
    "        data_out=data[2][-1]\n",
    "    elif targetmode=='ZMT':\n",
    "        data_out=data[1][-1]\n",
    "    elif targetmode=='GMT':\n",
    "        print(data[0][int(number_of_integration/2/data_readout)]/time_sec_year)\n",
    "        data_out=data[2][:-1,0]-data[2][0,0]\n",
    "\n",
    "    return data_out\n",
    "\n",
    "def reshape_parameters(P,P_pert):\n",
    "    num_para=len(P)\n",
    "    #Pk=np.zeros(num_paras)\n",
    "    P_config=np.reshape(np.zeros(num_para*(2*num_para+1)),(num_para,2*num_para+1))\n",
    "    #Ensemble_parameters=dict()\n",
    "    for i in range(num_para):\n",
    "        #Pk[int(k/2)]=(-1)**k*P_pert[int(k/2)]\n",
    "        P_config[i]=np.array([P[i]]*(2*num_para+1))\n",
    "        P_config[i][i*2+1]=P[i]+P_pert[i]\n",
    "        P_config[i][i*2+2]=P[i]-P_pert[i]\n",
    "    #print(P_config)\n",
    "    \"\"\"\n",
    "    j=1\n",
    "    for i in list(x0.keys()):\n",
    "        Ensemble_parameters.update({i:np.array([x0[i]]*(num_para+1))})\n",
    "        Ensemble_parameters[i][j]=x0[i]+dx[i]\n",
    "        j+=1\n",
    "    \"\"\"                             \n",
    "    return P_config\n",
    "             \n",
    "def add_parameters(config,P_config,labels):\n",
    "    num_para=len(P_config)\n",
    "    \"\"\"for i in list(Parameterlabels.keys()):\n",
    "        for j in Parameterlabels[i]:\n",
    "            config['funccomp']['funcparam'][i][j]=Ensemble_parameters\"\"\"\n",
    "    for i in range(num_para):\n",
    "        if labels[i][0][:4]=='func':\n",
    "            config['funccomp']['funcparam'][labels[i][0]][labels[i][1]]=P_config[i]\n",
    "        if labels[i][0]=='eqparam':\n",
    "            config[labels[i][0]][labels[i][1]]=P_config[i]\n",
    "    return config\n",
    "#Parameterlabels={'func1':['A','B'],'func2':['factor_oc','factor_kwv','factor_kair']}\n",
    "#Parameterlabels=[['func1','a'],['func1','b'],['func2','factor_oc'],['func2','factor_kwv'],['func2','factor_kair']]\n",
    "#Start_parameters=[230,2.5,1,1,1]\n",
    "#Start_pertubation=[1,0.1,0.05,0.05,0.05]\n",
    "#y=reshape_parameters(Start_parameters,Start_pertubation) \n",
    "#config_new=add_parameters(Config_Try1_base,y,Parameterlabels)\n",
    "#print(y)\n",
    "#print(config_new)"
   ]
  },
  {
   "cell_type": "code",
   "execution_count": 41,
   "metadata": {},
   "outputs": [
    {
     "name": "stdout",
     "output_type": "stream",
     "text": [
      "[2. 2.]\n",
      "[1.8399968  0.71925753]\n",
      "[1.81281913 0.70825445]\n",
      "[1.31510759 0.51297074]\n",
      "[1.03693674 0.45577368]\n",
      "[0.77060153 0.40704015]\n",
      "[0.58343549 0.37420155]\n",
      "[0.43692919 0.34781564]\n",
      "[0.32715967 0.32661492]\n",
      "[0.24345494 0.30874067]\n",
      "[0.1798926  0.29334745]\n",
      "[0.1313287  0.27972058]\n",
      "[0.09406076 0.26734682]\n",
      "[0.06525677 0.25576543]\n",
      "[0.04286612 0.24452764]\n",
      "[0.02551825 0.23313945]\n",
      "[0.01256549 0.22105196]\n",
      "[0.00407107 0.20774095]\n",
      "stop 18\n",
      "[0.00407107 0.20774095] [3.53079192e-06 5.96279173e-06 4.47829184e-06 7.32595175e-06\n",
      " 1.58483182e-06]\n",
      "0 0.001879040160209674\n"
     ]
    }
   ],
   "source": [
    "precision=1e-7\n",
    "maxlength=int(1e4)\n",
    "target=0\n",
    "num_params=2\n",
    "P0=np.array([2,2])\n",
    "P_pert=P0/100\n",
    "gamma0=1e-3\n",
    "F,dF,P,gamma,data=coremodule(0,P0,P_pert,0,0,0,maxlength,target,'LeastSquare',precision,num_params,gamma0)\n",
    "print(P[-1],F[-1])\n",
    "print(target,func(*P[-1]))\n",
    "#print(gamma)"
   ]
  },
  {
   "cell_type": "code",
   "execution_count": 3,
   "metadata": {},
   "outputs": [
    {
     "name": "stdout",
     "output_type": "stream",
     "text": [
      "Loading Configuration from: Dev_Data/Optimization/Try1_Budyko_CTRL.ini\n",
      "Loading Parameters from: /Home/siv32/bsc029/.local/lib/python3.6/site-packages/lowEBMs/Tutorials/Config/Data/SellersParameterization.ini\n",
      "Starting simulation...\n"
     ]
    },
    {
     "data": {
      "application/vnd.jupyter.widget-view+json": {
       "model_id": "a384425abf924eaf929ec55d39dc25b7",
       "version_major": 2,
       "version_minor": 0
      },
      "text/plain": [
       "HBox(children=(IntProgress(value=0, max=43800), HTML(value='')))"
      ]
     },
     "metadata": {},
     "output_type": "display_data"
    },
    {
     "name": "stdout",
     "output_type": "stream",
     "text": [
      "\n",
      "Simulation finished within 49.36830019950867 seconds\n"
     ]
    }
   ],
   "source": [
    "config_CTRL=importer('Dev_Data/Optimization/Try1_Budyko_CTRL.ini')\n",
    "#setup={'number_of_parameters': 5, 'number_of_cycles': 1, 'number_of_parallels': 6}\n",
    "#allocated,setup=allocate_parallelparameter(raw)\n",
    "variable_importer(config_CTRL,parallel=False)#,parallel_config=setup)\n",
    "config_CTRL,ParasCTRL=add_sellersparameters(config_CTRL,\\\n",
    "                                    parameterinterpolatorstepwise,'SellersParameterization.ini',2,0,True,True)\n",
    "\n",
    "labels=[['eqparam','c_ao'],['func1','a'],['func1','b'],['func2','factor_oc'],['func2','factor_kwv'],['func2','factor_kair']]\n",
    "#P0=np.array([205,1.5,1,1,1])\n",
    "P0=np.array([70*4.2e6,205,1.5,1.165,1.165,1.165])\n",
    "#for i in range(2):\n",
    "#    Try['funccomp']['funcparam'][labels[i][0]][labels[i][1]]=P0[i]\n",
    "#P_pert=P0/1000\n",
    "#P_config=reshape_parameters(P0,P_pert)\n",
    "config_CTRL=add_parameters(config_CTRL,P0,labels)\n",
    "trackerreset()\n",
    "builtins.Runtime_Tracker=0\n",
    "data_CTRL=rk4alg(model_equation,config_CTRL['eqparam'],config_CTRL['funccomp'])"
   ]
  },
  {
   "cell_type": "code",
   "execution_count": 20,
   "metadata": {},
   "outputs": [],
   "source": [
    "Zero_ZMT,Zero_GMT=np.array([data_CTRL[1][-1]]*13),np.array([data_CTRL[2][-1]]*13)\n",
    "#out=np.reshape(np.zeros(19*6),(6,19))\n",
    "#for i in range(6):\n",
    "#    out[i]=[Zero_GMT[i],*Zero_ZMT[i]]\n",
    "#np.savetxt('Data/Optimization_InputTemp.txt',out,delimiter=',')\"\"\"\n",
    "#print(Zero_ZMT,Zero_GMT)"
   ]
  },
  {
   "cell_type": "code",
   "execution_count": 24,
   "metadata": {},
   "outputs": [
    {
     "name": "stdout",
     "output_type": "stream",
     "text": [
      "Loading Configuration from: Dev_Data/Optimization/Try1_Budyko.ini\n",
      "Loading Parameters from: /Home/siv32/bsc029/.local/lib/python3.6/site-packages/lowEBMs/Tutorials/Config/Data/SellersParameterization.ini\n",
      "Starting simulation...\n"
     ]
    },
    {
     "data": {
      "application/vnd.jupyter.widget-view+json": {
       "model_id": "89b86052ba314132800ed9c12fa3f9c5",
       "version_major": 2,
       "version_minor": 0
      },
      "text/plain": [
       "HBox(children=(IntProgress(value=0, max=18250), HTML(value='')))"
      ]
     },
     "metadata": {},
     "output_type": "display_data"
    },
    {
     "ename": "KeyboardInterrupt",
     "evalue": "",
     "output_type": "error",
     "traceback": [
      "\u001b[0;31m---------------------------------------------------------------------------\u001b[0m",
      "\u001b[0;31mKeyboardInterrupt\u001b[0m                         Traceback (most recent call last)",
      "\u001b[0;32m<ipython-input-24-fbebff7348db>\u001b[0m in \u001b[0;36m<module>\u001b[0;34m\u001b[0m\n\u001b[1;32m     23\u001b[0m \u001b[0;34m\u001b[0m\u001b[0m\n\u001b[1;32m     24\u001b[0m F, dF, P, Ptrans , gamma, data=coremodule(config_base,P0,P_pert,Pmin,Pmax,labels,Zero_ZMT,Zero_GMT,grid,\\\n\u001b[0;32m---> 25\u001b[0;31m     maxlength,targetmode,target,targetfunction,elevation,precision,num_params,gamma0,control,controlconfig)\n\u001b[0m",
      "\u001b[0;32m<ipython-input-22-7336456b29cf>\u001b[0m in \u001b[0;36mcoremodule\u001b[0;34m(config, P0, P_pert, Pmin, Pmax, labels, ZMT, GMT, grid, maxlength, targetmode, target, targetfunction, elevation, precision, num_paras, gamma0, control, controlconfig)\u001b[0m\n\u001b[1;32m     38\u001b[0m \u001b[0;34m\u001b[0m\u001b[0m\n\u001b[1;32m     39\u001b[0m             \u001b[0;31m#data[i]=(func(*P[i]+Pk))\u001b[0m\u001b[0;34m\u001b[0m\u001b[0;34m\u001b[0m\u001b[0;34m\u001b[0m\u001b[0m\n\u001b[0;32m---> 40\u001b[0;31m         \u001b[0mdata\u001b[0m\u001b[0;34m=\u001b[0m\u001b[0mrun_model\u001b[0m\u001b[0;34m(\u001b[0m\u001b[0mconfig\u001b[0m\u001b[0;34m,\u001b[0m\u001b[0mP\u001b[0m\u001b[0;34m[\u001b[0m\u001b[0mi\u001b[0m\u001b[0;34m]\u001b[0m\u001b[0;34m,\u001b[0m\u001b[0mP_pert\u001b[0m\u001b[0;34m,\u001b[0m\u001b[0mlabels\u001b[0m\u001b[0;34m,\u001b[0m\u001b[0mZMT\u001b[0m\u001b[0;34m,\u001b[0m\u001b[0mGMT\u001b[0m\u001b[0;34m,\u001b[0m\u001b[0mtargetmode\u001b[0m\u001b[0;34m,\u001b[0m\u001b[0mcontrol\u001b[0m\u001b[0;34m,\u001b[0m\u001b[0mcontrolconfig\u001b[0m\u001b[0;34m)\u001b[0m\u001b[0;34m\u001b[0m\u001b[0;34m\u001b[0m\u001b[0m\n\u001b[0m\u001b[1;32m     41\u001b[0m         \u001b[0mdataout\u001b[0m\u001b[0;34m[\u001b[0m\u001b[0mi\u001b[0m\u001b[0;34m]\u001b[0m\u001b[0;34m=\u001b[0m\u001b[0mdata\u001b[0m\u001b[0;34m\u001b[0m\u001b[0;34m\u001b[0m\u001b[0m\n\u001b[1;32m     42\u001b[0m         \u001b[0mF\u001b[0m\u001b[0;34m[\u001b[0m\u001b[0mi\u001b[0m\u001b[0;34m]\u001b[0m\u001b[0;34m=\u001b[0m\u001b[0mtarget_comparison\u001b[0m\u001b[0;34m(\u001b[0m\u001b[0mdata\u001b[0m\u001b[0;34m,\u001b[0m\u001b[0mtargetmode\u001b[0m\u001b[0;34m,\u001b[0m\u001b[0mtarget\u001b[0m\u001b[0;34m,\u001b[0m\u001b[0mtargetfunction\u001b[0m\u001b[0;34m,\u001b[0m\u001b[0mgrid\u001b[0m\u001b[0;34m,\u001b[0m\u001b[0mnum_paras\u001b[0m\u001b[0;34m,\u001b[0m\u001b[0melevation\u001b[0m\u001b[0;34m)\u001b[0m\u001b[0;34m\u001b[0m\u001b[0;34m\u001b[0m\u001b[0m\n",
      "\u001b[0;32m<ipython-input-22-7336456b29cf>\u001b[0m in \u001b[0;36mrun_model\u001b[0;34m(config, P, P_pert, labels, ZMT, GMT, targetmode, control, controlconfig)\u001b[0m\n\u001b[1;32m    148\u001b[0m     \u001b[0;32melse\u001b[0m\u001b[0;34m:\u001b[0m\u001b[0;34m\u001b[0m\u001b[0;34m\u001b[0m\u001b[0m\n\u001b[1;32m    149\u001b[0m         \u001b[0mVars\u001b[0m\u001b[0;34m.\u001b[0m\u001b[0mT\u001b[0m\u001b[0;34m,\u001b[0m\u001b[0mVars\u001b[0m\u001b[0;34m.\u001b[0m\u001b[0mT_global\u001b[0m\u001b[0;34m=\u001b[0m\u001b[0mZMT\u001b[0m\u001b[0;34m,\u001b[0m\u001b[0mGMT\u001b[0m\u001b[0;34m\u001b[0m\u001b[0;34m\u001b[0m\u001b[0m\n\u001b[0;32m--> 150\u001b[0;31m     \u001b[0mdata\u001b[0m\u001b[0;34m=\u001b[0m\u001b[0mrk4alg\u001b[0m\u001b[0;34m(\u001b[0m\u001b[0mmodel_equation\u001b[0m\u001b[0;34m,\u001b[0m\u001b[0mconfig\u001b[0m\u001b[0;34m[\u001b[0m\u001b[0;34m'eqparam'\u001b[0m\u001b[0;34m]\u001b[0m\u001b[0;34m,\u001b[0m\u001b[0mconfig\u001b[0m\u001b[0;34m[\u001b[0m\u001b[0;34m'funccomp'\u001b[0m\u001b[0;34m]\u001b[0m\u001b[0;34m)\u001b[0m\u001b[0;34m\u001b[0m\u001b[0;34m\u001b[0m\u001b[0m\n\u001b[0m\u001b[1;32m    151\u001b[0m     \u001b[0;32mif\u001b[0m \u001b[0mtargetmode\u001b[0m\u001b[0;34m==\u001b[0m\u001b[0;34m'Single'\u001b[0m\u001b[0;34m:\u001b[0m\u001b[0;34m\u001b[0m\u001b[0;34m\u001b[0m\u001b[0m\n\u001b[1;32m    152\u001b[0m         \u001b[0mdata_out\u001b[0m\u001b[0;34m=\u001b[0m\u001b[0mdata\u001b[0m\u001b[0;34m[\u001b[0m\u001b[0;36m2\u001b[0m\u001b[0;34m]\u001b[0m\u001b[0;34m[\u001b[0m\u001b[0;34m-\u001b[0m\u001b[0;36m1\u001b[0m\u001b[0;34m]\u001b[0m\u001b[0;34m\u001b[0m\u001b[0;34m\u001b[0m\u001b[0m\n",
      "\u001b[0;32m~/Desktop/Internship_Workspace/Model/Low-dimensional-EBMs/lowEBMs/Packages/RK4.py\u001b[0m in \u001b[0;36mrk4alg\u001b[0;34m(func, eqparam, funccomp)\u001b[0m\n\u001b[1;32m    188\u001b[0m         \u001b[0mbuiltins\u001b[0m\u001b[0;34m.\u001b[0m\u001b[0mRuntime_Tracker\u001b[0m \u001b[0;34m+=\u001b[0m \u001b[0;36m1\u001b[0m\u001b[0;34m\u001b[0m\u001b[0;34m\u001b[0m\u001b[0m\n\u001b[1;32m    189\u001b[0m         \u001b[0mVars\u001b[0m\u001b[0;34m.\u001b[0m\u001b[0mT\u001b[0m\u001b[0;34m=\u001b[0m\u001b[0mT0\u001b[0m\u001b[0;34m+\u001b[0m\u001b[0mk3\u001b[0m\u001b[0;34m\u001b[0m\u001b[0;34m\u001b[0m\u001b[0m\n\u001b[0;32m--> 190\u001b[0;31m         \u001b[0mk4\u001b[0m \u001b[0;34m=\u001b[0m \u001b[0mh\u001b[0m \u001b[0;34m*\u001b[0m \u001b[0mfunc\u001b[0m\u001b[0;34m(\u001b[0m\u001b[0meqparam\u001b[0m\u001b[0;34m,\u001b[0m\u001b[0mfunccomp\u001b[0m\u001b[0;34m)\u001b[0m\u001b[0;34m\u001b[0m\u001b[0;34m\u001b[0m\u001b[0m\n\u001b[0m\u001b[1;32m    191\u001b[0m         \u001b[0mbuiltins\u001b[0m\u001b[0;34m.\u001b[0m\u001b[0mRuntime_Tracker\u001b[0m \u001b[0;34m+=\u001b[0m \u001b[0;36m1\u001b[0m\u001b[0;34m\u001b[0m\u001b[0;34m\u001b[0m\u001b[0m\n\u001b[1;32m    192\u001b[0m \u001b[0;34m\u001b[0m\u001b[0m\n",
      "\u001b[0;32m~/Desktop/Internship_Workspace/Model/Low-dimensional-EBMs/lowEBMs/Packages/ModelEquation.py\u001b[0m in \u001b[0;36mmodel_equation\u001b[0;34m(eqparam, funccomp)\u001b[0m\n\u001b[1;32m     49\u001b[0m             \u001b[0mC_ao\u001b[0m\u001b[0;34m=\u001b[0m\u001b[0mnp\u001b[0m\u001b[0;34m.\u001b[0m\u001b[0mtranspose\u001b[0m\u001b[0;34m(\u001b[0m\u001b[0mnp\u001b[0m\u001b[0;34m.\u001b[0m\u001b[0marray\u001b[0m\u001b[0;34m(\u001b[0m\u001b[0;34m[\u001b[0m\u001b[0mC_ao\u001b[0m\u001b[0;34m]\u001b[0m\u001b[0;34m*\u001b[0m\u001b[0mlen\u001b[0m\u001b[0;34m(\u001b[0m\u001b[0mVars\u001b[0m\u001b[0;34m.\u001b[0m\u001b[0mLat\u001b[0m\u001b[0;34m)\u001b[0m\u001b[0;34m)\u001b[0m\u001b[0;34m)\u001b[0m \u001b[0;32mif\u001b[0m \u001b[0mnp\u001b[0m\u001b[0;34m.\u001b[0m\u001b[0mshape\u001b[0m\u001b[0;34m(\u001b[0m\u001b[0mC_ao\u001b[0m\u001b[0;34m)\u001b[0m\u001b[0;34m==\u001b[0m\u001b[0;34m(\u001b[0m\u001b[0mnumber_of_parallels\u001b[0m\u001b[0;34m,\u001b[0m\u001b[0;34m)\u001b[0m \u001b[0;32melse\u001b[0m \u001b[0mC_ao\u001b[0m\u001b[0;34m\u001b[0m\u001b[0;34m\u001b[0m\u001b[0m\n\u001b[1;32m     50\u001b[0m     \u001b[0;32mfor\u001b[0m \u001b[0mi\u001b[0m \u001b[0;32min\u001b[0m \u001b[0mrange\u001b[0m\u001b[0;34m(\u001b[0m\u001b[0mlen\u001b[0m\u001b[0;34m(\u001b[0m\u001b[0mfunclist\u001b[0m\u001b[0;34m)\u001b[0m\u001b[0;34m)\u001b[0m\u001b[0;34m:\u001b[0m\u001b[0;34m\u001b[0m\u001b[0;34m\u001b[0m\u001b[0m\n\u001b[0;32m---> 51\u001b[0;31m             \u001b[0my\u001b[0m \u001b[0;34m+=\u001b[0m \u001b[0mfunclist\u001b[0m\u001b[0;34m[\u001b[0m\u001b[0;34m'func'\u001b[0m\u001b[0;34m+\u001b[0m\u001b[0mstr\u001b[0m\u001b[0;34m(\u001b[0m\u001b[0mi\u001b[0m\u001b[0;34m)\u001b[0m\u001b[0;34m]\u001b[0m\u001b[0;34m(\u001b[0m\u001b[0mfuncparam\u001b[0m\u001b[0;34m[\u001b[0m\u001b[0;34m'func'\u001b[0m\u001b[0;34m+\u001b[0m\u001b[0mstr\u001b[0m\u001b[0;34m(\u001b[0m\u001b[0mi\u001b[0m\u001b[0;34m)\u001b[0m\u001b[0;34m]\u001b[0m\u001b[0;34m)\u001b[0m    \u001b[0;31m#Calling the selected function and sum them up\u001b[0m\u001b[0;34m\u001b[0m\u001b[0;34m\u001b[0m\u001b[0m\n\u001b[0m\u001b[1;32m     52\u001b[0m     \u001b[0;32mreturn\u001b[0m \u001b[0my\u001b[0m\u001b[0;34m/\u001b[0m\u001b[0mC_ao\u001b[0m           \u001b[0;31m#output of y, weighted with the heat capacity\u001b[0m\u001b[0;34m\u001b[0m\u001b[0;34m\u001b[0m\u001b[0m\n\u001b[1;32m     53\u001b[0m \u001b[0;34m\u001b[0m\u001b[0m\n",
      "\u001b[0;32m~/Desktop/Internship_Workspace/Model/Low-dimensional-EBMs/lowEBMs/Packages/Functions.py\u001b[0m in \u001b[0;36msellers\u001b[0;34m(funcparam)\u001b[0m\n\u001b[1;32m   1177\u001b[0m             \u001b[0;31m#calculating the current temperature differences and wind patterns\u001b[0m\u001b[0;34m\u001b[0m\u001b[0;34m\u001b[0m\u001b[0;34m\u001b[0m\u001b[0m\n\u001b[1;32m   1178\u001b[0m             \u001b[0mVars\u001b[0m\u001b[0;34m.\u001b[0m\u001b[0mtempdif\u001b[0m\u001b[0;34m=\u001b[0m\u001b[0mearthsystem\u001b[0m\u001b[0;34m.\u001b[0m\u001b[0mtemperature_difference_latitudes\u001b[0m\u001b[0;34m(\u001b[0m\u001b[0;34m)\u001b[0m\u001b[0;34m\u001b[0m\u001b[0;34m\u001b[0m\u001b[0m\n\u001b[0;32m-> 1179\u001b[0;31m             \u001b[0mVars\u001b[0m\u001b[0;34m.\u001b[0m\u001b[0mmeridional\u001b[0m\u001b[0;34m=\u001b[0m\u001b[0mearthsystem\u001b[0m\u001b[0;34m.\u001b[0m\u001b[0mmeridionalwind_sel\u001b[0m\u001b[0;34m(\u001b[0m\u001b[0ma\u001b[0m\u001b[0;34m,\u001b[0m\u001b[0mre\u001b[0m\u001b[0;34m)\u001b[0m\u001b[0;34m\u001b[0m\u001b[0;34m\u001b[0m\u001b[0m\n\u001b[0m\u001b[1;32m   1180\u001b[0m \u001b[0;34m\u001b[0m\u001b[0m\n\u001b[1;32m   1181\u001b[0m             \u001b[0;31m#calculating the 3 transfer components\u001b[0m\u001b[0;34m\u001b[0m\u001b[0;34m\u001b[0m\u001b[0;34m\u001b[0m\u001b[0m\n",
      "\u001b[0;32m~/Desktop/Internship_Workspace/Model/Low-dimensional-EBMs/lowEBMs/Packages/Functions.py\u001b[0m in \u001b[0;36mmeridionalwind_sel\u001b[0;34m(a, re)\u001b[0m\n\u001b[1;32m   2694\u001b[0m                         \u001b[0mv\u001b[0m\u001b[0;34m[\u001b[0m\u001b[0ml\u001b[0m\u001b[0;34m,\u001b[0m\u001b[0mj\u001b[0m\u001b[0;34m]\u001b[0m\u001b[0;34m=\u001b[0m\u001b[0;34m-\u001b[0m\u001b[0ma\u001b[0m\u001b[0;34m[\u001b[0m\u001b[0mj\u001b[0m\u001b[0;34m]\u001b[0m\u001b[0;34m*\u001b[0m\u001b[0;34m(\u001b[0m\u001b[0mVars\u001b[0m\u001b[0;34m.\u001b[0m\u001b[0mtempdif\u001b[0m\u001b[0;34m[\u001b[0m\u001b[0ml\u001b[0m\u001b[0;34m,\u001b[0m\u001b[0mj\u001b[0m\u001b[0;34m]\u001b[0m\u001b[0;34m-\u001b[0m\u001b[0mT_av\u001b[0m\u001b[0;34m[\u001b[0m\u001b[0ml\u001b[0m\u001b[0;34m]\u001b[0m\u001b[0;34m)\u001b[0m\u001b[0;34m\u001b[0m\u001b[0;34m\u001b[0m\u001b[0m\n\u001b[1;32m   2695\u001b[0m                     \u001b[0;32mfor\u001b[0m \u001b[0mj\u001b[0m \u001b[0;32min\u001b[0m \u001b[0mrange\u001b[0m\u001b[0;34m(\u001b[0m\u001b[0mk\u001b[0m\u001b[0;34m,\u001b[0m\u001b[0mlen\u001b[0m\u001b[0;34m(\u001b[0m\u001b[0mv\u001b[0m\u001b[0;34m[\u001b[0m\u001b[0ml\u001b[0m\u001b[0;34m]\u001b[0m\u001b[0;34m)\u001b[0m\u001b[0;34m)\u001b[0m\u001b[0;34m:\u001b[0m\u001b[0;34m\u001b[0m\u001b[0;34m\u001b[0m\u001b[0m\n\u001b[0;32m-> 2696\u001b[0;31m                         \u001b[0mv\u001b[0m\u001b[0;34m[\u001b[0m\u001b[0ml\u001b[0m\u001b[0;34m,\u001b[0m\u001b[0mj\u001b[0m\u001b[0;34m]\u001b[0m\u001b[0;34m=\u001b[0m\u001b[0;34m-\u001b[0m\u001b[0ma\u001b[0m\u001b[0;34m[\u001b[0m\u001b[0mj\u001b[0m\u001b[0;34m]\u001b[0m\u001b[0;34m*\u001b[0m\u001b[0;34m(\u001b[0m\u001b[0mVars\u001b[0m\u001b[0;34m.\u001b[0m\u001b[0mtempdif\u001b[0m\u001b[0;34m[\u001b[0m\u001b[0ml\u001b[0m\u001b[0;34m,\u001b[0m\u001b[0mj\u001b[0m\u001b[0;34m]\u001b[0m\u001b[0;34m+\u001b[0m\u001b[0mT_av\u001b[0m\u001b[0;34m[\u001b[0m\u001b[0ml\u001b[0m\u001b[0;34m]\u001b[0m\u001b[0;34m)\u001b[0m\u001b[0;34m\u001b[0m\u001b[0;34m\u001b[0m\u001b[0m\n\u001b[0m\u001b[1;32m   2697\u001b[0m         \u001b[0;32melse\u001b[0m\u001b[0;34m:\u001b[0m\u001b[0;34m\u001b[0m\u001b[0;34m\u001b[0m\u001b[0m\n\u001b[1;32m   2698\u001b[0m             \u001b[0;32mfor\u001b[0m \u001b[0mj\u001b[0m \u001b[0;32min\u001b[0m \u001b[0mrange\u001b[0m\u001b[0;34m(\u001b[0m\u001b[0mk\u001b[0m\u001b[0;34m)\u001b[0m\u001b[0;34m:\u001b[0m\u001b[0;34m\u001b[0m\u001b[0;34m\u001b[0m\u001b[0m\n",
      "\u001b[0;31mKeyboardInterrupt\u001b[0m: "
     ]
    }
   ],
   "source": [
    "labels=[['func1','a'],['func1','b'],['func2','factor_oc'],['func2','factor_kwv'],['func2','factor_kair']]\n",
    "P0=np.array([70*4.2e6,205,1.5,1.165,1.165,1.165])\n",
    "P_pert=P0/1000\n",
    "Pmin=np.array([30*4.2e6,190,1.3,0.9,0.9,0.9])\n",
    "Pmax=np.array([100*4.2e6,250,4,1.3,1.3,1.3])\n",
    "precision=1e-6\n",
    "maxlength=int(30)\n",
    "targetmode='Single'\n",
    "target=286.39\n",
    "targetfunction='LeastSquare'\n",
    "num_params=6\n",
    "gamma0=1e-3\n",
    "setup={'number_of_parameters': 6, 'number_of_cycles': 1, 'number_of_parallels': 13}\n",
    "grid=0\n",
    "elevation=0\n",
    "control=False\n",
    "controlconfig=0\n",
    "\n",
    "config_base=importer('Dev_Data/Optimization/Try1_Budyko.ini')\n",
    "variable_importer(config_base,parallel=True,parallel_config=setup)\n",
    "config_base,ParasCTRL=add_sellersparameters(config_base,\\\n",
    "                                    parameterinterpolatorstepwise,'SellersParameterization.ini',2,0,True,True)\n",
    "\n",
    "F, dF, P, Ptrans , gamma, data=coremodule(config_base,P0,P_pert,Pmin,Pmax,labels,Zero_ZMT,Zero_GMT,grid,\\\n",
    "    maxlength,targetmode,target,targetfunction,elevation,precision,num_params,gamma0,control,controlconfig)"
   ]
  },
  {
   "cell_type": "code",
   "execution_count": 53,
   "metadata": {},
   "outputs": [
    {
     "data": {
      "image/png": "[encoded data removed]",
      "text/plain": [
       "<Figure size 1152x648 with 6 Axes>"
      ]
     },
     "metadata": {
      "needs_background": "light"
     },
     "output_type": "display_data"
    }
   ],
   "source": [
    "#print(local_gradient1(data[2],P_pert))\n",
    "fig,ax=plt.subplots(2,3,figsize=(16,9))\n",
    "for k in range(2):\n",
    "    for j in range(3):\n",
    "        for i in range(30):\n",
    "            ax[k][j].scatter(P[i][k+j],local_gradient1(data[i],P_pert)[k+j])\n",
    "#plt.plot(np.arange(30),data[:,0]-target)\n",
    "#plt.yscale('log')"
   ]
  },
  {
   "cell_type": "code",
   "execution_count": 238,
   "metadata": {},
   "outputs": [
    {
     "name": "stdout",
     "output_type": "stream",
     "text": [
      "Starting simulation...\n"
     ]
    },
    {
     "data": {
      "application/vnd.jupyter.widget-view+json": {
       "model_id": "2a37f597b49c4a00b7aebdd34170ee34",
       "version_major": 2,
       "version_minor": 0
      },
      "text/plain": [
       "HBox(children=(IntProgress(value=0, max=3650), HTML(value='')))"
      ]
     },
     "metadata": {},
     "output_type": "display_data"
    },
    {
     "name": "stdout",
     "output_type": "stream",
     "text": [
      "\n",
      "Simulation finished within 11.577050924301147 seconds\n"
     ]
    }
   ],
   "source": [
    "data=run_model(config_base,P0,P_pert,labels)"
   ]
  },
  {
   "cell_type": "code",
   "execution_count": 239,
   "metadata": {},
   "outputs": [
    {
     "name": "stdout",
     "output_type": "stream",
     "text": [
      "[201.63311768 201.23311721 204.38376606 201.63311766 201.63311767\n",
      " 201.63311758]\n"
     ]
    }
   ],
   "source": [
    "print(data)"
   ]
  },
  {
   "cell_type": "code",
   "execution_count": 140,
   "metadata": {},
   "outputs": [
    {
     "name": "stdout",
     "output_type": "stream",
     "text": [
      "Loading Configuration from: Dev_Data/Optimization/Try1_Budyko.ini\n",
      "Loading Parameters from: /Home/siv32/bsc029/.local/lib/python3.6/site-packages/lowEBMs/Tutorials/Config/Data/SellersParameterization.ini\n"
     ]
    },
    {
     "ename": "NameError",
     "evalue": "name 'dx' is not defined",
     "output_type": "error",
     "traceback": [
      "\u001b[0;31m---------------------------------------------------------------------------\u001b[0m",
      "\u001b[0;31mNameError\u001b[0m                                 Traceback (most recent call last)",
      "\u001b[0;32m<ipython-input-140-718a58f863f5>\u001b[0m in \u001b[0;36m<module>\u001b[0;34m\u001b[0m\n\u001b[1;32m     18\u001b[0m     \u001b[0;31m#raw=import_parallelparameter('Dev_Data/Volc_Rout/Ensemble_Budyko_Pinatubo.ini')\u001b[0m\u001b[0;34m\u001b[0m\u001b[0;34m\u001b[0m\u001b[0;34m\u001b[0m\u001b[0m\n\u001b[1;32m     19\u001b[0m     \u001b[0mStart_parameters\u001b[0m\u001b[0;34m.\u001b[0m\u001b[0mappend\u001b[0m\u001b[0;34m(\u001b[0m\u001b[0mx\u001b[0m\u001b[0;34m)\u001b[0m\u001b[0;34m\u001b[0m\u001b[0;34m\u001b[0m\u001b[0m\n\u001b[0;32m---> 20\u001b[0;31m     \u001b[0mStart_pertubation\u001b[0m\u001b[0;34m.\u001b[0m\u001b[0mappend\u001b[0m\u001b[0;34m(\u001b[0m\u001b[0mdx\u001b[0m\u001b[0;34m)\u001b[0m\u001b[0;34m\u001b[0m\u001b[0;34m\u001b[0m\u001b[0m\n\u001b[0m\u001b[1;32m     21\u001b[0m     \u001b[0mEnsemble_parameters\u001b[0m\u001b[0;34m.\u001b[0m\u001b[0mappend\u001b[0m\u001b[0;34m(\u001b[0m\u001b[0mreshape_parameters\u001b[0m\u001b[0;34m(\u001b[0m\u001b[0mStart_parameters\u001b[0m\u001b[0;34m[\u001b[0m\u001b[0mi\u001b[0m\u001b[0;34m]\u001b[0m\u001b[0;34m,\u001b[0m\u001b[0mStart_pertubation\u001b[0m\u001b[0;34m[\u001b[0m\u001b[0mi\u001b[0m\u001b[0;34m]\u001b[0m\u001b[0;34m)\u001b[0m\u001b[0;34m)\u001b[0m\u001b[0;34m\u001b[0m\u001b[0;34m\u001b[0m\u001b[0m\n\u001b[1;32m     22\u001b[0m     \u001b[0mConfig_new\u001b[0m\u001b[0;34m=\u001b[0m\u001b[0madd_parameters\u001b[0m\u001b[0;34m(\u001b[0m\u001b[0mConfig_Try1\u001b[0m\u001b[0;34m,\u001b[0m\u001b[0mEnsemble_parameters\u001b[0m\u001b[0;34m[\u001b[0m\u001b[0mi\u001b[0m\u001b[0;34m]\u001b[0m\u001b[0;34m,\u001b[0m\u001b[0mParameterlabels\u001b[0m\u001b[0;34m)\u001b[0m\u001b[0;34m\u001b[0m\u001b[0;34m\u001b[0m\u001b[0m\n",
      "\u001b[0;31mNameError\u001b[0m: name 'dx' is not defined"
     ]
    }
   ],
   "source": [
    "Config_Try1_base=importer('Dev_Data/Optimization/Try1_Budyko.ini')\n",
    "setup={'number_of_parameters': 5, 'number_of_cycles': 1, 'number_of_parallels': 6}\n",
    "#allocated,setup=allocate_parallelparameter(raw)\n",
    "variable_importer(Config_Try1_base,parallel=True,parallel_config=setup)\n",
    "Config_Try1,ParasCTRL=add_sellersparameters(Config_Try1_base,\\\n",
    "                                    parameterinterpolatorstepwise,'SellersParameterization.ini',2,0,True,True)\n",
    "\n",
    "Parameterlabels=[['func1','a'],['func1','b'],['func2','factor_oc'],['func2','factor_kwv'],['func2','factor_kair']]\n",
    "Initial_parameters=[230,2.5,1,1,1]\n",
    "Initial_pertubation=[1,0.1,0.05,0.05,0.05]\n",
    "Start_parameters=[]\n",
    "Start_pertubation=[]\n",
    "Ensemble_parameters=[]\n",
    "Start_parameters.append(Initial_parameters)\n",
    "Start_pertubation.append(Initial_pertubation)\n",
    "Target=15+273.15\n",
    "for i in range(2):\n",
    "    #raw=import_parallelparameter('Dev_Data/Volc_Rout/Ensemble_Budyko_Pinatubo.ini')\n",
    "    Start_parameters.append(x)\n",
    "    Start_pertubation.append(dx)\n",
    "    Ensemble_parameters.append(reshape_parameters(Start_parameters[i],Start_pertubation[i]))\n",
    "    Config_new=add_parameters(Config_Try1,Ensemble_parameters[i],Parameterlabels)\n",
    "    #Config_Try1=write_parallelparameter(Config_Try1,allocated,setup)\n",
    "    \n",
    "    trackerreset()\n",
    "    builtins.Runtime_Tracker=0\n",
    "    Try1=rk4alg(model_equation,Config_new['eqparam'],Config_new['funccomp'])\n",
    "    \n",
    "    T=Try1[2][-1]\n",
    "    S=deviation_function(T,Target,'Residual')\n",
    "    dF=calculate_gradient(S,0)\n",
    "    x,dx=new_parameters(Start_parameters[i],Start_pertubation[i],dF,0)\n",
    "    \n",
    "    \"\"\"setup={'number_of_parameters': 4, 'number_of_cycles': 1, 'number_of_parallels': 4}\n",
    "    variable_importer(configFuncDiffCTRL,parallel=True,parallel_config=setup)\n",
    "\n",
    "    configFuncDiffCTRL,ParasCTRL=add_sellersparameters(configFuncDiffCTRL,parameterinterpolatorstepwise,'SellersParameterization.ini',5,0,True,True)\n",
    "\n",
    "    Func1_4=np.array([[True,False,False,False],[False,True,False,False],[False,False,True,False],[False,False,False,True]])\n",
    "    for i in range(1,5):\n",
    "        configFuncDiffCTRL['funccomp']['funcparam']['func'+str(i)]['activation']=Func1_4[i-1]\"\"\"\n",
    "    \n",
    "    "
   ]
  },
  {
   "cell_type": "code",
   "execution_count": 392,
   "metadata": {},
   "outputs": [
    {
     "name": "stdout",
     "output_type": "stream",
     "text": [
      "0.005630112809163453\n",
      "0.00993827628197613\n",
      "0.024922214766503567\n",
      "0.04759448143982094\n",
      "0.10029767881882037\n",
      "0.1940339476686329\n",
      "0.35812582172776086\n",
      "0.47898058414066236\n",
      "0.636372168641202\n",
      "2.2330326209482934\n",
      "4.165174655667334\n",
      "0.7898948347868491\n",
      "0.4978253243717003\n",
      "0.49875530392581874\n",
      "15.883618570096505\n",
      "27.582652459850706\n",
      "68.4072107374806\n",
      "0.5219913560671585\n",
      "0.4998198606455038\n",
      "0.4998536319935656\n",
      "232.14855328264395\n",
      "398.1532080849546\n",
      "1158.4246746119416\n",
      "Minimum at -1.8385907364006245e-06 0.004576915113284614 23\n"
     ]
    }
   ],
   "source": [
    "next_x_0 = 1  # We start the search at x=6\n",
    "next_x=next_x_0\n",
    "next_y_0 = 4\n",
    "next_y=next_y_0\n",
    "gamma = 0.001  # Step size multiplier\n",
    "precision = 1e-8  # Desired precision of result\n",
    "max_iters = 10000  # Maximum number of iterations\n",
    "\n",
    "# Derivative function\n",
    "#F = lambda x,y: x**2+y**4\n",
    "#dfx = lambda x: 2*x\n",
    "#dfy = lambda y: 4*y**3\n",
    "F = lambda x,y: x**2+y**4+x**2*y**2\n",
    "dfx = lambda x,y: 2*x+2*x*y**2\n",
    "dfy = lambda x,y: 4*y**3+x**2*2*y\n",
    "\n",
    "x=[]\n",
    "y=[]\n",
    "for i in range(max_iters):\n",
    "    current_x = next_x\n",
    "    current_y = next_y\n",
    "    x.append(current_x)\n",
    "    y.append(current_y)\n",
    "    if i==0:\n",
    "        df0=np.sqrt(dfx(current_x,current_y)**2+dfy(current_x,current_y)**2)\n",
    "    if i>=1:\n",
    "        gamma=abs((x[i]-x[i-1])*(dfx(x[i],y[i])-dfx(x[i-1],y[i-1]))+(y[i]-y[i-1])*(dfy(x[i],y[i])-dfy(x[i-1],y[i-1])))\\\n",
    "                    /((dfx(x[i],y[i])-dfx(x[i-1],y[i-1]))**2+(dfy(x[i],y[i])-dfy(x[i-1],y[i-1]))**2)\n",
    "        print(gamma)\n",
    "    #print(np.sqrt(dfx(current_x,current_y)**2+dfy(current_x,current_y)**2))\n",
    "        #gamma_y=abs())/abs(dfy(y[i])-dfy(y[i-1]))**2\n",
    "    next_x = current_x - gamma * dfx(current_x,current_y)\n",
    "    next_y = current_y - gamma * dfy(current_y,current_y)\n",
    "    Fabs=abs(F(next_x,next_y)-F(current_x,current_y))\n",
    "    df=np.sqrt(dfx(current_x,current_y)**2+dfy(current_x,current_y)**2)\n",
    "    if df/df0 <= precision:\n",
    "        break\n",
    "    #if abs(step_x)<= precision and abs(step_y)<= precision :\n",
    "    #    break\n",
    "\n",
    "print(\"Minimum at\", next_x, next_y, i)\n",
    "t=np.linspace(-10,10,100)\n",
    "#plt.plot(t,df(t))"
   ]
  },
  {
   "cell_type": "code",
   "execution_count": 6,
   "metadata": {},
   "outputs": [
    {
     "data": {
      "text/plain": [
       "(-1, 1)"
      ]
     },
     "execution_count": 6,
     "metadata": {},
     "output_type": "execute_result"
    },
    {
     "data": {
      "image/png": "[encoded data removed]",
      "text/plain": [
       "<Figure size 432x288 with 1 Axes>"
      ]
     },
     "metadata": {
      "needs_background": "light"
     },
     "output_type": "display_data"
    }
   ],
   "source": [
    "plt.plot(x,y)\n",
    "plt.scatter(next_x_0,next_y_0)\n",
    "plt.xlim(-1,1)\n",
    "plt.ylim(-1,1)"
   ]
  },
  {
   "cell_type": "code",
   "execution_count": 69,
   "metadata": {},
   "outputs": [
    {
     "data": {
      "image/png": "[encoded data removed]",
      "text/plain": [
       "<Figure size 432x288 with 2 Axes>"
      ]
     },
     "metadata": {},
     "output_type": "display_data"
    }
   ],
   "source": [
    "xx=np.array([np.linspace(-3,3,100)]*100)\n",
    "yy=np.transpose(np.array([np.linspace(-3,3,100)]*100))\n",
    "z=F(xx,yy)\n",
    "#print(z)\n",
    "plt.contourf(xx,yy,z)\n",
    "heatmap = plt.pcolor(z)\n",
    "cbar = plt.colorbar(heatmap)\n",
    "plt.clim(0,1)\n",
    "#plt.cbar()"
   ]
  },
  {
   "cell_type": "code",
   "execution_count": 388,
   "metadata": {},
   "outputs": [
    {
     "name": "stdout",
     "output_type": "stream",
     "text": [
      "625000\n",
      "629392.5438200647\n",
      "625017.5000699877\n"
     ]
    },
    {
     "data": {
      "image/png": "[encoded data removed]",
      "text/plain": [
       "<Figure size 432x288 with 1 Axes>"
      ]
     },
     "metadata": {
      "needs_background": "light"
     },
     "output_type": "display_data"
    }
   ],
   "source": [
    "x=np.linspace(-5,5,1000)\n",
    "x0=5\n",
    "plt.plot(x,x**4)\n",
    "def Res(x,x_t):\n",
    "    S=(x-x_t)**2\n",
    "    return S\n",
    "plt.plot(x,Res(x**4,0))\n",
    "S=[Res(x0**4,0),Res((x0+0.01)**4,0),Res((x0-0.01)**4,0)]\n",
    "print(2*(x0**4-0)*4*x0**3)\n",
    "print((S[1]-S[0])/0.01)\n",
    "print((S[1]-S[2])/0.02)\n",
    "#print(4*x0**3)\n",
    "#print(((x0+0.01)**4-x0**4)/(0.01))\n",
    "#print(((x0+0.01)**4-(x0-0.01)**4)/(2*0.01))"
   ]
  },
  {
   "cell_type": "code",
   "execution_count": null,
   "metadata": {},
   "outputs": [],
   "source": []
  }
 ],
 "metadata": {
  "kernelspec": {
   "display_name": "Python 3",
   "language": "python",
   "name": "python3"
  },
  "language_info": {
   "codemirror_mode": {
    "name": "ipython",
    "version": 3
   },
   "file_extension": ".py",
   "mimetype": "text/x-python",
   "name": "python",
   "nbconvert_exporter": "python",
   "pygments_lexer": "ipython3",
   "version": "3.6.8"
  }
 },
 "nbformat": 4,
 "nbformat_minor": 2
}
