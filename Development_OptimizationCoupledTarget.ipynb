{
 "cells": [
  {
   "cell_type": "code",
   "execution_count": 1,
   "metadata": {},
   "outputs": [],
   "source": [
    "import matplotlib.pyplot as plt\n",
    "import numpy as np\n",
    "from lowEBMs.Packages.Configuration import importer, add_sellersparameters, parameterinterpolatorstepwise, reset\n",
    "#from lowEBMs.Packages.Configuration import import_parallelparameter, allocate_parallelparameter, write_parallelparameter\n",
    "from lowEBMs.Packages.Variables import variable_importer, Vars, reset, trackerreset, datareset\n",
    "from lowEBMs.Packages.RK4 import rk4alg, controlrun\n",
    "from lowEBMs.Packages.ModelEquation import model_equation\n",
    "#from lowEBMs.Packages.Variables import \n",
    "#from lowEBMs.Packages.Functions import plotmeanstd\n",
    "from lowEBMs.Packages.Optimization import coremodule\n",
    "\n",
    "from lowEBMs import update_plotstyle, moving_average, constants\n",
    "import builtins\n",
    "import matplotlib\n",
    "update_plotstyle()\n",
    "matplotlib.rcParams['lines.linewidth']=1.1"
   ]
  },
  {
   "cell_type": "code",
   "execution_count": 2,
   "metadata": {},
   "outputs": [],
   "source": [
    "time_HADCM3_str=np.genfromtxt('Data/gmt_hadcm3.csv',usecols=[0],delimiter=',',skip_header=1,dtype='str',unpack=True,encoding='ISO-8859-1')\n",
    "time_HADCM3=np.zeros(len(time_HADCM3_str))\n",
    "for i in range(len(time_HADCM3_str)):\n",
    "    if time_HADCM3_str[i][-4]=='.':\n",
    "        year=float(time_HADCM3_str[i][-3:])\n",
    "    if time_HADCM3_str[i][-5]=='.':\n",
    "        year=float(time_HADCM3_str[i][-4:])\n",
    "    if time_HADCM3_str[i][4]=='.':\n",
    "        month=(float(time_HADCM3_str[i][3:5])-1)/12\n",
    "    if time_HADCM3_str[i][5]=='.':\n",
    "        month=(float(time_HADCM3_str[i][3:5])-1)/12\n",
    "    day=float(time_HADCM3_str[i][:2])/365\n",
    "    time_HADCM3[i]=year+month+day\n",
    "GMT_HADCM3=np.genfromtxt('Data/gmt_hadcm3.csv',usecols=[17],delimiter=',',skip_header=1,unpack=True,encoding='ISO-8859-1')\n",
    "order=np.argsort(time_HADCM3)\n",
    "GMT_HADCM3_smoothed=moving_average(GMT_HADCM3[order],12)"
   ]
  },
  {
   "cell_type": "code",
   "execution_count": 3,
   "metadata": {},
   "outputs": [],
   "source": [
    "Year_volc, CWL_GMT,  EVA_GMT, CWLcorr_GMT=np.genfromtxt('Data/Volc_800_2000.txt',skip_header=1,unpack=True)\n",
    "#Year_NorESM, SO4_FORC, SAT_GISS, SAT_VOLC, SAT_ZERO, SAT_AFIT, SAT_TREN= \\\n",
    "#np.genfromtxt('Data/NorESM_Pinatubo_GMST_response.txt',skip_header=1,unpack=True)\n",
    "Year_volc_1800_1850=Year_volc[int(1000*365/4):int(1040*365/4)]\n",
    "Year_volc_1808_1858=Year_volc[int(1008*365/4):int(1048*365/4)]\n",
    "EVA_GMT_1800_1850=EVA_GMT[int(1000*365/4):int(1040*365/4)]\n",
    "EVA_GMT_1808_1858=EVA_GMT[int(1008*365/4):int(1048*365/4)]\n",
    "Lat_10,ZMT_10=np.loadtxt('Data/ERA_ZMT_Mean_10deginterpolated.txt')"
   ]
  },
  {
   "cell_type": "code",
   "execution_count": 4,
   "metadata": {},
   "outputs": [],
   "source": [
    "def coremodule(config,P0,P_pert,Pmin,Pmax,labels,ZMT,GMT,grid,maxlength,targetmode,target,targetfunction,ratio_ZMT_GMT,elevation,precision,num_paras,gamma0,control,controlconfig):\n",
    "    from tqdm import tqdm, tnrange\n",
    "    \n",
    "    F=np.reshape(np.zeros(maxlength*(2*num_paras+1)),(maxlength,2*num_paras+1))\n",
    "    dF=np.reshape(np.zeros(maxlength*(num_paras)),(maxlength,num_paras))\n",
    "    P=np.reshape(np.zeros(maxlength*(num_paras)),(maxlength,num_paras))\n",
    "    Ptrans=np.reshape(np.zeros(maxlength*(num_paras)),(maxlength,num_paras))\n",
    "    gamma=np.zeros(maxlength)\n",
    "    \n",
    "    if targetmode=='Single':\n",
    "        dataout=np.reshape(np.zeros(maxlength*(2*num_paras+1)),(maxlength,(2*num_paras+1)))\n",
    "    elif targetmode=='ZMT':\n",
    "        dataout=np.reshape(np.zeros(maxlength*len(grid)*(2*num_paras+1)),(maxlength,(2*num_paras+1),len(grid)))\n",
    "    elif targetmode=='GMT':\n",
    "        dataout=np.reshape(np.zeros(maxlength*int(number_of_integration/data_readout)*(2*num_paras+1)),(maxlength,(2*num_paras+1),int(number_of_integration/data_readout)))\n",
    "    elif targetmode=='Coupled':\n",
    "        dataout_ZMT=np.reshape(np.zeros(maxlength*len(grid)*(2*num_paras+1)),(maxlength,(2*num_paras+1),len(grid)))\n",
    "        dataout_GMT=np.reshape(np.zeros(maxlength*int(number_of_integration/data_readout)*(2*num_paras+1)),(maxlength,(2*num_paras+1),int(number_of_integration/data_readout)))     \n",
    "    for i in tnrange(maxlength):\n",
    "        print('Iteration no.'+str(i))\n",
    "        if i==0:\n",
    "            P[i]=P0\n",
    "            Ptrans[i]=(P0-Pmin)/(Pmax-Pmin)\n",
    "            Ptrans_pert=Ptrans[i]*P_pert[0]/P0[0]\n",
    "\n",
    "        if targetmode=='Coupled':\n",
    "            data_ZMT,data_GMT=run_model(config,P[i],P_pert,labels,ZMT,GMT,targetmode,control,controlconfig,grid,elevation)\n",
    "            dataout_ZMT[i]=data_ZMT\n",
    "            dataout_GMT[i]=data_GMT\n",
    "        else:\n",
    "            data=run_model(config,P[i],P_pert,labels,ZMT,GMT,targetmode,control,controlconfig,grid,elevation)\n",
    "            dataout[i]=data\n",
    "            \n",
    "        if targetmode=='Coupled':\n",
    "            target_ZMT=target['ZMT']\n",
    "            target_GMT=target['GMT']\n",
    "            F_ZMT=target_comparison(data_ZMT,'ZMT',target_ZMT,targetfunction,num_paras,grid)\n",
    "            F_GMT=target_comparison(data_GMT,'GMT',target_GMT,targetfunction,num_paras,grid)\n",
    "            F[i]=ratio_ZMT_GMT*F_ZMT+(1-ratio_ZMT_GMT)*F_GMT\n",
    "        else:\n",
    "            F[i]=target_comparison(data,targetmode,target,targetfunction,num_paras,grid)\n",
    "\n",
    "        dF[i]=local_gradient(F[i],Ptrans_pert)\n",
    "        #dF[i]=local_gradient(F[i],P_pert)\n",
    "        if i==0:\n",
    "            gamma[i]=gamma0\n",
    "        else:\n",
    "            #gamma[i]=step_weighting(dF[i-1],dF[i],P[i-1],P[i])\n",
    "            gamma[i]=step_weighting(dF[i-1],dF[i],Ptrans[i-1],Ptrans[i])\n",
    "            \n",
    "        if precision_check(dF[0],dF[i],precision):\n",
    "            print('stop',i)\n",
    "            P=P[:i]\n",
    "            Ptrans=Ptrans[:i]\n",
    "            F=F[:i]\n",
    "            dF=dF[:i]\n",
    "            gamma=gamma[:i]\n",
    "            break\n",
    "                \n",
    "        #P_next=new_parameters(P[i],gamma[i],dF[i])        \n",
    "        Ptrans_next=new_parameters(Ptrans[i],gamma[i],dF[i])\n",
    "\n",
    "        for k in range(num_paras):\n",
    "            if Ptrans_next[k]<0:\n",
    "                Ptrans_next[k]=0.\n",
    "            if Ptrans_next[k]>1:\n",
    "                Ptrans_next[k]=1.\n",
    "\n",
    "        if i<maxlength-1:\n",
    "            Ptrans[i+1]=Ptrans_next\n",
    "            P[i+1]=Pmin+Ptrans_next*(Pmax-Pmin)\n",
    "            print(F[i])\n",
    "            print(gamma[i])\n",
    "            print(P[i+1])\n",
    "            \n",
    "        if targetmode=='Coupled':\n",
    "            dataout=[dataout_ZMT,dataout_GMT]\n",
    "            \n",
    "    return F, dF, P , Ptrans, gamma, dataout\n",
    "    \n",
    "def target_comparison(data,targetmode,target,targetfunction,num_paras,grid):\n",
    "    F=np.zeros(2*num_paras+1)\n",
    "    if targetfunction=='LeastSquare':\n",
    "        if targetmode=='Single':\n",
    "            F=(np.array(data)-target)**2\n",
    "        elif targetmode=='ZMT':\n",
    "            for i in range(len(F)):\n",
    "                if len(data[i])==len(target):\n",
    "                    F[i]=np.sum(((data[i]-target)*np.cos(grid*np.pi/180)/np.mean(np.cos(grid*np.pi/180)))**2)\n",
    "                elif len(data[i])==len(F):\n",
    "                    F[i]=np.sum(((data[:,i]-target)*np.cos(grid*np.pi/180)/np.mean(np.cos(grid*np.pi/180)))**2)\n",
    "        elif targetmode=='GMT':\n",
    "            for i in range(len(F)):\n",
    "                F[i]=np.sum((data[i]-target)**2)\n",
    "\n",
    "    return F\n",
    "\n",
    "def local_gradient(F,P_pert):\n",
    "    dF=np.zeros(len(P_pert))\n",
    "    for k in range(len(P_pert)):\n",
    "        dF[k]=(F[2*(k+1)-1]-F[2*(k+1)])/(2*P_pert[k])\n",
    "    return dF\n",
    "\n",
    "def step_weighting(dF0,dF1,P0,P1):\n",
    "    gamma=np.abs(np.dot(P1-P0,dF1-dF0)/np.dot(np.abs(dF1-dF0),np.abs(dF1-dF0)))\n",
    "    return gamma\n",
    "\n",
    "def precision_check(dF0,dF,precision):\n",
    "    dFabs=np.sqrt(np.dot(dF,dF))\n",
    "    dF0abs=np.sqrt(np.dot(dF0,dF0))\n",
    "    if dFabs/dF0abs <= precision:\n",
    "        return True\n",
    "    \n",
    "def new_parameters(P,gamma,dF):\n",
    "    P_next=P-gamma*dF\n",
    "    return P_next\n",
    "\n",
    "def run_model(config,P,P_pert,labels,ZMT,GMT,targetmode,control,controlconfig,grid,elevation):\n",
    "    \n",
    "    P_config=reshape_parameters(P,P_pert)\n",
    "    setup={'number_of_parameters': len(P), 'number_of_cycles': 1, 'number_of_parallels': len(P)*2+1}\n",
    "    \n",
    "    if targetmode=='Coupled':\n",
    "        control=True\n",
    "        \n",
    "    if control==True:\n",
    "        variable_importer(controlconfig,initialZMT=True,parallel=True,parallel_config=setup)\n",
    "        controlconfig=add_parameters(controlconfig,P_config,labels)\n",
    "        data_CTRL=rk4alg(model_equation,controlconfig['eqparam'],controlconfig['funccomp'],progressbar=True)\n",
    "        ZMT,GMT=data_CTRL[1][-1],data_CTRL[2][-1]\n",
    "\n",
    "    variable_importer(config,initialZMT=False,parallel=True,parallel_config=setup)\n",
    "    config=add_parameters(config,P_config,labels)\n",
    "    Vars.T,Vars.T_global=ZMT,GMT   \n",
    "    data=rk4alg(model_equation,config['eqparam'],config['funccomp'],progressbar=True)\n",
    "    \n",
    "    if targetmode=='Single':\n",
    "        data_out=data[2][-1]\n",
    "    elif targetmode=='ZMT':\n",
    "        for i in range(len(data)):\n",
    "            data[i]=data[i]+elevation\n",
    "        data_out=data[1][-1]\n",
    "    elif targetmode=='GMT':\n",
    "        data_out=np.transpose(data[2][:-1]-data[2][0])\n",
    "    elif targetmode=='Coupled':\n",
    "        data_out=[data_CTRL[1][-1],np.transpose(data[2][:-1]-data[2][0])]\n",
    "    return data_out\n",
    "\n",
    "def reshape_parameters(P,P_pert):\n",
    "    num_para=len(P)\n",
    "    P_config=np.reshape(np.zeros(num_para*(2*num_para+1)),(num_para,2*num_para+1))\n",
    "    for i in range(num_para):\n",
    "        P_config[i]=np.array([P[i]]*(2*num_para+1))\n",
    "        P_config[i][i*2+1]=P[i]+P_pert[i]\n",
    "        P_config[i][i*2+2]=P[i]-P_pert[i]\n",
    "                      \n",
    "    return P_config\n",
    "             \n",
    "def add_parameters(config,P_config,labels):\n",
    "    num_para=len(P_config)\n",
    "    \n",
    "    for i in range(num_para):\n",
    "        if labels[i][0][:4]=='func':\n",
    "            config['funccomp']['funcparam'][labels[i][0]][labels[i][1]]=P_config[i]\n",
    "        if labels[i][0]=='eqparam':\n",
    "            config[labels[i][0]][labels[i][1]]=P_config[i]\n",
    "    return config"
   ]
  },
  {
   "cell_type": "code",
   "execution_count": 6,
   "metadata": {},
   "outputs": [
    {
     "name": "stdout",
     "output_type": "stream",
     "text": [
      "Loading Configuration from: Dev_Data/Optimization/Volcanic_Sellers_CTRL_Offset.ini\n",
      "Loading Parameters from: /Home/siv32/bsc029/.local/lib/python3.6/site-packages/lowEBMs/Tutorials/Config/Data/SellersParameterization.ini\n",
      "Loading Configuration from: Dev_Data/Optimization/Volcanic_Sellers_Offset.ini\n",
      "Loading Parameters from: /Home/siv32/bsc029/.local/lib/python3.6/site-packages/lowEBMs/Tutorials/Config/Data/SellersParameterization.ini\n"
     ]
    },
    {
     "data": {
      "application/vnd.jupyter.widget-view+json": {
       "model_id": "d74a5b48623c457f8ed562f004278162",
       "version_major": 2,
       "version_minor": 0
      },
      "text/plain": [
       "HBox(children=(IntProgress(value=0), HTML(value='')))"
      ]
     },
     "metadata": {},
     "output_type": "display_data"
    },
    {
     "name": "stdout",
     "output_type": "stream",
     "text": [
      "Iteration no.0\n"
     ]
    },
    {
     "data": {
      "application/vnd.jupyter.widget-view+json": {
       "model_id": "896da24125584b84b295a86b84258aba",
       "version_major": 2,
       "version_minor": 0
      },
      "text/plain": [
       "HBox(children=(IntProgress(value=0, max=36500), HTML(value='')))"
      ]
     },
     "metadata": {},
     "output_type": "display_data"
    },
    {
     "data": {
      "application/vnd.jupyter.widget-view+json": {
       "model_id": "a7de7a0c00f843eabe4f2fd96684f365",
       "version_major": 2,
       "version_minor": 0
      },
      "text/plain": [
       "HBox(children=(IntProgress(value=0, max=14600), HTML(value='')))"
      ]
     },
     "metadata": {},
     "output_type": "display_data"
    },
    {
     "name": "stdout",
     "output_type": "stream",
     "text": [
      "[7943.62996633 7940.59994803 7946.70001985 7848.31946299 8043.98076339\n",
      " 7638.82612105 8306.13330301 7742.42249419 8172.37927929 7943.05862755\n",
      " 7944.21317558 7943.53271463 7943.73785158 7941.45043429 7945.84734126]\n",
      "1e-08\n",
      "[2.10135218e+08 5.02059593e-01 2.16151958e-15 2.26293045e+00\n",
      " 1.16501032e+00 1.16500183e+00 1.16503930e+00]\n",
      "Iteration no.1\n"
     ]
    },
    {
     "data": {
      "application/vnd.jupyter.widget-view+json": {
       "model_id": "f7797d5a0101481cb8e79c67a22e5b99",
       "version_major": 2,
       "version_minor": 0
      },
      "text/plain": [
       "HBox(children=(IntProgress(value=0, max=36500), HTML(value='')))"
      ]
     },
     "metadata": {},
     "output_type": "display_data"
    },
    {
     "data": {
      "application/vnd.jupyter.widget-view+json": {
       "model_id": "026f503f26c342639c2da9b1f352bf75",
       "version_major": 2,
       "version_minor": 0
      },
      "text/plain": [
       "HBox(children=(IntProgress(value=0, max=14600), HTML(value='')))"
      ]
     },
     "metadata": {},
     "output_type": "display_data"
    },
    {
     "name": "stdout",
     "output_type": "stream",
     "text": [
      "[709.93405434 709.8916416  709.97648387 710.44499634 709.4235471\n",
      " 710.51123001 709.35745884 710.47210515 709.39674363 709.93511802\n",
      " 709.93299066 709.93435472 709.93375395 709.93941232 709.92869656]\n",
      "9.980902794630333e-09\n",
      "[2.10137095e+08 5.02048861e-01 2.16106827e-15 2.25728146e+00\n",
      " 1.16501030e+00 1.16500183e+00 1.16503920e+00]\n",
      "Iteration no.2\n"
     ]
    },
    {
     "data": {
      "application/vnd.jupyter.widget-view+json": {
       "model_id": "5373dfc5372b49b98ec39fd2f3982c7e",
       "version_major": 2,
       "version_minor": 0
      },
      "text/plain": [
       "HBox(children=(IntProgress(value=0, max=36500), HTML(value='')))"
      ]
     },
     "metadata": {},
     "output_type": "display_data"
    },
    {
     "data": {
      "application/vnd.jupyter.widget-view+json": {
       "model_id": "246c2a3d86c04095b6954b77c19b2b5f",
       "version_major": 2,
       "version_minor": 0
      },
      "text/plain": [
       "HBox(children=(IntProgress(value=0, max=14600), HTML(value='')))"
      ]
     },
     "metadata": {},
     "output_type": "display_data"
    },
    {
     "name": "stdout",
     "output_type": "stream",
     "text": [
      "[708.76401712 708.72156359 708.80648745 709.27380724 708.25466169\n",
      " 709.33980676 708.18881079 709.30050712 708.22826806 708.76507703\n",
      " 708.76295721 708.7643163  708.76371793 708.76935624 708.75867821]\n",
      "3.99900195793859e-06\n",
      "[2.10889899e+08 4.97758793e-01 1.98068186e-15 4.99317884e-04\n",
      " 1.16500272e+00 1.16499969e+00 1.16500104e+00]\n",
      "Iteration no.3\n"
     ]
    },
    {
     "data": {
      "application/vnd.jupyter.widget-view+json": {
       "model_id": "e95f4decf7544feeb668c34e628defd6",
       "version_major": 2,
       "version_minor": 0
      },
      "text/plain": [
       "HBox(children=(IntProgress(value=0, max=36500), HTML(value='')))"
      ]
     },
     "metadata": {},
     "output_type": "display_data"
    },
    {
     "data": {
      "application/vnd.jupyter.widget-view+json": {
       "model_id": "e5e5844210e04abd81c2adcf112f7038",
       "version_major": 2,
       "version_minor": 0
      },
      "text/plain": [
       "HBox(children=(IntProgress(value=0, max=14600), HTML(value='')))"
      ]
     },
     "metadata": {},
     "output_type": "display_data"
    },
    {
     "name": "stdout",
     "output_type": "stream",
     "text": [
      "[2501.77148663 2501.32042816 2502.23065882 2483.27859025 2520.5280907\n",
      " 2449.41343943 2556.26375047 2466.55762012 2537.93266522 2501.63643337\n",
      " 2501.90582492 2501.74771581 2501.7947518  2501.28719436 2502.25954981]\n",
      "4.7109061402315125e-08\n",
      "[2.10984950e+08 4.99605939e-01 2.17795077e-15 1.77018952e+00\n",
      " 1.16501407e+00 1.16500167e+00 1.16504198e+00]\n",
      "Iteration no.4\n"
     ]
    },
    {
     "data": {
      "application/vnd.jupyter.widget-view+json": {
       "model_id": "c7009b89f5e242a5a3bea3ccd5d14cd0",
       "version_major": 2,
       "version_minor": 0
      },
      "text/plain": [
       "HBox(children=(IntProgress(value=0, max=36500), HTML(value='')))"
      ]
     },
     "metadata": {},
     "output_type": "display_data"
    },
    {
     "data": {
      "application/vnd.jupyter.widget-view+json": {
       "model_id": "3748a5b539a545818e520d01a5d29aa1",
       "version_major": 2,
       "version_minor": 0
      },
      "text/plain": [
       "HBox(children=(IntProgress(value=0, max=14600), HTML(value='')))"
      ]
     },
     "metadata": {},
     "output_type": "display_data"
    },
    {
     "name": "stdout",
     "output_type": "stream",
     "text": [
      "[644.96686905 644.92504717 645.00870745 645.42112308 644.51303527\n",
      " 645.45343739 644.48092997 645.43414953 644.50033805 644.96775897\n",
      " 644.96597914 644.96711674 644.96662136 644.97135701 644.96238135]\n",
      "4.663491125397236e-08\n",
      "[2.10993598e+08 4.99561361e-01 2.17617338e-15 1.74726941e+00\n",
      " 1.16501399e+00 1.16500165e+00 1.16504160e+00]\n",
      "Iteration no.5\n"
     ]
    },
    {
     "data": {
      "application/vnd.jupyter.widget-view+json": {
       "model_id": "cc0e5629db004af4b57970fcdbda9ee7",
       "version_major": 2,
       "version_minor": 0
      },
      "text/plain": [
       "HBox(children=(IntProgress(value=0, max=36500), HTML(value='')))"
      ]
     },
     "metadata": {},
     "output_type": "display_data"
    },
    {
     "data": {
      "application/vnd.jupyter.widget-view+json": {
       "model_id": "5fc8c279a7014c7da554d4735b6718ea",
       "version_major": 2,
       "version_minor": 0
      },
      "text/plain": [
       "HBox(children=(IntProgress(value=0, max=14600), HTML(value='')))"
      ]
     },
     "metadata": {},
     "output_type": "display_data"
    },
    {
     "name": "stdout",
     "output_type": "stream",
     "text": [
      "[640.93528317 640.89330847 640.97727443 641.38500688 640.48597937\n",
      " 641.41606032 640.45514724 641.3962633  640.47505575 640.93615767\n",
      " 640.93440869 640.93552595 640.9350404  640.9396943  640.9308723 ]\n",
      "3.8929827794842455e-06\n",
      "[ 2.11718178e+08  4.95877258e-01  2.02956966e-15 -1.40228042e-01\n",
      "  1.16500791e+00  1.16499996e+00  1.16501091e+00]\n",
      "Iteration no.6\n"
     ]
    },
    {
     "data": {
      "application/vnd.jupyter.widget-view+json": {
       "model_id": "a5c273ad22e04d30a54e08efa90594ac",
       "version_major": 2,
       "version_minor": 0
      },
      "text/plain": [
       "HBox(children=(IntProgress(value=0, max=36500), HTML(value='')))"
      ]
     },
     "metadata": {},
     "output_type": "display_data"
    },
    {
     "data": {
      "application/vnd.jupyter.widget-view+json": {
       "model_id": "7e441d93ddff4966a99f668ea4a8236c",
       "version_major": 2,
       "version_minor": 0
      },
      "text/plain": [
       "HBox(children=(IntProgress(value=0, max=14600), HTML(value='')))"
      ]
     },
     "metadata": {},
     "output_type": "display_data"
    },
    {
     "name": "stdout",
     "output_type": "stream",
     "text": [
      "[1296.50302949 1296.33890924 1296.6660772  1296.73682514 1296.2781104\n",
      " 1296.29236288 1296.76163257 1296.40325201 1296.6250463  1296.50794436\n",
      " 1296.4969975  1296.50807054 1296.49798829 1296.58538101 1296.42063344]\n",
      "2.8083877739997683e-06\n",
      "[2.13754883e+08 4.94521206e-01 2.08121819e-15 1.87605845e-01\n",
      " 1.16498043e+00 1.16497465e+00 1.16459740e+00]\n",
      "Iteration no.7\n"
     ]
    },
    {
     "data": {
      "application/vnd.jupyter.widget-view+json": {
       "model_id": "2df5f092e18747ac9d505af23d19e527",
       "version_major": 2,
       "version_minor": 0
      },
      "text/plain": [
       "HBox(children=(IntProgress(value=0, max=36500), HTML(value='')))"
      ]
     },
     "metadata": {},
     "output_type": "display_data"
    },
    {
     "data": {
      "application/vnd.jupyter.widget-view+json": {
       "model_id": "fb090912ae1f45c08f92212fd00621a0",
       "version_major": 2,
       "version_minor": 0
      },
      "text/plain": [
       "HBox(children=(IntProgress(value=0, max=14600), HTML(value='')))"
      ]
     },
     "metadata": {},
     "output_type": "display_data"
    },
    {
     "name": "stdout",
     "output_type": "stream",
     "text": [
      "[1209.20773981 1209.06982869 1209.34568322 1209.26215304 1209.15390288\n",
      " 1208.33451572 1210.08371035 1208.58126233 1209.83629451 1209.20450305\n",
      " 1209.21097663 1209.2067657  1209.20871394 1209.19577612 1209.21970458]\n",
      "8.381429675642408e-07\n",
      "[2.14267389e+08 4.94425702e-01 2.13867409e-15 7.41235525e-01\n",
      " 1.16498528e+00 1.16497611e+00 1.16461532e+00]\n",
      "Iteration no.8\n"
     ]
    },
    {
     "data": {
      "application/vnd.jupyter.widget-view+json": {
       "model_id": "0942cd19274f47e6aff8c8f1b77fb8fa",
       "version_major": 2,
       "version_minor": 0
      },
      "text/plain": [
       "HBox(children=(IntProgress(value=0, max=36500), HTML(value='')))"
      ]
     },
     "metadata": {},
     "output_type": "display_data"
    },
    {
     "data": {
      "application/vnd.jupyter.widget-view+json": {
       "model_id": "26462b7e91bf4354a8aad3e7a3de9663",
       "version_major": 2,
       "version_minor": 0
      },
      "text/plain": [
       "HBox(children=(IntProgress(value=0, max=14600), HTML(value='')))"
      ]
     },
     "metadata": {},
     "output_type": "display_data"
    },
    {
     "name": "stdout",
     "output_type": "stream",
     "text": [
      "[980.11208547 979.99975669 980.22370472 977.22914354 983.00128119\n",
      " 973.3868892  986.88478053 974.98844059 985.26141977 980.0849548\n",
      " 980.13921705 980.10375788 980.1204131  979.95761558 980.26510811]\n",
      "1.1397774573965343e-07\n",
      "[2.14323970e+08 4.95118223e-01 2.19896675e-15 1.35749395e+00\n",
      " 1.16499081e+00 1.16497781e+00 1.16464664e+00]\n",
      "Iteration no.9\n"
     ]
    },
    {
     "data": {
      "application/vnd.jupyter.widget-view+json": {
       "model_id": "8f8bea73df4440328b1fa2ccb9e7c105",
       "version_major": 2,
       "version_minor": 0
      },
      "text/plain": [
       "HBox(children=(IntProgress(value=0, max=36500), HTML(value='')))"
      ]
     },
     "metadata": {},
     "output_type": "display_data"
    },
    {
     "data": {
      "application/vnd.jupyter.widget-view+json": {
       "model_id": "755aa92fece442b28796a57b7e7a6c8f",
       "version_major": 2,
       "version_minor": 0
      },
      "text/plain": [
       "HBox(children=(IntProgress(value=0, max=14600), HTML(value='')))"
      ]
     },
     "metadata": {},
     "output_type": "display_data"
    },
    {
     "name": "stdout",
     "output_type": "stream",
     "text": [
      "[559.6409173  559.59507852 559.68623901 559.80233978 559.48263692\n",
      " 559.61238328 559.67952536 559.68589155 559.60341678 559.63907273\n",
      " 559.64276194 559.64056504 559.64126957 559.63746044 559.64420794]\n",
      "1.1394242088687713e-07\n",
      "[2.14346994e+08 4.95079878e-01 2.19926657e-15 1.35254796e+00\n",
      " 1.16499118e+00 1.16497788e+00 1.16464733e+00]\n",
      "Iteration no.10\n"
     ]
    },
    {
     "data": {
      "application/vnd.jupyter.widget-view+json": {
       "model_id": "ed3ee143cb52489e93a0dffb4eb3ac36",
       "version_major": 2,
       "version_minor": 0
      },
      "text/plain": [
       "HBox(children=(IntProgress(value=0, max=36500), HTML(value='')))"
      ]
     },
     "metadata": {},
     "output_type": "display_data"
    },
    {
     "data": {
      "application/vnd.jupyter.widget-view+json": {
       "model_id": "a1e1f43b4bf24410b1d2873962f293e5",
       "version_major": 2,
       "version_minor": 0
      },
      "text/plain": [
       "HBox(children=(IntProgress(value=0, max=14600), HTML(value='')))"
      ]
     },
     "metadata": {},
     "output_type": "display_data"
    },
    {
     "name": "stdout",
     "output_type": "stream",
     "text": [
      "[559.26739652 559.22204444 559.31330306 559.42493864 559.11352211\n",
      " 559.2317407  559.31365082 559.30597486 559.23592204 559.26604963\n",
      " 559.26927955 559.26703595 559.26775709 559.26435484 559.27134145]\n",
      "1.107595200926987e-07\n",
      "[2.14369400e+08 4.95043571e-01 2.19962211e-15 1.34846427e+00\n",
      " 1.16499150e+00 1.16497795e+00 1.16464802e+00]\n",
      "Iteration no.11\n"
     ]
    },
    {
     "data": {
      "application/vnd.jupyter.widget-view+json": {
       "model_id": "e7b314569ed94a4c9a44c652bb758ccb",
       "version_major": 2,
       "version_minor": 0
      },
      "text/plain": [
       "HBox(children=(IntProgress(value=0, max=36500), HTML(value='')))"
      ]
     },
     "metadata": {},
     "output_type": "display_data"
    },
    {
     "data": {
      "application/vnd.jupyter.widget-view+json": {
       "model_id": "37ee140bd68e44e7be995a9fb110134d",
       "version_major": 2,
       "version_minor": 0
      },
      "text/plain": [
       "HBox(children=(IntProgress(value=0, max=14600), HTML(value='')))"
      ]
     },
     "metadata": {},
     "output_type": "display_data"
    },
    {
     "name": "stdout",
     "output_type": "stream",
     "text": [
      "[558.91236997 558.86682358 558.95829627 559.06769651 558.76053484\n",
      " 558.8725744  558.96329338 558.94800179 558.8845664  558.91082415\n",
      " 558.91427819 558.91200395 558.91273599 558.90871258 558.91675457]\n",
      "1.1761915057750401e-07\n",
      "[2.14393249e+08 4.95005541e-01 2.20004029e-15 1.34453732e+00\n",
      " 1.16499187e+00 1.16497803e+00 1.16464887e+00]\n",
      "Iteration no.12\n"
     ]
    },
    {
     "data": {
      "application/vnd.jupyter.widget-view+json": {
       "model_id": "686d72f6cd314f91bc0b48cfa2910c70",
       "version_major": 2,
       "version_minor": 0
      },
      "text/plain": [
       "HBox(children=(IntProgress(value=0, max=36500), HTML(value='')))"
      ]
     },
     "metadata": {},
     "output_type": "display_data"
    },
    {
     "data": {
      "application/vnd.jupyter.widget-view+json": {
       "model_id": "006468aa561344b2ab3974b8f77bf332",
       "version_major": 2,
       "version_minor": 0
      },
      "text/plain": [
       "HBox(children=(IntProgress(value=0, max=14600), HTML(value='')))"
      ]
     },
     "metadata": {},
     "output_type": "display_data"
    },
    {
     "name": "stdout",
     "output_type": "stream",
     "text": [
      "[558.53901199 558.49346185 558.58494134 558.6923198  558.38883261\n",
      " 558.49454379 558.59263159 558.57167606 558.5138121  558.53744686\n",
      " 558.54093884 558.53864194 558.53938205 558.53493319 558.54345432]\n",
      "2.5529833108063346e-07\n",
      "[2.14445018e+08 4.94923983e-01 2.20102167e-15 1.33676228e+00\n",
      " 1.16499266e+00 1.16497820e+00 1.16465081e+00]\n",
      "Iteration no.13\n"
     ]
    },
    {
     "data": {
      "application/vnd.jupyter.widget-view+json": {
       "model_id": "28a0b30f9cb64d38a6203366eeb386d1",
       "version_major": 2,
       "version_minor": 0
      },
      "text/plain": [
       "HBox(children=(IntProgress(value=0, max=36500), HTML(value='')))"
      ]
     },
     "metadata": {},
     "output_type": "display_data"
    },
    {
     "data": {
      "application/vnd.jupyter.widget-view+json": {
       "model_id": "2171736f5013431eb653e76952ae455a",
       "version_major": 2,
       "version_minor": 0
      },
      "text/plain": [
       "HBox(children=(IntProgress(value=0, max=14600), HTML(value='')))"
      ]
     },
     "metadata": {},
     "output_type": "display_data"
    },
    {
     "name": "stdout",
     "output_type": "stream",
     "text": [
      "[557.73308414 557.68773199 557.7786314  557.88296062 557.58614272\n",
      " 557.68381315 557.79219116 557.76045482 557.712448   557.73166585\n",
      " 557.73467936 557.73270806 557.73346021 557.72909367 557.73725469]\n",
      "1.3505312317508902e-07\n",
      "[2.14472230e+08 4.94881787e-01 2.20159529e-15 1.33334993e+00\n",
      " 1.16499303e+00 1.16497829e+00 1.16465180e+00]\n",
      "Iteration no.14\n"
     ]
    },
    {
     "data": {
      "application/vnd.jupyter.widget-view+json": {
       "model_id": "d4ac3f2706384e3282e708ef835fe56b",
       "version_major": 2,
       "version_minor": 0
      },
      "text/plain": [
       "HBox(children=(IntProgress(value=0, max=36500), HTML(value='')))"
      ]
     },
     "metadata": {},
     "output_type": "display_data"
    },
    {
     "data": {
      "application/vnd.jupyter.widget-view+json": {
       "model_id": "5c19f766783449549a437d1e54daabd7",
       "version_major": 2,
       "version_minor": 0
      },
      "text/plain": [
       "HBox(children=(IntProgress(value=0, max=14600), HTML(value='')))"
      ]
     },
     "metadata": {},
     "output_type": "display_data"
    },
    {
     "name": "stdout",
     "output_type": "stream",
     "text": [
      "[557.31012179 557.26426882 557.35599236 557.4590726  557.16463583\n",
      " 557.2601876  557.37003995 557.33697936 557.29016193 557.30816333\n",
      " 557.31208032 557.30974486 557.31049873 557.30594039 557.31394647]\n",
      "2.094378693661354e-06\n",
      "[2.14898061e+08 4.94232669e-01 2.21061190e-15 1.28174286e+00\n",
      " 1.16500036e+00 1.16497970e+00 1.16466678e+00]\n",
      "Iteration no.15\n"
     ]
    },
    {
     "data": {
      "application/vnd.jupyter.widget-view+json": {
       "model_id": "68b998b65d784ca694d6d67b1e4ba40d",
       "version_major": 2,
       "version_minor": 0
      },
      "text/plain": [
       "HBox(children=(IntProgress(value=0, max=36500), HTML(value='')))"
      ]
     },
     "metadata": {},
     "output_type": "display_data"
    },
    {
     "data": {
      "application/vnd.jupyter.widget-view+json": {
       "model_id": "a3257b7642f94b5fbd015e516660b5f9",
       "version_major": 2,
       "version_minor": 0
      },
      "text/plain": [
       "HBox(children=(IntProgress(value=0, max=14600), HTML(value='')))"
      ]
     },
     "metadata": {},
     "output_type": "display_data"
    },
    {
     "name": "stdout",
     "output_type": "stream",
     "text": [
      "[550.8136513  550.76840802 550.85891195 550.95586062 550.67362547\n",
      " 550.75396195 550.88230822 550.83294232 550.80027873 550.81165548\n",
      " 550.81564718 550.8132662  550.81403641 550.80933637 550.81761512]\n",
      "2.265644267295587e-06\n",
      "[2.15352587e+08 4.93559570e-01 2.22200792e-15 1.24279335e+00\n",
      " 1.16500844e+00 1.16498126e+00 1.16468355e+00]\n",
      "Iteration no.16\n"
     ]
    },
    {
     "data": {
      "application/vnd.jupyter.widget-view+json": {
       "model_id": "af865abb75754d999a29e5c2f93b9f4e",
       "version_major": 2,
       "version_minor": 0
      },
      "text/plain": [
       "HBox(children=(IntProgress(value=0, max=36500), HTML(value='')))"
      ]
     },
     "metadata": {},
     "output_type": "display_data"
    },
    {
     "data": {
      "application/vnd.jupyter.widget-view+json": {
       "model_id": "d3d79b108e78485a81896d8ba953d200",
       "version_major": 2,
       "version_minor": 0
      },
      "text/plain": [
       "HBox(children=(IntProgress(value=0, max=14600), HTML(value='')))"
      ]
     },
     "metadata": {},
     "output_type": "display_data"
    },
    {
     "name": "stdout",
     "output_type": "stream",
     "text": [
      "[543.96033939 543.9163751  544.00432069 544.12342324 543.79957707\n",
      " 543.94249033 543.98736099 544.01522747 543.91191181 543.9585881\n",
      " 543.96209073 543.96000714 543.96067164 543.95675887 543.96356838]\n",
      "1.4342196573434249e-06\n",
      "[2.15632183e+08 4.93070658e-01 2.22452999e-15 1.16480527e+00\n",
      " 1.16501293e+00 1.16498211e+00 1.16469227e+00]\n",
      "Iteration no.17\n"
     ]
    },
    {
     "data": {
      "application/vnd.jupyter.widget-view+json": {
       "model_id": "bf5bdc398a0649cba19334c889624981",
       "version_major": 2,
       "version_minor": 0
      },
      "text/plain": [
       "HBox(children=(IntProgress(value=0, max=36500), HTML(value='')))"
      ]
     },
     "metadata": {},
     "output_type": "display_data"
    },
    {
     "data": {
      "application/vnd.jupyter.widget-view+json": {
       "model_id": "bb0e7802e50949158e819656c205c6cc",
       "version_major": 2,
       "version_minor": 0
      },
      "text/plain": [
       "HBox(children=(IntProgress(value=0, max=14600), HTML(value='')))"
      ]
     },
     "metadata": {},
     "output_type": "display_data"
    },
    {
     "name": "stdout",
     "output_type": "stream",
     "text": [
      "[540.05800554 540.01303994 540.10298823 540.15280168 539.96530882\n",
      " 539.91584733 540.20737439 540.00776375 540.11284644 540.05557443\n",
      " 540.06010522 540.05752582 540.05848525 540.05231418 540.06283874]\n",
      "2.0509059889230426e-07\n",
      "[2.15673075e+08 4.93030181e-01 2.22687315e-15 1.17614815e+00\n",
      " 1.16501376e+00 1.16498229e+00 1.16469420e+00]\n",
      "Iteration no.18\n"
     ]
    },
    {
     "data": {
      "application/vnd.jupyter.widget-view+json": {
       "model_id": "9eb378d9063f4933a9bc2cec133370e9",
       "version_major": 2,
       "version_minor": 0
      },
      "text/plain": [
       "HBox(children=(IntProgress(value=0, max=36500), HTML(value='')))"
      ]
     },
     "metadata": {},
     "output_type": "display_data"
    },
    {
     "data": {
      "application/vnd.jupyter.widget-view+json": {
       "model_id": "50d176c30a5c4e18902f6bab8c2e00d7",
       "version_major": 2,
       "version_minor": 0
      },
      "text/plain": [
       "HBox(children=(IntProgress(value=0, max=14600), HTML(value='')))"
      ]
     },
     "metadata": {},
     "output_type": "display_data"
    },
    {
     "name": "stdout",
     "output_type": "stream",
     "text": [
      "[539.10431559 539.05993468 539.14837466 539.22246561 538.98753044\n",
      " 539.00744623 539.20891388 539.09242591 539.12199303 539.10213954\n",
      " 539.10615306 539.10389124 539.1044009  539.09907073 539.10922368]\n",
      "4.892068075968024e-07\n",
      "[2.15768980e+08 4.92909200e-01 2.23073572e-15 1.18376101e+00\n",
      " 1.16501552e+00 1.16498251e+00 1.16469864e+00]\n",
      "Iteration no.19\n"
     ]
    },
    {
     "data": {
      "application/vnd.jupyter.widget-view+json": {
       "model_id": "9fa5450a22c64a74ac97e3281726adad",
       "version_major": 2,
       "version_minor": 0
      },
      "text/plain": [
       "HBox(children=(IntProgress(value=0, max=36500), HTML(value='')))"
      ]
     },
     "metadata": {},
     "output_type": "display_data"
    },
    {
     "data": {
      "application/vnd.jupyter.widget-view+json": {
       "model_id": "b4b722f99b5244cea733d4f673ff2026",
       "version_major": 2,
       "version_minor": 0
      },
      "text/plain": [
       "HBox(children=(IntProgress(value=0, max=14600), HTML(value='')))"
      ]
     },
     "metadata": {},
     "output_type": "display_data"
    },
    {
     "name": "stdout",
     "output_type": "stream",
     "text": [
      "[537.5557247  537.51214306 537.59863109 537.70264455 537.40970821\n",
      " 537.51243924 537.6068936  537.58902367 537.52689603 537.55384846\n",
      " 537.5569091  537.55536533 537.55573791 537.55139387 537.55936646]\n",
      "5.600515744305446e-07\n",
      "[2.15876350e+08 4.92736506e-01 2.23280886e-15 1.16544802e+00\n",
      " 1.16501705e+00 1.16498270e+00 1.16470263e+00]\n",
      "Iteration no.20\n"
     ]
    },
    {
     "data": {
      "application/vnd.jupyter.widget-view+json": {
       "model_id": "000c71358cfe4f69980fea40280785a1",
       "version_major": 2,
       "version_minor": 0
      },
      "text/plain": [
       "HBox(children=(IntProgress(value=0, max=36500), HTML(value='')))"
      ]
     },
     "metadata": {},
     "output_type": "display_data"
    },
    {
     "data": {
      "application/vnd.jupyter.widget-view+json": {
       "model_id": "8a7beeed0b744b9c9f99a2e267dc3ffa",
       "version_major": 2,
       "version_minor": 0
      },
      "text/plain": [
       "HBox(children=(IntProgress(value=0, max=14600), HTML(value='')))"
      ]
     },
     "metadata": {},
     "output_type": "display_data"
    },
    {
     "name": "stdout",
     "output_type": "stream",
     "text": [
      "[535.90545937 535.86188995 535.94904561 536.0460031  535.76822534\n",
      " 535.849651   535.97084124 535.92783192 535.88893187 535.90350974\n",
      " 535.90740906 535.90508409 535.90583465 535.90158808 535.90967656]\n",
      "2.811379709568576e-07\n",
      "[2.15930665e+08 4.92654302e-01 2.23414412e-15 1.15969208e+00\n",
      " 1.16501803e+00 1.16498289e+00 1.16470467e+00]\n",
      "Iteration no.21\n"
     ]
    },
    {
     "data": {
      "application/vnd.jupyter.widget-view+json": {
       "model_id": "23676ab761ce4953a5d0bab448d7241a",
       "version_major": 2,
       "version_minor": 0
      },
      "text/plain": [
       "HBox(children=(IntProgress(value=0, max=36500), HTML(value='')))"
      ]
     },
     "metadata": {},
     "output_type": "display_data"
    },
    {
     "data": {
      "application/vnd.jupyter.widget-view+json": {
       "model_id": "745871ed78584564b932e53287d66264",
       "version_major": 2,
       "version_minor": 0
      },
      "text/plain": [
       "HBox(children=(IntProgress(value=0, max=14600), HTML(value='')))"
      ]
     },
     "metadata": {},
     "output_type": "display_data"
    },
    {
     "name": "stdout",
     "output_type": "stream",
     "text": [
      "[535.08167503 535.03943076 535.12462439 535.22323175 534.9434205\n",
      " 535.02795183 535.14423254 535.10712176 535.06308392 535.08094469\n",
      " 535.08309273 535.08130321 535.08153036 535.07837037 535.08567235]\n",
      "3.033227954716482e-06\n",
      "[2.16503477e+08 4.91760900e-01 2.24796677e-15 1.08938850e+00\n",
      " 1.16502385e+00 1.16498350e+00 1.16472446e+00]\n",
      "Iteration no.22\n"
     ]
    },
    {
     "data": {
      "application/vnd.jupyter.widget-view+json": {
       "model_id": "049d39872fdf4a5b91a14d1af89df66d",
       "version_major": 2,
       "version_minor": 0
      },
      "text/plain": [
       "HBox(children=(IntProgress(value=0, max=36500), HTML(value='')))"
      ]
     },
     "metadata": {},
     "output_type": "display_data"
    },
    {
     "data": {
      "application/vnd.jupyter.widget-view+json": {
       "model_id": "43a942a198504813a8ecee6de2910695",
       "version_major": 2,
       "version_minor": 0
      },
      "text/plain": [
       "HBox(children=(IntProgress(value=0, max=14600), HTML(value='')))"
      ]
     },
     "metadata": {},
     "output_type": "display_data"
    },
    {
     "name": "stdout",
     "output_type": "stream",
     "text": [
      "[526.29649285 526.25407398 526.33859074 526.43849871 526.15636113\n",
      " 526.24898689 526.3518583  526.32647744 526.27184342 526.29461304\n",
      " 526.29769773 526.29613259 526.29685311 526.29229737 526.30018487]\n",
      "1.6324723494437163e-05\n",
      "[2.19561841e+08 4.86912671e-01 2.31378086e-15 6.19975176e-01\n",
      " 1.16506886e+00 1.16499401e+00 1.16483954e+00]\n",
      "Iteration no.23\n"
     ]
    },
    {
     "data": {
      "application/vnd.jupyter.widget-view+json": {
       "model_id": "42c9c0552f764b1b9c5d188df2848c73",
       "version_major": 2,
       "version_minor": 0
      },
      "text/plain": [
       "HBox(children=(IntProgress(value=0, max=36500), HTML(value='')))"
      ]
     },
     "metadata": {},
     "output_type": "display_data"
    },
    {
     "data": {
      "application/vnd.jupyter.widget-view+json": {
       "model_id": "42a141e36e244e0e9271150460bc407c",
       "version_major": 2,
       "version_minor": 0
      },
      "text/plain": [
       "HBox(children=(IntProgress(value=0, max=14600), HTML(value='')))"
      ]
     },
     "metadata": {},
     "output_type": "display_data"
    },
    {
     "name": "stdout",
     "output_type": "stream",
     "text": [
      "[484.79588287 484.75570543 484.83535609 484.80402642 484.80203005\n",
      " 484.55087572 485.07987611 484.64254212 484.98126504 484.79299604\n",
      " 484.79855899 484.7951173  484.79664845 484.78768992 484.8039811 ]\n",
      "5.326719354822541e-07\n",
      "[2.19655889e+08 4.86911551e-01 2.32482405e-15 7.14937384e-01\n",
      " 1.16507150e+00 1.16499474e+00 1.16484730e+00]\n",
      "Iteration no.24\n"
     ]
    },
    {
     "data": {
      "application/vnd.jupyter.widget-view+json": {
       "model_id": "ab46f9af82df4dc8b8a2dcfff994546e",
       "version_major": 2,
       "version_minor": 0
      },
      "text/plain": [
       "HBox(children=(IntProgress(value=0, max=36500), HTML(value='')))"
      ]
     },
     "metadata": {},
     "output_type": "display_data"
    },
    {
     "data": {
      "application/vnd.jupyter.widget-view+json": {
       "model_id": "5a51e2f2fd5b4201a86a9bc53f22c955",
       "version_major": 2,
       "version_minor": 0
      },
      "text/plain": [
       "HBox(children=(IntProgress(value=0, max=14600), HTML(value='')))"
      ]
     },
     "metadata": {},
     "output_type": "display_data"
    },
    {
     "name": "stdout",
     "output_type": "stream",
     "text": [
      "[480.46601573 480.42850279 480.50354349 480.59692648 480.33777155\n",
      " 480.42017014 480.51799493 480.49900517 480.43843329 480.46424545\n",
      " 480.46778607 480.46567906 480.46635241 480.4625175  480.46982194]\n",
      "5.540177564136686e-07\n",
      "[2.19748044e+08 4.86760418e-01 2.32694803e-15 6.97275334e-01\n",
      " 1.16507326e+00 1.16499508e+00 1.16485091e+00]\n",
      "Iteration no.25\n"
     ]
    },
    {
     "data": {
      "application/vnd.jupyter.widget-view+json": {
       "model_id": "6fe568da0e134059bf6412d209f7e1d1",
       "version_major": 2,
       "version_minor": 0
      },
      "text/plain": [
       "HBox(children=(IntProgress(value=0, max=36500), HTML(value='')))"
      ]
     },
     "metadata": {},
     "output_type": "display_data"
    },
    {
     "data": {
      "application/vnd.jupyter.widget-view+json": {
       "model_id": "4270a77263e245f8b3cc4f645097f3a1",
       "version_major": 2,
       "version_minor": 0
      },
      "text/plain": [
       "HBox(children=(IntProgress(value=0, max=14600), HTML(value='')))"
      ]
     },
     "metadata": {},
     "output_type": "display_data"
    },
    {
     "name": "stdout",
     "output_type": "stream",
     "text": [
      "[479.11714734 479.07966774 479.15464172 479.24224681 478.99377594\n",
      " 479.06292327 479.17687748 479.14250943 479.09705257 479.11532861\n",
      " 479.11896614 479.11680012 479.11749457 479.11349245 479.12110697]\n",
      "4.226107676828899e-07\n",
      "[2.19818279e+08 4.86649885e-01 2.32883536e-15 6.87164514e-01\n",
      " 1.16507463e+00 1.16499534e+00 1.16485379e+00]\n",
      "Iteration no.26\n"
     ]
    },
    {
     "data": {
      "application/vnd.jupyter.widget-view+json": {
       "model_id": "b6fc1bfde7f941fd97b620fd0dbcfd45",
       "version_major": 2,
       "version_minor": 0
      },
      "text/plain": [
       "HBox(children=(IntProgress(value=0, max=36500), HTML(value='')))"
      ]
     },
     "metadata": {},
     "output_type": "display_data"
    },
    {
     "data": {
      "application/vnd.jupyter.widget-view+json": {
       "model_id": "1a4a0d558b6647a285511f09db58b589",
       "version_major": 2,
       "version_minor": 0
      },
      "text/plain": [
       "HBox(children=(IntProgress(value=0, max=14600), HTML(value='')))"
      ]
     },
     "metadata": {},
     "output_type": "display_data"
    },
    {
     "name": "stdout",
     "output_type": "stream",
     "text": [
      "[478.09692542 478.05985202 478.13431534 478.22247614 477.97433598\n",
      " 478.04300509 478.15692068 478.12254423 478.07793239 478.09571152\n",
      " 478.09874299 478.09657846 478.09727238 478.09327159 478.10118539]\n",
      "5.8755153351579125e-05\n",
      "[ 2.29516426e+08  4.71303030e-01  2.59114096e-15 -6.92401382e-01\n",
      "  1.16523382e+00  1.16503178e+00  1.16526936e+00]\n",
      "Iteration no.27\n"
     ]
    },
    {
     "data": {
      "application/vnd.jupyter.widget-view+json": {
       "model_id": "6f5ae09dad81448eac0462d694b4eeb2",
       "version_major": 2,
       "version_minor": 0
      },
      "text/plain": [
       "HBox(children=(IntProgress(value=0, max=36500), HTML(value='')))"
      ]
     },
     "metadata": {},
     "output_type": "display_data"
    },
    {
     "data": {
      "application/vnd.jupyter.widget-view+json": {
       "model_id": "06130f5164fd41f7b75adbe1b809138e",
       "version_major": 2,
       "version_minor": 0
      },
      "text/plain": [
       "HBox(children=(IntProgress(value=0, max=14600), HTML(value='')))"
      ]
     },
     "metadata": {},
     "output_type": "display_data"
    },
    {
     "name": "stdout",
     "output_type": "stream",
     "text": [
      "[391.8210877  391.78913237 391.85305561 391.21475589 392.43239734\n",
      " 390.9155469  392.73497441 390.80258297 392.85197868 391.81179836\n",
      " 391.83039918 391.81924033 391.82293502 391.79481736 391.84774295]\n",
      "3.89459575530399e-07\n",
      "[ 2.29571611e+08  4.71802211e-01  2.61891094e-15 -2.72318864e-01\n",
      "  1.16524029e+00  1.16503306e+00  1.16528778e+00]\n",
      "Iteration no.28\n"
     ]
    },
    {
     "data": {
      "application/vnd.jupyter.widget-view+json": {
       "model_id": "295b6831835f4affb3fbbfa915a584a5",
       "version_major": 2,
       "version_minor": 0
      },
      "text/plain": [
       "HBox(children=(IntProgress(value=0, max=36500), HTML(value='')))"
      ]
     },
     "metadata": {},
     "output_type": "display_data"
    },
    {
     "data": {
      "application/vnd.jupyter.widget-view+json": {
       "model_id": "041832cfb17c46248696a12c1a860624",
       "version_major": 2,
       "version_minor": 0
      },
      "text/plain": [
       "HBox(children=(IntProgress(value=0, max=14600), HTML(value='')))"
      ]
     },
     "metadata": {},
     "output_type": "display_data"
    },
    {
     "name": "stdout",
     "output_type": "stream",
     "text": [
      "[355.55987785 355.53598495 355.58378124 355.71171148 355.4096662\n",
      " 355.58483428 355.53647278 355.67514091 355.44831154 355.55899851\n",
      " 355.56075723 355.55973784 355.56001786 355.55861108 355.56091622]\n",
      "3.6199004509225897e-07\n",
      "[ 2.29609963e+08  4.71687119e-01  2.61822486e-15 -3.15534640e-01\n",
      "  1.16524086e+00  1.16503315e+00  1.16528853e+00]\n",
      "Iteration no.29\n"
     ]
    },
    {
     "data": {
      "application/vnd.jupyter.widget-view+json": {
       "model_id": "f445703925db46f8af3cee5c8abcfff6",
       "version_major": 2,
       "version_minor": 0
      },
      "text/plain": [
       "HBox(children=(IntProgress(value=0, max=36500), HTML(value='')))"
      ]
     },
     "metadata": {},
     "output_type": "display_data"
    },
    {
     "data": {
      "application/vnd.jupyter.widget-view+json": {
       "model_id": "e5fac2a385cb4d33a5b90148ce3033c1",
       "version_major": 2,
       "version_minor": 0
      },
      "text/plain": [
       "HBox(children=(IntProgress(value=0, max=14600), HTML(value='')))"
      ]
     },
     "metadata": {},
     "output_type": "display_data"
    },
    {
     "name": "stdout",
     "output_type": "stream",
     "text": [
      "[354.28538238 354.26113698 354.30963832 354.41635052 354.15601425\n",
      " 354.28575934 354.28736288 354.36957098 354.20475115 354.28429477\n",
      " 354.28647003 354.2851969  354.28556786 354.28346602 354.28730029]\n",
      "9.534392627624386e-07\n",
      "[ 2.29712469e+08  4.71425840e-01  2.61828478e-15 -3.98242904e-01\n",
      "  1.16524272e+00  1.16503347e+00  1.16529179e+00]\n",
      "Iteration no.30\n"
     ]
    },
    {
     "data": {
      "application/vnd.jupyter.widget-view+json": {
       "model_id": "6d1cfd271dcf404680750bafb24a3ef6",
       "version_major": 2,
       "version_minor": 0
      },
      "text/plain": [
       "HBox(children=(IntProgress(value=0, max=36500), HTML(value='')))"
      ]
     },
     "metadata": {},
     "output_type": "display_data"
    },
    {
     "data": {
      "application/vnd.jupyter.widget-view+json": {
       "model_id": "8efcd6924f4a4db7885d280b2c4414dd",
       "version_major": 2,
       "version_minor": 0
      },
      "text/plain": [
       "HBox(children=(IntProgress(value=0, max=14600), HTML(value='')))"
      ]
     },
     "metadata": {},
     "output_type": "display_data"
    },
    {
     "name": "stdout",
     "output_type": "stream",
     "text": [
      "[352.30725947 352.28249408 352.33203542 352.40061606 352.21547151\n",
      " 352.26405494 352.35233214 352.33589379 352.28188131 352.30579088\n",
      " 352.30851874 352.30699061 352.30752834 352.30415252 352.31015914]\n",
      "9.034486949408767e-07\n",
      "[ 2.29811683e+08  4.71249768e-01  2.62141036e-15 -4.23925798e-01\n",
      "  1.16524492e+00  1.16503390e+00  1.16529664e+00]\n",
      "Iteration no.31\n"
     ]
    },
    {
     "data": {
      "application/vnd.jupyter.widget-view+json": {
       "model_id": "3132bf1bab8849cf995cb2a2cbc06137",
       "version_major": 2,
       "version_minor": 0
      },
      "text/plain": [
       "HBox(children=(IntProgress(value=0, max=36500), HTML(value='')))"
      ]
     },
     "metadata": {},
     "output_type": "display_data"
    },
    {
     "data": {
      "application/vnd.jupyter.widget-view+json": {
       "model_id": "2a5676b2e56f46dbb34f6796836dd4ed",
       "version_major": 2,
       "version_minor": 0
      },
      "text/plain": [
       "HBox(children=(IntProgress(value=0, max=14600), HTML(value='')))"
      ]
     },
     "metadata": {},
     "output_type": "display_data"
    },
    {
     "name": "stdout",
     "output_type": "stream",
     "text": [
      "[351.05915377 351.0344076  351.08391047 351.14599485 350.97368934\n",
      " 351.00884094 351.11163606 351.07862968 351.04277615 351.05762255\n",
      " 351.06068505 351.05887123 351.05943632 351.05585005 351.0622527 ]\n",
      "2.561816829365725e-07\n",
      "[ 2.29839794e+08  4.71203303e-01  2.62244240e-15 -4.28760018e-01\n",
      "  1.16524562e+00  1.16503403e+00  1.16529811e+00]\n",
      "Iteration no.32\n"
     ]
    },
    {
     "data": {
      "application/vnd.jupyter.widget-view+json": {
       "model_id": "9c45c543bf5147d3aaa6277c14d16df2",
       "version_major": 2,
       "version_minor": 0
      },
      "text/plain": [
       "HBox(children=(IntProgress(value=0, max=36500), HTML(value='')))"
      ]
     },
     "metadata": {},
     "output_type": "display_data"
    },
    {
     "data": {
      "application/vnd.jupyter.widget-view+json": {
       "model_id": "b1fd13523f8e479f9f1b37d665a64f64",
       "version_major": 2,
       "version_minor": 0
      },
      "text/plain": [
       "HBox(children=(IntProgress(value=0, max=14600), HTML(value='')))"
      ]
     },
     "metadata": {},
     "output_type": "display_data"
    },
    {
     "name": "stdout",
     "output_type": "stream",
     "text": [
      "[350.71242939 350.68771108 350.73715822 350.79880949 350.62673311\n",
      " 350.66103165 350.7649537  350.73135081 350.696617   350.7108959\n",
      " 350.71396294 350.71214636 350.71271243 350.70911802 350.71553637]\n",
      "1.2899922850977268e-05\n",
      "[ 2.31253726e+08  4.68866701e-01  2.67498037e-15 -6.64582872e-01\n",
      "  1.16528098e+00  1.16504056e+00  1.16537211e+00]\n",
      "Iteration no.33\n"
     ]
    },
    {
     "data": {
      "application/vnd.jupyter.widget-view+json": {
       "model_id": "971e1c714e5c4a838b76d9113b8610e2",
       "version_major": 2,
       "version_minor": 0
      },
      "text/plain": [
       "HBox(children=(IntProgress(value=0, max=36500), HTML(value='')))"
      ]
     },
     "metadata": {},
     "output_type": "display_data"
    },
    {
     "data": {
      "application/vnd.jupyter.widget-view+json": {
       "model_id": "9b20f83b25504c349dd3481ce29df33a",
       "version_major": 2,
       "version_minor": 0
      },
      "text/plain": [
       "HBox(children=(IntProgress(value=0, max=14600), HTML(value='')))"
      ]
     },
     "metadata": {},
     "output_type": "display_data"
    },
    {
     "name": "stdout",
     "output_type": "stream",
     "text": [
      "[333.59116245 333.56734019 333.61481208 333.63985374 333.54812246\n",
      " 333.50653305 333.68277591 333.5629481  333.6314732  333.58943364\n",
      " 333.5931344  333.59074942 333.59139209 333.58714549 333.59542922]\n",
      "1.6105244819560362e-06\n",
      "[ 2.31423201e+08  4.68711190e-01  2.68610427e-15 -6.06497947e-01\n",
      "  1.16528631e+00  1.16504149e+00  1.16538403e+00]\n",
      "Iteration no.34\n"
     ]
    },
    {
     "data": {
      "application/vnd.jupyter.widget-view+json": {
       "model_id": "a8704d264026445dafb0561cc5026572",
       "version_major": 2,
       "version_minor": 0
      },
      "text/plain": [
       "HBox(children=(IntProgress(value=0, max=36500), HTML(value='')))"
      ]
     },
     "metadata": {},
     "output_type": "display_data"
    },
    {
     "data": {
      "application/vnd.jupyter.widget-view+json": {
       "model_id": "96f43da897db47bbb9ba1916dc6408f1",
       "version_major": 2,
       "version_minor": 0
      },
      "text/plain": [
       "HBox(children=(IntProgress(value=0, max=14600), HTML(value='')))"
      ]
     },
     "metadata": {},
     "output_type": "display_data"
    },
    {
     "name": "stdout",
     "output_type": "stream",
     "text": [
      "[331.94450834 331.9219179  331.9671087  332.04887604 331.84176767\n",
      " 331.92131    331.96877579 331.99747937 331.89443851 331.94327773\n",
      " 331.945739   331.94429231 331.94472437 331.94231793 331.94690039]\n",
      "1.1831932571358168e-06\n",
      "[ 2.31541725e+08  4.68453243e-01  2.68830525e-15 -6.70664923e-01\n",
      "  1.16528891e+00  1.16504194e+00  1.16538888e+00]\n",
      "Iteration no.35\n"
     ]
    },
    {
     "data": {
      "application/vnd.jupyter.widget-view+json": {
       "model_id": "eacf0e017c914f33aca47ad3ac03631a",
       "version_major": 2,
       "version_minor": 0
      },
      "text/plain": [
       "HBox(children=(IntProgress(value=0, max=36500), HTML(value='')))"
      ]
     },
     "metadata": {},
     "output_type": "display_data"
    },
    {
     "data": {
      "application/vnd.jupyter.widget-view+json": {
       "model_id": "bcee0a963e21453eb2651c0569dc0ee9",
       "version_major": 2,
       "version_minor": 0
      },
      "text/plain": [
       "HBox(children=(IntProgress(value=0, max=14600), HTML(value='')))"
      ]
     },
     "metadata": {},
     "output_type": "display_data"
    },
    {
     "name": "stdout",
     "output_type": "stream",
     "text": [
      "[330.28593659 330.26312803 330.30875505 330.36762875 330.20625823\n",
      " 330.23866871 330.33611027 330.30526664 330.27008996 330.28464465\n",
      " 330.2874183  330.28566566 330.28620753 330.28361298 330.2891124 ]\n",
      "8.241973576632691e-07\n",
      "[ 2.31625084e+08  4.68313242e-01  2.69145266e-15 -6.85924146e-01\n",
      "  1.16529095e+00  1.16504234e+00  1.16539293e+00]\n",
      "Iteration no.36\n"
     ]
    },
    {
     "data": {
      "application/vnd.jupyter.widget-view+json": {
       "model_id": "9989663f6da44cfd956e5c375782a565",
       "version_major": 2,
       "version_minor": 0
      },
      "text/plain": [
       "HBox(children=(IntProgress(value=0, max=36500), HTML(value='')))"
      ]
     },
     "metadata": {},
     "output_type": "display_data"
    },
    {
     "data": {
      "application/vnd.jupyter.widget-view+json": {
       "model_id": "b1c6b62280bf49f0838a446493e896a1",
       "version_major": 2,
       "version_minor": 0
      },
      "text/plain": [
       "HBox(children=(IntProgress(value=0, max=14600), HTML(value='')))"
      ]
     },
     "metadata": {},
     "output_type": "display_data"
    },
    {
     "name": "stdout",
     "output_type": "stream",
     "text": [
      "[329.3000563  329.27731542 329.32280705 329.37932739 329.13371925\n",
      " 329.25005225 329.2603446  329.31668578 329.17433222 329.29874362\n",
      " 329.30155722 329.29978123 329.30033138 329.29682155 329.3031046 ]\n",
      "1.422628036106399e-07\n",
      "[ 2.31639430e+08  4.68276462e-01  2.69151004e-15 -6.96582891e-01\n",
      "  1.16529131e+00  1.16504241e+00  1.16539373e+00]\n",
      "Iteration no.37\n"
     ]
    },
    {
     "data": {
      "application/vnd.jupyter.widget-view+json": {
       "model_id": "43d07b96c358434ca4b8f508363746d9",
       "version_major": 2,
       "version_minor": 0
      },
      "text/plain": [
       "HBox(children=(IntProgress(value=0, max=36500), HTML(value='')))"
      ]
     },
     "metadata": {},
     "output_type": "display_data"
    },
    {
     "data": {
      "application/vnd.jupyter.widget-view+json": {
       "model_id": "d5b8e33e7c5140fca54c1b0acb01c923",
       "version_major": 2,
       "version_minor": 0
      },
      "text/plain": [
       "HBox(children=(IntProgress(value=0, max=14600), HTML(value='')))"
      ]
     },
     "metadata": {},
     "output_type": "display_data"
    },
    {
     "name": "stdout",
     "output_type": "stream",
     "text": [
      "[328.96866404 328.94640524 328.99125212 329.06609737 328.88357123\n",
      " 328.93772489 329.01297074 329.01551587 328.9474329  328.96776486\n",
      " 328.97045105 328.96856091 328.96899889 328.96617658 328.97138849]\n",
      "1.594532876045173e-07\n",
      "[ 2.31655281e+08  4.68245826e-01  2.69198026e-15 -7.02296604e-01\n",
      "  1.16529170e+00  1.16504247e+00  1.16539447e+00]\n",
      "Iteration no.38\n"
     ]
    },
    {
     "data": {
      "application/vnd.jupyter.widget-view+json": {
       "model_id": "66bddf7f77a94f779240209f0e9dd379",
       "version_major": 2,
       "version_minor": 0
      },
      "text/plain": [
       "HBox(children=(IntProgress(value=0, max=36500), HTML(value='')))"
      ]
     },
     "metadata": {},
     "output_type": "display_data"
    },
    {
     "data": {
      "application/vnd.jupyter.widget-view+json": {
       "model_id": "68fbaea5b07d469094e4f411625a42c1",
       "version_major": 2,
       "version_minor": 0
      },
      "text/plain": [
       "HBox(children=(IntProgress(value=0, max=14600), HTML(value='')))"
      ]
     },
     "metadata": {},
     "output_type": "display_data"
    },
    {
     "name": "stdout",
     "output_type": "stream",
     "text": [
      "[328.76937131 328.74656083 328.79195945 328.85254403 328.69506878\n",
      " 328.72335696 328.82500893 328.79406155 328.76287027 328.76793223\n",
      " 328.77075667 328.76902168 328.76972095 328.76644802 328.77272345]\n",
      "5.456936488311396e-08\n",
      "[ 2.31660772e+08  4.68236781e-01  2.69219765e-15 -7.03192440e-01\n",
      "  1.16529183e+00  1.16504251e+00  1.16539478e+00]\n",
      "Iteration no.39\n"
     ]
    },
    {
     "data": {
      "application/vnd.jupyter.widget-view+json": {
       "model_id": "ad961c074e6c471890bc4d0ee015323a",
       "version_major": 2,
       "version_minor": 0
      },
      "text/plain": [
       "HBox(children=(IntProgress(value=0, max=36500), HTML(value='')))"
      ]
     },
     "metadata": {},
     "output_type": "display_data"
    },
    {
     "data": {
      "application/vnd.jupyter.widget-view+json": {
       "model_id": "a49564e0f7a34898b137eb22af3fdb35",
       "version_major": 2,
       "version_minor": 0
      },
      "text/plain": [
       "HBox(children=(IntProgress(value=0, max=14600), HTML(value='')))"
      ]
     },
     "metadata": {},
     "output_type": "display_data"
    },
    {
     "name": "stdout",
     "output_type": "stream",
     "text": [
      "[328.70440396 328.68182803 328.72699077 328.78681054 328.63028103\n",
      " 328.65806782 328.75991372 328.72765182 328.69815259 328.70291397\n",
      " 328.70579226 328.70405382 328.70475412 328.70147282 328.70743428]\n",
      "2.174249574638121e-06\n",
      "[ 2.31878438e+08  4.67878534e-01  2.70087588e-15 -7.36949643e-01\n",
      "  1.16529743e+00  1.16504387e+00  1.16540636e+00]\n",
      "Iteration no.40\n"
     ]
    },
    {
     "data": {
      "application/vnd.jupyter.widget-view+json": {
       "model_id": "4a13099e6cea4bc0a719c7bf69590283",
       "version_major": 2,
       "version_minor": 0
      },
      "text/plain": [
       "HBox(children=(IntProgress(value=0, max=36500), HTML(value='')))"
      ]
     },
     "metadata": {},
     "output_type": "display_data"
    },
    {
     "data": {
      "application/vnd.jupyter.widget-view+json": {
       "model_id": "b23b8450ebda48338cccf0f3462f6e9e",
       "version_major": 2,
       "version_minor": 0
      },
      "text/plain": [
       "HBox(children=(IntProgress(value=0, max=14600), HTML(value='')))"
      ]
     },
     "metadata": {},
     "output_type": "display_data"
    },
    {
     "name": "stdout",
     "output_type": "stream",
     "text": [
      "[326.14392277 326.12145134 326.16675608 326.21136869 326.08297735\n",
      " 326.08284707 326.21264542 326.14548123 326.15598156 326.14263217\n",
      " 326.14586355 326.14355591 326.14428964 326.14056723 326.14780664]\n",
      "1.2109134480771854e-06\n",
      "[ 2.32000045e+08  4.67714881e-01  2.70703560e-15 -7.30257544e-01\n",
      "  1.16530092e+00  1.16504466e+00  1.16541420e+00]\n",
      "Iteration no.41\n"
     ]
    },
    {
     "data": {
      "application/vnd.jupyter.widget-view+json": {
       "model_id": "81f2b4e64c234c41b544905099727f3b",
       "version_major": 2,
       "version_minor": 0
      },
      "text/plain": [
       "HBox(children=(IntProgress(value=0, max=36500), HTML(value='')))"
      ]
     },
     "metadata": {},
     "output_type": "display_data"
    },
    {
     "data": {
      "application/vnd.jupyter.widget-view+json": {
       "model_id": "f1ffa2aff8bf49799307f4d631a91b89",
       "version_major": 2,
       "version_minor": 0
      },
      "text/plain": [
       "HBox(children=(IntProgress(value=0, max=14600), HTML(value='')))"
      ]
     },
     "metadata": {},
     "output_type": "display_data"
    },
    {
     "name": "stdout",
     "output_type": "stream",
     "text": [
      "[324.90665386 324.88437221 324.92894525 324.98839689 324.7993162\n",
      " 324.86128747 324.92287829 324.92867114 324.81747387 324.90521021\n",
      " 324.90809758 324.90639147 324.90691627 324.90359214 324.909531  ]\n",
      "7.18557102223317e-07\n",
      "[ 2.32071041e+08  4.67571864e-01  2.70877002e-15 -7.72311012e-01\n",
      "  1.16530278e+00  1.16504500e+00  1.16541801e+00]\n",
      "Iteration no.42\n"
     ]
    },
    {
     "data": {
      "application/vnd.jupyter.widget-view+json": {
       "model_id": "3154eece751b40d7af34f72af3c84ae0",
       "version_major": 2,
       "version_minor": 0
      },
      "text/plain": [
       "HBox(children=(IntProgress(value=0, max=36500), HTML(value='')))"
      ]
     },
     "metadata": {},
     "output_type": "display_data"
    },
    {
     "data": {
      "application/vnd.jupyter.widget-view+json": {
       "model_id": "88b4caaebb2343e4bbec5eebf5f0dc2f",
       "version_major": 2,
       "version_minor": 0
      },
      "text/plain": [
       "HBox(children=(IntProgress(value=0, max=14600), HTML(value='')))"
      ]
     },
     "metadata": {},
     "output_type": "display_data"
    },
    {
     "name": "stdout",
     "output_type": "stream",
     "text": [
      "[323.92058499 323.89798997 323.94351691 323.97753613 323.86868861\n",
      " 323.8504164  323.99760992 323.90835315 323.94464284 323.91900131\n",
      " 323.92235102 323.92020592 323.92096406 323.9167598  323.92441663]\n",
      "2.3991983163773975e-07\n",
      "[ 2.32095253e+08  4.67544375e-01  2.71015401e-15 -7.67728581e-01\n",
      "  1.16530350e+00  1.16504516e+00  1.16541965e+00]\n",
      "Iteration no.43\n"
     ]
    },
    {
     "data": {
      "application/vnd.jupyter.widget-view+json": {
       "model_id": "187fbe946550427b96e76f59927261a9",
       "version_major": 2,
       "version_minor": 0
      },
      "text/plain": [
       "HBox(children=(IntProgress(value=0, max=36500), HTML(value='')))"
      ]
     },
     "metadata": {},
     "output_type": "display_data"
    },
    {
     "data": {
      "application/vnd.jupyter.widget-view+json": {
       "model_id": "fb4892a560ef443c8ae83c838b0d936e",
       "version_major": 2,
       "version_minor": 0
      },
      "text/plain": [
       "HBox(children=(IntProgress(value=0, max=14600), HTML(value='')))"
      ]
     },
     "metadata": {},
     "output_type": "display_data"
    },
    {
     "name": "stdout",
     "output_type": "stream",
     "text": [
      "[323.61121683 323.58906036 323.63338893 323.68431559 323.54466786\n",
      " 323.55722223 323.67252998 323.62280431 323.61360486 323.60978699\n",
      " 323.61262681 323.61086492 323.61156875 323.60782365 323.61443901]\n",
      "4.774202474524557e-07\n",
      "[ 2.32142165e+08  4.67474196e-01  2.71231145e-15 -7.70040162e-01\n",
      "  1.16530471e+00  1.16504546e+00  1.16542247e+00]\n",
      "Iteration no.44\n"
     ]
    },
    {
     "data": {
      "application/vnd.jupyter.widget-view+json": {
       "model_id": "62a539b1ffbd498489c6edd30d7347d7",
       "version_major": 2,
       "version_minor": 0
      },
      "text/plain": [
       "HBox(children=(IntProgress(value=0, max=36500), HTML(value='')))"
      ]
     },
     "metadata": {},
     "output_type": "display_data"
    },
    {
     "data": {
      "application/vnd.jupyter.widget-view+json": {
       "model_id": "28e6dbd8b0f549f7a8638e36f24db5e0",
       "version_major": 2,
       "version_minor": 0
      },
      "text/plain": [
       "HBox(children=(IntProgress(value=0, max=14600), HTML(value='')))"
      ]
     },
     "metadata": {},
     "output_type": "display_data"
    },
    {
     "name": "stdout",
     "output_type": "stream",
     "text": [
      "[323.06204674 323.04026589 323.08430197 323.14572022 322.98696567\n",
      " 323.01831205 323.1142243  323.08875143 323.05211306 323.06079995\n",
      " 323.06361921 323.06170966 323.06238383 323.05908608 323.06506554]\n",
      "7.611058451242557e-07\n",
      "[ 2.32216459e+08  4.67347007e-01  2.71517231e-15 -7.84716833e-01\n",
      "  1.16530663e+00  1.16504592e+00  1.16542654e+00]\n",
      "Iteration no.45\n"
     ]
    },
    {
     "data": {
      "application/vnd.jupyter.widget-view+json": {
       "model_id": "fcba777b8c5f4dafa4c368959784a5c1",
       "version_major": 2,
       "version_minor": 0
      },
      "text/plain": [
       "HBox(children=(IntProgress(value=0, max=36500), HTML(value='')))"
      ]
     },
     "metadata": {},
     "output_type": "display_data"
    },
    {
     "data": {
      "application/vnd.jupyter.widget-view+json": {
       "model_id": "a6bfa26e0807495eaf6427ea9236895b",
       "version_major": 2,
       "version_minor": 0
      },
      "text/plain": [
       "HBox(children=(IntProgress(value=0, max=14600), HTML(value='')))"
      ]
     },
     "metadata": {},
     "output_type": "display_data"
    },
    {
     "name": "stdout",
     "output_type": "stream",
     "text": [
      "[322.19337712 322.17109007 322.21567866 322.26329612 322.12945894\n",
      " 322.13664904 322.2562347  322.19984333 322.19948682 322.1917252\n",
      " 322.19484965 322.19302304 322.1937312  322.18971388 322.19619211]\n",
      "2.676843542705916e-07\n",
      "[ 2.32242917e+08  4.67309296e-01  2.71642684e-15 -7.84767060e-01\n",
      "  1.16530737e+00  1.16504609e+00  1.16542809e+00]\n",
      "Iteration no.46\n"
     ]
    },
    {
     "data": {
      "application/vnd.jupyter.widget-view+json": {
       "model_id": "30241002ce444fc38f77fa3a5813b39b",
       "version_major": 2,
       "version_minor": 0
      },
      "text/plain": [
       "HBox(children=(IntProgress(value=0, max=36500), HTML(value='')))"
      ]
     },
     "metadata": {},
     "output_type": "display_data"
    },
    {
     "data": {
      "application/vnd.jupyter.widget-view+json": {
       "model_id": "8185be9351d943edb75e270ab4c292ee",
       "version_major": 2,
       "version_minor": 0
      },
      "text/plain": [
       "HBox(children=(IntProgress(value=0, max=14600), HTML(value='')))"
      ]
     },
     "metadata": {},
     "output_type": "display_data"
    },
    {
     "name": "stdout",
     "output_type": "stream",
     "text": [
      "[321.88477781 321.86259624 321.90720381 321.9620015  321.81454852\n",
      " 321.83604332 321.94118489 321.90349248 321.88101014 321.88318489\n",
      " 321.88637578 321.88443553 321.88512011 321.88145798 321.88782074]\n",
      "6.554875247220792e-07\n",
      "[ 2.32307731e+08  4.67207555e-01  2.71912780e-15 -7.92523318e-01\n",
      "  1.16530924e+00  1.16504649e+00  1.16543182e+00]\n",
      "Iteration no.47\n"
     ]
    },
    {
     "data": {
      "application/vnd.jupyter.widget-view+json": {
       "model_id": "ca643beaea454911a47b394ef1cf17a3",
       "version_major": 2,
       "version_minor": 0
      },
      "text/plain": [
       "HBox(children=(IntProgress(value=0, max=36500), HTML(value='')))"
      ]
     },
     "metadata": {},
     "output_type": "display_data"
    },
    {
     "data": {
      "application/vnd.jupyter.widget-view+json": {
       "model_id": "b659d1767a0847e99feb60f80649c2ab",
       "version_major": 2,
       "version_minor": 0
      },
      "text/plain": [
       "HBox(children=(IntProgress(value=0, max=14600), HTML(value='')))"
      ]
     },
     "metadata": {},
     "output_type": "display_data"
    },
    {
     "name": "stdout",
     "output_type": "stream",
     "text": [
      "[321.14201688 321.12002888 321.16435819 321.22076113 321.07099766\n",
      " 321.09458934 321.19707319 321.16247049 321.13676185 321.14077654\n",
      " 321.14353415 321.14202226 321.14223983 321.13907868 321.14541614]\n",
      "7.271198796833093e-06\n",
      "[ 2.33022223e+08  4.66061281e-01  2.74833163e-15 -8.90908917e-01\n",
      "  1.16532716e+00  1.16504791e+00  1.16547300e+00]\n",
      "Iteration no.48\n"
     ]
    },
    {
     "data": {
      "application/vnd.jupyter.widget-view+json": {
       "model_id": "7df7f37f531a425680d84e6ef16369e6",
       "version_major": 2,
       "version_minor": 0
      },
      "text/plain": [
       "HBox(children=(IntProgress(value=0, max=36500), HTML(value='')))"
      ]
     },
     "metadata": {},
     "output_type": "display_data"
    },
    {
     "data": {
      "application/vnd.jupyter.widget-view+json": {
       "model_id": "9036fcee79174bcd9c9a802724bc3b08",
       "version_major": 2,
       "version_minor": 0
      },
      "text/plain": [
       "HBox(children=(IntProgress(value=0, max=14600), HTML(value='')))"
      ]
     },
     "metadata": {},
     "output_type": "display_data"
    },
    {
     "name": "stdout",
     "output_type": "stream",
     "text": [
      "[313.09017366 313.0691995  313.11198387 313.14476591 313.04098034\n",
      " 313.02247659 313.16343806 313.07820061 313.1127945  313.08941503\n",
      " 313.09193114 313.0898107  313.09036381 313.08707806 313.09427321]\n",
      "2.024528785626045e-06\n",
      "[ 2.33214227e+08  4.65840106e-01  2.75951577e-15 -8.54047694e-01\n",
      "  1.16533172e+00  1.16504891e+00  1.16548602e+00]\n",
      "Iteration no.49\n"
     ]
    },
    {
     "data": {
      "application/vnd.jupyter.widget-view+json": {
       "model_id": "2730816610954f3795da48e744e89c4c",
       "version_major": 2,
       "version_minor": 0
      },
      "text/plain": [
       "HBox(children=(IntProgress(value=0, max=36500), HTML(value='')))"
      ]
     },
     "metadata": {},
     "output_type": "display_data"
    },
    {
     "data": {
      "application/vnd.jupyter.widget-view+json": {
       "model_id": "40c109f6f5c145678c609f94f58eeeea",
       "version_major": 2,
       "version_minor": 0
      },
      "text/plain": [
       "HBox(children=(IntProgress(value=0, max=14600), HTML(value='')))"
      ]
     },
     "metadata": {},
     "output_type": "display_data"
    },
    {
     "name": "stdout",
     "output_type": "stream",
     "text": [
      "[311.33094873 311.31021178 311.35169498 311.42798521 311.23525371\n",
      " 311.30722904 311.35624621 311.38083406 311.28394761 311.32995198\n",
      " 311.33212908 311.3307446  311.33115285 311.32869439 311.33320429]\n",
      "1.3317105612097046e-06\n",
      "[ 2.33336684e+08  4.65569934e-01  2.76207399e-15 -9.21955433e-01\n",
      "  1.16533431e+00  1.16504939e+00  1.16549139e+00]\n",
      "Iteration no.50\n"
     ]
    },
    {
     "data": {
      "application/vnd.jupyter.widget-view+json": {
       "model_id": "ea4ad9aaca8446e297189e46cde04db5",
       "version_major": 2,
       "version_minor": 0
      },
      "text/plain": [
       "HBox(children=(IntProgress(value=0, max=36500), HTML(value='')))"
      ]
     },
     "metadata": {},
     "output_type": "display_data"
    },
    {
     "data": {
      "application/vnd.jupyter.widget-view+json": {
       "model_id": "3b9d3f7ec135488c88caa2572a2379b9",
       "version_major": 2,
       "version_minor": 0
      },
      "text/plain": [
       "HBox(children=(IntProgress(value=0, max=14600), HTML(value='')))"
      ]
     },
     "metadata": {},
     "output_type": "display_data"
    },
    {
     "name": "stdout",
     "output_type": "stream",
     "text": [
      "[309.53401466 309.51290449 309.55513534 309.59854023 309.47465959\n",
      " 309.47786385 309.59503019 309.53816754 309.54028299 309.53265126\n",
      " 309.53560063 309.53367745 309.53412722 309.53071972 309.53748606]\n",
      "6.340001049321548e-07\n",
      "[ 2.33396033e+08  4.65487260e-01  2.76498518e-15 -9.21249539e-01\n",
      "  1.16533598e+00  1.16504965e+00  1.16549523e+00]\n",
      "Iteration no.51\n"
     ]
    },
    {
     "data": {
      "application/vnd.jupyter.widget-view+json": {
       "model_id": "d10f858cb9d04fe79ca5271d6b614e2a",
       "version_major": 2,
       "version_minor": 0
      },
      "text/plain": [
       "HBox(children=(IntProgress(value=0, max=36500), HTML(value='')))"
      ]
     },
     "metadata": {},
     "output_type": "display_data"
    },
    {
     "data": {
      "application/vnd.jupyter.widget-view+json": {
       "model_id": "4508e3969b9148589014874fa0881b26",
       "version_major": 2,
       "version_minor": 0
      },
      "text/plain": [
       "HBox(children=(IntProgress(value=0, max=14600), HTML(value='')))"
      ]
     },
     "metadata": {},
     "output_type": "display_data"
    },
    {
     "name": "stdout",
     "output_type": "stream",
     "text": [
      "[308.87601948 308.85504159 308.89647884 308.95483349 308.80308258\n",
      " 308.83439824 308.92335804 308.90153988 308.86297953 308.87454597\n",
      " 308.87731998 308.8757072  308.87624524 308.87328773 308.87875187]\n",
      "8.261075446107693e-07\n",
      "[ 2.33471914e+08  4.65355300e-01  2.76786528e-15 -9.38015325e-01\n",
      "  1.16533803e+00  1.16505004e+00  1.16549926e+00]\n",
      "Iteration no.52\n"
     ]
    },
    {
     "data": {
      "application/vnd.jupyter.widget-view+json": {
       "model_id": "39d1f48e7dab4e41a32ff64f426347cc",
       "version_major": 2,
       "version_minor": 0
      },
      "text/plain": [
       "HBox(children=(IntProgress(value=0, max=36500), HTML(value='')))"
      ]
     },
     "metadata": {},
     "output_type": "display_data"
    },
    {
     "data": {
      "application/vnd.jupyter.widget-view+json": {
       "model_id": "7c13fabf54084b05a806ac7e4b232845",
       "version_major": 2,
       "version_minor": 0
      },
      "text/plain": [
       "HBox(children=(IntProgress(value=0, max=14600), HTML(value='')))"
      ]
     },
     "metadata": {},
     "output_type": "display_data"
    },
    {
     "name": "stdout",
     "output_type": "stream",
     "text": [
      "[308.03105478 308.01008376 308.05203624 308.09533677 307.97200602\n",
      " 307.97519896 308.09190178 308.0353761  308.03731595 308.02981916\n",
      " 308.0324122  308.03094281 308.03138996 308.02778329 308.03428092]\n",
      "2.164459683050779e-07\n",
      "[ 2.33492042e+08  4.65327200e-01  2.76885523e-15 -9.37794339e-01\n",
      "  1.16533853e+00  1.16505013e+00  1.16550052e+00]\n",
      "Iteration no.53\n"
     ]
    },
    {
     "data": {
      "application/vnd.jupyter.widget-view+json": {
       "model_id": "68115baeae8d4354a8e91df865a41b2b",
       "version_major": 2,
       "version_minor": 0
      },
      "text/plain": [
       "HBox(children=(IntProgress(value=0, max=36500), HTML(value='')))"
      ]
     },
     "metadata": {},
     "output_type": "display_data"
    },
    {
     "data": {
      "application/vnd.jupyter.widget-view+json": {
       "model_id": "15cf8b7d99324b76a8101d4952321595",
       "version_major": 2,
       "version_minor": 0
      },
      "text/plain": [
       "HBox(children=(IntProgress(value=0, max=14600), HTML(value='')))"
      ]
     },
     "metadata": {},
     "output_type": "display_data"
    },
    {
     "name": "stdout",
     "output_type": "stream",
     "text": [
      "[307.80459522 307.78400088 307.82550566 307.8732818  307.74156464\n",
      " 307.75293063 307.86165267 307.81502587 307.80525605 307.80344656\n",
      " 307.80613588 307.80426815 307.80492229 307.8017924  307.80776008]\n",
      "9.306660586484738e-07\n",
      "[ 2.33577665e+08  4.65198164e-01  2.77282065e-15 -9.42579836e-01\n",
      "  1.16534076e+00  1.16505067e+00  1.16550548e+00]\n",
      "Iteration no.54\n"
     ]
    },
    {
     "data": {
      "application/vnd.jupyter.widget-view+json": {
       "model_id": "d97fa9c0217743cb911d3468d73344e5",
       "version_major": 2,
       "version_minor": 0
      },
      "text/plain": [
       "HBox(children=(IntProgress(value=0, max=36500), HTML(value='')))"
      ]
     },
     "metadata": {},
     "output_type": "display_data"
    },
    {
     "data": {
      "application/vnd.jupyter.widget-view+json": {
       "model_id": "70be9d90d81c4b428c83947f6512e537",
       "version_major": 2,
       "version_minor": 0
      },
      "text/plain": [
       "HBox(children=(IntProgress(value=0, max=14600), HTML(value='')))"
      ]
     },
     "metadata": {},
     "output_type": "display_data"
    },
    {
     "name": "stdout",
     "output_type": "stream",
     "text": [
      "[306.8553465  306.83464179 306.87584394 306.93281436 306.78326164\n",
      " 306.8135207  306.90270806 306.88014989 306.84264463 306.85388766\n",
      " 306.85602653 306.85503704 306.85543438 306.85203765 306.85805295]\n",
      "1.4839374739738562e-06\n",
      "[ 2.33713195e+08  4.64964557e-01  2.77800743e-15 -9.71872180e-01\n",
      "  1.16534360e+00  1.16505120e+00  1.16551346e+00]\n",
      "Iteration no.55\n"
     ]
    },
    {
     "data": {
      "application/vnd.jupyter.widget-view+json": {
       "model_id": "5e1c22d4ef3e433ea76cb64c67978afc",
       "version_major": 2,
       "version_minor": 0
      },
      "text/plain": [
       "HBox(children=(IntProgress(value=0, max=36500), HTML(value='')))"
      ]
     },
     "metadata": {},
     "output_type": "display_data"
    },
    {
     "data": {
      "application/vnd.jupyter.widget-view+json": {
       "model_id": "f79d2974583d45999fc44d01911f3499",
       "version_major": 2,
       "version_minor": 0
      },
      "text/plain": [
       "HBox(children=(IntProgress(value=0, max=14600), HTML(value='')))"
      ]
     },
     "metadata": {},
     "output_type": "display_data"
    },
    {
     "name": "stdout",
     "output_type": "stream",
     "text": [
      "[305.38300316 305.36173988 305.40383351 305.4377442  305.33262472\n",
      " 305.31954311 305.45041929 305.37472412 305.40044839 305.38131396\n",
      " 305.38463992 305.38265652 305.38312863 305.3795614  305.38617511]\n",
      "2.2692951117463332e-07\n",
      "[ 2.33734370e+08  4.64939446e-01  2.77917136e-15 -9.68799761e-01\n",
      "  1.16534428e+00  1.16505130e+00  1.16551480e+00]\n",
      "Iteration no.56\n"
     ]
    },
    {
     "data": {
      "application/vnd.jupyter.widget-view+json": {
       "model_id": "bc7a3b2fe7ee48719e6e8b31f262aecd",
       "version_major": 2,
       "version_minor": 0
      },
      "text/plain": [
       "HBox(children=(IntProgress(value=0, max=36500), HTML(value='')))"
      ]
     },
     "metadata": {},
     "output_type": "display_data"
    },
    {
     "data": {
      "application/vnd.jupyter.widget-view+json": {
       "model_id": "f0c3c880f2534fc080275936811cc2c8",
       "version_major": 2,
       "version_minor": 0
      },
      "text/plain": [
       "HBox(children=(IntProgress(value=0, max=14600), HTML(value='')))"
      ]
     },
     "metadata": {},
     "output_type": "display_data"
    },
    {
     "name": "stdout",
     "output_type": "stream",
     "text": [
      "[305.13508304 305.1146015  305.15612497 305.19845184 305.07672099\n",
      " 305.07965749 305.19508662 305.13902735 305.14148191 305.13390798\n",
      " 305.13686619 305.13475218 305.1354139  305.13191067 305.13852897]\n",
      "7.058436011241039e-07\n",
      "[ 2.33799338e+08  4.64849001e-01  2.78236439e-15 -9.67887899e-01\n",
      "  1.16534614e+00  1.16505172e+00  1.16551897e+00]\n",
      "Iteration no.57\n"
     ]
    },
    {
     "data": {
      "application/vnd.jupyter.widget-view+json": {
       "model_id": "345dec3f11ba4bdb95ea700bd236aa66",
       "version_major": 2,
       "version_minor": 0
      },
      "text/plain": [
       "HBox(children=(IntProgress(value=0, max=36500), HTML(value='')))"
      ]
     },
     "metadata": {},
     "output_type": "display_data"
    },
    {
     "data": {
      "application/vnd.jupyter.widget-view+json": {
       "model_id": "23c0aba46e9b4fc78f78acbd99e68a18",
       "version_major": 2,
       "version_minor": 0
      },
      "text/plain": [
       "HBox(children=(IntProgress(value=0, max=14600), HTML(value='')))"
      ]
     },
     "metadata": {},
     "output_type": "display_data"
    },
    {
     "name": "stdout",
     "output_type": "stream",
     "text": [
      "[304.42650627 304.40583209 304.44707869 304.50390626 304.35494564\n",
      " 304.38508545 304.4735348  304.45137036 304.41367092 304.42514422\n",
      " 304.42764901 304.42650189 304.42672635 304.42376755 304.4292984 ]\n",
      "9.09271945314714e-07\n",
      "[ 2.33882473e+08  4.64706427e-01  2.78551625e-15 -9.85929501e-01\n",
      "  1.16534818e+00  1.16505190e+00  1.16552347e+00]\n",
      "Iteration no.58\n"
     ]
    },
    {
     "data": {
      "application/vnd.jupyter.widget-view+json": {
       "model_id": "d27886c884db471d90037779505a9127",
       "version_major": 2,
       "version_minor": 0
      },
      "text/plain": [
       "HBox(children=(IntProgress(value=0, max=36500), HTML(value='')))"
      ]
     },
     "metadata": {},
     "output_type": "display_data"
    },
    {
     "data": {
      "application/vnd.jupyter.widget-view+json": {
       "model_id": "4874a490c3774e9da19d16a523226a8c",
       "version_major": 2,
       "version_minor": 0
      },
      "text/plain": [
       "HBox(children=(IntProgress(value=0, max=14600), HTML(value='')))"
      ]
     },
     "metadata": {},
     "output_type": "display_data"
    },
    {
     "name": "stdout",
     "output_type": "stream",
     "text": [
      "[303.52575526 303.50519928 303.54654107 303.58791312 303.46822287\n",
      " 303.47038584 303.58576603 303.52869345 303.53231607 303.52436567\n",
      " 303.5273137  303.52564431 303.52608453 303.52254954 303.52891375]\n",
      "1.7828969993332664e-07\n",
      "[ 2.33898811e+08  4.64683964e-01  2.78632244e-15 -9.85589566e-01\n",
      "  1.16534865e+00  1.16505197e+00  1.16552448e+00]\n",
      "Iteration no.59\n"
     ]
    },
    {
     "data": {
      "application/vnd.jupyter.widget-view+json": {
       "model_id": "d9b0a3b4d6554e529e88e8a9383b0265",
       "version_major": 2,
       "version_minor": 0
      },
      "text/plain": [
       "HBox(children=(IntProgress(value=0, max=36500), HTML(value='')))"
      ]
     },
     "metadata": {},
     "output_type": "display_data"
    },
    {
     "data": {
      "application/vnd.jupyter.widget-view+json": {
       "model_id": "7d4a782182b14dc69fb5f131907386bd",
       "version_major": 2,
       "version_minor": 0
      },
      "text/plain": [
       "HBox(children=(IntProgress(value=0, max=14600), HTML(value='')))"
      ]
     },
     "metadata": {},
     "output_type": "display_data"
    },
    {
     "name": "stdout",
     "output_type": "stream",
     "text": [
      "[303.34518099 303.3244627  303.36569163 303.41050978 303.28435603\n",
      " 303.2929619  303.40267923 303.35340043 303.34759253 303.34343438\n",
      " 303.34671042 303.34485808 303.34539528 303.3428908  303.34825515]\n",
      "9.106975648987492e-07\n",
      "[ 2.33982041e+08  4.64563030e-01  2.79023830e-15 -9.88373379e-01\n",
      "  1.16535131e+00  1.16505240e+00  1.16552885e+00]\n",
      "Iteration no.60\n"
     ]
    },
    {
     "data": {
      "application/vnd.jupyter.widget-view+json": {
       "model_id": "3ad5eda6774a486e9e4b308d003dca2d",
       "version_major": 2,
       "version_minor": 0
      },
      "text/plain": [
       "HBox(children=(IntProgress(value=0, max=36500), HTML(value='')))"
      ]
     },
     "metadata": {},
     "output_type": "display_data"
    },
    {
     "data": {
      "application/vnd.jupyter.widget-view+json": {
       "model_id": "35f94a8a9aee433aaae7246bf3bedafa",
       "version_major": 2,
       "version_minor": 0
      },
      "text/plain": [
       "HBox(children=(IntProgress(value=0, max=14600), HTML(value='')))"
      ]
     },
     "metadata": {},
     "output_type": "display_data"
    },
    {
     "name": "stdout",
     "output_type": "stream",
     "text": [
      "[302.44857357 302.42806487 302.46844185 302.52495181 302.3771328\n",
      " 302.40664924 302.49470763 302.4723048  302.43521975 302.44692486\n",
      " 302.4493573  302.44827143 302.44887571 302.44530793 302.4508459 ]\n",
      "1.2819988719424726e-06\n",
      "[ 2.34096783e+08  4.64363552e-01  2.79466252e-15 -1.01339601e+00\n",
      "  1.16535410e+00  1.16505310e+00  1.16553519e+00]\n",
      "Iteration no.61\n"
     ]
    },
    {
     "data": {
      "application/vnd.jupyter.widget-view+json": {
       "model_id": "7028eeffb953474b8a22f3a3376919ba",
       "version_major": 2,
       "version_minor": 0
      },
      "text/plain": [
       "HBox(children=(IntProgress(value=0, max=36500), HTML(value='')))"
      ]
     },
     "metadata": {},
     "output_type": "display_data"
    },
    {
     "data": {
      "application/vnd.jupyter.widget-view+json": {
       "model_id": "001917cea77f4669afdc3e07198a5067",
       "version_major": 2,
       "version_minor": 0
      },
      "text/plain": [
       "HBox(children=(IntProgress(value=0, max=14600), HTML(value='')))"
      ]
     },
     "metadata": {},
     "output_type": "display_data"
    },
    {
     "name": "stdout",
     "output_type": "stream",
     "text": [
      "[301.20709855 301.1862675  301.22766931 301.26386322 301.15460119\n",
      " 301.14747051 301.27036205 301.20348037 301.21975117 301.20546139\n",
      " 301.20868444 301.20693006 301.20732426 301.20380875 301.20995531]\n",
      "1.894633081821327e-07\n",
      "[ 2.34114170e+08  4.64341761e-01  2.79557501e-15 -1.01177352e+00\n",
      "  1.16535465e+00  1.16505316e+00  1.16553624e+00]\n",
      "Iteration no.62\n"
     ]
    },
    {
     "data": {
      "application/vnd.jupyter.widget-view+json": {
       "model_id": "465b721a8bff454a81537d17cc90dfac",
       "version_major": 2,
       "version_minor": 0
      },
      "text/plain": [
       "HBox(children=(IntProgress(value=0, max=36500), HTML(value='')))"
      ]
     },
     "metadata": {},
     "output_type": "display_data"
    },
    {
     "data": {
      "application/vnd.jupyter.widget-view+json": {
       "model_id": "80c175ed776047d6be1e4e21555d896c",
       "version_major": 2,
       "version_minor": 0
      },
      "text/plain": [
       "HBox(children=(IntProgress(value=0, max=14600), HTML(value='')))"
      ]
     },
     "metadata": {},
     "output_type": "display_data"
    },
    {
     "name": "stdout",
     "output_type": "stream",
     "text": [
      "[301.01269385 300.99226809 301.03312971 301.07481482 300.95550704\n",
      " 300.95831824 301.0712364  301.01666579 301.01816574 301.0115969\n",
      " 301.01434161 301.01247812 301.0129096  301.009434   301.01612521]\n",
      "8.391454038841101e-07\n",
      "[ 2.34190177e+08  4.64236375e-01  2.79928847e-15 -1.01111106e+00\n",
      "  1.16535670e+00  1.16505349e+00  1.16554125e+00]\n",
      "Iteration no.63\n"
     ]
    },
    {
     "data": {
      "application/vnd.jupyter.widget-view+json": {
       "model_id": "715a5267cb0a4f8facf8628c4110f756",
       "version_major": 2,
       "version_minor": 0
      },
      "text/plain": [
       "HBox(children=(IntProgress(value=0, max=36500), HTML(value='')))"
      ]
     },
     "metadata": {},
     "output_type": "display_data"
    },
    {
     "data": {
      "application/vnd.jupyter.widget-view+json": {
       "model_id": "77506dea229e4ddba268189104f74854",
       "version_major": 2,
       "version_minor": 0
      },
      "text/plain": [
       "HBox(children=(IntProgress(value=0, max=14600), HTML(value='')))"
      ]
     },
     "metadata": {},
     "output_type": "display_data"
    },
    {
     "name": "stdout",
     "output_type": "stream",
     "text": [
      "[300.20218182 300.18189085 300.2222694  300.27823635 300.13140846\n",
      " 300.16179891 300.2474452  300.227244   300.18853277 300.20055065\n",
      " 300.20360009 300.2018837  300.20247993 300.19961355 300.20492537]\n",
      "1.0469607152990117e-06\n",
      "[ 2.34283886e+08  4.64074562e-01  2.80280260e-15 -1.03244219e+00\n",
      "  1.16535956e+00  1.16505405e+00  1.16554622e+00]\n",
      "Iteration no.64\n"
     ]
    },
    {
     "data": {
      "application/vnd.jupyter.widget-view+json": {
       "model_id": "5ec6e2bb99e04ddfac8ea21c69da6c9f",
       "version_major": 2,
       "version_minor": 0
      },
      "text/plain": [
       "HBox(children=(IntProgress(value=0, max=36500), HTML(value='')))"
      ]
     },
     "metadata": {},
     "output_type": "display_data"
    },
    {
     "data": {
      "application/vnd.jupyter.widget-view+json": {
       "model_id": "369d6f1d75b34c8090035fa1126f77fe",
       "version_major": 2,
       "version_minor": 0
      },
      "text/plain": [
       "HBox(children=(IntProgress(value=0, max=14600), HTML(value='')))"
      ]
     },
     "metadata": {},
     "output_type": "display_data"
    },
    {
     "name": "stdout",
     "output_type": "stream",
     "text": [
      "[299.20747062 299.18728811 299.22766228 299.26655427 299.15322087\n",
      " 299.1511603  299.26822516 299.20737024 299.21695596 299.20608192\n",
      " 299.2090244  299.20714332 299.20779792 299.20405977 299.21105021]\n",
      "1.5355750728239273e-07\n",
      "[ 2.34297629e+08  4.64056242e-01  2.80350709e-15 -1.03166747e+00\n",
      "  1.16535996e+00  1.16505414e+00  1.16554718e+00]\n",
      "Iteration no.65\n"
     ]
    },
    {
     "data": {
      "application/vnd.jupyter.widget-view+json": {
       "model_id": "2e43abc5ae44481c9d0246a4b49162b8",
       "version_major": 2,
       "version_minor": 0
      },
      "text/plain": [
       "HBox(children=(IntProgress(value=0, max=36500), HTML(value='')))"
      ]
     },
     "metadata": {},
     "output_type": "display_data"
    },
    {
     "data": {
      "application/vnd.jupyter.widget-view+json": {
       "model_id": "90f858b487e14e8799ef6750d8be1cb1",
       "version_major": 2,
       "version_minor": 0
      },
      "text/plain": [
       "HBox(children=(IntProgress(value=0, max=14600), HTML(value='')))"
      ]
     },
     "metadata": {},
     "output_type": "display_data"
    },
    {
     "name": "stdout",
     "output_type": "stream",
     "text": [
      "[299.05567895 299.03511709 299.07560449 299.11728289 298.99785322\n",
      " 299.00164455 299.11295187 299.05977439 299.06018488 299.05393867\n",
      " 299.05655019 299.05535798 299.05578496 299.05218996 299.0585762 ]\n",
      "9.3917444478835e-07\n",
      "[ 2.34381917e+08  4.63938174e-01  2.80760392e-15 -1.03146457e+00\n",
      "  1.16536215e+00  1.16505449e+00  1.16555254e+00]\n",
      "Iteration no.66\n"
     ]
    },
    {
     "data": {
      "application/vnd.jupyter.widget-view+json": {
       "model_id": "904cac9c75514b06bc042f430c8b0007",
       "version_major": 2,
       "version_minor": 0
      },
      "text/plain": [
       "HBox(children=(IntProgress(value=0, max=36500), HTML(value='')))"
      ]
     },
     "metadata": {},
     "output_type": "display_data"
    },
    {
     "data": {
      "application/vnd.jupyter.widget-view+json": {
       "model_id": "5d22701312e14f338eaf4cbec0b16524",
       "version_major": 2,
       "version_minor": 0
      },
      "text/plain": [
       "HBox(children=(IntProgress(value=0, max=14600), HTML(value='')))"
      ]
     },
     "metadata": {},
     "output_type": "display_data"
    },
    {
     "name": "stdout",
     "output_type": "stream",
     "text": [
      "[298.16366582 298.14399681 298.18366606 298.2398638  298.09283807\n",
      " 298.12383561 298.2081651  298.18891318 298.14912736 298.16221875\n",
      " 298.16506834 298.16337161 298.16396003 298.16114268 298.16606447]\n",
      "1.1279540870686934e-06\n",
      "[ 2.34481102e+08  4.63763607e-01  2.81133170e-15 -1.05508382e+00\n",
      "  1.16536503e+00  1.16505509e+00  1.16555751e+00]\n",
      "Iteration no.67\n"
     ]
    },
    {
     "data": {
      "application/vnd.jupyter.widget-view+json": {
       "model_id": "0e48ed3553c045d8ada5542cc902cd44",
       "version_major": 2,
       "version_minor": 0
      },
      "text/plain": [
       "HBox(children=(IntProgress(value=0, max=36500), HTML(value='')))"
      ]
     },
     "metadata": {},
     "output_type": "display_data"
    },
    {
     "data": {
      "application/vnd.jupyter.widget-view+json": {
       "model_id": "1b4092666ed54f6e991cf617fc3dd74f",
       "version_major": 2,
       "version_minor": 0
      },
      "text/plain": [
       "HBox(children=(IntProgress(value=0, max=14600), HTML(value='')))"
      ]
     },
     "metadata": {},
     "output_type": "display_data"
    },
    {
     "name": "stdout",
     "output_type": "stream",
     "text": [
      "[297.11069571 297.0905252  297.13062965 297.16728558 297.057928\n",
      " 297.05245676 297.17197582 297.10717133 297.12215298 297.10930195\n",
      " 297.11179206 297.11036829 297.11085987 297.10738357 297.11352435]\n",
      "1.1361656254657354e-07\n",
      "[ 2.34491203e+08  4.63750528e-01  2.81186388e-15 -1.05418794e+00\n",
      "  1.16536528e+00  1.16505514e+00  1.16555813e+00]\n",
      "Iteration no.68\n"
     ]
    },
    {
     "data": {
      "application/vnd.jupyter.widget-view+json": {
       "model_id": "9e6993ef7988496287d14a632499e123",
       "version_major": 2,
       "version_minor": 0
      },
      "text/plain": [
       "HBox(children=(IntProgress(value=0, max=36500), HTML(value='')))"
      ]
     },
     "metadata": {},
     "output_type": "display_data"
    },
    {
     "data": {
      "application/vnd.jupyter.widget-view+json": {
       "model_id": "700fd7fa3e2843f39164cc2ef4d21f70",
       "version_major": 2,
       "version_minor": 0
      },
      "text/plain": [
       "HBox(children=(IntProgress(value=0, max=14600), HTML(value='')))"
      ]
     },
     "metadata": {},
     "output_type": "display_data"
    },
    {
     "name": "stdout",
     "output_type": "stream",
     "text": [
      "[296.99771632 296.97780071 297.01812109 297.05677553 296.9431499\n",
      " 296.94227733 297.05685527 296.99909787 297.00555089 296.99639715\n",
      " 296.99930056 296.99739406 296.9979567  296.99479761 297.00111763]\n",
      "9.47069825076962e-07\n",
      "[ 2.34575849e+08  4.63637253e-01  2.81611654e-15 -1.05097138e+00\n",
      "  1.16536774e+00  1.16505561e+00  1.16556348e+00]\n",
      "Iteration no.69\n"
     ]
    },
    {
     "data": {
      "application/vnd.jupyter.widget-view+json": {
       "model_id": "62f99972a4254595b557ae97a207a00b",
       "version_major": 2,
       "version_minor": 0
      },
      "text/plain": [
       "HBox(children=(IntProgress(value=0, max=36500), HTML(value='')))"
      ]
     },
     "metadata": {},
     "output_type": "display_data"
    },
    {
     "data": {
      "application/vnd.jupyter.widget-view+json": {
       "model_id": "6694abeebbee477b8ae78846225b8651",
       "version_major": 2,
       "version_minor": 0
      },
      "text/plain": [
       "HBox(children=(IntProgress(value=0, max=14600), HTML(value='')))"
      ]
     },
     "metadata": {},
     "output_type": "display_data"
    },
    {
     "name": "stdout",
     "output_type": "stream",
     "text": [
      "[296.11306364 296.09343681 296.1327504  296.19036357 296.04129269\n",
      " 296.07536742 296.15565949 296.14085303 296.09604303 296.11227819\n",
      " 296.11448497 296.11298828 296.11318612 296.11061526 296.11594201]\n",
      "9.926909937564642e-07\n",
      "[ 2.34662357e+08  4.63481483e-01  2.81924021e-15 -1.07438322e+00\n",
      "  1.16536970e+00  1.16505579e+00  1.16556820e+00]\n",
      "Iteration no.70\n"
     ]
    },
    {
     "data": {
      "application/vnd.jupyter.widget-view+json": {
       "model_id": "493c45b57b594e149adbd45b44bb3f8a",
       "version_major": 2,
       "version_minor": 0
      },
      "text/plain": [
       "HBox(children=(IntProgress(value=0, max=36500), HTML(value='')))"
      ]
     },
     "metadata": {},
     "output_type": "display_data"
    },
    {
     "data": {
      "application/vnd.jupyter.widget-view+json": {
       "model_id": "6c7b6e87fae14cbb979228364f98e24a",
       "version_major": 2,
       "version_minor": 0
      },
      "text/plain": [
       "HBox(children=(IntProgress(value=0, max=14600), HTML(value='')))"
      ]
     },
     "metadata": {},
     "output_type": "display_data"
    },
    {
     "name": "stdout",
     "output_type": "stream",
     "text": [
      "[295.20039832 295.18035703 295.22044893 295.25687785 295.14844345\n",
      " 295.14298928 295.26104888 295.19781372 295.21125938 295.19901567\n",
      " 295.20215709 295.20007402 295.20072262 295.19723049 295.20322244]\n",
      "5.692920555511444e-09\n",
      "[ 2.34662863e+08  4.63480834e-01  2.81926655e-15 -1.07434293e+00\n",
      "  1.16536971e+00  1.16505579e+00  1.16556824e+00]\n",
      "Iteration no.71\n"
     ]
    },
    {
     "data": {
      "application/vnd.jupyter.widget-view+json": {
       "model_id": "d46f145da53a4e5a87e8ae7ea96a9dce",
       "version_major": 2,
       "version_minor": 0
      },
      "text/plain": [
       "HBox(children=(IntProgress(value=0, max=36500), HTML(value='')))"
      ]
     },
     "metadata": {},
     "output_type": "display_data"
    },
    {
     "data": {
      "application/vnd.jupyter.widget-view+json": {
       "model_id": "dc3a47849b1f4aa3812d8c5fe89b1ef6",
       "version_major": 2,
       "version_minor": 0
      },
      "text/plain": [
       "HBox(children=(IntProgress(value=0, max=14600), HTML(value='')))"
      ]
     },
     "metadata": {},
     "output_type": "display_data"
    },
    {
     "name": "stdout",
     "output_type": "stream",
     "text": [
      "[295.19475237 295.17492671 295.21480185 295.25117296 295.14274789\n",
      " 295.13744353 295.25551541 295.19231989 295.20524878 295.19358444\n",
      " 295.1962968  295.1944283  295.19496974 295.19142565 295.19813445]\n",
      "1.307765105088892e-07\n",
      "[ 2.34674422e+08  4.63465908e-01  2.81987169e-15 -1.07345304e+00\n",
      "  1.16537003e+00  1.16505586e+00  1.16556902e+00]\n",
      "Iteration no.72\n"
     ]
    },
    {
     "data": {
      "application/vnd.jupyter.widget-view+json": {
       "model_id": "683f78a23c2643d9b9a1693082fe38bd",
       "version_major": 2,
       "version_minor": 0
      },
      "text/plain": [
       "HBox(children=(IntProgress(value=0, max=36500), HTML(value='')))"
      ]
     },
     "metadata": {},
     "output_type": "display_data"
    },
    {
     "data": {
      "application/vnd.jupyter.widget-view+json": {
       "model_id": "0339243530e34c2cb2e0d4a98ba53f33",
       "version_major": 2,
       "version_minor": 0
      },
      "text/plain": [
       "HBox(children=(IntProgress(value=0, max=14600), HTML(value='')))"
      ]
     },
     "metadata": {},
     "output_type": "display_data"
    },
    {
     "name": "stdout",
     "output_type": "stream",
     "text": [
      "[295.06744292 295.04766073 295.08744714 295.12627114 295.01283811\n",
      " 295.01314563 295.12609354 295.06945888 295.0750056  295.06592422\n",
      " 295.06917469 295.06712435 295.0677615  295.06446068 295.07091036]\n",
      "1.0884010381173566e-06\n",
      "[ 2.34770412e+08  4.63335949e-01  2.82468945e-15 -1.07027564e+00\n",
      "  1.16537319e+00  1.16505648e+00  1.16557529e+00]\n",
      "Iteration no.73\n"
     ]
    },
    {
     "data": {
      "application/vnd.jupyter.widget-view+json": {
       "model_id": "3e15db11360347c79efdd7619ec38b69",
       "version_major": 2,
       "version_minor": 0
      },
      "text/plain": [
       "HBox(children=(IntProgress(value=0, max=36500), HTML(value='')))"
      ]
     },
     "metadata": {},
     "output_type": "display_data"
    },
    {
     "data": {
      "application/vnd.jupyter.widget-view+json": {
       "model_id": "600d1d5daaa44399afda69b9f466cffb",
       "version_major": 2,
       "version_minor": 0
      },
      "text/plain": [
       "HBox(children=(IntProgress(value=0, max=14600), HTML(value='')))"
      ]
     },
     "metadata": {},
     "output_type": "display_data"
    },
    {
     "name": "stdout",
     "output_type": "stream",
     "text": [
      "[294.07305958 294.05380346 294.09194962 294.15134118 293.99950018\n",
      " 294.036008   294.11368446 294.10249068 294.05364185 294.07170774\n",
      " 294.07395105 294.07277734 294.07334182 294.07089317 294.07522927]\n",
      "1.010970026672042e-06\n",
      "[ 2.34855897e+08  4.63174363e-01  2.82776701e-15 -1.09626759e+00\n",
      "  1.16537522e+00  1.16505699e+00  1.16557921e+00]\n",
      "Iteration no.74\n"
     ]
    },
    {
     "data": {
      "application/vnd.jupyter.widget-view+json": {
       "model_id": "6aacd4b16a4545bf896ffcc4dc2b6aa8",
       "version_major": 2,
       "version_minor": 0
      },
      "text/plain": [
       "HBox(children=(IntProgress(value=0, max=36500), HTML(value='')))"
      ]
     },
     "metadata": {},
     "output_type": "display_data"
    },
    {
     "data": {
      "application/vnd.jupyter.widget-view+json": {
       "model_id": "471b1fad805b4f2bbfbe8e1767a25a73",
       "version_major": 2,
       "version_minor": 0
      },
      "text/plain": [
       "HBox(children=(IntProgress(value=0, max=14600), HTML(value='')))"
      ]
     },
     "metadata": {},
     "output_type": "display_data"
    },
    {
     "name": "stdout",
     "output_type": "stream",
     "text": [
      "[293.15418099 293.13409861 293.17384856 293.20763524 293.10421724\n",
      " 293.09535685 293.21520295 293.14832275 293.1670671  293.15242035\n",
      " 293.15535679 293.15385658 293.1542928  293.15079149 293.15714905]\n",
      "1.0117639848349361e-07\n",
      "[ 2.34864812e+08  4.63163349e-01  2.82824222e-15 -1.09526944e+00\n",
      "  1.16537548e+00  1.16505702e+00  1.16557979e+00]\n",
      "Iteration no.75\n"
     ]
    },
    {
     "data": {
      "application/vnd.jupyter.widget-view+json": {
       "model_id": "c4c9efc4753c44918a1aedadd0fd639f",
       "version_major": 2,
       "version_minor": 0
      },
      "text/plain": [
       "HBox(children=(IntProgress(value=0, max=36500), HTML(value='')))"
      ]
     },
     "metadata": {},
     "output_type": "display_data"
    },
    {
     "data": {
      "application/vnd.jupyter.widget-view+json": {
       "model_id": "2a032e893b2d4df6aca079160dd6bf9a",
       "version_major": 2,
       "version_minor": 0
      },
      "text/plain": [
       "HBox(children=(IntProgress(value=0, max=14600), HTML(value='')))"
      ]
     },
     "metadata": {},
     "output_type": "display_data"
    },
    {
     "name": "stdout",
     "output_type": "stream",
     "text": [
      "[293.05561778 293.03620891 293.07556583 293.11192351 293.00361969\n",
      " 292.99977706 293.11510247 293.05449702 293.06510617 293.05425238\n",
      " 293.05735632 293.05529806 293.05593749 293.05271814 293.05910556]\n",
      "8.269478327055909e-07\n",
      "[ 2.34936955e+08  4.63069074e-01  2.83197972e-15 -1.09065196e+00\n",
      "  1.16537778e+00  1.16505750e+00  1.16558451e+00]\n",
      "Iteration no.76\n"
     ]
    },
    {
     "data": {
      "application/vnd.jupyter.widget-view+json": {
       "model_id": "2381da44383942d89e6ff33c5556dbe2",
       "version_major": 2,
       "version_minor": 0
      },
      "text/plain": [
       "HBox(children=(IntProgress(value=0, max=36500), HTML(value='')))"
      ]
     },
     "metadata": {},
     "output_type": "display_data"
    },
    {
     "data": {
      "application/vnd.jupyter.widget-view+json": {
       "model_id": "fa7da56554ee444eb4e99c20e085e7c3",
       "version_major": 2,
       "version_minor": 0
      },
      "text/plain": [
       "HBox(children=(IntProgress(value=0, max=14600), HTML(value='')))"
      ]
     },
     "metadata": {},
     "output_type": "display_data"
    },
    {
     "name": "stdout",
     "output_type": "stream",
     "text": [
      "[292.30286858 292.28309256 292.3222363  292.37532308 292.2345715\n",
      " 292.26199553 292.34694634 292.32539719 292.28947056 292.30128133\n",
      " 292.30371266 292.30258089 292.30305131 292.29982632 292.30533389]\n",
      "9.909383837072373e-07\n",
      "[ 2.35022938e+08  4.62922257e-01  2.83527880e-15 -1.10938937e+00\n",
      "  1.16537993e+00  1.16505791e+00  1.16558938e+00]\n",
      "Iteration no.77\n"
     ]
    },
    {
     "data": {
      "application/vnd.jupyter.widget-view+json": {
       "model_id": "d4a7074a082f468faf422728fd69dffb",
       "version_major": 2,
       "version_minor": 0
      },
      "text/plain": [
       "HBox(children=(IntProgress(value=0, max=36500), HTML(value='')))"
      ]
     },
     "metadata": {},
     "output_type": "display_data"
    },
    {
     "data": {
      "application/vnd.jupyter.widget-view+json": {
       "model_id": "9adf63ffcb594dba9200f70b3d2426cb",
       "version_major": 2,
       "version_minor": 0
      },
      "text/plain": [
       "HBox(children=(IntProgress(value=0, max=14600), HTML(value='')))"
      ]
     },
     "metadata": {},
     "output_type": "display_data"
    },
    {
     "name": "stdout",
     "output_type": "stream",
     "text": [
      "[291.41473135 291.39508654 291.43438538 291.47375242 291.35994384\n",
      " 291.36221333 291.47077511 291.41771798 291.42013919 291.41340109\n",
      " 291.41643255 291.41441977 291.41504294 291.41135604 291.41773894]\n",
      "1.5233488864749637e-07\n",
      "[ 2.35036208e+08  4.62904007e-01  2.83592692e-15 -1.10919525e+00\n",
      "  1.16538034e+00  1.16505800e+00  1.16559025e+00]\n",
      "Iteration no.78\n"
     ]
    },
    {
     "data": {
      "application/vnd.jupyter.widget-view+json": {
       "model_id": "1013c7b4669f4d788632c990f8431ec5",
       "version_major": 2,
       "version_minor": 0
      },
      "text/plain": [
       "HBox(children=(IntProgress(value=0, max=36500), HTML(value='')))"
      ]
     },
     "metadata": {},
     "output_type": "display_data"
    },
    {
     "data": {
      "application/vnd.jupyter.widget-view+json": {
       "model_id": "01d0dcd26c2c40e9bfc7a35f716cf60a",
       "version_major": 2,
       "version_minor": 0
      },
      "text/plain": [
       "HBox(children=(IntProgress(value=0, max=14600), HTML(value='')))"
      ]
     },
     "metadata": {},
     "output_type": "display_data"
    },
    {
     "name": "stdout",
     "output_type": "stream",
     "text": [
      "[291.27650181 291.25699786 291.29580557 291.33717049 291.21979351\n",
      " 291.22502902 291.33065979 291.28204195 291.27922349 291.27508513\n",
      " 291.27786984 291.27629919 291.27670444 291.27307623 291.27956043]\n",
      "1.2623304519493854e-06\n",
      "[ 2.35144798e+08  4.62748040e-01  2.84115259e-15 -1.11106779e+00\n",
      "  1.16538348e+00  1.16505846e+00  1.16559757e+00]\n",
      "Iteration no.79\n"
     ]
    },
    {
     "data": {
      "application/vnd.jupyter.widget-view+json": {
       "model_id": "0b7b4697db284d468749102345fcf293",
       "version_major": 2,
       "version_minor": 0
      },
      "text/plain": [
       "HBox(children=(IntProgress(value=0, max=36500), HTML(value='')))"
      ]
     },
     "metadata": {},
     "output_type": "display_data"
    },
    {
     "data": {
      "application/vnd.jupyter.widget-view+json": {
       "model_id": "86e6cf76d8bf41fb8ac661df16be3231",
       "version_major": 2,
       "version_minor": 0
      },
      "text/plain": [
       "HBox(children=(IntProgress(value=0, max=14600), HTML(value='')))"
      ]
     },
     "metadata": {},
     "output_type": "display_data"
    },
    {
     "name": "stdout",
     "output_type": "stream",
     "text": [
      "[290.15707512 290.13812865 290.17644475 290.22995807 290.08922998\n",
      " 290.11778931 290.2006914  290.18078935 290.14353512 290.1560815\n",
      " 290.15864378 290.1567917  290.15735856 290.15500189 290.15990101]\n",
      "1.5967818057933201e-06\n",
      "[ 2.35280420e+08  4.62511501e-01  2.84634046e-15 -1.14237667e+00\n",
      "  1.16538714e+00  1.16505926e+00  1.16560456e+00]\n",
      "Iteration no.80\n"
     ]
    },
    {
     "data": {
      "application/vnd.jupyter.widget-view+json": {
       "model_id": "e8de6c17b89b470190deea51e022507c",
       "version_major": 2,
       "version_minor": 0
      },
      "text/plain": [
       "HBox(children=(IntProgress(value=0, max=36500), HTML(value='')))"
      ]
     },
     "metadata": {},
     "output_type": "display_data"
    },
    {
     "data": {
      "application/vnd.jupyter.widget-view+json": {
       "model_id": "a5d13f64db79462cb04d0bad6ae905c0",
       "version_major": 2,
       "version_minor": 0
      },
      "text/plain": [
       "HBox(children=(IntProgress(value=0, max=14600), HTML(value='')))"
      ]
     },
     "metadata": {},
     "output_type": "display_data"
    },
    {
     "name": "stdout",
     "output_type": "stream",
     "text": [
      "[288.77813566 288.75868795 288.79780519 288.82771019 288.73228371\n",
      " 288.71846847 288.84179417 288.76844682 288.79609208 288.77673858\n",
      " 288.77953515 288.77796834 288.77846041 288.77473039 288.78162547]\n",
      "1.2283677537586852e-07\n",
      "[ 2.35291071e+08  4.62499162e-01  2.84693415e-15 -1.14058938e+00\n",
      "  1.16538745e+00  1.16505932e+00  1.16560532e+00]\n",
      "Iteration no.81\n"
     ]
    },
    {
     "data": {
      "application/vnd.jupyter.widget-view+json": {
       "model_id": "26a2554673e847a3957c51fa3ae2dd9f",
       "version_major": 2,
       "version_minor": 0
      },
      "text/plain": [
       "HBox(children=(IntProgress(value=0, max=36500), HTML(value='')))"
      ]
     },
     "metadata": {},
     "output_type": "display_data"
    },
    {
     "data": {
      "application/vnd.jupyter.widget-view+json": {
       "model_id": "8ee69974aadb4ddf95f64ea458c8cfa7",
       "version_major": 2,
       "version_minor": 0
      },
      "text/plain": [
       "HBox(children=(IntProgress(value=0, max=14600), HTML(value='')))"
      ]
     },
     "metadata": {},
     "output_type": "display_data"
    },
    {
     "name": "stdout",
     "output_type": "stream",
     "text": [
      "[288.65956698 288.64011608 288.67928947 288.71280566 288.61080248\n",
      " 288.60267716 288.71968569 288.6550774  288.67209215 288.65835871\n",
      " 288.66130041 288.6594066  288.65988496 288.65662148 288.66304083]\n",
      "8.605494449950605e-07\n",
      "[ 2.35365796e+08  4.62406764e-01  2.85088029e-15 -1.13288304e+00\n",
      "  1.16538971e+00  1.16505969e+00  1.16561025e+00]\n",
      "Iteration no.82\n"
     ]
    },
    {
     "data": {
      "application/vnd.jupyter.widget-view+json": {
       "model_id": "2ff5086f14e949b992c2c2958986cff8",
       "version_major": 2,
       "version_minor": 0
      },
      "text/plain": [
       "HBox(children=(IntProgress(value=0, max=36500), HTML(value='')))"
      ]
     },
     "metadata": {},
     "output_type": "display_data"
    },
    {
     "data": {
      "application/vnd.jupyter.widget-view+json": {
       "model_id": "c1bd34586ab94408b4c8cf1337d39dd2",
       "version_major": 2,
       "version_minor": 0
      },
      "text/plain": [
       "HBox(children=(IntProgress(value=0, max=14600), HTML(value='')))"
      ]
     },
     "metadata": {},
     "output_type": "display_data"
    },
    {
     "name": "stdout",
     "output_type": "stream",
     "text": [
      "[287.89946667 287.88072202 287.91842867 287.97070607 287.83265168\n",
      " 287.85933675 287.94264631 287.92192743 287.88576199 287.89790858\n",
      " 287.90065979 287.8991858  287.89974754 287.89671819 287.90206   ]\n",
      "1.0008364443062472e-06\n",
      "[ 2.35449449e+08  4.62261322e-01  2.85414794e-15 -1.15193340e+00\n",
      "  1.16539217e+00  1.16506019e+00  1.16561503e+00]\n",
      "Iteration no.83\n"
     ]
    },
    {
     "data": {
      "application/vnd.jupyter.widget-view+json": {
       "model_id": "2e6be9a3d58c450599fcb63b822d10b8",
       "version_major": 2,
       "version_minor": 0
      },
      "text/plain": [
       "HBox(children=(IntProgress(value=0, max=36500), HTML(value='')))"
      ]
     },
     "metadata": {},
     "output_type": "display_data"
    },
    {
     "data": {
      "application/vnd.jupyter.widget-view+json": {
       "model_id": "615a108e48e24f029e7247965f1e5df6",
       "version_major": 2,
       "version_minor": 0
      },
      "text/plain": [
       "HBox(children=(IntProgress(value=0, max=14600), HTML(value='')))"
      ]
     },
     "metadata": {},
     "output_type": "display_data"
    },
    {
     "name": "stdout",
     "output_type": "stream",
     "text": [
      "[287.0362764  287.01677743 287.05510938 287.09336809 286.98214933\n",
      " 286.98436164 287.09139918 287.03901543 287.04088033 287.03460266\n",
      " 287.03737889 287.03597126 287.03650271 287.03293123 287.03905302]\n",
      "1.611962666828951e-07\n",
      "[ 2.35463146e+08  4.62242450e-01  2.85482413e-15 -1.15177518e+00\n",
      "  1.16539257e+00  1.16506027e+00  1.16561592e+00]\n",
      "Iteration no.84\n"
     ]
    },
    {
     "data": {
      "application/vnd.jupyter.widget-view+json": {
       "model_id": "569b29e2cd3f41a69041182b55e4ef70",
       "version_major": 2,
       "version_minor": 0
      },
      "text/plain": [
       "HBox(children=(IntProgress(value=0, max=36500), HTML(value='')))"
      ]
     },
     "metadata": {},
     "output_type": "display_data"
    },
    {
     "data": {
      "application/vnd.jupyter.widget-view+json": {
       "model_id": "82dc7ca8d4f440939b4cb8ec8f5ede65",
       "version_major": 2,
       "version_minor": 0
      },
      "text/plain": [
       "HBox(children=(IntProgress(value=0, max=14600), HTML(value='')))"
      ]
     },
     "metadata": {},
     "output_type": "display_data"
    },
    {
     "name": "stdout",
     "output_type": "stream",
     "text": [
      "[286.895102   286.87610548 286.91431433 286.95493361 286.83980333\n",
      " 286.84524149 286.94816774 286.90100463 286.89759626 286.89401704\n",
      " 286.89675847 286.89480054 286.89540346 286.89206502 286.8983975 ]\n",
      "1.4789842192531428e-06\n",
      "[ 2.35588410e+08  4.62063212e-01  2.86078992e-15 -1.15442830e+00\n",
      "  1.16539620e+00  1.16506106e+00  1.16562429e+00]\n",
      "Iteration no.85\n"
     ]
    },
    {
     "data": {
      "application/vnd.jupyter.widget-view+json": {
       "model_id": "ad222f124c534431bc56d184863fe31a",
       "version_major": 2,
       "version_minor": 0
      },
      "text/plain": [
       "HBox(children=(IntProgress(value=0, max=36500), HTML(value='')))"
      ]
     },
     "metadata": {},
     "output_type": "display_data"
    },
    {
     "data": {
      "application/vnd.jupyter.widget-view+json": {
       "model_id": "42c00332099245caadfc035ac43c1e0a",
       "version_major": 2,
       "version_minor": 0
      },
      "text/plain": [
       "HBox(children=(IntProgress(value=0, max=14600), HTML(value='')))"
      ]
     },
     "metadata": {},
     "output_type": "display_data"
    },
    {
     "name": "stdout",
     "output_type": "stream",
     "text": [
      "[285.63791353 285.61868304 285.6564614  285.70839651 285.57111961\n",
      " 285.59768924 285.68017726 285.65964356 285.62379732 285.63636999\n",
      " 285.63868578 285.63763608 285.63819099 285.63515891 285.64006005]\n",
      "1.8276782900511706e-06\n",
      "[ 2.35741464e+08  4.61799109e-01  2.86669831e-15 -1.18891008e+00\n",
      "  1.16539998e+00  1.16506197e+00  1.16563229e+00]\n",
      "Iteration no.86\n"
     ]
    },
    {
     "data": {
      "application/vnd.jupyter.widget-view+json": {
       "model_id": "40c5e3ad30b945fe99e48ad688c45a72",
       "version_major": 2,
       "version_minor": 0
      },
      "text/plain": [
       "HBox(children=(IntProgress(value=0, max=36500), HTML(value='')))"
      ]
     },
     "metadata": {},
     "output_type": "display_data"
    },
    {
     "data": {
      "application/vnd.jupyter.widget-view+json": {
       "model_id": "9091ed7451bb4b6e98542ce5efca8e2a",
       "version_major": 2,
       "version_minor": 0
      },
      "text/plain": [
       "HBox(children=(IntProgress(value=0, max=14600), HTML(value='')))"
      ]
     },
     "metadata": {},
     "output_type": "display_data"
    },
    {
     "name": "stdout",
     "output_type": "stream",
     "text": [
      "[284.12162226 284.10232854 284.14050902 284.16845167 284.07833008\n",
      " 284.06194257 284.18472244 284.11015195 284.14009193 284.11987021\n",
      " 284.12295841 284.12130101 284.12194352 284.11845433 284.12514906]\n",
      "1.1539343661539835e-07\n",
      "[ 2.35751230e+08  4.61788162e-01  2.86725356e-15 -1.18709173e+00\n",
      "  1.16540030e+00  1.16506204e+00  1.16563298e+00]\n",
      "Iteration no.87\n"
     ]
    },
    {
     "data": {
      "application/vnd.jupyter.widget-view+json": {
       "model_id": "33b5d4f8672842bc895928cb714e6df5",
       "version_major": 2,
       "version_minor": 0
      },
      "text/plain": [
       "HBox(children=(IntProgress(value=0, max=36500), HTML(value='')))"
      ]
     },
     "metadata": {},
     "output_type": "display_data"
    },
    {
     "data": {
      "application/vnd.jupyter.widget-view+json": {
       "model_id": "a5bcfa20efed4fe1bffacb363c7b5139",
       "version_major": 2,
       "version_minor": 0
      },
      "text/plain": [
       "HBox(children=(IntProgress(value=0, max=14600), HTML(value='')))"
      ]
     },
     "metadata": {},
     "output_type": "display_data"
    },
    {
     "name": "stdout",
     "output_type": "stream",
     "text": [
      "[284.0131747  283.99392696 284.0320176  284.06253316 283.96665852\n",
      " 283.95581033 284.07333126 284.00571887 284.02812583 284.01145226\n",
      " 284.01432935 284.01285973 284.01348968 284.01009914 284.01605264]\n",
      "1.0648926552543372e-06\n",
      "[ 2.35841143e+08  4.61680693e-01  2.87215811e-15 -1.17453330e+00\n",
      "  1.16540303e+00  1.16506263e+00  1.16563865e+00]\n",
      "Iteration no.88\n"
     ]
    },
    {
     "data": {
      "application/vnd.jupyter.widget-view+json": {
       "model_id": "4b1f7e224e1243e8a351e633ebeee30f",
       "version_major": 2,
       "version_minor": 0
      },
      "text/plain": [
       "HBox(children=(IntProgress(value=0, max=36500), HTML(value='')))"
      ]
     },
     "metadata": {},
     "output_type": "display_data"
    },
    {
     "data": {
      "application/vnd.jupyter.widget-view+json": {
       "model_id": "ec7a1e837f044d699d31dfe8c25d32f7",
       "version_major": 2,
       "version_minor": 0
      },
      "text/plain": [
       "HBox(children=(IntProgress(value=0, max=14600), HTML(value='')))"
      ]
     },
     "metadata": {},
     "output_type": "display_data"
    },
    {
     "name": "stdout",
     "output_type": "stream",
     "text": [
      "[283.11978504 283.1009613  283.13825637 283.19382268 283.04989284\n",
      " 283.08477823 283.15855615 283.14796575 283.10019204 283.1186517\n",
      " 283.1211197  283.11961931 283.11989347 283.117583   283.12198966]\n",
      "9.818878982594663e-07\n",
      "[ 2.35922317e+08  4.61531932e-01  2.87499712e-15 -1.19922195e+00\n",
      "  1.16540520e+00  1.16506288e+00  1.16564252e+00]\n",
      "Iteration no.89\n"
     ]
    },
    {
     "data": {
      "application/vnd.jupyter.widget-view+json": {
       "model_id": "c5bcfa1e8b384d8da7c324b552bd95ec",
       "version_major": 2,
       "version_minor": 0
      },
      "text/plain": [
       "HBox(children=(IntProgress(value=0, max=36500), HTML(value='')))"
      ]
     },
     "metadata": {},
     "output_type": "display_data"
    },
    {
     "data": {
      "application/vnd.jupyter.widget-view+json": {
       "model_id": "b1d89146ca3c4ae19f8ef9138d92f8f3",
       "version_major": 2,
       "version_minor": 0
      },
      "text/plain": [
       "HBox(children=(IntProgress(value=0, max=14600), HTML(value='')))"
      ]
     },
     "metadata": {},
     "output_type": "display_data"
    },
    {
     "name": "stdout",
     "output_type": "stream",
     "text": [
      "[282.30413472 282.28550314 282.32297826 282.35765336 282.25441463\n",
      " 282.25095064 282.36016912 282.30266532 282.31276595 282.30266607\n",
      " 282.3058085  282.30383031 282.30443914 282.30119639 282.30729026]\n",
      "1.2813766245673297e-07\n",
      "[ 2.35932961e+08  4.61518007e-01  2.87554559e-15 -1.19854075e+00\n",
      "  1.16540556e+00  1.16506295e+00  1.16564321e+00]\n",
      "Iteration no.90\n"
     ]
    },
    {
     "data": {
      "application/vnd.jupyter.widget-view+json": {
       "model_id": "e32dad14954e4fde8e626c0307104423",
       "version_major": 2,
       "version_minor": 0
      },
      "text/plain": [
       "HBox(children=(IntProgress(value=0, max=36500), HTML(value='')))"
      ]
     },
     "metadata": {},
     "output_type": "display_data"
    },
    {
     "data": {
      "application/vnd.jupyter.widget-view+json": {
       "model_id": "01139c0788a6450ca1506ec299f3cc21",
       "version_major": 2,
       "version_minor": 0
      },
      "text/plain": [
       "HBox(children=(IntProgress(value=0, max=14600), HTML(value='')))"
      ]
     },
     "metadata": {},
     "output_type": "display_data"
    },
    {
     "name": "stdout",
     "output_type": "stream",
     "text": [
      "[282.19512958 282.1765295  282.21394142 282.25045371 282.143613\n",
      " 282.14342976 282.24968174 282.19606305 282.2013708  282.19375564\n",
      " 282.19678522 282.19482902 282.19543014 282.19208996 282.19793719]\n",
      "1.2728156367018522e-06\n",
      "[ 2.36038515e+08  4.61374861e-01  2.88084565e-15 -1.19498507e+00\n",
      "  1.16540901e+00  1.16506363e+00  1.16564986e+00]\n",
      "Iteration no.91\n"
     ]
    },
    {
     "data": {
      "application/vnd.jupyter.widget-view+json": {
       "model_id": "8f2e44d4f9274304a691e78fd7d17eb7",
       "version_major": 2,
       "version_minor": 0
      },
      "text/plain": [
       "HBox(children=(IntProgress(value=0, max=36500), HTML(value='')))"
      ]
     },
     "metadata": {},
     "output_type": "display_data"
    },
    {
     "data": {
      "application/vnd.jupyter.widget-view+json": {
       "model_id": "8a031e0c375344df828ba53eb51ee313",
       "version_major": 2,
       "version_minor": 0
      },
      "text/plain": [
       "HBox(children=(IntProgress(value=0, max=14600), HTML(value='')))"
      ]
     },
     "metadata": {},
     "output_type": "display_data"
    },
    {
     "name": "stdout",
     "output_type": "stream",
     "text": [
      "[281.15435688 281.13575312 281.17296894 281.22425073 281.08857842\n",
      " 281.11582213 281.19553725 281.17683782 281.13936176 281.15312524\n",
      " 281.15578923 281.15426538 281.15454864 281.152021   281.15653936]\n",
      "1.4234180395517281e-06\n",
      "[ 2.36155940e+08  4.61171578e-01  2.88529249e-15 -1.22306091e+00\n",
      "  1.16541240e+00  1.16506399e+00  1.16565561e+00]\n",
      "Iteration no.92\n"
     ]
    },
    {
     "data": {
      "application/vnd.jupyter.widget-view+json": {
       "model_id": "8cf754069bf64bb1b404c2354410e3d5",
       "version_major": 2,
       "version_minor": 0
      },
      "text/plain": [
       "HBox(children=(IntProgress(value=0, max=36500), HTML(value='')))"
      ]
     },
     "metadata": {},
     "output_type": "display_data"
    },
    {
     "data": {
      "application/vnd.jupyter.widget-view+json": {
       "model_id": "18cd51df90404d3985e3b6bdc1bb230f",
       "version_major": 2,
       "version_minor": 0
      },
      "text/plain": [
       "HBox(children=(IntProgress(value=0, max=14600), HTML(value='')))"
      ]
     },
     "metadata": {},
     "output_type": "display_data"
    },
    {
     "name": "stdout",
     "output_type": "stream",
     "text": [
      "[280.00901976 279.99056935 280.02788777 280.05920149 279.96251297\n",
      " 279.95383011 280.06688151 280.00335207 280.02147233 280.0077419\n",
      " 280.01055467 280.00891727 280.00932654 280.00629597 280.01240622]\n",
      "4.4688859450571866e-08\n",
      "[ 2.36159637e+08  4.61167030e-01  2.88549049e-15 -1.22263472e+00\n",
      "  1.16541251e+00  1.16506401e+00  1.16565586e+00]\n",
      "Iteration no.93\n"
     ]
    },
    {
     "data": {
      "application/vnd.jupyter.widget-view+json": {
       "model_id": "0051739340f74407a794de0362772d0a",
       "version_major": 2,
       "version_minor": 0
      },
      "text/plain": [
       "HBox(children=(IntProgress(value=0, max=36500), HTML(value='')))"
      ]
     },
     "metadata": {},
     "output_type": "display_data"
    },
    {
     "data": {
      "application/vnd.jupyter.widget-view+json": {
       "model_id": "81d07a77fb43422a8f44e149a1c58b64",
       "version_major": 2,
       "version_minor": 0
      },
      "text/plain": [
       "HBox(children=(IntProgress(value=0, max=14600), HTML(value='')))"
      ]
     },
     "metadata": {},
     "output_type": "display_data"
    },
    {
     "name": "stdout",
     "output_type": "stream",
     "text": [
      "[279.97072572 279.95213357 279.98937675 280.02156267 279.92317017\n",
      " 279.91625668 280.02738461 279.96637186 279.98214555 279.96945272\n",
      " 279.97189683 279.97052128 279.97082681 279.96761939 279.97360536]\n",
      "1.1820234933866806e-06\n",
      "[ 2.36257220e+08  4.61044607e-01  2.89063836e-15 -1.21282163e+00\n",
      "  1.16541509e+00  1.16506433e+00  1.16566218e+00]\n",
      "Iteration no.94\n"
     ]
    },
    {
     "data": {
      "application/vnd.jupyter.widget-view+json": {
       "model_id": "6d524274cea045278a95822ec1948093",
       "version_major": 2,
       "version_minor": 0
      },
      "text/plain": [
       "HBox(children=(IntProgress(value=0, max=36500), HTML(value='')))"
      ]
     },
     "metadata": {},
     "output_type": "display_data"
    },
    {
     "data": {
      "application/vnd.jupyter.widget-view+json": {
       "model_id": "f575a468eb31496cb6f8274428630923",
       "version_major": 2,
       "version_minor": 0
      },
      "text/plain": [
       "HBox(children=(IntProgress(value=0, max=14600), HTML(value='')))"
      ]
     },
     "metadata": {},
     "output_type": "display_data"
    },
    {
     "name": "stdout",
     "output_type": "stream",
     "text": [
      "[279.02044917 279.00213703 279.03857123 279.09093538 278.95362883\n",
      " 278.98353289 279.05952286 279.04545447 279.00353176 279.01931818\n",
      " 279.02173533 279.02038367 279.02071312 279.01780906 279.02263895]\n",
      "1.1706990310531944e-06\n",
      "[ 2.36351768e+08  4.60875402e-01  2.89412478e-15 -1.23865261e+00\n",
      "  1.16541762e+00  1.16506467e+00  1.16566723e+00]\n",
      "Iteration no.95\n"
     ]
    },
    {
     "data": {
      "application/vnd.jupyter.widget-view+json": {
       "model_id": "a066a65d4d5b4008b91ddafe111980ef",
       "version_major": 2,
       "version_minor": 0
      },
      "text/plain": [
       "HBox(children=(IntProgress(value=0, max=36500), HTML(value='')))"
      ]
     },
     "metadata": {},
     "output_type": "display_data"
    },
    {
     "data": {
      "application/vnd.jupyter.widget-view+json": {
       "model_id": "45d84fafffd346728e89076aa90626a1",
       "version_major": 2,
       "version_minor": 0
      },
      "text/plain": [
       "HBox(children=(IntProgress(value=0, max=14600), HTML(value='')))"
      ]
     },
     "metadata": {},
     "output_type": "display_data"
    },
    {
     "name": "stdout",
     "output_type": "stream",
     "text": [
      "[278.09151632 278.07295805 278.11015897 278.14276174 278.04370757\n",
      " 278.03873372 278.14750394 278.08899849 278.10114033 278.09011016\n",
      " 278.09307359 278.09131699 278.09171551 278.08836652 278.09451572]\n",
      "5.509858424668927e-08\n",
      "[ 2.36356312e+08  4.60869657e-01  2.89435965e-15 -1.23830051e+00\n",
      "  1.16541777e+00  1.16506469e+00  1.16566754e+00]\n",
      "Iteration no.96\n"
     ]
    },
    {
     "data": {
      "application/vnd.jupyter.widget-view+json": {
       "model_id": "0ea22e2d9a374916a85a32fbbd64c206",
       "version_major": 2,
       "version_minor": 0
      },
      "text/plain": [
       "HBox(children=(IntProgress(value=0, max=36500), HTML(value='')))"
      ]
     },
     "metadata": {},
     "output_type": "display_data"
    },
    {
     "data": {
      "application/vnd.jupyter.widget-view+json": {
       "model_id": "a62ce05859fb4f32802ff193fa39389a",
       "version_major": 2,
       "version_minor": 0
      },
      "text/plain": [
       "HBox(children=(IntProgress(value=0, max=14600), HTML(value='')))"
      ]
     },
     "metadata": {},
     "output_type": "display_data"
    },
    {
     "name": "stdout",
     "output_type": "stream",
     "text": [
      "[278.04588796 278.02764415 278.06454281 278.09813051 277.99738794\n",
      " 277.99366186 278.10114317 278.0441873  278.05469891 278.04453949\n",
      " 278.04753876 278.04569032 278.04618685 278.04286236 278.04896608]\n",
      "1.4163848391355793e-06\n",
      "[ 2.36472161e+08  4.60719456e-01  2.90032578e-15 -1.23046446e+00\n",
      "  1.16542156e+00  1.16506532e+00  1.16567526e+00]\n",
      "Iteration no.97\n"
     ]
    },
    {
     "data": {
      "application/vnd.jupyter.widget-view+json": {
       "model_id": "93e738b373914faf94237b8d89cf7d95",
       "version_major": 2,
       "version_minor": 0
      },
      "text/plain": [
       "HBox(children=(IntProgress(value=0, max=36500), HTML(value='')))"
      ]
     },
     "metadata": {},
     "output_type": "display_data"
    },
    {
     "data": {
      "application/vnd.jupyter.widget-view+json": {
       "model_id": "ea144c73200f44cd82e62db639b8afb8",
       "version_major": 2,
       "version_minor": 0
      },
      "text/plain": [
       "HBox(children=(IntProgress(value=0, max=14600), HTML(value='')))"
      ]
     },
     "metadata": {},
     "output_type": "display_data"
    },
    {
     "name": "stdout",
     "output_type": "stream",
     "text": [
      "[276.93529491 276.9171862  276.95246712 277.00579977 276.86787603\n",
      " 276.89928983 276.97333582 276.96033708 276.91697101 276.93418279\n",
      " 276.93581254 276.93503582 276.93535669 276.93261849 276.93687631]\n",
      "1.3582531699274147e-06\n",
      "[ 2.36578384e+08  4.60522261e-01  2.90426727e-15 -1.26146557e+00\n",
      "  1.16542354e+00  1.16506571e+00  1.16568043e+00]\n",
      "Iteration no.98\n"
     ]
    },
    {
     "data": {
      "application/vnd.jupyter.widget-view+json": {
       "model_id": "bc0bcfb595bf47c6af7d9ec6c1b9bfd1",
       "version_major": 2,
       "version_minor": 0
      },
      "text/plain": [
       "HBox(children=(IntProgress(value=0, max=36500), HTML(value='')))"
      ]
     },
     "metadata": {},
     "output_type": "display_data"
    },
    {
     "data": {
      "application/vnd.jupyter.widget-view+json": {
       "model_id": "296e734b415e430db1d5fedb8b355e3a",
       "version_major": 2,
       "version_minor": 0
      },
      "text/plain": [
       "HBox(children=(IntProgress(value=0, max=14600), HTML(value='')))"
      ]
     },
     "metadata": {},
     "output_type": "display_data"
    },
    {
     "name": "stdout",
     "output_type": "stream",
     "text": [
      "[275.88500195 275.86706981 275.90337653 275.93285557 275.83383754\n",
      " 275.8302204  275.94271449 275.87765351 275.86903388 275.88387374\n",
      " 275.88640275 275.8847722  275.88523172 275.88224585 275.88808361]\n",
      "2.583931568140736e-07\n",
      "[ 2.36599180e+08  4.60495329e-01  2.90540644e-15 -1.26263781e+00\n",
      "  1.16542412e+00  1.16506582e+00  1.16568178e+00]\n",
      "Iteration no.99\n"
     ]
    },
    {
     "data": {
      "application/vnd.jupyter.widget-view+json": {
       "model_id": "3097bdc8ae5a4bf983ccfb01b4d0256c",
       "version_major": 2,
       "version_minor": 0
      },
      "text/plain": [
       "HBox(children=(IntProgress(value=0, max=36500), HTML(value='')))"
      ]
     },
     "metadata": {},
     "output_type": "display_data"
    },
    {
     "data": {
      "application/vnd.jupyter.widget-view+json": {
       "model_id": "43590c658cf5419ead638ba7cb185a74",
       "version_major": 2,
       "version_minor": 0
      },
      "text/plain": [
       "HBox(children=(IntProgress(value=0, max=14600), HTML(value='')))"
      ]
     },
     "metadata": {},
     "output_type": "display_data"
    }
   ],
   "source": [
    "#labels=[['eqparam','c_ao'],['func1','a'],['func1','b'],['func2','factor_oc'],['func2','factor_kwv'],['func2','factor_kair']]\n",
    "#labels=[['eqparam','c_ao'],['func1','a'],['func1','b']]\n",
    "labels=[['eqparam','c_ao'],['func1','m'],['func1','gamma'],['func3','f'],['func2','factor_oc'],['func2','factor_kwv'],['func2','factor_kair']]\n",
    "#P0=np.array([70*4.2e6,230,2.5])\n",
    "P0=np.array([50*4.2e6,0.5,1.9e-15,0,1.165,1.165,1.165])\n",
    "Pmin=np.array([0.5*10*4.2e6,0.4,0.6e-15,-50,0.9,0.9,0.9])\n",
    "Pmax=np.array([100*4.2e6,0.6,5e-15,50,1.2,1.2,1.2])\n",
    "#P_pert_ralative=[1/10000,1/10000,1/10000,1/10000,1/10000,1/10000]\n",
    "P_pert=(Pmax-Pmin)/10000\n",
    "#Pmin=np.array([20*4.2e6,190,1.7])\n",
    "#Pmax=np.array([120*4.2e6,250,3.3])\n",
    "#P_pert=(Pmax-Pmin)/100\n",
    "precision=1e-8\n",
    "maxlength=int(100)\n",
    "targetmode='Coupled'\n",
    "target={'GMT':EVA_GMT_1808_1858,'ZMT':ZMT_10}\n",
    "targetfunction='LeastSquare'\n",
    "ratio_ZMT_GMT=0.33\n",
    "num_params=7\n",
    "gamma0=1e-8\n",
    "setup={'number_of_parameters': num_params, 'number_of_cycles': 1, 'number_of_parallels': int(num_params*2+1)}\n",
    "control=True\n",
    "\n",
    "config_CTRL=importer('Dev_Data/Optimization/Volcanic_Sellers_CTRL_Offset.ini')\n",
    "variable_importer(config_CTRL,initialZMT=True,parallel=False)\n",
    "config_CTRL,ParasCTRL=add_sellersparameters(config_CTRL,\\\n",
    "                                        parameterinterpolatorstepwise,'SellersParameterization.ini',2,0,True,True)\n",
    "        \n",
    "config_base=importer('Dev_Data/Optimization/Volcanic_Sellers_Offset.ini')\n",
    "variable_importer(config_base,initialZMT=True,parallel=True,parallel_config=setup)\n",
    "\n",
    "config_base,ParasCTRL=add_sellersparameters(config_base,\\\n",
    "                                    parameterinterpolatorstepwise,'SellersParameterization.ini',2,0,True,True)\n",
    "\n",
    "elevation=-0.0065*np.array(ParasCTRL[1][1])\n",
    "Zero_ZMT,Zero_GMT=Vars.T,Vars.T_global\n",
    "grid=Vars.Lat\n",
    "\n",
    "F, dF, P, Ptrans , gamma, data=coremodule(config_base,P0,P_pert,Pmin,Pmax,labels,Zero_ZMT,Zero_GMT,grid,maxlength\\\n",
    "        ,targetmode,target,targetfunction,ratio_ZMT_GMT,elevation,precision,num_params,gamma0,control,config_CTRL)"
   ]
  },
  {
   "cell_type": "code",
   "execution_count": 8,
   "metadata": {},
   "outputs": [
    {
     "name": "stdout",
     "output_type": "stream",
     "text": [
      "[1.00000000e-08 9.98090279e-09 3.99900196e-06 4.71090614e-08\n",
      " 4.66349113e-08 3.89298278e-06 2.80838777e-06 8.38142968e-07\n",
      " 1.13977746e-07 1.13942421e-07 1.10759520e-07 1.17619151e-07\n",
      " 2.55298331e-07 1.35053123e-07 2.09437869e-06 2.26564427e-06\n",
      " 1.43421966e-06 2.05090599e-07 4.89206808e-07 5.60051574e-07\n",
      " 2.81137971e-07 3.03322795e-06 1.63247235e-05 5.32671935e-07\n",
      " 5.54017756e-07 4.22610768e-07 5.87551534e-05 3.89459576e-07\n",
      " 3.61990045e-07 9.53439263e-07 9.03448695e-07 2.56181683e-07\n",
      " 1.28999229e-05 1.61052448e-06 1.18319326e-06 8.24197358e-07\n",
      " 1.42262804e-07 1.59453288e-07 5.45693649e-08 2.17424957e-06\n",
      " 1.21091345e-06 7.18557102e-07 2.39919832e-07 4.77420247e-07\n",
      " 7.61105845e-07 2.67684354e-07 6.55487525e-07 7.27119880e-06\n",
      " 2.02452879e-06 1.33171056e-06 6.34000105e-07 8.26107545e-07\n",
      " 2.16445968e-07 9.30666059e-07 1.48393747e-06 2.26929511e-07\n",
      " 7.05843601e-07 9.09271945e-07 1.78289700e-07 9.10697565e-07\n",
      " 1.28199887e-06 1.89463308e-07 8.39145404e-07 1.04696072e-06\n",
      " 1.53557507e-07 9.39174445e-07 1.12795409e-06 1.13616563e-07\n",
      " 9.47069825e-07 9.92690994e-07 5.69292056e-09 1.30776511e-07\n",
      " 1.08840104e-06 1.01097003e-06 1.01176398e-07 8.26947833e-07\n",
      " 9.90938384e-07 1.52334889e-07 1.26233045e-06 1.59678181e-06\n",
      " 1.22836775e-07 8.60549445e-07 1.00083644e-06 1.61196267e-07\n",
      " 1.47898422e-06 1.82767829e-06 1.15393437e-07 1.06489266e-06\n",
      " 9.81887898e-07 1.28137662e-07 1.27281564e-06 1.42341804e-06\n",
      " 4.46888595e-08 1.18202349e-06 1.17069903e-06 5.50985842e-08\n",
      " 1.41638484e-06 1.35825317e-06 2.58393157e-07 7.30989130e-07]\n"
     ]
    },
    {
     "data": {
      "image/png": "[encoded data removed]",
      "text/plain": [
       "<Figure size 1152x648 with 2 Axes>"
      ]
     },
     "metadata": {
      "needs_background": "light"
     },
     "output_type": "display_data"
    }
   ],
   "source": [
    "fig,ax=plt.subplots(1,2,figsize=(16,9))\n",
    "for i in [0,1,99]:\n",
    "    ax[0].plot(Year_volc_1808_1858,data[1][i,0],label=i)\n",
    "for i in [0,1,99]:\n",
    "    ax[1].plot(Vars.Lat,data[0][i,0])\n",
    "#plt.plot(Year_volc_1808_1858,data[1,1])\n",
    "#plt.plot(Year_volc_1808_1858,data[1,2])\n",
    "#plt.plot(Year_volc_1808_1858,data[1,3])\n",
    "#plt.plot(Year_volc_1808_1858,data[1,4])\n",
    "ax[0].plot(Year_volc_1808_1858,EVA_GMT_1808_1858,c='k')\n",
    "ax[1].plot(Lat_10,ZMT_10,c='k')\n",
    "plt.figlegend(fontsize=15)\n",
    "#plt.xlim(1808,1858)\n",
    "print(gamma)"
   ]
  },
  {
   "cell_type": "code",
   "execution_count": 13,
   "metadata": {},
   "outputs": [
    {
     "data": {
      "text/plain": [
       "[<matplotlib.lines.Line2D at 0x7f6ac3eb2240>]"
      ]
     },
     "execution_count": 13,
     "metadata": {},
     "output_type": "execute_result"
    },
    {
     "data": {
      "image/png": "[encoded data removed]",
      "text/plain": [
       "<Figure size 432x288 with 1 Axes>"
      ]
     },
     "metadata": {
      "needs_background": "light"
     },
     "output_type": "display_data"
    }
   ],
   "source": [
    "plt.plot(np.arange(50),dF[:,0])"
   ]
  },
  {
   "cell_type": "code",
   "execution_count": 31,
   "metadata": {},
   "outputs": [
    {
     "name": "stdout",
     "output_type": "stream",
     "text": [
      "[1.00000000e-07 9.99972776e-08 7.96411807e-05 1.25390005e-04\n",
      " 1.12720129e-04 1.10334142e-04 1.14971662e-04 1.10323682e-03]\n",
      "[[4908.46279504 4907.68081928 4909.23973105 4895.28385247 4923.48298139\n",
      "  4823.27040287 5054.43158254 4908.28522758 4908.63776618 4908.43195343\n",
      "  4908.4941851  4907.80603045 4909.1303077 ]\n",
      " [1753.97298698 1753.97300141 1753.97298094 1754.48947943 1753.45663279\n",
      "  1753.97427467 1753.97169816 1753.9730001  1753.97298007 1753.97303131\n",
      "  1753.97294266 1753.97350971 1753.97247316]\n",
      " [1751.16403766 1751.16404821 1751.16402823 1751.67986844 1750.64831832\n",
      "  1751.16532353 1751.16274737 1751.16404375 1751.16403319 1751.16407915\n",
      "  1751.1639929  1751.16454727 1751.16352985]\n",
      " [ 276.06893623  276.0685077   276.0693672   276.25742215  275.88053744\n",
      "   276.07116675  276.06670406  276.07005415  276.06781831  276.06927555\n",
      "   276.0685969   276.07429964  276.06357283]\n",
      " [  90.3567686    90.35446318   90.35907689   90.33866833   90.37496561\n",
      "    90.35391603   90.35962299   90.35721128   90.35632593   90.35689827\n",
      "    90.35663893   90.35889384   90.35464369]\n",
      " [  88.18887149   88.1867166    88.19102921   88.19241665   88.18542446\n",
      "    88.18705841   88.1906857    88.18943472   88.18830828   88.18903628\n",
      "    88.1887067    88.19155067   88.1861926 ]\n",
      " [  87.75816768   87.75609049   87.76024766   87.75803714   87.75839585\n",
      "    87.75636846   87.75996801   87.75871455   87.75762083   87.75832793\n",
      "    87.75800744   87.76077304   87.75556262]\n",
      " [  87.39877952   87.39678629   87.40077548   87.39915012   87.39850639\n",
      "    87.39711857   87.40044147   87.39933138   87.39822767   87.39894134\n",
      "    87.3986177    87.40140858   87.39615075]]\n",
      "[[-7.83613837e+03 -1.48597360e+05 -7.21849269e+06 -1.86941162e+03\n",
      "  -3.29996811e+02 -7.02226440e+03]\n",
      " [ 1.02922592e-01  5.44266045e+03  8.04567656e+01  1.06174622e-01\n",
      "   4.70105393e-01  5.49650241e+00]\n",
      " [ 1.00462900e-01  5.43582832e+03  8.04459930e+01  5.59739296e-02\n",
      "   4.57343808e-01  5.39505390e+00]\n",
      " [-4.32046120e+00  1.98602139e+03  1.39356874e+02  1.18560310e+01\n",
      "   3.59868272e+00  5.68812168e+01]\n",
      " [-2.31916057e+01 -1.91271174e+02 -1.78211813e+02  4.69480338e+00\n",
      "   1.37522398e+00  2.25373408e+01]\n",
      " [-2.16780555e+01  3.68458697e+01 -1.13269478e+02  5.97317589e+00\n",
      "   1.74768867e+00  2.84123107e+01]\n",
      " [-2.08967520e+01 -1.89027118e+00 -1.12403607e+02  5.79972664e+00\n",
      "   1.69945507e+00  2.76293612e+01]\n",
      " [-2.00523557e+01  3.39219373e+00 -1.03764405e+02  5.85262668e+00\n",
      "   1.71617709e+00  2.78807780e+01]]\n",
      "[[2.94000000e+08 5.00000000e-01 1.90000000e-15 1.16500000e+00\n",
      "  1.16500000e+00 1.16500000e+00]\n",
      " [2.94327895e+08 5.02228960e-01 7.67479415e-15 1.16507478e+00\n",
      "  1.16501320e+00 1.16528089e+00]\n",
      " [2.94327891e+08 5.02147323e-01 7.67472979e-15 1.16507477e+00\n",
      "  1.16501318e+00 1.16528067e+00]\n",
      " [2.94324543e+08 4.37209955e-01 7.62347528e-15 1.16507299e+00\n",
      "  1.16499861e+00 1.16510880e+00]\n",
      " [2.94551230e+08 4.00000000e-01 7.48368360e-15 1.16447834e+00\n",
      "  1.16481812e+00 1.16225587e+00]\n",
      " [2.95645099e+08 4.03234017e-01 7.64438807e-15 1.16426666e+00\n",
      "  1.16475611e+00 1.16123970e+00]\n",
      " [2.96645937e+08 4.02624213e-01 7.74436800e-15 1.16400304e+00\n",
      "  1.16467898e+00 1.15998576e+00]\n",
      " [2.97651253e+08 4.02656812e-01 7.84775383e-15 1.16373632e+00\n",
      "  1.16460082e+00 1.15871513e+00]]\n"
     ]
    }
   ],
   "source": [
    "print(gamma)\n",
    "print(F)\n",
    "print(dF)\n",
    "print(P)"
   ]
  },
  {
   "cell_type": "code",
   "execution_count": 18,
   "metadata": {},
   "outputs": [
    {
     "name": "stdout",
     "output_type": "stream",
     "text": [
      "294000000.0\n"
     ]
    }
   ],
   "source": [
    "print(70*4.2e6)"
   ]
  },
  {
   "cell_type": "code",
   "execution_count": 30,
   "metadata": {},
   "outputs": [
    {
     "name": "stdout",
     "output_type": "stream",
     "text": [
      "38.13576100244077\n",
      "45.9309035943473\n"
     ]
    }
   ],
   "source": [
    "print(0.33*np.sum(((data[0][8,0]-target['ZMT'])*np.cos(grid*np.pi/180)/np.mean(np.cos(grid*np.pi/180)))**2))\n",
    "print(0.66*np.sum(((data[1][8,0]-target['GMT']))**2))"
   ]
  },
  {
   "cell_type": "code",
   "execution_count": 35,
   "metadata": {},
   "outputs": [
    {
     "name": "stdout",
     "output_type": "stream",
     "text": [
      "117.79102151319456\n",
      "7220029.930903146\n"
     ]
    }
   ],
   "source": [
    "print(np.sqrt(np.dot(dF[-2],dF[-2])))\n",
    "print(np.sqrt(np.dot(dF[0],dF[0])))"
   ]
  },
  {
   "cell_type": "code",
   "execution_count": 35,
   "metadata": {},
   "outputs": [
    {
     "name": "stdout",
     "output_type": "stream",
     "text": [
      "Loading Configuration from: Dev_Data/Optimization/Volcanic_Sellers_CTRL.ini\n",
      "Loading Parameters from: /Home/siv32/bsc029/.local/lib/python3.6/site-packages/lowEBMs/Tutorials/Config/Data/SellersParameterization.ini\n"
     ]
    },
    {
     "data": {
      "application/vnd.jupyter.widget-view+json": {
       "model_id": "3782507e66f94e83802c929d87a6a8b3",
       "version_major": 2,
       "version_minor": 0
      },
      "text/plain": [
       "HBox(children=(IntProgress(value=0, max=36500), HTML(value='')))"
      ]
     },
     "metadata": {},
     "output_type": "display_data"
    },
    {
     "name": "stdout",
     "output_type": "stream",
     "text": [
      "Loading Configuration from: Dev_Data/Optimization/Volcanic_Sellers.ini\n",
      "Loading Parameters from: /Home/siv32/bsc029/.local/lib/python3.6/site-packages/lowEBMs/Tutorials/Config/Data/SellersParameterization.ini\n"
     ]
    },
    {
     "data": {
      "application/vnd.jupyter.widget-view+json": {
       "model_id": "10613f34748e4442afaa120fe2511306",
       "version_major": 2,
       "version_minor": 0
      },
      "text/plain": [
       "HBox(children=(IntProgress(value=0, max=14600), HTML(value='')))"
      ]
     },
     "metadata": {},
     "output_type": "display_data"
    }
   ],
   "source": [
    "#setup={'number_of_parameters': num_params, 'number_of_cycles': 1, 'number_of_parallels': int(num_params*2+1)}\n",
    "labels=[['eqparam','c_ao'],['func1','m'],['func1','gamma'],['func2','factor_oc'],['func2','factor_kwv'],['func2','factor_kair']]\n",
    "P=[3.02794273e+08, 4.80868504e-01, 2.47299528e-15, 1.16506701e+00,\n",
    " 1.16500290e+00, 1.16499030e+00]\n",
    "#P1=[2.10056979e+08, 5.00042362e-01, 2.01124229e-15, 1.16500050e+00,1.16500009e+00, 1.16500191e+00]\n",
    "config_CTRL=importer('Dev_Data/Optimization/Volcanic_Sellers_CTRL.ini')\n",
    "variable_importer(config_CTRL,initialZMT=True,parallel=False)\n",
    "config_CTRL,ParasCTRL=add_sellersparameters(config_CTRL,\\\n",
    "                                        parameterinterpolatorstepwise,'SellersParameterization.ini',2,0,True,True)\n",
    "config_CTRL=add_parameters(config_CTRL,P,labels)\n",
    "data_CTRL=rk4alg(model_equation,config_CTRL['eqparam'],config_CTRL['funccomp'],progressbar=True)\n",
    "ZMT,GMT=data_CTRL[1][-1],data_CTRL[2][-1]\n",
    "\n",
    "config_base=importer('Dev_Data/Optimization/Volcanic_Sellers.ini')\n",
    "variable_importer(config_base,initialZMT=False)\n",
    "config_base,ParasCTRL=add_sellersparameters(config_base,\\\n",
    "                                    parameterinterpolatorstepwise,'SellersParameterization.ini',2,0,True,True)\n",
    "config=add_parameters(config_base,P,labels)\n",
    "Vars.T,Vars.T_global=ZMT,GMT   \n",
    "data1=rk4alg(model_equation,config['eqparam'],config['funccomp'],progressbar=True)"
   ]
  },
  {
   "cell_type": "code",
   "execution_count": 36,
   "metadata": {},
   "outputs": [
    {
     "data": {
      "image/png": "[encoded data removed]",
      "text/plain": [
       "<Figure size 1152x504 with 2 Axes>"
      ]
     },
     "metadata": {
      "needs_background": "light"
     },
     "output_type": "display_data"
    }
   ],
   "source": [
    "fig,ax=plt.subplots(1,2,figsize=(16,7))\n",
    "ax[0].plot(data[0]/constants.time_sec_year,data[2]-data[2][0])\n",
    "ax[0].plot(data1[0]/constants.time_sec_year,data1[2]-data1[2][0])\n",
    "ax[0].plot(Year_volc_1808_1858,EVA_GMT_1808_1858,c='k')\n",
    "\n",
    "elevation=-0.0065*np.array(ParasCTRL[1][1])\n",
    "ax[1].plot(Vars.Lat,data[1][0]+elevation)\n",
    "ax[1].plot(Vars.Lat,data1[1][0]+elevation)\n",
    "ax[1].plot(Lat_10,ZMT_10,c='k')\n",
    "\n",
    "plt.savefig('Coupled_Optimization.eps',format='EPS')"
   ]
  },
  {
   "cell_type": "code",
   "execution_count": 25,
   "metadata": {},
   "outputs": [
    {
     "data": {
      "text/plain": [
       "[<matplotlib.lines.Line2D at 0x7f7efcdb16d8>]"
      ]
     },
     "execution_count": 25,
     "metadata": {},
     "output_type": "execute_result"
    },
    {
     "data": {
      "image/png": "[encoded data removed]",
      "text/plain": [
       "<Figure size 432x288 with 1 Axes>"
      ]
     },
     "metadata": {
      "needs_background": "light"
     },
     "output_type": "display_data"
    }
   ],
   "source": [
    "elevation=-0.0065*np.array(ParasCTRL[1][1])\n",
    "plt.plot(Vars.Lat,data[1][0]+elevation)\n",
    "plt.plot(Vars.Lat,data1[1][0]+elevation)\n",
    "plt.plot(Lat_10,ZMT_10,c='k')"
   ]
  },
  {
   "cell_type": "code",
   "execution_count": null,
   "metadata": {},
   "outputs": [],
   "source": []
  }
 ],
 "metadata": {
  "kernelspec": {
   "display_name": "Python 3",
   "language": "python",
   "name": "python3"
  },
  "language_info": {
   "codemirror_mode": {
    "name": "ipython",
    "version": 3
   },
   "file_extension": ".py",
   "mimetype": "text/x-python",
   "name": "python",
   "nbconvert_exporter": "python",
   "pygments_lexer": "ipython3",
   "version": "3.6.8"
  }
 },
 "nbformat": 4,
 "nbformat_minor": 2
}
