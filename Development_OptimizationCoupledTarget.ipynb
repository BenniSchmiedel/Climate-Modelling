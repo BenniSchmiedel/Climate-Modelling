{
 "cells": [
  {
   "cell_type": "code",
   "execution_count": 1,
   "metadata": {},
   "outputs": [],
   "source": [
    "import matplotlib.pyplot as plt\n",
    "import numpy as np\n",
    "from lowEBMs.Packages.Configuration import importer, add_sellersparameters, parameterinterpolatorstepwise, reset\n",
    "#from lowEBMs.Packages.Configuration import import_parallelparameter, allocate_parallelparameter, write_parallelparameter\n",
    "from lowEBMs.Packages.Variables import variable_importer, Vars, reset, trackerreset, datareset\n",
    "from lowEBMs.Packages.RK4 import rk4alg\n",
    "from lowEBMs.Packages.ModelEquation import model_equation\n",
    "#from lowEBMs.Packages.Variables import \n",
    "#from lowEBMs.Packages.Functions import plotmeanstd\n",
    "from lowEBMs.Packages.Optimization import coremodule\n",
    "import lowEBMs.Packages.Constants as const\n",
    "from lowEBMs import update_plotstyle, moving_average\n",
    "import builtins\n",
    "import matplotlib\n",
    "update_plotstyle()\n",
    "matplotlib.rcParams['lines.linewidth']=1.1"
   ]
  },
  {
   "cell_type": "code",
   "execution_count": 2,
   "metadata": {},
   "outputs": [],
   "source": [
    "time_HADCM3_str=np.genfromtxt('Data/gmt_hadcm3.csv',usecols=[0],delimiter=',',skip_header=1,dtype='str',unpack=True,encoding='ISO-8859-1')\n",
    "time_HADCM3=np.zeros(len(time_HADCM3_str))\n",
    "for i in range(len(time_HADCM3_str)):\n",
    "    if time_HADCM3_str[i][-4]=='.':\n",
    "        year=float(time_HADCM3_str[i][-3:])\n",
    "    if time_HADCM3_str[i][-5]=='.':\n",
    "        year=float(time_HADCM3_str[i][-4:])\n",
    "    if time_HADCM3_str[i][4]=='.':\n",
    "        month=(float(time_HADCM3_str[i][3:5])-1)/12\n",
    "    if time_HADCM3_str[i][5]=='.':\n",
    "        month=(float(time_HADCM3_str[i][3:5])-1)/12\n",
    "    day=float(time_HADCM3_str[i][:2])/365\n",
    "    time_HADCM3[i]=year+month+day\n",
    "GMT_HADCM3=np.genfromtxt('Data/gmt_hadcm3.csv',usecols=[17],delimiter=',',skip_header=1,unpack=True,encoding='ISO-8859-1')\n",
    "order=np.argsort(time_HADCM3)\n",
    "GMT_HADCM3_smoothed=moving_average(GMT_HADCM3[order],12)"
   ]
  },
  {
   "cell_type": "code",
   "execution_count": 3,
   "metadata": {},
   "outputs": [],
   "source": [
    "Year_volc, CWL_GMT,  EVA_GMT, CWLcorr_GMT=np.genfromtxt('Data/Volc_800_2000.txt',skip_header=1,unpack=True)\n",
    "#Year_NorESM, SO4_FORC, SAT_GISS, SAT_VOLC, SAT_ZERO, SAT_AFIT, SAT_TREN= \\\n",
    "#np.genfromtxt('Data/NorESM_Pinatubo_GMST_response.txt',skip_header=1,unpack=True)\n",
    "Year_volc_1800_1850=Year_volc[int(1000*365/4):int(1040*365/4)]\n",
    "Year_volc_1808_1858=Year_volc[int(1008*365/4):int(1048*365/4)]\n",
    "EVA_GMT_1800_1850=EVA_GMT[int(1000*365/4):int(1040*365/4)]\n",
    "EVA_GMT_1808_1858=EVA_GMT[int(1008*365/4):int(1048*365/4)]\n",
    "Lat_10,ZMT_10=np.loadtxt('Data/ERA_ZMT_Mean_10deginterpolated.txt')"
   ]
  },
  {
   "cell_type": "code",
   "execution_count": 7,
   "metadata": {},
   "outputs": [],
   "source": [
    "def coremodule(config,P0,P_pert_ratio,Pmin,Pmax,labels,ZMT,GMT,grid,maxlength,targetmode,target,targetfunction,ratio_ZMT_GMT,elevation,precision,num_paras,gamma0,control,controlconfig):\n",
    "    from tqdm import tqdm, tnrange\n",
    "    \n",
    "    F=np.reshape(np.zeros(maxlength*(2*num_paras+1)),(maxlength,2*num_paras+1))\n",
    "    dF=np.reshape(np.zeros(maxlength*(num_paras)),(maxlength,num_paras))\n",
    "    P=np.reshape(np.zeros(maxlength*(num_paras)),(maxlength,num_paras))\n",
    "    Ptrans=np.reshape(np.zeros(maxlength*(num_paras)),(maxlength,num_paras))\n",
    "    gamma=np.zeros(maxlength)\n",
    "    \n",
    "    if targetmode=='Single':\n",
    "        dataout=np.reshape(np.zeros(maxlength*(2*num_paras+1)),(maxlength,(2*num_paras+1)))\n",
    "    elif targetmode=='ZMT':\n",
    "        dataout=np.reshape(np.zeros(maxlength*len(grid)*(2*num_paras+1)),(maxlength,(2*num_paras+1),len(grid)))\n",
    "    elif targetmode=='GMT':\n",
    "        dataout=np.reshape(np.zeros(maxlength*int(number_of_integration/data_readout)*(2*num_paras+1)),(maxlength,(2*num_paras+1),int(number_of_integration/data_readout)))\n",
    "    elif targetmode=='Coupled':\n",
    "        dataout_ZMT=np.reshape(np.zeros(maxlength*len(grid)*(2*num_paras+1)),(maxlength,(2*num_paras+1),len(grid)))\n",
    "        dataout_GMT=np.reshape(np.zeros(maxlength*int(number_of_integration/data_readout)*(2*num_paras+1)),(maxlength,(2*num_paras+1),int(number_of_integration/data_readout)))     \n",
    "    for i in tnrange(maxlength):\n",
    "        print('Iteration no.'+str(i))\n",
    "        if i==0:\n",
    "            P[i]=P0\n",
    "            P_pert=(Pmax-Pmin)*P_pert_ratio\n",
    "            Ptrans[i]=(P0-Pmin)/(Pmax-Pmin)\n",
    "            Ptrans_pert=Ptrans[i]*P_pert_ratio\n",
    "\n",
    "        if targetmode=='Coupled':\n",
    "            data_ZMT,data_GMT=run_model(config,P[i],P_pert,labels,ZMT,GMT,targetmode,control,controlconfig,grid,elevation)\n",
    "            dataout_ZMT[i]=data_ZMT\n",
    "            dataout_GMT[i]=data_GMT\n",
    "        else:\n",
    "            data=run_model(config,P[i],P_pert,labels,ZMT,GMT,targetmode,control,controlconfig,grid,elevation)\n",
    "            dataout[i]=data\n",
    "            \n",
    "        if targetmode=='Coupled':\n",
    "            target_ZMT=target['ZMT']\n",
    "            target_GMT=target['GMT']\n",
    "            F_ZMT=target_comparison(data_ZMT,'ZMT',target_ZMT,targetfunction,num_paras,grid)\n",
    "            F_GMT=target_comparison(data_GMT,'GMT',target_GMT,targetfunction,num_paras,grid)\n",
    "            F[i]=ratio_ZMT_GMT*F_ZMT+(1-ratio_ZMT_GMT)*F_GMT\n",
    "        else:\n",
    "            F[i]=target_comparison(data,targetmode,target,targetfunction,num_paras,grid)\n",
    "\n",
    "        dF[i]=local_gradient(F[i],Ptrans_pert)\n",
    "        #dF[i]=local_gradient(F[i],P_pert)\n",
    "        if i==0:\n",
    "            gamma[i]=gamma0\n",
    "        else:\n",
    "            #gamma[i]=step_weighting(dF[i-1],dF[i],P[i-1],P[i])\n",
    "            gamma[i]=step_weighting(dF[i-1],dF[i],Ptrans[i-1],Ptrans[i])\n",
    "            \n",
    "        if precision_check(dF[0],dF[i],precision):\n",
    "            print('stop',i)\n",
    "            P=P[:i]\n",
    "            Ptrans=Ptrans[:i]\n",
    "            F=F[:i]\n",
    "            dF=dF[:i]\n",
    "            gamma=gamma[:i]\n",
    "            break\n",
    "                \n",
    "        #P_next=new_parameters(P[i],gamma[i],dF[i])        \n",
    "        Ptrans_next=new_parameters(Ptrans[i],gamma[i],dF[i])\n",
    "\n",
    "        for k in range(num_paras):\n",
    "            if Ptrans_next[k]<0:\n",
    "                Ptrans_next[k]=0.\n",
    "            if Ptrans_next[k]>1:\n",
    "                Ptrans_next[k]=1.\n",
    "\n",
    "        if i<maxlength-1:\n",
    "            Ptrans[i+1]=Ptrans_next\n",
    "            P[i+1]=Pmin+Ptrans_next*(Pmax-Pmin)\n",
    "            print(F[i])\n",
    "            print(gamma[i])\n",
    "            print(P[i+1])\n",
    "            \n",
    "        if targetmode=='Coupled':\n",
    "            dataout=[dataout_ZMT,dataout_GMT]\n",
    "            \n",
    "    return F, dF, P , Ptrans, gamma, dataout\n",
    "    \n",
    "def target_comparison(data,targetmode,target,targetfunction,num_paras,grid):\n",
    "    F=np.zeros(2*num_paras+1)\n",
    "    if targetfunction=='LeastSquare':\n",
    "        if targetmode=='Single':\n",
    "            F=(np.array(data)-target)**2\n",
    "        elif targetmode=='ZMT':\n",
    "            for i in range(len(F)):\n",
    "                if len(data[i])==len(target):\n",
    "                    F[i]=np.sum(((data[i]-target)*np.cos(grid*np.pi/180)/np.mean(np.cos(grid*np.pi/180)))**2)\n",
    "                elif len(data[i])==len(F):\n",
    "                    F[i]=np.sum(((data[:,i]-target)*np.cos(grid*np.pi/180)/np.mean(np.cos(grid*np.pi/180)))**2)\n",
    "        elif targetmode=='GMT':\n",
    "            for i in range(len(F)):\n",
    "                F[i]=np.sum((data[i]-target)**2)\n",
    "\n",
    "    return F\n",
    "\n",
    "def local_gradient(F,P_pert):\n",
    "    dF=np.zeros(len(P_pert))\n",
    "    for k in range(len(P_pert)):\n",
    "        dF[k]=(F[2*(k+1)-1]-F[2*(k+1)])/(2*P_pert[k])\n",
    "    return dF\n",
    "\n",
    "def step_weighting(dF0,dF1,P0,P1):\n",
    "    gamma=np.abs(np.dot(P1-P0,dF1-dF0)/np.dot(np.abs(dF1-dF0),np.abs(dF1-dF0)))\n",
    "    return gamma\n",
    "\n",
    "def precision_check(dF0,dF,precision):\n",
    "    dFabs=np.sqrt(np.dot(dF,dF))\n",
    "    dF0abs=np.sqrt(np.dot(dF0,dF0))\n",
    "    if dFabs/dF0abs <= precision:\n",
    "        return True\n",
    "    \n",
    "def new_parameters(P,gamma,dF):\n",
    "    P_next=P-gamma*dF\n",
    "    return P_next\n",
    "\n",
    "def run_model(config,P,P_pert,labels,ZMT,GMT,targetmode,control,controlconfig,grid,elevation):\n",
    "    \n",
    "    P_config=reshape_parameters(P,P_pert)\n",
    "    setup={'number_of_parameters': len(P), 'number_of_cycles': 1, 'number_of_parallels': len(P)*2+1}\n",
    "    \n",
    "    if targetmode=='Coupled':\n",
    "        control=True\n",
    "        \n",
    "    if control==True:\n",
    "        variable_importer(controlconfig,initialZMT=True,parallel=True,parallel_config=setup)\n",
    "        controlconfig=add_parameters(controlconfig,P_config,labels)\n",
    "        data_CTRL=rk4alg(model_equation,controlconfig['eqparam'],controlconfig['rk4input'],controlconfig['funccomp'],progressbar=True)\n",
    "        ZMT,GMT=data_CTRL[1][-1],data_CTRL[2][-1]\n",
    "\n",
    "    variable_importer(config,initialZMT=False,parallel=True,parallel_config=setup)\n",
    "    config=add_parameters(config,P_config,labels)\n",
    "    Vars.T,Vars.T_global=ZMT,GMT   \n",
    "    data=rk4alg(model_equation,config['eqparam'],config['rk4input'],config['funccomp'],progressbar=True)\n",
    "    \n",
    "    if targetmode=='Single':\n",
    "        data_out=data[2][-1]\n",
    "    elif targetmode=='ZMT':\n",
    "        dataZMT=data[1][-1]\n",
    "        for i in range(len(dataZMT)):\n",
    "            dataZMT[i]=dataZMT[i]+elevation\n",
    "        data_out=dataZMT\n",
    "    elif targetmode=='GMT':\n",
    "        data_out=np.transpose(data[2][:-1]-data[2][0])\n",
    "    elif targetmode=='Coupled':\n",
    "        dataZMT=data_CTRL[1][-1]\n",
    "        for i in range(len(dataZMT)):\n",
    "            dataZMT[i]=dataZMT[i]+elevation\n",
    "        dataGMT=np.transpose(data[2][:-1]-data[2][0])\n",
    "        data_out=[dataZMT,dataGMT]\n",
    "    return data_out\n",
    "\n",
    "def reshape_parameters(P,P_pert):\n",
    "    num_para=len(P)\n",
    "    P_config=np.reshape(np.zeros(num_para*(2*num_para+1)),(num_para,2*num_para+1))\n",
    "    for i in range(num_para):\n",
    "        P_config[i]=np.array([P[i]]*(2*num_para+1))\n",
    "        P_config[i][i*2+1]=P[i]+P_pert[i]\n",
    "        P_config[i][i*2+2]=P[i]-P_pert[i]\n",
    "                      \n",
    "    return P_config\n",
    "             \n",
    "def add_parameters(config,P_config,labels):\n",
    "    num_para=len(P_config)\n",
    "    \n",
    "    for i in range(num_para):\n",
    "        if labels[i][0][:4]=='func':\n",
    "            config['funccomp']['funcparam'][labels[i][0]][labels[i][1]]=P_config[i]\n",
    "        if labels[i][0]=='eqparam':\n",
    "            config[labels[i][0]][labels[i][1]]=P_config[i]\n",
    "    return config"
   ]
  },
  {
   "cell_type": "code",
   "execution_count": null,
   "metadata": {},
   "outputs": [
    {
     "name": "stdout",
     "output_type": "stream",
     "text": [
      "Loading Configuration from: Dev_Data/Optimization/Volcanic_Sellers_CTRL_Offset.ini\n",
      "Loading Parameters from: /Home/siv32/bsc029/.local/lib/python3.6/site-packages/lowEBMs/Tutorials/Config/Data/SellersParameterization.ini\n",
      "Loading Configuration from: Dev_Data/Optimization/Volcanic_Sellers_Offset.ini\n",
      "Loading Parameters from: /Home/siv32/bsc029/.local/lib/python3.6/site-packages/lowEBMs/Tutorials/Config/Data/SellersParameterization.ini\n"
     ]
    },
    {
     "data": {
      "application/vnd.jupyter.widget-view+json": {
       "model_id": "99559c3a2d8b439b847076ce52df1e13",
       "version_major": 2,
       "version_minor": 0
      },
      "text/plain": [
       "HBox(children=(IntProgress(value=0), HTML(value='')))"
      ]
     },
     "metadata": {},
     "output_type": "display_data"
    },
    {
     "name": "stdout",
     "output_type": "stream",
     "text": [
      "Iteration no.0\n"
     ]
    },
    {
     "data": {
      "application/vnd.jupyter.widget-view+json": {
       "model_id": "7fd89d96ac184361b700bc62a9dc1c3a",
       "version_major": 2,
       "version_minor": 0
      },
      "text/plain": [
       "HBox(children=(IntProgress(value=0, max=36500), HTML(value='')))"
      ]
     },
     "metadata": {},
     "output_type": "display_data"
    },
    {
     "data": {
      "application/vnd.jupyter.widget-view+json": {
       "model_id": "46db8e1fa2984943971ca745f8a1ccf9",
       "version_major": 2,
       "version_minor": 0
      },
      "text/plain": [
       "HBox(children=(IntProgress(value=0, max=14600), HTML(value='')))"
      ]
     },
     "metadata": {},
     "output_type": "display_data"
    },
    {
     "name": "stdout",
     "output_type": "stream",
     "text": [
      "[5091.30025057 5090.96696618 5091.60203888 5090.32411016 5092.25327875\n",
      " 5089.63895442 5093.03159183 5089.02812291 5093.69434753 5088.57179181\n",
      " 5094.20892289 5088.29330253 5094.52477879 5088.14834063 5094.68433353\n",
      " 5088.06511028 5094.77233089 5088.00176901 5094.84118861 5088.0158072\n",
      " 5094.8248961  5088.11123304 5094.72009535 5088.25944488 5094.55758372\n",
      " 5088.33628808 5094.46304336 5088.51185166 5094.27783302 5088.92084215\n",
      " 5093.8145484  5089.49362249 5093.17225775 5090.15452056 5092.4336405\n",
      " 5090.89802922 5091.6676638 ]\n",
      "1e-08\n",
      "[0.00635073 0.01929169 0.03392637 0.04666225 0.05637131 0.06231476\n",
      " 0.06535993 0.06707221 0.0683942  0.06809089 0.06608862 0.06298139\n",
      " 0.06126755 0.05765981 0.04893706 0.03678635 0.0227912  0.00769635]\n",
      "Iteration no.1\n"
     ]
    },
    {
     "data": {
      "application/vnd.jupyter.widget-view+json": {
       "model_id": "980d27662d78405bbaf7cbcf5d6d2b4b",
       "version_major": 2,
       "version_minor": 0
      },
      "text/plain": [
       "HBox(children=(IntProgress(value=0, max=36500), HTML(value='')))"
      ]
     },
     "metadata": {},
     "output_type": "display_data"
    },
    {
     "data": {
      "application/vnd.jupyter.widget-view+json": {
       "model_id": "e521d1af22be4b769a2c6e2f443d9ef5",
       "version_major": 2,
       "version_minor": 0
      },
      "text/plain": [
       "HBox(children=(IntProgress(value=0, max=14600), HTML(value='')))"
      ]
     },
     "metadata": {},
     "output_type": "display_data"
    },
    {
     "name": "stdout",
     "output_type": "stream",
     "text": [
      "[4939.13764877 4938.98850145 4939.28395466 4938.69830519 4939.56917251\n",
      " 4938.3879161  4939.88751104 4938.11407215 4940.15651291 4937.91603195\n",
      " 4940.371967   4937.79120592 4940.49322795 4937.74628833 4940.55371667\n",
      " 4937.6954831  4940.60127136 4937.66599703 4940.6339676  4937.66772862\n",
      " 4940.62947248 4937.71511182 4940.58498789 4937.76283714 4940.52170396\n",
      " 4937.79935254 4940.48606543 4937.87453979 4940.41261005 4938.05961243\n",
      " 4940.22047786 4938.31177164 4939.95496328 4938.61559221 4939.65099911\n",
      " 4938.95211024 4939.31251322]\n",
      "1.7739564230413957e-08\n",
      "[0.01159194 0.03474049 0.06052853 0.08289426 0.09993853 0.11024746\n",
      " 0.11516248 0.11861962 0.1210447  0.12063093 0.11699897 0.11192248\n",
      " 0.10892867 0.10268407 0.08726987 0.06593586 0.04115887 0.01408974]\n",
      "Iteration no.2\n"
     ]
    },
    {
     "data": {
      "application/vnd.jupyter.widget-view+json": {
       "model_id": "b51dfc679c0f48ae9d077fe1e565319f",
       "version_major": 2,
       "version_minor": 0
      },
      "text/plain": [
       "HBox(children=(IntProgress(value=0, max=36500), HTML(value='')))"
      ]
     },
     "metadata": {},
     "output_type": "display_data"
    },
    {
     "data": {
      "application/vnd.jupyter.widget-view+json": {
       "model_id": "7c0b9972c4a6476189d449487abcd560",
       "version_major": 2,
       "version_minor": 0
      },
      "text/plain": [
       "HBox(children=(IntProgress(value=0, max=14600), HTML(value='')))"
      ]
     },
     "metadata": {},
     "output_type": "display_data"
    },
    {
     "name": "stdout",
     "output_type": "stream",
     "text": [
      "[4893.47534371 4893.40408376 4893.54660464 4893.2654088  4893.68528555\n",
      " 4893.1119946  4893.83871192 4892.98023292 4893.86440869 4892.87910807\n",
      " 4893.83346439 4892.8198039  4893.79988853 4892.79327055 4893.77849827\n",
      " 4892.76218576 4893.78755879 4892.74333481 4893.79020382 4892.74400524\n",
      " 4893.79145596 4892.76483631 4893.80403106 4892.7937877  4893.82397304\n",
      " 4892.80799739 4893.83661523 4892.84566541 4893.8525744  4892.94152756\n",
      " 4893.87730571 4893.07116941 4893.87381555 4893.22147966 4893.72921612\n",
      " 4893.38732443 4893.56336396]\n",
      "2.857249945308397e-08\n",
      "[0.01566412 0.04673742 0.08129267 0.10815737 0.12720687 0.13825092\n",
      " 0.1433129  0.14791709 0.15095636 0.15055922 0.14669137 0.14135745\n",
      " 0.13831885 0.13145398 0.11400739 0.08886946 0.05566617 0.01911963]\n",
      "Iteration no.3\n"
     ]
    },
    {
     "data": {
      "application/vnd.jupyter.widget-view+json": {
       "model_id": "c8192cc01a86400c8e457cfab4e2ac7f",
       "version_major": 2,
       "version_minor": 0
      },
      "text/plain": [
       "HBox(children=(IntProgress(value=0, max=36500), HTML(value='')))"
      ]
     },
     "metadata": {},
     "output_type": "display_data"
    },
    {
     "data": {
      "application/vnd.jupyter.widget-view+json": {
       "model_id": "d1ae81459bbf42b69d6042d60b36882d",
       "version_major": 2,
       "version_minor": 0
      },
      "text/plain": [
       "HBox(children=(IntProgress(value=0, max=14600), HTML(value='')))"
      ]
     },
     "metadata": {},
     "output_type": "display_data"
    },
    {
     "name": "stdout",
     "output_type": "stream",
     "text": [
      "[4868.73073215 4868.65972114 4868.80174395 4868.52155014 4868.93992064\n",
      " 4868.36870999 4869.09277326 4868.2374553  4869.22404464 4868.13674934\n",
      " 4869.32476851 4868.07773047 4869.38380172 4868.05134408 4869.41019611\n",
      " 4868.02040366 4869.44114485 4868.00163511 4869.45991835 4868.0023052\n",
      " 4869.45924823 4868.02305089 4869.4384974  4868.05186484 4869.40967555\n",
      " 4868.06596267 4869.3955716  4868.10338814 4869.35813338 4868.19884448\n",
      " 4869.26265871 4868.32799566 4869.1334903  4868.47776248 4868.98371029\n",
      " 4868.6430191  4868.8184462 ]\n",
      "8.589630252453263e-08\n",
      "[0.02786335 0.0826739  0.14348702 0.19290174 0.22925333 0.25043761\n",
      " 0.26003327 0.26995351 0.2762175  0.27570524 0.26827299 0.25798837\n",
      " 0.25252734 0.23923196 0.2053851  0.15805847 0.09912521 0.03418817]\n",
      "Iteration no.4\n"
     ]
    },
    {
     "data": {
      "application/vnd.jupyter.widget-view+json": {
       "model_id": "8842e01101ce45a486505cfba443df1c",
       "version_major": 2,
       "version_minor": 0
      },
      "text/plain": [
       "HBox(children=(IntProgress(value=0, max=36500), HTML(value='')))"
      ]
     },
     "metadata": {},
     "output_type": "display_data"
    },
    {
     "data": {
      "application/vnd.jupyter.widget-view+json": {
       "model_id": "f21c4aac7e7f479db1f94d6cbfe037dc",
       "version_major": 2,
       "version_minor": 0
      },
      "text/plain": [
       "HBox(children=(IntProgress(value=0, max=14600), HTML(value='')))"
      ]
     },
     "metadata": {},
     "output_type": "display_data"
    },
    {
     "name": "stdout",
     "output_type": "stream",
     "text": [
      "[4774.1953348  4774.12531462 4774.26535573 4773.98914622 4774.40153007\n",
      " 4773.83858631 4774.55210292 4773.70934473 4774.68136186 4773.61029777\n",
      " 4774.78042745 4773.55240236 4774.83833769 4773.52659194 4774.86415634\n",
      " 4773.49622008 4774.89453676 4773.47777674 4774.9129852  4773.47844512\n",
      " 4774.9123168  4773.49885285 4774.89190374 4773.52712591 4774.86362257\n",
      " 4773.54078916 4774.84995315 4773.57726811 4774.81346124 4773.67111884\n",
      " 4774.71959146 4773.79832    4774.59237227 4773.94592425 4774.44475421\n",
      " 4774.10884074 4774.28182991]\n",
      "5.579748623586915e-06\n",
      "[0.80925753 2.38367209 4.12473033 5.61651295 6.7582828  7.42563349\n",
      " 7.72330639 8.07220907 8.28431993 8.27634877 8.04114679 7.71530378\n",
      " 7.5573333  7.13687889 6.05559881 4.58867057 2.88247098 0.99942423]\n",
      "Iteration no.5\n"
     ]
    },
    {
     "data": {
      "application/vnd.jupyter.widget-view+json": {
       "model_id": "2858871caf1c4aefaa2e6f1387f60d72",
       "version_major": 2,
       "version_minor": 0
      },
      "text/plain": [
       "HBox(children=(IntProgress(value=0, max=36500), HTML(value='')))"
      ]
     },
     "metadata": {},
     "output_type": "display_data"
    },
    {
     "data": {
      "application/vnd.jupyter.widget-view+json": {
       "model_id": "2ff93973eb404d9399ef9e9befed67c2",
       "version_major": 2,
       "version_minor": 0
      },
      "text/plain": [
       "HBox(children=(IntProgress(value=0, max=14600), HTML(value='')))"
      ]
     },
     "metadata": {},
     "output_type": "display_data"
    },
    {
     "name": "stdout",
     "output_type": "stream",
     "text": [
      "[1028.25931667 1028.25776577 1028.26086795 1028.25464783 1028.2639879\n",
      " 1028.25066161 1028.26797658 1028.24688103 1028.27175972 1028.24380847\n",
      " 1028.27483404 1028.24193282 1028.27671011 1028.24042507 1028.27821865\n",
      " 1028.23926392 1028.27938074 1028.23861182 1028.28003341 1028.2385844\n",
      " 1028.28006077 1028.23920978 1028.27943472 1028.24033678 1028.27830674\n",
      " 1028.24185171 1028.27679211 1028.24358367 1028.27505972 1028.24712134\n",
      " 1028.27151955 1028.25116025 1028.26747779 1028.25479996 1028.26383537\n",
      " 1028.25792692 1028.26070667]\n",
      "5.735035312753592e-06\n",
      "[0.82704869 2.4372377  4.22403232 5.75919312 6.93621556 7.62508244\n",
      " 7.94005391 8.30228048 8.52187418 8.5142172  8.27183823 7.93306283\n",
      " 7.75771775 7.31739511 6.19552341 4.68225223 2.93428936 1.01536621]\n",
      "Iteration no.6\n"
     ]
    },
    {
     "data": {
      "application/vnd.jupyter.widget-view+json": {
       "model_id": "543efcdd518840f6b48981d9e2585997",
       "version_major": 2,
       "version_minor": 0
      },
      "text/plain": [
       "HBox(children=(IntProgress(value=0, max=36500), HTML(value='')))"
      ]
     },
     "metadata": {},
     "output_type": "display_data"
    },
    {
     "data": {
      "application/vnd.jupyter.widget-view+json": {
       "model_id": "1bc14d1c6ad7426c85e3be7347fabd51",
       "version_major": 2,
       "version_minor": 0
      },
      "text/plain": [
       "HBox(children=(IntProgress(value=0, max=14600), HTML(value='')))"
      ]
     },
     "metadata": {},
     "output_type": "display_data"
    },
    {
     "name": "stdout",
     "output_type": "stream",
     "text": [
      "[933.42732989 933.34766853 933.50764574 933.21413978 933.6412068\n",
      " 933.10905446 933.74503702 933.02404052 933.83139144 932.96682295\n",
      " 933.88865405 933.03146241 933.82332982 933.06460073 933.78951927\n",
      " 933.07040848 933.78371074 933.06981155 933.78430919 933.07431064\n",
      " 933.77980777 933.08496879 933.76915024 933.10195656 933.75280159\n",
      " 933.11471293 933.74067957 933.11193518 933.74281534 933.14460448\n",
      " 933.71077811 933.20176773 933.65358361 933.2780172  933.57730719\n",
      " 933.37294105 933.48237773]\n",
      "2.742968590314304e-07\n",
      "[0.87092993 2.55438084 4.39848034 5.98064694 7.18907093 7.84228918\n",
      " 8.13889679 8.49793705 8.71785864 8.70773284 8.45950705 8.11158758\n",
      " 7.92941843 7.49044356 6.35082306 4.80618391 3.01638366 1.04538435]\n",
      "Iteration no.7\n"
     ]
    },
    {
     "data": {
      "application/vnd.jupyter.widget-view+json": {
       "model_id": "8b0f8b2225024a038becafcc2831bf65",
       "version_major": 2,
       "version_minor": 0
      },
      "text/plain": [
       "HBox(children=(IntProgress(value=0, max=36500), HTML(value='')))"
      ]
     },
     "metadata": {},
     "output_type": "display_data"
    },
    {
     "data": {
      "application/vnd.jupyter.widget-view+json": {
       "model_id": "0e82f9a3df6e46a782532056a80789b4",
       "version_major": 2,
       "version_minor": 0
      },
      "text/plain": [
       "HBox(children=(IntProgress(value=0, max=14600), HTML(value='')))"
      ]
     },
     "metadata": {},
     "output_type": "display_data"
    },
    {
     "name": "stdout",
     "output_type": "stream",
     "text": [
      "[840.23627867 840.16229664 840.30962822 840.0393853  840.43256806\n",
      " 839.94406059 840.52920743 839.86479781 840.60725037 839.81231397\n",
      " 840.65977774 839.87322953 840.59882096 839.90490104 840.56713111\n",
      " 839.91055013 840.56211655 839.9101352  840.56253291 839.91430525\n",
      " 840.55836034 839.92404834 840.54924488 839.93956727 840.53371679\n",
      " 839.95115588 840.52212079 839.94840193 840.52487468 839.97683746\n",
      " 840.49514996 840.02903465 840.44292572 840.09878384 840.3731526\n",
      " 840.18577057 840.28614898]\n",
      "3.248207929329901e-06\n",
      "[ 1.34949352  3.83152022  6.29915895  8.39228724  9.94180947 10.19916101\n",
      " 10.28995775 10.61436027 10.83698204 10.79975767 10.49027542 10.04150874\n",
      "  9.78403118  9.36294693  8.03440983  6.15058817  3.90759045  1.37143429]\n",
      "Iteration no.8\n"
     ]
    },
    {
     "data": {
      "application/vnd.jupyter.widget-view+json": {
       "model_id": "4e5ba1c89a7c4c52953ba0136979dc28",
       "version_major": 2,
       "version_minor": 0
      },
      "text/plain": [
       "HBox(children=(IntProgress(value=0, max=36500), HTML(value='')))"
      ]
     },
     "metadata": {},
     "output_type": "display_data"
    },
    {
     "data": {
      "application/vnd.jupyter.widget-view+json": {
       "model_id": "dcbf1c0808a6430594c28f556c299cd4",
       "version_major": 2,
       "version_minor": 0
      },
      "text/plain": [
       "HBox(children=(IntProgress(value=0, max=14600), HTML(value='')))"
      ]
     },
     "metadata": {},
     "output_type": "display_data"
    },
    {
     "name": "stdout",
     "output_type": "stream",
     "text": [
      "[479.70200071 479.69642106 479.70788096 479.68796784 479.71628911\n",
      " 479.68282122 479.72102334 479.67856379 479.72488965 479.67675999\n",
      " 479.72679929 479.67435888 479.72911449 479.6717731  479.73205196\n",
      " 479.66902068 479.7345181  479.66811563 479.73602823 479.66769385\n",
      " 479.73645121 479.66795364 479.73579401 479.66585975 479.73828495\n",
      " 479.65749653 479.74714991 479.63718884 479.7674955  479.64642623\n",
      " 479.75855832 479.65907084 479.74557718 479.6737152  479.72952667\n",
      " 479.69200675 479.71194129]\n",
      "3.632092475615786e-06\n",
      "[ 1.39111691  3.93438567  6.43791256  8.56054703 10.12355684 10.39803846\n",
      " 10.50889615 10.85225296 11.08364689 11.04949078 10.73667791 10.30456376\n",
      " 10.10966054  9.83623276  8.44168396  6.4647872   4.11030288  1.44383837]\n",
      "Iteration no.9\n"
     ]
    },
    {
     "data": {
      "application/vnd.jupyter.widget-view+json": {
       "model_id": "adc0ac7518aa404f9e26bd99bdbb30d6",
       "version_major": 2,
       "version_minor": 0
      },
      "text/plain": [
       "HBox(children=(IntProgress(value=0, max=36500), HTML(value='')))"
      ]
     },
     "metadata": {},
     "output_type": "display_data"
    },
    {
     "data": {
      "application/vnd.jupyter.widget-view+json": {
       "model_id": "39a67ab5a4fa46fa947567cc4a2251a2",
       "version_major": 2,
       "version_minor": 0
      },
      "text/plain": [
       "HBox(children=(IntProgress(value=0, max=14600), HTML(value='')))"
      ]
     },
     "metadata": {},
     "output_type": "display_data"
    },
    {
     "name": "stdout",
     "output_type": "stream",
     "text": [
      "[470.78843308 470.78645008 470.78970407 470.78526529 470.79113064\n",
      " 470.78401561 470.79167542 470.7835491  470.79215007 470.78319089\n",
      " 470.79251314 470.78313108 470.79329217 470.78217386 470.79354143\n",
      " 470.78127674 470.79444417 470.78085011 470.7950527  470.78059951\n",
      " 470.79530381 470.78043051 470.79529217 470.77889606 470.7971852\n",
      " 470.77334857 470.80286769 470.7626605  470.81407862 470.76697601\n",
      " 470.80973672 470.77147029 470.80460975 470.77742282 470.79827208\n",
      " 470.7843442  470.79168967]\n",
      "5.14230911261981e-06\n",
      "[ 1.40784994  3.96454709  6.47730168  8.60477583 10.17149476 10.4502899\n",
      " 10.56735168 10.91996396 11.15668102 11.12510482 10.81310116 10.39861217\n",
      " 10.26145702 10.10064065  8.66157275  6.63520056  4.21751624  1.48161105]\n",
      "Iteration no.10\n"
     ]
    },
    {
     "data": {
      "application/vnd.jupyter.widget-view+json": {
       "model_id": "4242b0f41884488d8a7856c10100dd87",
       "version_major": 2,
       "version_minor": 0
      },
      "text/plain": [
       "HBox(children=(IntProgress(value=0, max=36500), HTML(value='')))"
      ]
     },
     "metadata": {},
     "output_type": "display_data"
    },
    {
     "data": {
      "application/vnd.jupyter.widget-view+json": {
       "model_id": "373708f2d02d4f7d83ec95e4159fda04",
       "version_major": 2,
       "version_minor": 0
      },
      "text/plain": [
       "HBox(children=(IntProgress(value=0, max=14600), HTML(value='')))"
      ]
     },
     "metadata": {},
     "output_type": "display_data"
    },
    {
     "name": "stdout",
     "output_type": "stream",
     "text": [
      "[469.1603077  469.15947888 469.16076487 469.16022526 469.16049433\n",
      " 469.16105513 469.16051423 469.16118109 469.16002333 469.16209303\n",
      " 469.15986047 469.16180324 469.15968553 469.1613618  469.16013243\n",
      " 469.16090855 469.15984669 469.16056287 469.16019551 469.16035183\n",
      " 469.16040701 469.16020465 469.16055222 469.15862851 469.16231584\n",
      " 469.15377528 469.16736744 469.1446113  469.17619353 469.14793415\n",
      " 469.17359447 469.15129124 469.16983829 469.15461213 469.16658843\n",
      " 469.1582724  469.1627173 ]\n",
      "8.002787363735504e-06\n",
      "[ 1.4181414   3.96670038  6.47297304  8.59551052 10.15362808 10.43334236\n",
      " 10.55751335 10.91146617 11.15374112 11.12554637 10.81588266 10.42812113\n",
      " 10.37023222 10.35338647  8.8669268   6.78362863  4.31336006  1.51718269]\n",
      "Iteration no.11\n"
     ]
    },
    {
     "data": {
      "application/vnd.jupyter.widget-view+json": {
       "model_id": "a0596ffe81ef4a8584bd6f249396227c",
       "version_major": 2,
       "version_minor": 0
      },
      "text/plain": [
       "HBox(children=(IntProgress(value=0, max=36500), HTML(value='')))"
      ]
     },
     "metadata": {},
     "output_type": "display_data"
    },
    {
     "data": {
      "application/vnd.jupyter.widget-view+json": {
       "model_id": "69a87720035149d7893efbacf2e6fac4",
       "version_major": 2,
       "version_minor": 0
      },
      "text/plain": [
       "HBox(children=(IntProgress(value=0, max=14600), HTML(value='')))"
      ]
     },
     "metadata": {},
     "output_type": "display_data"
    },
    {
     "name": "stdout",
     "output_type": "stream",
     "text": [
      "[468.40635107 468.40634749 468.40578553 468.40797821 468.40490138\n",
      " 468.40939898 468.40424821 468.41004016 468.40285417 468.41087136\n",
      " 468.4024077  468.41084429 468.40197481 468.41068449 468.40213992\n",
      " 468.41047423 468.40197487 468.4106516  468.40218099 468.41084327\n",
      " 468.40237008 468.41023122 468.40259991 468.40892841 468.4042844\n",
      " 468.40445172 468.40839331 468.39708815 468.41625851 468.39928648\n",
      " 468.41403827 468.40140129 468.41181076 468.40326812 468.40962223\n",
      " 468.40580488 468.40744901]\n",
      "8.040195104718408e-06\n",
      "[ 1.4136231   3.94196211  6.43155988  8.53773378 10.08557858 10.36202996\n",
      " 10.48881338 10.84312969 11.08563579 11.05742026 10.75452551 10.39078243\n",
      " 10.40192338 10.5075199   8.98553406  6.86732284  4.36444836  1.5304018 ]\n",
      "Iteration no.12\n"
     ]
    },
    {
     "data": {
      "application/vnd.jupyter.widget-view+json": {
       "model_id": "89beff0aa8e34041919bbff8c884e9c1",
       "version_major": 2,
       "version_minor": 0
      },
      "text/plain": [
       "HBox(children=(IntProgress(value=0, max=36500), HTML(value='')))"
      ]
     },
     "metadata": {},
     "output_type": "display_data"
    },
    {
     "data": {
      "application/vnd.jupyter.widget-view+json": {
       "model_id": "b9aaed85aead4b388229896edffc8349",
       "version_major": 2,
       "version_minor": 0
      },
      "text/plain": [
       "HBox(children=(IntProgress(value=0, max=14600), HTML(value='')))"
      ]
     },
     "metadata": {},
     "output_type": "display_data"
    },
    {
     "name": "stdout",
     "output_type": "stream",
     "text": [
      "[467.86390668 467.86369828 467.86335641 467.8645587  467.86250129\n",
      " 467.86618603 467.86094487 467.86703928 467.85957228 467.86785937\n",
      " 467.85913758 467.86782387 467.85917784 467.86765722 467.8589697\n",
      " 467.8674416  467.85919034 467.86723553 467.85939933 467.867428\n",
      " 467.85958784 467.86681996 467.85981355 467.86552681 467.86148848\n",
      " 467.86144602 467.86520127 467.85325646 467.87296153 467.85585013\n",
      " 467.87119217 467.85844703 467.86894771 467.86033171 467.86627566\n",
      " 467.86242287 467.86501303]\n",
      "2.8499385661427203e-06\n",
      "[ 1.41264879  3.93609862  6.41662289  8.51645328 10.06072204 10.33738929\n",
      " 10.46405448 10.8196141  11.06330309 11.03507628 10.73455768 10.37927343\n",
      " 10.41262561 10.56367814  9.02925793  6.89724912  4.38138827  1.5377836 ]\n",
      "Iteration no.13\n"
     ]
    },
    {
     "data": {
      "application/vnd.jupyter.widget-view+json": {
       "model_id": "e871400191c7436b8a33ae1ee893b3b2",
       "version_major": 2,
       "version_minor": 0
      },
      "text/plain": [
       "HBox(children=(IntProgress(value=0, max=36500), HTML(value='')))"
      ]
     },
     "metadata": {},
     "output_type": "display_data"
    },
    {
     "data": {
      "application/vnd.jupyter.widget-view+json": {
       "model_id": "e12493ea60ea42eebf6c2f92cbf6d74d",
       "version_major": 2,
       "version_minor": 0
      },
      "text/plain": [
       "HBox(children=(IntProgress(value=0, max=14600), HTML(value='')))"
      ]
     },
     "metadata": {},
     "output_type": "display_data"
    },
    {
     "name": "stdout",
     "output_type": "stream",
     "text": [
      "[467.67161999 467.67187761 467.67144755 467.67358687 467.67021081\n",
      " 467.67460115 467.66958504 467.67522092 467.66859173 467.67642058\n",
      " 467.668157   467.67638572 467.66819633 467.67622035 467.66752137\n",
      " 467.67600597 467.66736022 467.67618134 467.66756856 467.67599374\n",
      " 467.66775661 467.67576648 467.66798188 467.67409718 467.66965271\n",
      " 467.66964809 467.67411412 467.66271081 467.6815548  467.66491788\n",
      " 467.6797053  467.66666002 467.67708908 467.66853309 467.67527568\n",
      " 467.67145383 467.67309879]\n",
      "5.278605689999015e-06\n",
      "[ 1.41037864  3.91827774  6.39014483  8.48146042 10.01710187 10.29416075\n",
      " 10.41813601 10.77397661 11.01783965 10.99159573 10.69346589 10.35581287\n",
      " 10.4362     10.66314813  9.1073149   6.95230001  4.41697974  1.54646668]\n",
      "Iteration no.14\n"
     ]
    },
    {
     "data": {
      "application/vnd.jupyter.widget-view+json": {
       "model_id": "7ab25f3ac6914ff1863a4a67bc99bc68",
       "version_major": 2,
       "version_minor": 0
      },
      "text/plain": [
       "HBox(children=(IntProgress(value=0, max=36500), HTML(value='')))"
      ]
     },
     "metadata": {},
     "output_type": "display_data"
    },
    {
     "data": {
      "application/vnd.jupyter.widget-view+json": {
       "model_id": "0873488525b1480cb37aea4ac661412c",
       "version_major": 2,
       "version_minor": 0
      },
      "text/plain": [
       "HBox(children=(IntProgress(value=0, max=14600), HTML(value='')))"
      ]
     },
     "metadata": {},
     "output_type": "display_data"
    },
    {
     "name": "stdout",
     "output_type": "stream",
     "text": [
      "[467.32108825 467.32134136 467.32092091 467.32257378 467.31969629\n",
      " 467.32357614 467.31908181 467.32418617 467.31809791 467.32538141\n",
      " 467.31766827 467.3253428  467.31771092 467.32517484 467.31712256\n",
      " 467.32495851 467.31734359 467.32494276 467.31708752 467.32494604\n",
      " 467.31727502 467.3243402  467.3174983  467.32305826 467.31916224\n",
      " 467.31955382 467.32295418 467.31179472 467.33056217 467.31438565\n",
      " 467.32870942 467.31612936 467.32609003 467.31753842 467.32474194\n",
      " 467.32045969 467.32256571]\n",
      "5.026065688479912e-05\n",
      "[ 1.38924651  3.77365354  6.16425715  8.17546044  9.62943466  9.91057736\n",
      " 10.01342328 10.39124576 10.62303017 10.60604515 10.3495876  10.15999598\n",
      " 10.60710477 11.60641248  9.82723683  7.45292991  4.77903302  1.65231664]\n",
      "Iteration no.15\n"
     ]
    },
    {
     "data": {
      "application/vnd.jupyter.widget-view+json": {
       "model_id": "709a15109c7a447786fa42e16055b1fe",
       "version_major": 2,
       "version_minor": 0
      },
      "text/plain": [
       "HBox(children=(IntProgress(value=0, max=36500), HTML(value='')))"
      ]
     },
     "metadata": {},
     "output_type": "display_data"
    },
    {
     "data": {
      "application/vnd.jupyter.widget-view+json": {
       "model_id": "e5216914b134424495758f3b9da2a355",
       "version_major": 2,
       "version_minor": 0
      },
      "text/plain": [
       "HBox(children=(IntProgress(value=0, max=14600), HTML(value='')))"
      ]
     },
     "metadata": {},
     "output_type": "display_data"
    },
    {
     "name": "stdout",
     "output_type": "stream",
     "text": [
      "[464.22701434 464.22728243 464.22636234 464.22833092 464.22540019\n",
      " 464.22977028 464.22473683 464.23079938 464.22240109 464.23125035\n",
      " 464.22195523 464.23124015 464.22197026 464.2311144  464.22210129\n",
      " 464.23132165 464.22189932 464.231525   464.22208338 464.23134769\n",
      " 464.22226118 464.23112119 464.22248564 464.22953591 464.22407241\n",
      " 464.22535441 464.22826612 464.21941601 464.23517201 464.22110191\n",
      " 464.23307938 464.22252246 464.23108504 464.22407138 464.22958974\n",
      " 464.22575807 464.22788793]\n",
      "1.4556166629994715e-05\n",
      "[ 1.37585352  3.73099334  6.09098953  8.0532136   9.49413335  9.77564327\n",
      "  9.88222686 10.25409274 10.48559631 10.47378051 10.2238871  10.08046834\n",
      " 10.64948802 11.83575943 10.00158297  7.57756825  4.85935917  1.68331927]\n",
      "Iteration no.16\n"
     ]
    },
    {
     "data": {
      "application/vnd.jupyter.widget-view+json": {
       "model_id": "a21b7bb3f8584dd0b9b9c95d9aa24cf2",
       "version_major": 2,
       "version_minor": 0
      },
      "text/plain": [
       "HBox(children=(IntProgress(value=0, max=36500), HTML(value='')))"
      ]
     },
     "metadata": {},
     "output_type": "display_data"
    },
    {
     "data": {
      "application/vnd.jupyter.widget-view+json": {
       "model_id": "a558f398b7b44fcf81024dedf482aa61",
       "version_major": 2,
       "version_minor": 0
      },
      "text/plain": [
       "HBox(children=(IntProgress(value=0, max=14600), HTML(value='')))"
      ]
     },
     "metadata": {},
     "output_type": "display_data"
    },
    {
     "name": "stdout",
     "output_type": "stream",
     "text": [
      "[463.36143804 463.36186822 463.36158221 463.36342238 463.36116012\n",
      " 463.36384405 463.35998169 463.36506351 463.35953533 463.36540882\n",
      " 463.35881223 463.36530521 463.35845367 463.36508366 463.35868062\n",
      " 463.3652076  463.35856208 463.36497933 463.35841088 463.36479658\n",
      " 463.35859412 463.36460307 463.35878558 463.36301351 463.36037663\n",
      " 463.35869825 463.3647041  463.35194748 463.37195852 463.35426496\n",
      " 463.37000211 463.35613405 463.36725513 463.3585238  463.36568809\n",
      " 463.36120491 463.36298912]\n",
      "8.545292494723251e-06\n",
      "[ 1.37340948  3.71166167  6.05798457  8.00597367  9.4377636   9.71709484\n",
      "  9.82751097 10.1973048  10.429467   10.42077867 10.17417497 10.05793548\n",
      " 10.70080972 12.00675958 10.13606153  7.67260117  4.92058015  1.69856593]\n",
      "Iteration no.17\n"
     ]
    },
    {
     "data": {
      "application/vnd.jupyter.widget-view+json": {
       "model_id": "7d7e13795cc24bc6bf12433e87651e45",
       "version_major": 2,
       "version_minor": 0
      },
      "text/plain": [
       "HBox(children=(IntProgress(value=0, max=36500), HTML(value='')))"
      ]
     },
     "metadata": {},
     "output_type": "display_data"
    },
    {
     "data": {
      "application/vnd.jupyter.widget-view+json": {
       "model_id": "2f344dabe1d244848a04d00c7c7c0e6f",
       "version_major": 2,
       "version_minor": 0
      },
      "text/plain": [
       "HBox(children=(IntProgress(value=0, max=14600), HTML(value='')))"
      ]
     },
     "metadata": {},
     "output_type": "display_data"
    },
    {
     "name": "stdout",
     "output_type": "stream",
     "text": [
      "[462.85622124 462.85600893 462.85604943 462.85766408 462.85486528\n",
      " 462.85859168 462.85432937 462.8591377  462.85247496 462.86030252\n",
      " 462.8520838  462.86024812 462.85214319 462.86008083 462.8519319\n",
      " 462.85986882 462.85176493 462.86005256 462.8519686  462.85987502\n",
      " 462.85214664 462.85947477 462.85235274 462.8581017  462.85391939\n",
      " 462.8539183  462.85811514 462.84774002 462.86507021 462.84963495\n",
      " 462.86326267 462.85127499 462.86074526 462.85298951 462.85861911\n",
      " 462.85524765 462.85758091]\n",
      "9.751300136998361e-06\n",
      "[ 1.37380447  3.68436973  6.01642145  7.94100335  9.3576204   9.63806119\n",
      "  9.74804831 10.11828137 10.3506379  10.34541694 10.10472591 10.01715252\n",
      " 10.74173442 12.17575146 10.26894955  7.76494859  4.97547612  1.72131831]\n",
      "Iteration no.18\n"
     ]
    },
    {
     "data": {
      "application/vnd.jupyter.widget-view+json": {
       "model_id": "0f6723b9acf6441580a36149eca15cbc",
       "version_major": 2,
       "version_minor": 0
      },
      "text/plain": [
       "HBox(children=(IntProgress(value=0, max=36500), HTML(value='')))"
      ]
     },
     "metadata": {},
     "output_type": "display_data"
    },
    {
     "data": {
      "application/vnd.jupyter.widget-view+json": {
       "model_id": "6793f36593d04261b20bd261566bb9fc",
       "version_major": 2,
       "version_minor": 0
      },
      "text/plain": [
       "HBox(children=(IntProgress(value=0, max=14600), HTML(value='')))"
      ]
     },
     "metadata": {},
     "output_type": "display_data"
    },
    {
     "name": "stdout",
     "output_type": "stream",
     "text": [
      "[462.29670311 462.29646879 462.29655314 462.2980848  462.29540911\n",
      " 462.29897878 462.29490714 462.29949831 462.29400941 462.30064863\n",
      " 462.29270057 462.30058294 462.29277116 462.30040602 462.29256938\n",
      " 462.30018621 462.29241011 462.30036598 462.29261796 462.30018894\n",
      " 462.2927955  462.29960157 462.29299638 462.29843116 462.29455272\n",
      " 462.29426199 462.29854218 462.2879085  462.30567402 462.29048182\n",
      " 462.30384622 462.29168052 462.30130248 462.29342417 462.30007988\n",
      " 462.29571297 462.2980794 ]\n",
      "4.5675914597617664e-05\n",
      "[ 1.37765688  3.56215514  5.83044541  7.69029259  8.99458573  9.28125064\n",
      "  9.39010255  9.76310068  9.99674002 10.00771477  9.80302792  9.84000141\n",
      " 10.93723604 12.98720797 10.87938069  8.20444038  5.27948206  1.8294072 ]\n",
      "Iteration no.19\n"
     ]
    },
    {
     "data": {
      "application/vnd.jupyter.widget-view+json": {
       "model_id": "e2cdef20831b4b9e882fd8f1ff43c24e",
       "version_major": 2,
       "version_minor": 0
      },
      "text/plain": [
       "HBox(children=(IntProgress(value=0, max=36500), HTML(value='')))"
      ]
     },
     "metadata": {},
     "output_type": "display_data"
    },
    {
     "data": {
      "application/vnd.jupyter.widget-view+json": {
       "model_id": "d6660b8b510c43bc98f1549ca65c6290",
       "version_major": 2,
       "version_minor": 0
      },
      "text/plain": [
       "HBox(children=(IntProgress(value=0, max=14600), HTML(value='')))"
      ]
     },
     "metadata": {},
     "output_type": "display_data"
    }
   ],
   "source": [
    "#labels=[['eqparam','c_ao'],['func1','a'],['func1','b'],['func2','factor_oc'],['func2','factor_kwv'],['func2','factor_kair']]\n",
    "#labels=[['eqparam','c_ao'],['func1','a'],['func1','b']]\n",
    "#labels=[['eqparam','c_ao'],['func1','m'],['func1','gamma'],['func3','f'],['func2','factor_oc'],['func2','factor_kwv'],['func2','factor_kair']]\n",
    "#P0=np.array([70*4.2e6,230,2.5])\n",
    "#P0=np.array([50*4.2e6,0.5,1.9e-15,0,1.165,1.165,1.165])\n",
    "#Pmin=np.array([0.5*10*4.2e6,0.4,0.6e-15,-50,0.9,0.9,0.9])\n",
    "#Pmax=np.array([100*4.2e6,0.6,5e-15,50,1.2,1.2,1.2])\n",
    "#P_pert_ralative=[1/10000,1/10000,1/10000,1/10000,1/10000,1/10000]\n",
    "labels=[['func3','f1'],['func3','f2'],['func3','f3'],['func3','f4'],['func3','f5'],['func3','f6'],['func3','f7'],['func3','f8'],['func3','f9'],['func3','f10'],\\\n",
    "       ['func3','f11'],['func3','f12'],['func3','f13'],['func3','f14'],['func3','f15'],['func3','f16'],['func3','f17'],['func3','f18']]\n",
    "P0=np.zeros(18)\n",
    "Pmax=np.full(18,50)\n",
    "Pmin=np.full(18,-50)\n",
    "#print(Pmax)\n",
    "P_pert_ratio=1/10000\n",
    "#Pmin=np.array([20*4.2e6,190,1.7])\n",
    "#Pmax=np.array([120*4.2e6,250,3.3])\n",
    "#P_pert=(Pmax-Pmin)/100\n",
    "precision=1e-6\n",
    "maxlength=int(100)\n",
    "targetmode='Coupled'\n",
    "target={'GMT':EVA_GMT_1808_1858,'ZMT':ZMT_10}\n",
    "targetfunction='LeastSquare'\n",
    "ratio_ZMT_GMT=0.33\n",
    "num_params=18\n",
    "gamma0=1e-8\n",
    "setup={'number_of_parameters': num_params, 'number_of_cycles': 1, 'number_of_parallels': int(num_params*2+1)}\n",
    "control=True\n",
    "\n",
    "config_CTRL=importer('Dev_Data/Optimization/Volcanic_Sellers_CTRL_Offset.ini')\n",
    "#print(config_CTRL)\n",
    "variable_importer(config_CTRL,initialZMT=True,parallel=False)\n",
    "config_CTRL,ParasCTRL=add_sellersparameters(config_CTRL,\\\n",
    "                                        parameterinterpolatorstepwise,'SellersParameterization.ini',2,0,True,True)\n",
    "        \n",
    "config_base=importer('Dev_Data/Optimization/Volcanic_Sellers_Offset.ini')\n",
    "variable_importer(config_base,initialZMT=True,parallel=True,parallel_config=setup)\n",
    "\n",
    "config_base,ParasCTRL=add_sellersparameters(config_base,\\\n",
    "                                    parameterinterpolatorstepwise,'SellersParameterization.ini',2,0,True,True)\n",
    "\n",
    "elevation=-0.0065*np.array(ParasCTRL[1][1])\n",
    "Zero_ZMT,Zero_GMT=Vars.T,Vars.T_global\n",
    "grid=Vars.Lat\n",
    "\n",
    "F, dF, P, Ptrans , gamma, data=coremodule(config_base,P0,P_pert_ratio,Pmin,Pmax,labels,Zero_ZMT,Zero_GMT,grid,maxlength\\\n",
    "        ,targetmode,target,targetfunction,ratio_ZMT_GMT,elevation,precision,num_params,gamma0,control,config_CTRL)"
   ]
  },
  {
   "cell_type": "code",
   "execution_count": 10,
   "metadata": {},
   "outputs": [
    {
     "name": "stdout",
     "output_type": "stream",
     "text": [
      "[1.00000000e-08 9.98090279e-09 3.99900196e-06 4.71090614e-08\n",
      " 4.66349113e-08 3.89298278e-06 2.80838777e-06 8.38142968e-07\n",
      " 1.13977746e-07 1.13942421e-07 1.10759520e-07 1.17619151e-07\n",
      " 2.55298331e-07 1.35053123e-07 2.09437869e-06 2.26564427e-06\n",
      " 1.43421966e-06 2.05090599e-07 4.89206808e-07 5.60051574e-07\n",
      " 2.81137971e-07 3.03322795e-06 1.63247235e-05 5.32671935e-07\n",
      " 5.54017756e-07 4.22610768e-07 5.87551534e-05 3.89459576e-07\n",
      " 3.61990045e-07 9.53439263e-07 9.03448695e-07 2.56181683e-07\n",
      " 1.28999229e-05 1.61052448e-06 1.18319326e-06 8.24197358e-07\n",
      " 1.42262804e-07 1.59453288e-07 5.45693649e-08 2.17424957e-06\n",
      " 1.21091345e-06 7.18557102e-07 2.39919832e-07 4.77420247e-07\n",
      " 7.61105845e-07 2.67684354e-07 6.55487525e-07 7.27119880e-06\n",
      " 2.02452879e-06 1.33171056e-06 6.34000105e-07 8.26107545e-07\n",
      " 2.16445968e-07 9.30666059e-07 1.48393747e-06 2.26929511e-07\n",
      " 7.05843601e-07 9.09271945e-07 1.78289700e-07 9.10697565e-07\n",
      " 1.28199887e-06 1.89463308e-07 8.39145404e-07 1.04696072e-06\n",
      " 1.53557507e-07 9.39174445e-07 1.12795409e-06 1.13616563e-07\n",
      " 9.47069825e-07 9.92690994e-07 5.69292056e-09 1.30776511e-07\n",
      " 1.08840104e-06 1.01097003e-06 1.01176398e-07 8.26947833e-07\n",
      " 9.90938384e-07 1.52334889e-07 1.26233045e-06 1.59678181e-06\n",
      " 1.22836775e-07 8.60549445e-07 1.00083644e-06 1.61196267e-07\n",
      " 1.47898422e-06 1.82767829e-06 1.15393437e-07 1.06489266e-06\n",
      " 9.81887898e-07 1.28137662e-07 1.27281564e-06 1.42341804e-06\n",
      " 4.46888595e-08 1.18202349e-06 1.17069903e-06 5.50985842e-08\n",
      " 1.41638484e-06 1.35825317e-06 2.58393157e-07 7.30989130e-07]\n"
     ]
    },
    {
     "data": {
      "image/png": "[encoded data removed]",
      "text/plain": [
       "<Figure size 1152x648 with 2 Axes>"
      ]
     },
     "metadata": {
      "needs_background": "light"
     },
     "output_type": "display_data"
    }
   ],
   "source": [
    "fig,ax=plt.subplots(1,2,figsize=(16,9))\n",
    "for i in [0,1,99]:\n",
    "    ax[0].plot(Year_volc_1808_1858,data[1][i,0],label=i)\n",
    "for i in [0,1,99]:\n",
    "    ax[1].plot(Vars.Lat,data[0][i,0]+elevation)\n",
    "#plt.plot(Year_volc_1808_1858,data[1,1])\n",
    "#plt.plot(Year_volc_1808_1858,data[1,2])\n",
    "#plt.plot(Year_volc_1808_1858,data[1,3])\n",
    "#plt.plot(Year_volc_1808_1858,data[1,4])\n",
    "ax[0].plot(Year_volc_1808_1858,EVA_GMT_1808_1858,c='k')\n",
    "ax[1].plot(Lat_10,ZMT_10,c='k')\n",
    "plt.figlegend(fontsize=15)\n",
    "#plt.xlim(1808,1858)\n",
    "print(gamma)"
   ]
  },
  {
   "cell_type": "code",
   "execution_count": 13,
   "metadata": {},
   "outputs": [
    {
     "data": {
      "text/plain": [
       "[<matplotlib.lines.Line2D at 0x7f6ac3eb2240>]"
      ]
     },
     "execution_count": 13,
     "metadata": {},
     "output_type": "execute_result"
    },
    {
     "data": {
      "image/png": "[encoded data removed]",
      "text/plain": [
       "<Figure size 432x288 with 1 Axes>"
      ]
     },
     "metadata": {
      "needs_background": "light"
     },
     "output_type": "display_data"
    }
   ],
   "source": [
    "plt.plot(np.arange(50),dF[:,0])"
   ]
  },
  {
   "cell_type": "code",
   "execution_count": 31,
   "metadata": {},
   "outputs": [
    {
     "name": "stdout",
     "output_type": "stream",
     "text": [
      "[1.00000000e-07 9.99972776e-08 7.96411807e-05 1.25390005e-04\n",
      " 1.12720129e-04 1.10334142e-04 1.14971662e-04 1.10323682e-03]\n",
      "[[4908.46279504 4907.68081928 4909.23973105 4895.28385247 4923.48298139\n",
      "  4823.27040287 5054.43158254 4908.28522758 4908.63776618 4908.43195343\n",
      "  4908.4941851  4907.80603045 4909.1303077 ]\n",
      " [1753.97298698 1753.97300141 1753.97298094 1754.48947943 1753.45663279\n",
      "  1753.97427467 1753.97169816 1753.9730001  1753.97298007 1753.97303131\n",
      "  1753.97294266 1753.97350971 1753.97247316]\n",
      " [1751.16403766 1751.16404821 1751.16402823 1751.67986844 1750.64831832\n",
      "  1751.16532353 1751.16274737 1751.16404375 1751.16403319 1751.16407915\n",
      "  1751.1639929  1751.16454727 1751.16352985]\n",
      " [ 276.06893623  276.0685077   276.0693672   276.25742215  275.88053744\n",
      "   276.07116675  276.06670406  276.07005415  276.06781831  276.06927555\n",
      "   276.0685969   276.07429964  276.06357283]\n",
      " [  90.3567686    90.35446318   90.35907689   90.33866833   90.37496561\n",
      "    90.35391603   90.35962299   90.35721128   90.35632593   90.35689827\n",
      "    90.35663893   90.35889384   90.35464369]\n",
      " [  88.18887149   88.1867166    88.19102921   88.19241665   88.18542446\n",
      "    88.18705841   88.1906857    88.18943472   88.18830828   88.18903628\n",
      "    88.1887067    88.19155067   88.1861926 ]\n",
      " [  87.75816768   87.75609049   87.76024766   87.75803714   87.75839585\n",
      "    87.75636846   87.75996801   87.75871455   87.75762083   87.75832793\n",
      "    87.75800744   87.76077304   87.75556262]\n",
      " [  87.39877952   87.39678629   87.40077548   87.39915012   87.39850639\n",
      "    87.39711857   87.40044147   87.39933138   87.39822767   87.39894134\n",
      "    87.3986177    87.40140858   87.39615075]]\n",
      "[[-7.83613837e+03 -1.48597360e+05 -7.21849269e+06 -1.86941162e+03\n",
      "  -3.29996811e+02 -7.02226440e+03]\n",
      " [ 1.02922592e-01  5.44266045e+03  8.04567656e+01  1.06174622e-01\n",
      "   4.70105393e-01  5.49650241e+00]\n",
      " [ 1.00462900e-01  5.43582832e+03  8.04459930e+01  5.59739296e-02\n",
      "   4.57343808e-01  5.39505390e+00]\n",
      " [-4.32046120e+00  1.98602139e+03  1.39356874e+02  1.18560310e+01\n",
      "   3.59868272e+00  5.68812168e+01]\n",
      " [-2.31916057e+01 -1.91271174e+02 -1.78211813e+02  4.69480338e+00\n",
      "   1.37522398e+00  2.25373408e+01]\n",
      " [-2.16780555e+01  3.68458697e+01 -1.13269478e+02  5.97317589e+00\n",
      "   1.74768867e+00  2.84123107e+01]\n",
      " [-2.08967520e+01 -1.89027118e+00 -1.12403607e+02  5.79972664e+00\n",
      "   1.69945507e+00  2.76293612e+01]\n",
      " [-2.00523557e+01  3.39219373e+00 -1.03764405e+02  5.85262668e+00\n",
      "   1.71617709e+00  2.78807780e+01]]\n",
      "[[2.94000000e+08 5.00000000e-01 1.90000000e-15 1.16500000e+00\n",
      "  1.16500000e+00 1.16500000e+00]\n",
      " [2.94327895e+08 5.02228960e-01 7.67479415e-15 1.16507478e+00\n",
      "  1.16501320e+00 1.16528089e+00]\n",
      " [2.94327891e+08 5.02147323e-01 7.67472979e-15 1.16507477e+00\n",
      "  1.16501318e+00 1.16528067e+00]\n",
      " [2.94324543e+08 4.37209955e-01 7.62347528e-15 1.16507299e+00\n",
      "  1.16499861e+00 1.16510880e+00]\n",
      " [2.94551230e+08 4.00000000e-01 7.48368360e-15 1.16447834e+00\n",
      "  1.16481812e+00 1.16225587e+00]\n",
      " [2.95645099e+08 4.03234017e-01 7.64438807e-15 1.16426666e+00\n",
      "  1.16475611e+00 1.16123970e+00]\n",
      " [2.96645937e+08 4.02624213e-01 7.74436800e-15 1.16400304e+00\n",
      "  1.16467898e+00 1.15998576e+00]\n",
      " [2.97651253e+08 4.02656812e-01 7.84775383e-15 1.16373632e+00\n",
      "  1.16460082e+00 1.15871513e+00]]\n"
     ]
    }
   ],
   "source": [
    "print(gamma)\n",
    "print(F)\n",
    "print(dF)\n",
    "print(P)"
   ]
  },
  {
   "cell_type": "code",
   "execution_count": 18,
   "metadata": {},
   "outputs": [
    {
     "name": "stdout",
     "output_type": "stream",
     "text": [
      "294000000.0\n"
     ]
    }
   ],
   "source": [
    "print(70*4.2e6)"
   ]
  },
  {
   "cell_type": "code",
   "execution_count": 30,
   "metadata": {},
   "outputs": [
    {
     "name": "stdout",
     "output_type": "stream",
     "text": [
      "38.13576100244077\n",
      "45.9309035943473\n"
     ]
    }
   ],
   "source": [
    "print(0.33*np.sum(((data[0][8,0]-target['ZMT'])*np.cos(grid*np.pi/180)/np.mean(np.cos(grid*np.pi/180)))**2))\n",
    "print(0.66*np.sum(((data[1][8,0]-target['GMT']))**2))"
   ]
  },
  {
   "cell_type": "code",
   "execution_count": 35,
   "metadata": {},
   "outputs": [
    {
     "name": "stdout",
     "output_type": "stream",
     "text": [
      "117.79102151319456\n",
      "7220029.930903146\n"
     ]
    }
   ],
   "source": [
    "print(np.sqrt(np.dot(dF[-2],dF[-2])))\n",
    "print(np.sqrt(np.dot(dF[0],dF[0])))"
   ]
  },
  {
   "cell_type": "code",
   "execution_count": 35,
   "metadata": {},
   "outputs": [
    {
     "name": "stdout",
     "output_type": "stream",
     "text": [
      "Loading Configuration from: Dev_Data/Optimization/Volcanic_Sellers_CTRL.ini\n",
      "Loading Parameters from: /Home/siv32/bsc029/.local/lib/python3.6/site-packages/lowEBMs/Tutorials/Config/Data/SellersParameterization.ini\n"
     ]
    },
    {
     "data": {
      "application/vnd.jupyter.widget-view+json": {
       "model_id": "3782507e66f94e83802c929d87a6a8b3",
       "version_major": 2,
       "version_minor": 0
      },
      "text/plain": [
       "HBox(children=(IntProgress(value=0, max=36500), HTML(value='')))"
      ]
     },
     "metadata": {},
     "output_type": "display_data"
    },
    {
     "name": "stdout",
     "output_type": "stream",
     "text": [
      "Loading Configuration from: Dev_Data/Optimization/Volcanic_Sellers.ini\n",
      "Loading Parameters from: /Home/siv32/bsc029/.local/lib/python3.6/site-packages/lowEBMs/Tutorials/Config/Data/SellersParameterization.ini\n"
     ]
    },
    {
     "data": {
      "application/vnd.jupyter.widget-view+json": {
       "model_id": "10613f34748e4442afaa120fe2511306",
       "version_major": 2,
       "version_minor": 0
      },
      "text/plain": [
       "HBox(children=(IntProgress(value=0, max=14600), HTML(value='')))"
      ]
     },
     "metadata": {},
     "output_type": "display_data"
    }
   ],
   "source": [
    "#setup={'number_of_parameters': num_params, 'number_of_cycles': 1, 'number_of_parallels': int(num_params*2+1)}\n",
    "labels=[['eqparam','c_ao'],['func1','m'],['func1','gamma'],['func2','factor_oc'],['func2','factor_kwv'],['func2','factor_kair']]\n",
    "P=[3.02794273e+08, 4.80868504e-01, 2.47299528e-15, 1.16506701e+00,\n",
    " 1.16500290e+00, 1.16499030e+00]\n",
    "#P1=[2.10056979e+08, 5.00042362e-01, 2.01124229e-15, 1.16500050e+00,1.16500009e+00, 1.16500191e+00]\n",
    "config_CTRL=importer('Dev_Data/Optimization/Volcanic_Sellers_CTRL.ini')\n",
    "variable_importer(config_CTRL,initialZMT=True,parallel=False)\n",
    "config_CTRL,ParasCTRL=add_sellersparameters(config_CTRL,\\\n",
    "                                        parameterinterpolatorstepwise,'SellersParameterization.ini',2,0,True,True)\n",
    "config_CTRL=add_parameters(config_CTRL,P,labels)\n",
    "data_CTRL=rk4alg(model_equation,config_CTRL['eqparam'],config_CTRL['funccomp'],progressbar=True)\n",
    "ZMT,GMT=data_CTRL[1][-1],data_CTRL[2][-1]\n",
    "\n",
    "config_base=importer('Dev_Data/Optimization/Volcanic_Sellers.ini')\n",
    "variable_importer(config_base,initialZMT=False)\n",
    "config_base,ParasCTRL=add_sellersparameters(config_base,\\\n",
    "                                    parameterinterpolatorstepwise,'SellersParameterization.ini',2,0,True,True)\n",
    "config=add_parameters(config_base,P,labels)\n",
    "Vars.T,Vars.T_global=ZMT,GMT   \n",
    "data1=rk4alg(model_equation,config['eqparam'],config['funccomp'],progressbar=True)"
   ]
  },
  {
   "cell_type": "code",
   "execution_count": 36,
   "metadata": {},
   "outputs": [
    {
     "data": {
      "image/png": "[encoded data removed]",
      "text/plain": [
       "<Figure size 1152x504 with 2 Axes>"
      ]
     },
     "metadata": {
      "needs_background": "light"
     },
     "output_type": "display_data"
    }
   ],
   "source": [
    "fig,ax=plt.subplots(1,2,figsize=(16,7))\n",
    "ax[0].plot(data[0]/constants.time_sec_year,data[2]-data[2][0])\n",
    "ax[0].plot(data1[0]/constants.time_sec_year,data1[2]-data1[2][0])\n",
    "ax[0].plot(Year_volc_1808_1858,EVA_GMT_1808_1858,c='k')\n",
    "\n",
    "elevation=-0.0065*np.array(ParasCTRL[1][1])\n",
    "ax[1].plot(Vars.Lat,data[1][0]+elevation)\n",
    "ax[1].plot(Vars.Lat,data1[1][0]+elevation)\n",
    "ax[1].plot(Lat_10,ZMT_10,c='k')\n",
    "\n",
    "plt.savefig('Coupled_Optimization.eps',format='EPS')"
   ]
  },
  {
   "cell_type": "code",
   "execution_count": 25,
   "metadata": {},
   "outputs": [
    {
     "data": {
      "text/plain": [
       "[<matplotlib.lines.Line2D at 0x7f7efcdb16d8>]"
      ]
     },
     "execution_count": 25,
     "metadata": {},
     "output_type": "execute_result"
    },
    {
     "data": {
      "image/png": "[encoded data removed]",
      "text/plain": [
       "<Figure size 432x288 with 1 Axes>"
      ]
     },
     "metadata": {
      "needs_background": "light"
     },
     "output_type": "display_data"
    }
   ],
   "source": [
    "elevation=-0.0065*np.array(ParasCTRL[1][1])\n",
    "plt.plot(Vars.Lat,data[1][0]+elevation)\n",
    "plt.plot(Vars.Lat,data1[1][0]+elevation)\n",
    "plt.plot(Lat_10,ZMT_10,c='k')"
   ]
  },
  {
   "cell_type": "code",
   "execution_count": null,
   "metadata": {},
   "outputs": [],
   "source": []
  }
 ],
 "metadata": {
  "kernelspec": {
   "display_name": "Python 3",
   "language": "python",
   "name": "python3"
  },
  "language_info": {
   "codemirror_mode": {
    "name": "ipython",
    "version": 3
   },
   "file_extension": ".py",
   "mimetype": "text/x-python",
   "name": "python",
   "nbconvert_exporter": "python",
   "pygments_lexer": "ipython3",
   "version": "3.6.8"
  }
 },
 "nbformat": 4,
 "nbformat_minor": 2
}
