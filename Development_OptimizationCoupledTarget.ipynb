{
 "cells": [
  {
   "cell_type": "code",
   "execution_count": 1,
   "metadata": {},
   "outputs": [],
   "source": [
    "import matplotlib.pyplot as plt\n",
    "import numpy as np\n",
    "from lowEBMs.Packages.Configuration import importer, add_sellersparameters, parameterinterpolatorstepwise, reset\n",
    "from lowEBMs.Packages.Configuration import import_parallelparameter, allocate_parallelparameter, write_parallelparameter\n",
    "from lowEBMs.Packages.Variables import variable_importer\n",
    "from lowEBMs.Packages.RK4 import rk4alg, controlrun\n",
    "from lowEBMs.Packages.ModelEquation import model_equation\n",
    "from lowEBMs.Packages.Variables import Vars,reset, trackerreset, datareset\n",
    "from lowEBMs.Packages.Functions import plotmeanstd\n",
    "from lowEBMs import update_plotstyle\n",
    "import builtins\n",
    "import matplotlib\n",
    "update_plotstyle()\n",
    "matplotlib.rcParams['lines.linewidth']=1.1\n",
    "time_sec_year=60*60*24*365\n",
    "def moving_average(signal, period):\n",
    "    buffer = [np.nan] * period\n",
    "    for i in range(period,len(signal)):\n",
    "        buffer.append(signal[i-period:i].mean())\n",
    "    return buffer"
   ]
  },
  {
   "cell_type": "code",
   "execution_count": 2,
   "metadata": {},
   "outputs": [],
   "source": [
    "time_HADCM3_str=np.genfromtxt('Data/gmt_hadcm3.csv',usecols=[0],delimiter=',',skip_header=1,dtype='str',unpack=True,encoding='ISO-8859-1')\n",
    "time_HADCM3=np.zeros(len(time_HADCM3_str))\n",
    "for i in range(len(time_HADCM3_str)):\n",
    "    if time_HADCM3_str[i][-4]=='.':\n",
    "        year=float(time_HADCM3_str[i][-3:])\n",
    "    if time_HADCM3_str[i][-5]=='.':\n",
    "        year=float(time_HADCM3_str[i][-4:])\n",
    "    if time_HADCM3_str[i][4]=='.':\n",
    "        month=(float(time_HADCM3_str[i][3:5])-1)/12\n",
    "    if time_HADCM3_str[i][5]=='.':\n",
    "        month=(float(time_HADCM3_str[i][3:5])-1)/12\n",
    "    day=float(time_HADCM3_str[i][:2])/365\n",
    "    time_HADCM3[i]=year+month+day\n",
    "GMT_HADCM3=np.genfromtxt('Data/gmt_hadcm3.csv',usecols=[17],delimiter=',',skip_header=1,unpack=True,encoding='ISO-8859-1')\n",
    "order=np.argsort(time_HADCM3)\n",
    "GMT_HADCM3_smoothed=moving_average(GMT_HADCM3[order],12)"
   ]
  },
  {
   "cell_type": "code",
   "execution_count": 2,
   "metadata": {},
   "outputs": [],
   "source": [
    "Year_volc, CWL_GMT,  EVA_GMT, CWLcorr_GMT=np.genfromtxt('Data/Volc_800_2000.txt',skip_header=1,unpack=True)\n",
    "#Year_NorESM, SO4_FORC, SAT_GISS, SAT_VOLC, SAT_ZERO, SAT_AFIT, SAT_TREN= \\\n",
    "#np.genfromtxt('Data/NorESM_Pinatubo_GMST_response.txt',skip_header=1,unpack=True)\n",
    "Year_volc_1800_1850=Year_volc[int(1000*365/4):int(1040*365/4)]\n",
    "Year_volc_1808_1858=Year_volc[int(1008*365/4):int(1048*365/4)]\n",
    "EVA_GMT_1800_1850=EVA_GMT[int(1000*365/4):int(1040*365/4)]\n",
    "EVA_GMT_1808_1858=EVA_GMT[int(1008*365/4):int(1048*365/4)]\n",
    "Lat_10,ZMT_10=np.loadtxt('Data/ERA_ZMT_Mean_10deginterpolated.txt')"
   ]
  },
  {
   "cell_type": "code",
   "execution_count": 3,
   "metadata": {},
   "outputs": [],
   "source": [
    "def coremodule(config,P0,P_pert,Pmin,Pmax,labels,ZMT,GMT,grid,maxlength,targetmode,target,targetfunction,ratio_ZMT_GMT,elevation,precision,num_paras,gamma0,control,controlconfig):\n",
    "    from tqdm import tqdm, tnrange\n",
    "    \n",
    "    F=np.reshape(np.zeros(maxlength*(2*num_paras+1)),(maxlength,2*num_paras+1))\n",
    "    dF=np.reshape(np.zeros(maxlength*(num_paras)),(maxlength,num_paras))\n",
    "    P=np.reshape(np.zeros(maxlength*(num_paras)),(maxlength,num_paras))\n",
    "    Ptrans=np.reshape(np.zeros(maxlength*(num_paras)),(maxlength,num_paras))\n",
    "    gamma=np.zeros(maxlength)\n",
    "    \n",
    "    if targetmode=='Single':\n",
    "        dataout=np.reshape(np.zeros(maxlength*(2*num_paras+1)),(maxlength,(2*num_paras+1)))\n",
    "    elif targetmode=='ZMT':\n",
    "        dataout=np.reshape(np.zeros(maxlength*len(grid)*(2*num_paras+1)),(maxlength,(2*num_paras+1),len(grid)))\n",
    "    elif targetmode=='GMT':\n",
    "        dataout=np.reshape(np.zeros(maxlength*int(number_of_integration/data_readout)*(2*num_paras+1)),(maxlength,(2*num_paras+1),int(number_of_integration/data_readout)))\n",
    "    elif targetmode=='Coupled':\n",
    "        dataout_ZMT=np.reshape(np.zeros(maxlength*len(grid)*(2*num_paras+1)),(maxlength,(2*num_paras+1),len(grid)))\n",
    "        dataout_GMT=np.reshape(np.zeros(maxlength*int(number_of_integration/data_readout)*(2*num_paras+1)),(maxlength,(2*num_paras+1),int(number_of_integration/data_readout)))     \n",
    "    for i in tnrange(maxlength):\n",
    "        print('Iteration no.'+str(i))\n",
    "        if i==0:\n",
    "            P[i]=P0\n",
    "            Ptrans[i]=(P0-Pmin)/(Pmax-Pmin)\n",
    "            Ptrans_pert=Ptrans[i]*P_pert[0]/P0[0]\n",
    "\n",
    "        if targetmode=='Coupled':\n",
    "            data_ZMT,data_GMT=run_model(config,P[i],P_pert,labels,ZMT,GMT,targetmode,control,controlconfig,grid,elevation)\n",
    "            dataout_ZMT[i]=data_ZMT\n",
    "            dataout_GMT[i]=data_GMT\n",
    "        else:\n",
    "            data=run_model(config,P[i],P_pert,labels,ZMT,GMT,targetmode,control,controlconfig,grid,elevation)\n",
    "            dataout[i]=data\n",
    "            \n",
    "        if targetmode=='Coupled':\n",
    "            target_ZMT=target['ZMT']\n",
    "            target_GMT=target['GMT']\n",
    "            F_ZMT=target_comparison(data_ZMT,'ZMT',target_ZMT,targetfunction,num_paras,grid)\n",
    "            F_GMT=target_comparison(data_GMT,'GMT',target_GMT,targetfunction,num_paras,grid)\n",
    "            F[i]=ratio_ZMT_GMT*F_ZMT+(1-ratio_ZMT_GMT)*F_GMT\n",
    "        else:\n",
    "            F[i]=target_comparison(data,targetmode,target,targetfunction,num_paras,grid)\n",
    "\n",
    "        dF[i]=local_gradient(F[i],Ptrans_pert)\n",
    "        #dF[i]=local_gradient(F[i],P_pert)\n",
    "        if i==0:\n",
    "            gamma[i]=gamma0\n",
    "        else:\n",
    "            #gamma[i]=step_weighting(dF[i-1],dF[i],P[i-1],P[i])\n",
    "            gamma[i]=step_weighting(dF[i-1],dF[i],Ptrans[i-1],Ptrans[i])\n",
    "            \n",
    "        if precision_check(dF[0],dF[i],precision):\n",
    "            print('stop',i)\n",
    "            P=P[:i]\n",
    "            Ptrans=Ptrans[:i]\n",
    "            F=F[:i]\n",
    "            dF=dF[:i]\n",
    "            gamma=gamma[:i]\n",
    "            break\n",
    "                \n",
    "        #P_next=new_parameters(P[i],gamma[i],dF[i])        \n",
    "        Ptrans_next=new_parameters(Ptrans[i],gamma[i],dF[i])\n",
    "\n",
    "        for k in range(num_paras):\n",
    "            if Ptrans_next[k]<0:\n",
    "                Ptrans_next[k]=0.\n",
    "            if Ptrans_next[k]>1:\n",
    "                Ptrans_next[k]=1.\n",
    "\n",
    "        if i<maxlength-1:\n",
    "            Ptrans[i+1]=Ptrans_next\n",
    "            P[i+1]=Pmin+Ptrans_next*(Pmax-Pmin)\n",
    "            print(F[i])\n",
    "            print(gamma[i])\n",
    "            print(P[i+1])\n",
    "            \n",
    "        if targetmode=='Coupled':\n",
    "            dataout=[dataout_ZMT,dataout_GMT]\n",
    "            \n",
    "    return F, dF, P , Ptrans, gamma, dataout\n",
    "    \n",
    "def target_comparison(data,targetmode,target,targetfunction,num_paras,grid):\n",
    "    F=np.zeros(2*num_paras+1)\n",
    "    if targetfunction=='LeastSquare':\n",
    "        if targetmode=='Single':\n",
    "            F=(np.array(data)-target)**2\n",
    "        elif targetmode=='ZMT':\n",
    "            for i in range(len(F)):\n",
    "                if len(data[i])==len(target):\n",
    "                    F[i]=np.sum(((data[i]-target)*np.cos(grid*np.pi/180)/np.mean(np.cos(grid*np.pi/180)))**2)\n",
    "                elif len(data[i])==len(F):\n",
    "                    F[i]=np.sum(((data[:,i]-target)*np.cos(grid*np.pi/180)/np.mean(np.cos(grid*np.pi/180)))**2)\n",
    "        elif targetmode=='GMT':\n",
    "            for i in range(len(F)):\n",
    "                F[i]=np.sum((data[i]-target)**2)\n",
    "\n",
    "    return F\n",
    "\n",
    "def local_gradient(F,P_pert):\n",
    "    dF=np.zeros(len(P_pert))\n",
    "    for k in range(len(P_pert)):\n",
    "        dF[k]=(F[2*(k+1)-1]-F[2*(k+1)])/(2*P_pert[k])\n",
    "    return dF\n",
    "\n",
    "def step_weighting(dF0,dF1,P0,P1):\n",
    "    gamma=np.abs(np.dot(P1-P0,dF1-dF0)/np.dot(np.abs(dF1-dF0),np.abs(dF1-dF0)))\n",
    "    return gamma\n",
    "\n",
    "def precision_check(dF0,dF,precision):\n",
    "    dFabs=np.sqrt(np.dot(dF,dF))\n",
    "    dF0abs=np.sqrt(np.dot(dF0,dF0))\n",
    "    if dFabs/dF0abs <= precision:\n",
    "        return True\n",
    "    \n",
    "def new_parameters(P,gamma,dF):\n",
    "    P_next=P-gamma*dF\n",
    "    return P_next\n",
    "\n",
    "def run_model(config,P,P_pert,labels,ZMT,GMT,targetmode,control,controlconfig,grid,elevation):\n",
    "    \n",
    "    P_config=reshape_parameters(P,P_pert)\n",
    "    setup={'number_of_parameters': len(P), 'number_of_cycles': 1, 'number_of_parallels': len(P)*2+1}\n",
    "    \n",
    "    if targetmode=='Coupled':\n",
    "        control=True\n",
    "        \n",
    "    if control==True:\n",
    "        variable_importer(controlconfig,initialZMT=True,parallel=True,parallel_config=setup)\n",
    "        controlconfig=add_parameters(controlconfig,P_config,labels)\n",
    "        data_CTRL=rk4alg(model_equation,controlconfig['eqparam'],controlconfig['funccomp'],progressbar=True)\n",
    "        ZMT,GMT=data_CTRL[1][-1],data_CTRL[2][-1]\n",
    "\n",
    "    variable_importer(config,initialZMT=False,parallel=True,parallel_config=setup)\n",
    "    config=add_parameters(config,P_config,labels)\n",
    "    Vars.T,Vars.T_global=ZMT,GMT   \n",
    "    data=rk4alg(model_equation,config['eqparam'],config['funccomp'],progressbar=True)\n",
    "    \n",
    "    if targetmode=='Single':\n",
    "        data_out=data[2][-1]\n",
    "    elif targetmode=='ZMT':\n",
    "        for i in range(len(data)):\n",
    "            data[i]=data[i]+elevation\n",
    "        data_out=data[1][-1]\n",
    "    elif targetmode=='GMT':\n",
    "        data_out=np.transpose(data[2][:-1]-data[2][0])\n",
    "    elif targetmode=='Coupled':\n",
    "        data_out=[data_CTRL[1][-1],np.transpose(data[2][:-1]-data[2][0])]\n",
    "    return data_out\n",
    "\n",
    "def reshape_parameters(P,P_pert):\n",
    "    num_para=len(P)\n",
    "    P_config=np.reshape(np.zeros(num_para*(2*num_para+1)),(num_para,2*num_para+1))\n",
    "    for i in range(num_para):\n",
    "        P_config[i]=np.array([P[i]]*(2*num_para+1))\n",
    "        P_config[i][i*2+1]=P[i]+P_pert[i]\n",
    "        P_config[i][i*2+2]=P[i]-P_pert[i]\n",
    "                      \n",
    "    return P_config\n",
    "             \n",
    "def add_parameters(config,P_config,labels):\n",
    "    num_para=len(P_config)\n",
    "    \n",
    "    for i in range(num_para):\n",
    "        if labels[i][0][:4]=='func':\n",
    "            config['funccomp']['funcparam'][labels[i][0]][labels[i][1]]=P_config[i]\n",
    "        if labels[i][0]=='eqparam':\n",
    "            config[labels[i][0]][labels[i][1]]=P_config[i]\n",
    "    return config"
   ]
  },
  {
   "cell_type": "code",
   "execution_count": null,
   "metadata": {},
   "outputs": [
    {
     "name": "stdout",
     "output_type": "stream",
     "text": [
      "Loading Configuration from: Dev_Data/Optimization/Volcanic_Sellers_CTRL.ini\n",
      "Loading Parameters from: /Home/siv32/bsc029/.local/lib/python3.6/site-packages/lowEBMs/Tutorials/Config/Data/SellersParameterization.ini\n",
      "Loading Configuration from: Dev_Data/Optimization/Volcanic_Sellers.ini\n",
      "Loading Parameters from: /Home/siv32/bsc029/.local/lib/python3.6/site-packages/lowEBMs/Tutorials/Config/Data/SellersParameterization.ini\n"
     ]
    },
    {
     "data": {
      "application/vnd.jupyter.widget-view+json": {
       "model_id": "c547b8c9c5644d138a6189a0d42e292b",
       "version_major": 2,
       "version_minor": 0
      },
      "text/plain": [
       "HBox(children=(IntProgress(value=0, max=10), HTML(value='')))"
      ]
     },
     "metadata": {},
     "output_type": "display_data"
    },
    {
     "name": "stdout",
     "output_type": "stream",
     "text": [
      "Iteration no.0\n"
     ]
    },
    {
     "data": {
      "application/vnd.jupyter.widget-view+json": {
       "model_id": "f7f12a5f06024ed3a8f3948d35177b87",
       "version_major": 2,
       "version_minor": 0
      },
      "text/plain": [
       "HBox(children=(IntProgress(value=0, max=36500), HTML(value='')))"
      ]
     },
     "metadata": {},
     "output_type": "display_data"
    },
    {
     "data": {
      "application/vnd.jupyter.widget-view+json": {
       "model_id": "d2392a09b5724c98964af526053c47d3",
       "version_major": 2,
       "version_minor": 0
      },
      "text/plain": [
       "HBox(children=(IntProgress(value=0, max=14600), HTML(value='')))"
      ]
     },
     "metadata": {},
     "output_type": "display_data"
    },
    {
     "name": "stdout",
     "output_type": "stream",
     "text": [
      "[4101.29424499 4095.40793574 4107.21833686 4090.43655792 4113.52683633\n",
      " 4029.59403469 4218.43108421 4101.14865027 4101.4379025  4101.26859013\n",
      " 4101.32030916 4100.75613715 4101.84037875]\n",
      "1e-07\n",
      "[3.19136128e+08 5.00182018e-01 2.37046490e-15 1.16500612e+00\n",
      " 1.16500109e+00 1.16502294e+00]\n",
      "Iteration no.1\n"
     ]
    },
    {
     "data": {
      "application/vnd.jupyter.widget-view+json": {
       "model_id": "82ed500abe9243b287e0ebc1e8ab7d0a",
       "version_major": 2,
       "version_minor": 0
      },
      "text/plain": [
       "HBox(children=(IntProgress(value=0, max=36500), HTML(value='')))"
      ]
     },
     "metadata": {},
     "output_type": "display_data"
    },
    {
     "data": {
      "application/vnd.jupyter.widget-view+json": {
       "model_id": "ebbf36f09ae74c0c8d2b2b6273412256",
       "version_major": 2,
       "version_minor": 0
      },
      "text/plain": [
       "HBox(children=(IntProgress(value=0, max=14600), HTML(value='')))"
      ]
     },
     "metadata": {},
     "output_type": "display_data"
    },
    {
     "name": "stdout",
     "output_type": "stream",
     "text": [
      "[931.76456062 931.65974965 931.86962802 932.45427804 931.07520238\n",
      " 933.65800772 929.87117667 931.76843734 931.76068389 931.76573126\n",
      " 931.76338998 931.78359918 931.7455221 ]\n",
      "9.806837147069389e-08\n",
      "[3.19574185e+08 5.00171357e-01 2.36121270e-15 1.16500596e+00\n",
      " 1.16500105e+00 1.16502215e+00]\n",
      "Iteration no.2\n"
     ]
    },
    {
     "data": {
      "application/vnd.jupyter.widget-view+json": {
       "model_id": "61c52491092344df950077825b710d24",
       "version_major": 2,
       "version_minor": 0
      },
      "text/plain": [
       "HBox(children=(IntProgress(value=0, max=36500), HTML(value='')))"
      ]
     },
     "metadata": {},
     "output_type": "display_data"
    },
    {
     "data": {
      "application/vnd.jupyter.widget-view+json": {
       "model_id": "3d7bc65138d04dffbfa0d3e29b56cbc7",
       "version_major": 2,
       "version_minor": 0
      },
      "text/plain": [
       "HBox(children=(IntProgress(value=0, max=14600), HTML(value='')))"
      ]
     },
     "metadata": {},
     "output_type": "display_data"
    },
    {
     "name": "stdout",
     "output_type": "stream",
     "text": [
      "[909.27812955 909.17094935 909.38556685 909.95751695 908.59910287\n",
      " 911.16984675 907.38659339 909.2819539  909.27430517 909.27928331\n",
      " 909.27697579 909.29688761 909.25937156]\n",
      "1.3595346380831264e-05\n",
      "[3.81673834e+08 4.98715537e-01 1.07978023e-15 1.16498396e+00\n",
      " 1.16499441e+00 1.16491425e+00]\n",
      "Iteration no.3\n"
     ]
    },
    {
     "data": {
      "application/vnd.jupyter.widget-view+json": {
       "model_id": "2a5f5c8fc9eb4f598a1dc8fb2dc54768",
       "version_major": 2,
       "version_minor": 0
      },
      "text/plain": [
       "HBox(children=(IntProgress(value=0, max=36500), HTML(value='')))"
      ]
     },
     "metadata": {},
     "output_type": "display_data"
    },
    {
     "data": {
      "application/vnd.jupyter.widget-view+json": {
       "model_id": "fcf5ab256886464184d922e5df584e2c",
       "version_major": 2,
       "version_minor": 0
      },
      "text/plain": [
       "HBox(children=(IntProgress(value=0, max=14600), HTML(value='')))"
      ]
     },
     "metadata": {},
     "output_type": "display_data"
    },
    {
     "name": "stdout",
     "output_type": "stream",
     "text": [
      "[149123.07039543 149122.73117186 149123.40837647 149123.01762492\n",
      " 149123.1231651  149121.77338513 149124.36730814 149123.07618084\n",
      " 149123.06460996 149123.07516908 149123.06562174 149123.09646139\n",
      " 149123.04432859]\n",
      "7.874557664664406e-06\n",
      "[4.95169639e+08 4.98781051e-01 1.58866948e-15 1.16496469e+00\n",
      " 1.16497851e+00 1.16482742e+00]\n",
      "Iteration no.4\n"
     ]
    },
    {
     "data": {
      "application/vnd.jupyter.widget-view+json": {
       "model_id": "92bb12aa1a364270bf5e29d19e5209bd",
       "version_major": 2,
       "version_minor": 0
      },
      "text/plain": [
       "HBox(children=(IntProgress(value=0, max=36500), HTML(value='')))"
      ]
     },
     "metadata": {},
     "output_type": "display_data"
    },
    {
     "data": {
      "application/vnd.jupyter.widget-view+json": {
       "model_id": "cdb3377c18154884bb82a13b6c61364c",
       "version_major": 2,
       "version_minor": 0
      },
      "text/plain": [
       "HBox(children=(IntProgress(value=0, max=14600), HTML(value='')))"
      ]
     },
     "metadata": {},
     "output_type": "display_data"
    },
    {
     "name": "stdout",
     "output_type": "stream",
     "text": [
      "[147784.56269255 147781.98684703 147787.13501742 147784.34653297\n",
      " 147784.77880981 147781.59170838 147787.52530281 147784.56914548\n",
      " 147784.55623956 147784.56778737 147784.55759769 147784.59246192\n",
      " 147784.53292215]\n",
      "2.0482955738293273e-06\n",
      "[7.19598792e+08 4.98850848e-01 1.89146574e-15 1.16495910e+00\n",
      " 1.16497409e+00 1.16480162e+00]\n",
      "Iteration no.5\n"
     ]
    },
    {
     "data": {
      "application/vnd.jupyter.widget-view+json": {
       "model_id": "3d27828faba64d02ac798a15f5b65ed9",
       "version_major": 2,
       "version_minor": 0
      },
      "text/plain": [
       "HBox(children=(IntProgress(value=0, max=36500), HTML(value='')))"
      ]
     },
     "metadata": {},
     "output_type": "display_data"
    },
    {
     "data": {
      "application/vnd.jupyter.widget-view+json": {
       "model_id": "9917055b37c847f99f898c789703261c",
       "version_major": 2,
       "version_minor": 0
      },
      "text/plain": [
       "HBox(children=(IntProgress(value=0, max=14600), HTML(value='')))"
      ]
     },
     "metadata": {},
     "output_type": "display_data"
    },
    {
     "name": "stdout",
     "output_type": "stream",
     "text": [
      "[2980.99005771 2979.98991267 2982.0044137  2976.97622419 2985.47687303\n",
      " 2940.99493874 3023.84162685 2980.92573015 2981.05354143 2980.97607506\n",
      " 2981.00233541 2980.75709859 2981.22315184]\n",
      "1.4256108306610543e-07\n",
      "[7.25711058e+08 4.98946378e-01 2.18571552e-15 1.16496295e+00\n",
      " 1.16497488e+00 1.16481567e+00]\n",
      "Iteration no.6\n"
     ]
    },
    {
     "data": {
      "application/vnd.jupyter.widget-view+json": {
       "model_id": "3d6d5930f58f4e63b19cc70f015611cb",
       "version_major": 2,
       "version_minor": 0
      },
      "text/plain": [
       "HBox(children=(IntProgress(value=0, max=36500), HTML(value='')))"
      ]
     },
     "metadata": {},
     "output_type": "display_data"
    },
    {
     "data": {
      "application/vnd.jupyter.widget-view+json": {
       "model_id": "eef996f413df485bb23767181cbbb6fd",
       "version_major": 2,
       "version_minor": 0
      },
      "text/plain": [
       "HBox(children=(IntProgress(value=0, max=14600), HTML(value='')))"
      ]
     },
     "metadata": {},
     "output_type": "display_data"
    },
    {
     "name": "stdout",
     "output_type": "stream",
     "text": [
      "[347.37145933 347.21005425 347.53288372 347.78322825 346.95981828\n",
      " 349.14276196 345.59814473 347.37473898 347.36817485 347.37236356\n",
      " 347.37053613 347.38533608 347.35757748]\n",
      "1.3674317651131252e-07\n",
      "[7.26650592e+08 4.98937502e-01 2.17363975e-15 1.16496276e+00\n",
      " 1.16497483e+00 1.16481487e+00]\n",
      "Iteration no.7\n"
     ]
    },
    {
     "data": {
      "application/vnd.jupyter.widget-view+json": {
       "model_id": "c30db9aef2c2494cbb95da1e68d7fe60",
       "version_major": 2,
       "version_minor": 0
      },
      "text/plain": [
       "HBox(children=(IntProgress(value=0, max=36500), HTML(value='')))"
      ]
     },
     "metadata": {},
     "output_type": "display_data"
    }
   ],
   "source": [
    "#labels=[['eqparam','c_ao'],['func1','a'],['func1','b'],['func2','factor_oc'],['func2','factor_kwv'],['func2','factor_kair']]\n",
    "#labels=[['eqparam','c_ao'],['func1','a'],['func1','b']]\n",
    "labels=[['eqparam','c_ao'],['func1','m'],['func1','gamma'],['func2','factor_oc'],['func2','factor_kwv'],['func2','factor_kair']]\n",
    "#P0=np.array([70*4.2e6,230,2.5])\n",
    "P0=np.array([70*4.2e6,0.5,1.9e-15,1.165,1.165,1.165])\n",
    "Pmin=np.array([1*4.2e6,0.4,1e-15,0.9,0.9,0.9])\n",
    "Pmax=np.array([1000*4.2e6,0.55,9e-15,1.3,1.3,1.3])\n",
    "P_pert=(Pmax-Pmin)/10000\n",
    "#Pmin=np.array([20*4.2e6,190,1.7])\n",
    "#Pmax=np.array([120*4.2e6,250,3.3])\n",
    "#P_pert=(Pmax-Pmin)/100\n",
    "precision=1e-5\n",
    "maxlength=int(10)\n",
    "targetmode='Coupled'\n",
    "target={'GMT':EVA_GMT_1808_1858,'ZMT':ZMT_10}\n",
    "targetfunction='LeastSquare'\n",
    "ratio_ZMT_GMT=0.5\n",
    "num_params=6\n",
    "gamma0=1e-7\n",
    "setup={'number_of_parameters': num_params, 'number_of_cycles': 1, 'number_of_parallels': int(num_params*2+1)}\n",
    "control=True\n",
    "\n",
    "config_CTRL=importer('Dev_Data/Optimization/Volcanic_Sellers_CTRL.ini')\n",
    "variable_importer(config_CTRL,initialZMT=True,parallel=False)\n",
    "config_CTRL,ParasCTRL=add_sellersparameters(config_CTRL,\\\n",
    "                                        parameterinterpolatorstepwise,'SellersParameterization.ini',2,0,True,True)\n",
    "        \n",
    "config_base=importer('Dev_Data/Optimization/Volcanic_Sellers.ini')\n",
    "variable_importer(config_base,initialZMT=True,parallel=True,parallel_config=setup)\n",
    "\n",
    "config_base,ParasCTRL=add_sellersparameters(config_base,\\\n",
    "                                    parameterinterpolatorstepwise,'SellersParameterization.ini',2,0,True,True)\n",
    "\n",
    "elevation=-0.0065*np.array(ParasCTRL[1][1])\n",
    "Zero_ZMT,Zero_GMT=Vars.T,Vars.T_global\n",
    "grid=Vars.Lat\n",
    "\n",
    "F, dF, P, Ptrans , gamma, data=coremodule(config_base,P0,P_pert,Pmin,Pmax,labels,Zero_ZMT,Zero_GMT,grid,maxlength\\\n",
    "        ,targetmode,target,targetfunction,ratio_ZMT_GMT,elevation,precision,num_params,gamma0,control,config_CTRL)"
   ]
  },
  {
   "cell_type": "code",
   "execution_count": 22,
   "metadata": {},
   "outputs": [
    {
     "name": "stdout",
     "output_type": "stream",
     "text": [
      "[1.00000000e-07 1.00026337e-07 4.62547396e-05 7.52233985e-05\n",
      " 1.80095171e-04 5.89784437e-05 3.10191808e-05 4.49656624e-05\n",
      " 2.71196849e-05 7.52069916e-07]\n"
     ]
    },
    {
     "data": {
      "image/png": "[encoded data removed]",
      "text/plain": [
       "<Figure size 432x288 with 1 Axes>"
      ]
     },
     "metadata": {
      "needs_background": "light"
     },
     "output_type": "display_data"
    }
   ],
   "source": [
    "for i in range(10):\n",
    "    plt.plot(Year_volc_1808_1858,data[i,0],label=i)\n",
    "#plt.plot(Year_volc_1808_1858,data[1,1])\n",
    "#plt.plot(Year_volc_1808_1858,data[1,2])\n",
    "#plt.plot(Year_volc_1808_1858,data[1,3])\n",
    "#plt.plot(Year_volc_1808_1858,data[1,4])\n",
    "plt.plot(Year_volc_1808_1858,EVA_GMT_1808_1858,c='k')\n",
    "#plt.legend()\n",
    "#plt.xlim(1808,1858)\n",
    "print(gamma)"
   ]
  },
  {
   "cell_type": "code",
   "execution_count": 13,
   "metadata": {},
   "outputs": [
    {
     "data": {
      "text/plain": [
       "[<matplotlib.lines.Line2D at 0x7f6ac3eb2240>]"
      ]
     },
     "execution_count": 13,
     "metadata": {},
     "output_type": "execute_result"
    },
    {
     "data": {
      "image/png": "[encoded data removed]",
      "text/plain": [
       "<Figure size 432x288 with 1 Axes>"
      ]
     },
     "metadata": {
      "needs_background": "light"
     },
     "output_type": "display_data"
    }
   ],
   "source": [
    "plt.plot(np.arange(50),dF[:,0])"
   ]
  },
  {
   "cell_type": "code",
   "execution_count": 18,
   "metadata": {},
   "outputs": [
    {
     "name": "stdout",
     "output_type": "stream",
     "text": [
      "[1.00000000e-07 1.04612403e-07 2.97075138e-06 4.02580534e-06\n",
      " 1.49940221e-05 6.34839056e-06 6.75989985e-06 6.95966764e-06\n",
      " 7.15319242e-06 7.33837198e-06]\n",
      "[[6132.93262311 6131.50347094 6134.38248311 6054.02001132 6212.34085157\n",
      "  6011.55978044 6256.12383047 6132.22782752 6133.63684312 6132.79372249\n",
      "  6133.07089645 6130.26327026 6135.60637413]\n",
      " [ 194.04217593  194.03072371  194.05363385  187.56341085  200.65345179\n",
      "   190.19187825  197.94035352  194.01506563  194.06928886  194.03338032\n",
      "   194.05097181  193.89555674  194.18887108]\n",
      " [ 187.19452502  187.18355695  187.20549871  180.80588812  193.71695559\n",
      "   183.53294471  190.9010645   187.16817187  187.22088074  187.18597383\n",
      "   187.20307647  187.05170042  187.3374244 ]\n",
      " [  27.70841592   27.70732828   27.7095074    25.51474996   30.01994128\n",
      "    27.32338782   28.09705102   27.70537131   27.71146078   27.70730518\n",
      "    27.70952669   27.68951878   27.72732248]\n",
      " [  16.64433868   16.64373334   16.64494771   14.94159051   18.46930358\n",
      "    16.44706135   16.84322576   16.64262413   16.64605338   16.64381755\n",
      "    16.64485983   16.63491858   16.65376278]\n",
      " [  14.12646479   14.12598364   14.12694956   12.58148756   15.7909943\n",
      "    13.97783591   14.27617763   14.12499863   14.12793106   14.1260186\n",
      "    14.12691098   14.11840134   14.13453169]\n",
      " [  13.45117528   13.45072724   13.45162694   11.95027793   15.07086844\n",
      "    13.31502509   13.58828291   13.44977658   13.4525741    13.45074948\n",
      "    13.4516011    13.4434807    13.45887316]\n",
      " [  12.84277878   12.84236049   12.84320067   11.38232241   14.42133207\n",
      "    12.71764484   12.96876174   12.84144118   12.84411649   12.84237145\n",
      "    12.84318613   12.83541851   12.85014221]\n",
      " [  12.30880035   12.30840813   12.30919615   10.88444628   13.85062338\n",
      "    12.19314934   12.4252097    12.30751664   12.31008416   12.30840931\n",
      "    12.3091914    12.30173513   12.31586861]\n",
      " [  11.83600607   11.83563691   11.8363788    10.44412281   13.34479017\n",
      "    11.7285995    11.94409432   11.83477031   11.83724193   11.83562954\n",
      "    11.83638261   11.82920344   11.84281163]]\n",
      "[[-2.01530852e+04 -1.10824588e+06 -1.90216483e+06 -7.44385601e+03\n",
      "  -1.46431526e+03 -2.82277186e+04]\n",
      " [-1.60371001e+02 -9.16302866e+04 -6.02659188e+04 -2.86462314e+02\n",
      "  -9.29362169e+01 -1.54958520e+03]\n",
      " [-1.53592341e+02 -9.03774723e+04 -5.73075984e+04 -2.78461949e+02\n",
      "  -9.03535679e+01 -1.50948518e+03]\n",
      " [-1.52538088e+01 -3.15363392e+04 -6.01738047e+03 -3.21707611e+01\n",
      "  -1.17362892e+01 -1.99717677e+02]\n",
      " [-8.50057865e+00 -2.46939915e+04 -3.08127876e+03 -1.81168075e+01\n",
      "  -5.50634494e+00 -9.95542594e+01]\n",
      " [-6.76141807e+00 -2.24665472e+04 -2.32043563e+03 -1.54920706e+01\n",
      "  -4.71446123e+00 -8.52169549e+01]\n",
      " [-6.29789772e+00 -2.18441336e+04 -2.12533864e+03 -1.47793360e+01\n",
      "  -4.49914869e+00 -8.13186449e+01]\n",
      " [-5.88123649e+00 -2.12730676e+04 -1.95313147e+03 -1.41337327e+01\n",
      "  -4.30400637e+00 -7.77855920e+01]\n",
      " [-5.51613552e+00 -2.07632397e+04 -1.80491390e+03 -1.35642271e+01\n",
      "  -4.13177648e+00 -7.46674287e+01]\n",
      " [-5.19320679e+00 -2.03046715e+04 -1.67607083e+03 -1.30576103e+01\n",
      "  -3.97849217e+00 -7.18923308e+01]]\n",
      "[[2.94000000e+08 5.00000000e-01 1.90000000e-15 1.16500000e+00\n",
      "  1.16500000e+00 1.16500000e+00]\n",
      " [2.94846430e+08 5.22164918e-01 2.28043297e-15 1.16529775e+00\n",
      "  1.16505857e+00 1.16612911e+00]\n",
      " [2.94853476e+08 5.24082051e-01 2.29304209e-15 1.16530974e+00\n",
      "  1.16506246e+00 1.16619395e+00]\n",
      " [2.95045115e+08 5.77779851e-01 2.63353535e-15 1.16564064e+00\n",
      "  1.16516983e+00 1.16798767e+00]\n",
      " [2.95070907e+08 6.00000000e-01 2.68198495e-15 1.16569244e+00\n",
      "  1.16518873e+00 1.16830928e+00]\n",
      " [2.95124439e+08 6.00000000e-01 2.77438647e-15 1.16580110e+00\n",
      "  1.16522175e+00 1.16890637e+00]\n",
      " [2.95142468e+08 6.00000000e-01 2.80384854e-15 1.16584044e+00\n",
      "  1.16523372e+00 1.16912277e+00]\n",
      " [2.95160348e+08 6.00000000e-01 2.83258269e-15 1.16588040e+00\n",
      "  1.16524589e+00 1.16934265e+00]\n",
      " [2.95177539e+08 6.00000000e-01 2.85976898e-15 1.16591975e+00\n",
      "  1.16525787e+00 1.16955919e+00]\n",
      " [2.95194112e+08 6.00000000e-01 2.88559078e-15 1.16595856e+00\n",
      "  1.16526969e+00 1.16977284e+00]]\n"
     ]
    }
   ],
   "source": [
    "print(gamma)\n",
    "print(F)\n",
    "print(dF)\n",
    "print(P)"
   ]
  },
  {
   "cell_type": "code",
   "execution_count": 20,
   "metadata": {},
   "outputs": [
    {
     "name": "stdout",
     "output_type": "stream",
     "text": [
      "70.28431238095239\n"
     ]
    }
   ],
   "source": [
    "print(2.95194112e+08/4.2e6)"
   ]
  },
  {
   "cell_type": "code",
   "execution_count": null,
   "metadata": {},
   "outputs": [],
   "source": []
  }
 ],
 "metadata": {
  "kernelspec": {
   "display_name": "Python 3",
   "language": "python",
   "name": "python3"
  },
  "language_info": {
   "codemirror_mode": {
    "name": "ipython",
    "version": 3
   },
   "file_extension": ".py",
   "mimetype": "text/x-python",
   "name": "python",
   "nbconvert_exporter": "python",
   "pygments_lexer": "ipython3",
   "version": "3.6.8"
  }
 },
 "nbformat": 4,
 "nbformat_minor": 2
}
