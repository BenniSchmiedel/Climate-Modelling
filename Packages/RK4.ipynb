{
 "cells": [
  {
   "cell_type": "code",
   "execution_count": 7,
   "metadata": {},
   "outputs": [
    {
     "data": {
      "text/plain": [
       "'Output: time-array, Temperature-array'"
      ]
     },
     "execution_count": 7,
     "metadata": {},
     "output_type": "execute_result"
    }
   ],
   "source": [
    "from Packages.BaseEquation import *\n",
    "from Packages.Functions import *\n",
    "import numpy as np\n",
    "import builtins\n",
    "import time\n",
    "\n",
    "def rk4alg(func,EQparam,rk4input,funccomp,var):\n",
    "    #Start the runtime tracker\n",
    "    Vars.start_time = time.time()\n",
    "    #locally defining rk4input parameters\n",
    "    n,h=num_of_integration,builtins.stepsize_of_integration\n",
    "    \n",
    "    #Creating an array of the variables t,T,Lat,T_global which will be the outputarray\n",
    "    data=np.array([[0]*(n+1)]*3 )\n",
    "    #Filling data with intitial conditions at positions data[.][0]\n",
    "    data=nal(data)\n",
    "    data[0][0]=var[0] #time t\n",
    "    data[1][0]=var[1] #Temperature T\n",
    "    data[2][0]=var[2] #Global mean temperature T_global\n",
    "    \n",
    "    ###Running runge Kutta 4th order n times###\n",
    "    for i in range(1, n + 1):   \n",
    "        \n",
    "        #Calculating increments at 4 positions from the energy balance equation (func)\n",
    "        T0=Vars.T\n",
    "        k1 = h * func(EQparam,funccomp)\n",
    "        builtins.Runtime_Tracker += 1\n",
    "        Vars.T=T0+0.5*k1\n",
    "        k2 = h * func(EQparam,funccomp)\n",
    "        builtins.Runtime_Tracker += 1\n",
    "        Vars.T=T0+0.5*k2\n",
    "        k3 = h * func(EQparam,funccomp)\n",
    "        builtins.Runtime_Tracker += 1\n",
    "        Vars.T=T0+k3\n",
    "        k4 = h * func(EQparam,funccomp)\n",
    "        builtins.Runtime_Tracker += 1\n",
    "        \n",
    "        #filling output array \"data\" with values from the generated increments\n",
    "        #For the time simply adding the integration stepsize\n",
    "        data[0][i] = Vars.t = Vars.t + h  \n",
    "        #The Temperature is an average over the generated increments\n",
    "        data[1][i] = Vars.T = T0 + (k1 + k2 + k2 + k3 + k3 + k4) / 6  \n",
    "        #The globalmeantemp calculated from the new generated temperature distribution\n",
    "        if latitude_stepsize>0:\n",
    "            data[2][i] = Vars.T_global = globalmeantemp()\n",
    "        else: #if 0 dimensional\n",
    "            data[2][i] = Vars.T_global = Vars.T\n",
    "        #Check if the equilibrium condition is fulfilled. If true, break the loop, cut the output array to\n",
    "        #the current length and move on to return the output data\n",
    "        if Condition==True:\n",
    "            if Runtime_Tracker > 4*ConditionLength:\n",
    "                if SteadyStateConditionGlobal(data[2][i-ConditionLength:i])==True:\n",
    "                    for l in range(len(data)):\n",
    "                        data[l]=data[l][:(i+1)]\n",
    "                    for m in range(len(Vars.Read)):\n",
    "                        Vars.Read[m]=Vars.Read[m][:(i)]\n",
    "                    break\n",
    "                    \n",
    "    return data"
   ]
  },
  {
   "cell_type": "code",
   "execution_count": null,
   "metadata": {},
   "outputs": [],
   "source": []
  }
 ],
 "metadata": {
  "kernelspec": {
   "display_name": "Python 3",
   "language": "python",
   "name": "python3"
  },
  "language_info": {
   "codemirror_mode": {
    "name": "ipython",
    "version": 3
   },
   "file_extension": ".py",
   "mimetype": "text/x-python",
   "name": "python",
   "nbconvert_exporter": "python",
   "pygments_lexer": "ipython3",
   "version": "3.6.4"
  }
 },
 "nbformat": 4,
 "nbformat_minor": 2
}
