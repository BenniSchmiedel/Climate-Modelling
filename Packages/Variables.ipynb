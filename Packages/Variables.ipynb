{
 "cells": [
  {
   "cell_type": "code",
   "execution_count": 7,
   "metadata": {},
   "outputs": [],
   "source": [
    "###Data variables###\n",
    "t=float\n",
    "T=float\n",
    "T_global=float\n",
    "Lat=float\n",
    "Lat2=float\n",
    "###Dynamical variables###\n",
    "start_time=float\n",
    "meridional=list\n",
    "tempdif=list\n",
    "orbitals=float\n",
    "orbtable=float\n",
    "Noise=float\n",
    "ForcingTracker=int\n",
    "\n",
    "###Fixed Variables###\n",
    "Solar=list\n",
    "Area=list\n",
    "bounds=list\n",
    "latlength=list\n"
   ]
  },
  {
   "cell_type": "code",
   "execution_count": 8,
   "metadata": {},
   "outputs": [],
   "source": [
    "###Readout parameters###\n",
    "cL=list\n",
    "C=list\n",
    "F=list\n",
    "v=list\n",
    "P=list\n",
    "Transfer=list\n",
    "BudTransfer=list\n",
    "alpha=list\n",
    "#Read=list\n",
    "Rin=list\n",
    "Rout=list\n",
    "Read=[cL,C,F,v,P,Transfer,alpha,BudTransfer,Solar,Noise,Rin,Rout]\n",
    "External=list"
   ]
  },
  {
   "cell_type": "code",
   "execution_count": null,
   "metadata": {},
   "outputs": [],
   "source": [
    "###Integration parameters###\n",
    "n='num_of_integration'\n",
    "h='stepsize_of_integration'\n",
    "step='latitude_stepsize'\n",
    "NS='latitude_NS'\n",
    "circle='latitude_circle'\n",
    "belt='latitude_belt'\n",
    "Tempstartcosine='Tempstart_cosine'\n",
    "Tempstartamplitude='Tempstart_amplitude'\n",
    "Tracker='Runtime_Tracker'\n",
    "NoiseTracker='NoiseTracker'\n",
    "Condition='Condition'\n",
    "CondLend='ConditionLength'\n",
    "Cond='ConditionValue'"
   ]
  }
 ],
 "metadata": {
  "kernelspec": {
   "display_name": "Python 3",
   "language": "python",
   "name": "python3"
  },
  "language_info": {
   "codemirror_mode": {
    "name": "ipython",
    "version": 3
   },
   "file_extension": ".py",
   "mimetype": "text/x-python",
   "name": "python",
   "nbconvert_exporter": "python",
   "pygments_lexer": "ipython3",
   "version": "3.6.4"
  }
 },
 "nbformat": 4,
 "nbformat_minor": 2
}
