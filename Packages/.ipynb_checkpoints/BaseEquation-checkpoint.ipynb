{
 "cells": [
  {
   "cell_type": "code",
   "execution_count": 1,
   "metadata": {},
   "outputs": [],
   "source": [
    "def Budyko0D(var,EQparam,funccomp):\n",
    "    y=0\n",
    "    funclist=funccomp[0]\n",
    "    funcparam=funccomp[1]\n",
    "    C_ao=EQparam[0]\n",
    "    for i in range(len(funclist)):\n",
    "        y += funclist[i](var,funcparam[i])\n",
    "    print(y)\n",
    "    return y/C_ao"
   ]
  },
  {
   "cell_type": "code",
   "execution_count": null,
   "metadata": {},
   "outputs": [],
   "source": []
  }
 ],
 "metadata": {
  "kernelspec": {
   "display_name": "Python 3",
   "language": "python",
   "name": "python3"
  },
  "language_info": {
   "codemirror_mode": {
    "name": "ipython",
    "version": 3
   },
   "file_extension": ".py",
   "mimetype": "text/x-python",
   "name": "python",
   "nbconvert_exporter": "python",
   "pygments_lexer": "ipython3",
   "version": "3.6.4"
  }
 },
 "nbformat": 4,
 "nbformat_minor": 2
}
