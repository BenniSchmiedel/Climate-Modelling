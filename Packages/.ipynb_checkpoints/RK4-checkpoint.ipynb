{
 "cells": [
  {
   "cell_type": "code",
   "execution_count": 2,
   "metadata": {},
   "outputs": [
    {
     "data": {
      "text/plain": [
       "'Output: time-array, Temperature-array'"
      ]
     },
     "execution_count": 2,
     "metadata": {},
     "output_type": "execute_result"
    }
   ],
   "source": [
    "from Packages.BaseEquation import *\n",
    "import numpy as np\n",
    "\n",
    "def rk4alg(func,EQparam,rk4input,funccomp,var):\n",
    "    \"\"\"Runge-Kutta-4th-Order Integrator\n",
    "    \n",
    "    rk4(func, *configv):\n",
    "    \n",
    "    func : Base equation used (Budyko, Sellers, Ghil,...)\n",
    "        -configv : Array of input functions and their corresponding parameters\n",
    "                   -> = [*BE, *rk4input]\n",
    "                   \n",
    "            -rk4input : Array of algorithm parameters and intitial conditions \n",
    "                        -> = [*algparam, *initcond]\n",
    "                - algparam = [n,h,..]  (n: Number of iterations, h: Iteration steps,..)\n",
    "                - initcond = [t0,T0,..] (t0: initial time, T0: initial system Temperature,..)\n",
    "                \n",
    "            -sysparam : Array of additional parameters for chosen Base equation\n",
    "                For additional base equation parameters see \"Base equations\"-Section\n",
    "                Example: C_ao (Heat capacity of ocean+atmosphere)\n",
    "                \n",
    "            -funcincl : Array of functions which characterize the model used. Any combination\n",
    "                        possible, physical sense has to determined before.\n",
    "                For additional information of functions availabe see \"Functions\"-Section\n",
    "                Example: R_infix (Incoming radiation flux without noise)\n",
    "                \n",
    "            -funcparam : Array of the inputparameters corresponding to the functions used in \n",
    "                         funcincl. \n",
    "                For additional information of the parameters needed for chosen functions see\n",
    "                \"Functions\"-Section aswell    \n",
    "                Example: R_infixparam (Solar const Q, Albedo alpha_p)\n",
    "    \"\"\"\n",
    "    n=rk4input[0]\n",
    "    h=rk4input[1]\n",
    "        \n",
    "    vara=np.array([[0]*(n+1)]*(len(var)),dtype=float)\n",
    "    for j in range(len(var)):\n",
    "        vara[j][0]=var[j]\n",
    "    \"\"\"\n",
    "    Creating empty arrays ti, Ti with Initial Conditions in first position [0]\n",
    "    \"\"\"\n",
    "    funccomp=[funclist,funcparam]=funccomp\n",
    "    for i in range(1, n + 1):   \n",
    "        k1 = h * func(var,EQparam,funccomp)\n",
    "        k2 = h * func(np.array(var) + 0.5 * k1,EQparam,funccomp)\n",
    "        k3 = h * func(np.array(var) + 0.5 * k2,EQparam,funccomp)\n",
    "        k4 = h * func(np.array(var) + k3,EQparam,funccomp)\n",
    "        vara[0][i] = var[0] = var[0] + h                          \n",
    "        vara[1][i] = var[1] = var[1] + (k1 + k2 + k2 + k3 + k3 + k4) / 6\n",
    "        print(var[1])\n",
    "        \"\"\"\n",
    "        Runge-Kutta method of 4th order:\n",
    "        From the initial value T_n this method is used to determine T_n+1 which is an approximation of T(t_n+1).\n",
    "        In this sense T_n+1 is calculated from T_n+1 = T_n + dT with dT the weighted average\n",
    "        of four increments k1 to k4.\n",
    "        The increments are calculated from the given Basefunction times the setpsize used,\n",
    "        but at different positions in the interval of h.\n",
    "        k1: From the slope at the beginning of the interval (also known as Euler integration)\n",
    "        k2: From the slope at the midpoint of the interval (using the former slope k1*0.5 and h*0.5)\n",
    "        k3: From the slope at the midpoint but with slope k2\n",
    "        k4: From the slope at the end of the interval using k3 and h \n",
    "        \n",
    "        dT is then averaged by: dT= (k1+2*k2+2*k3+k4)/6\n",
    "        \n",
    "        The arrays ti, Ti are then filled with the new value T_n+1 and t_n+1 for every loopstep\n",
    "        \"\"\"\n",
    "    return vara[0], vara[1]  \n",
    "\"\"\"Output: time-array, Temperature-array\"\"\"\n"
   ]
  },
  {
   "cell_type": "code",
   "execution_count": null,
   "metadata": {},
   "outputs": [],
   "source": []
  }
 ],
 "metadata": {
  "kernelspec": {
   "display_name": "Python 3",
   "language": "python",
   "name": "python3"
  },
  "language_info": {
   "codemirror_mode": {
    "name": "ipython",
    "version": 3
   },
   "file_extension": ".py",
   "mimetype": "text/x-python",
   "name": "python",
   "nbconvert_exporter": "python",
   "pygments_lexer": "ipython3",
   "version": "3.6.4"
  }
 },
 "nbformat": 4,
 "nbformat_minor": 2
}
