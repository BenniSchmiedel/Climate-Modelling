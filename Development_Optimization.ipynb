{
 "cells": [
  {
   "cell_type": "code",
   "execution_count": 1,
   "metadata": {},
   "outputs": [],
   "source": [
    "import matplotlib.pyplot as plt\n",
    "import numpy as np\n",
    "from lowEBMs.Packages.Configuration import importer, add_sellersparameters, parameterinterpolatorstepwise, reset\n",
    "from lowEBMs.Packages.Variables import variable_importer\n",
    "from lowEBMs.Packages.RK4 import rk4alg, controlrun\n",
    "from lowEBMs.Packages.ModelEquation import model_equation\n",
    "from lowEBMs.Packages.Variables import Vars,reset\n",
    "from lowEBMs.Packages.Functions import plotmeanstd\n",
    "from lowEBMs import update_plotstyle\n",
    "import matplotlib\n",
    "update_plotstyle()\n",
    "matplotlib.rcParams['lines.linewidth']=1.1\n",
    "time_sec_year=60*60*24*365\n",
    "def moving_average(signal, period):\n",
    "    buffer = [np.nan] * period\n",
    "    for i in range(period,len(signal)):\n",
    "        buffer.append(signal[i-period:i].mean())\n",
    "    return buffer"
   ]
  },
  {
   "cell_type": "code",
   "execution_count": null,
   "metadata": {},
   "outputs": [],
   "source": [
    "configCTRLVolc1D=importer('Dev_Data/Volcanic_CTRL.ini')\n",
    "variable_importer(configCTRLVolc1D,False)#,accuracy_number=2000,accuracy=1e-4)\n",
    "configCTRLVolc1D,ParasCTRL=add_sellersparameters(configCTRLVolc1D,parameterinterpolatorstepwise,'SellersParameterization.ini',2,0,True,True)\n",
    "CTRLVolc1D=rk4alg(model_equation,configCTRLVolc1D['eqparam'],configCTRLVolc1D['funccomp'])\n",
    "CTRLVolc1D_ZMT=np.mean(CTRLVolc1D[1][-36*10:],axis=0)\n",
    "CTRLVolc1D_GMT=np.mean(CTRLVolc1D[2][-36*10:],axis=0)\n",
    "\n",
    "configVolc_EVA=importer('Dev_Data/Volcanic_EVA_Optimization.ini')\n",
    "variable_importer(configVolc_EVA,False)#,accuracy_number=2000,accuracy=1e-4)\n",
    "configVolc_EVA,ParasVolc_EVA=add_sellersparameters(configVolc_EVA,parameterinterpolatorstepwise,'SellersParameterization.ini',2,0,True,True)\n",
    "#Elevation_weight=np.average(0.0065*np.array(ParasCTRL[1][1]),weights=np.cos(Vars.Lat*2*np.pi/360))\n",
    "Vars.T,Vars.T_global=CTRLVolc1D_ZMT,CTRLVolc1D_GMT\n",
    "Volc_EVA=rk4alg(model_equation,configVolc_EVA['eqparam'],configVolc_EVA['funccomp'])"
   ]
  },
  {
   "cell_type": "code",
   "execution_count": null,
   "metadata": {},
   "outputs": [],
   "source": [
    "plt.plot(CTRLVolc1D[0],CTRLVolc1D[2])"
   ]
  },
  {
   "cell_type": "code",
   "execution_count": null,
   "metadata": {},
   "outputs": [],
   "source": [
    "fig,ax=plt.subplots(1,2,figsize=(16,5))\n",
    "C=np.zeros(len(Vars.Read['P']))\n",
    "print(Vars.Read['P'])\n",
    "for i in range(len(Vars.Read['P'])):\n",
    "    C[i]=np.average(Vars.Read['P'][i],weights=np.cos(Vars.Lat2*np.pi/180))\n",
    "#plt.ylim(-0.9,0.2)\n",
    "#ax[0].xlim(1980,2010)\n",
    "#plt.plot(Volc_EVA[0]/time_sec_year,Volc_EVA[2])#-CTRLVolc1D_GMT)\n",
    "ax[0].plot(Volc_EVA[0]/time_sec_year,moving_average(Volc_EVA[2],36))#-CTRLVolc1D_GMT,36))\n",
    "#C=print(np.shape(np.array(Vars.Read['C'])))\n",
    "ax[1].plot(Volc_EVA[0][1:]/time_sec_year,moving_average(C,365))"
   ]
  },
  {
   "cell_type": "code",
   "execution_count": 2,
   "metadata": {},
   "outputs": [],
   "source": [
    "from lowEBMs.Packages.Configuration import import_parallelparameter, allocate_parallelparameter, write_parallelparameter\n",
    "from lowEBMs.Packages.Variables import variable_importer_parallelized, builtin_importer_parallelized"
   ]
  },
  {
   "cell_type": "code",
   "execution_count": 3,
   "metadata": {},
   "outputs": [
    {
     "name": "stdout",
     "output_type": "stream",
     "text": [
      "Loading Configuration from: Dev_Data/Volcanic_CTRL.ini\n",
      "Loading fit-configuration from: Dev_Data/EnsembleConfig.ini\n",
      "Loading Parameters from: /Home/siv32/bsc029/.local/lib/python3.6/site-packages/lowEBMs/Tutorials/Config/Data/SellersParameterization.ini\n",
      "{'eqparam': {'c_ao': 294000000.0}, 'rk4input': {'number_of_integration': 29200, 'stepsize_of_integration': 86400, 'spatial_resolution': 10, 'both_hemispheres': True, 'latitudinal_circle': False, 'latitudinal_belt': True, 'eq_condition': False, 'eq_condition_length': 100, 'eq_condition_amplitude': 0.001, 'data_readout': 5, 'number_of_externals': 0}, 'funccomp': {'funclist': {'func0': <function flux_down.insolation at 0x7fd2ce3e0400>, 'func1': <function flux_up.sellers at 0x7fd2ca2ab598>, 'func2': <function transfer.sellers at 0x7fd2ca2ab6a8>}, 'funcparam': {'func0': {'q': 1366.14, 'm': 1, 'dq': 0, 'albedo': <function albedo.dynamic_sel at 0x7fd2ca2ab378>, 'albedoread': True, 'albedoparam': [array([2272. , 1420. ,  388. ,    5. ,    5. ,  106. ,  156. ,  121. ,\n",
      "        154. ,  158. ,  146. ,  366. ,  496. ,  382. ,  296. ,  202. ,\n",
      "        178.5,  137. ]), array([2.9   , 2.992 , 2.989 , 2.937 , 2.922 , 2.865 , 2.815 , 2.798 ,\n",
      "       2.801 , 2.808 , 2.809 , 2.826 , 2.87  , 2.908 , 2.891 , 2.878 ,\n",
      "       2.9255, 2.924 ])], 'noise': False, 'noiseamp': 10.26, 'noisedelay': 1, 'seed': True, 'seedmanipulation': 0, 'solarinput': True, 'convfactor': 1, 'timeunit': 'second', 'orbital': False, 'orbitalyear': 0, 'updatefrequency': 5}, 'func1': {'grey': 0.5, 'sig': 5.6703726225913323e-08, 'gamma': 1.9e-15, 'm': 0.9755}, 'func2': {'readout': True, 'activated': True, 'k_wv': array([ 630000.        ,  740000.        ,  820000.        ,\n",
      "       1280000.        , 1190000.        ,  430000.        ,\n",
      "         80000.        ,   60000.        , 1630000.        ,\n",
      "       3440000.        ,  220000.        ,  290000.        ,\n",
      "        510000.        ,  590000.        ,  249999.99999999,\n",
      "        200000.        ,  460000.        ]), 'k_h': array([5.000e+05, 1.000e+06, 1.400e+06, 1.900e+06, 2.300e+06, 2.300e+06,\n",
      "       8.500e+06, 3.080e+07, 6.820e+07, 1.332e+08, 1.030e+07, 1.300e+06,\n",
      "       9.000e+05, 1.500e+06, 1.700e+06, 1.200e+06, 1.900e+06]), 'k_o': array([   0.,   20.,   50.,  180.,  290.,  510.,  950., 1900.,  700.,\n",
      "       5990., 1330.,  960.,  530.,  760.,  690.,  660.,   70.]), 'g': 9.81, 'a': array([0.005, 0.005, 0.01 , 0.01 , 0.01 , 0.02 , 0.03 , 0.03 , 0.03 ,\n",
      "       0.03 , 0.03 , 0.02 , 0.01 , 0.01 , 0.01 , 0.01 , 0.005]), 'eps': 0.622, 'p': 1000, 'e0': 1700, 'l': 2500.0, 'rd': 0.287, 'dy': 1110000.0, 'dp': array([709., 710., 713., 750., 800., 833., 880., 904., 906., 904., 880.,\n",
      "       833., 800., 750., 713., 710., 709.]), 'cp': 1004.0, 'dz': array([   0., 3000., 4000., 4000., 4000., 4000., 4000., 4000., 4000.,\n",
      "       4000., 4000., 4000., 4000., 3000., 2000., 1000., 2000.]), 'l_cover': 0.5, 'radius': 6373000.0, 'cp_w': 4182, 'dens_w': 998, 'factor_wv': 1, 'factor_air': 1, 'factor_oc': array([1.15, 1.18]), 'factor_kwv': 1.165, 'factor_kair': 1.165}}}, 'initials': {'time': 0, 'zmt': array([260.61467228, 265.76457135, 270.67854785, 275.20729309,\n",
      "       279.21320344, 282.57456133, 285.18923361, 286.97777479,\n",
      "       287.88584094, 287.88584094, 286.97777479, 285.18923361,\n",
      "       282.57456133, 279.21320344, 275.20729309, 270.67854785,\n",
      "       265.76457135, 260.61467228]), 'gmt': 288, 'latitude_c': array([-85., -75., -65., -55., -45., -35., -25., -15.,  -5.,   5.,  15.,\n",
      "        25.,  35.,  45.,  55.,  65.,  75.,  85.]), 'latitude_b': array([-80., -70., -60., -50., -40., -30., -20., -10.,   0.,  10.,  20.,\n",
      "        30.,  40.,  50.,  60.,  70.,  80.]), 'initial_temperature_cosine': True, 'initial_temperature_amplitude': 30, 'initial_temperature_noise': False, 'initial_temperature_noise_amplitude': 5}}\n",
      "Starting simulation...\n"
     ]
    },
    {
     "data": {
      "application/vnd.jupyter.widget-view+json": {
       "model_id": "8b0cba754da541b7bcfc4ad0d27a6bb1",
       "version_major": 2,
       "version_minor": 0
      },
      "text/plain": [
       "HBox(children=(IntProgress(value=0, max=29200), HTML(value='')))"
      ]
     },
     "metadata": {},
     "output_type": "display_data"
    },
    {
     "name": "stdout",
     "output_type": "stream",
     "text": [
      "\n",
      "Simulation finished within 92.62084722518921 seconds\n"
     ]
    }
   ],
   "source": [
    "configCTRLVolc1D=importer('Dev_Data/Volcanic_CTRL.ini')\n",
    "raw=import_parallelparameter('Dev_Data/EnsembleConfig.ini')\n",
    "allocated,setup=allocate_parallelparameter(raw)\n",
    "#variable_importer(configCTRLVolc1D,False)\n",
    "variable_importer_parallelized(configCTRLVolc1D,setup,False)#,accuracy_number=2000,accuracy=1e-4)\n",
    "configCTRLVolc1D,ParasCTRL=add_sellersparameters(configCTRLVolc1D,parameterinterpolatorstepwise,'SellersParameterization.ini',2,0,True,True)\n",
    "configCTRLVolc1D=write_parallelparameter(configCTRLVolc1D,allocated,setup)\n",
    "#print(configCTRLVolc1D)\n",
    "#print(np.shape(Vars.T))\n",
    "#print(configCTRLVolc1D['funccomp']['funcparam']['func2'])\n",
    "CTRLVolc1D=rk4alg(model_equation,configCTRLVolc1D['eqparam'],configCTRLVolc1D['funccomp'])\n",
    "CTRLVolc1D_ZMT=np.mean(CTRLVolc1D[1][-36*10:],axis=0)\n",
    "CTRLVolc1D_GMT=np.mean(CTRLVolc1D[2][-36*10:],axis=0)"
   ]
  },
  {
   "cell_type": "code",
   "execution_count": 4,
   "metadata": {},
   "outputs": [
    {
     "data": {
      "text/plain": [
       "[<matplotlib.lines.Line2D at 0x7fd2c74431d0>,\n",
       " <matplotlib.lines.Line2D at 0x7fd2c7443320>]"
      ]
     },
     "execution_count": 4,
     "metadata": {},
     "output_type": "execute_result"
    },
    {
     "data": {
      "image/png": "[encoded data removed]",
      "text/plain": [
       "<Figure size 432x288 with 1 Axes>"
      ]
     },
     "metadata": {
      "needs_background": "light"
     },
     "output_type": "display_data"
    }
   ],
   "source": [
    "plt.plot(CTRLVolc1D[0]/time_sec_year,CTRLVolc1D[2])\n",
    "#print(CTRLVolc1D[2][-1,0],CTRLVolc1D[2][-1,1])"
   ]
  },
  {
   "cell_type": "code",
   "execution_count": 33,
   "metadata": {},
   "outputs": [
    {
     "name": "stdout",
     "output_type": "stream",
     "text": [
      "[array([[0, 0, 0, 0, 0, 0, 0, 0, 0, 0, 0, 0, 0, 0, 0, 0, 0, 0],\n",
      "       [0, 0, 0, 0, 0, 0, 0, 0, 0, 0, 0, 0, 0, 0, 0, 0, 0, 0]])\n",
      " array([[0, 0, 0, 0, 0, 0, 0, 0, 0, 0, 0, 0, 0, 0, 0, 0, 0, 0],\n",
      "       [0, 0, 0, 0, 0, 0, 0, 0, 0, 0, 0, 0, 0, 0, 0, 0, 0, 0]])\n",
      " array([[0, 0, 0, 0, 0, 0, 0, 0, 0, 0, 0, 0, 0, 0, 0, 0, 0, 0],\n",
      "       [0, 0, 0, 0, 0, 0, 0, 0, 0, 0, 0, 0, 0, 0, 0, 0, 0, 0]])\n",
      " ... 0 0 0]\n"
     ]
    }
   ],
   "source": [
    "#plt.plot(Vars.Lat,Vars.Read['alpha'][:][0])\n",
    "print(Vars.Read['alpha'])\n",
    "#plt.plot(Vars.Lat,Vars.Read['solar'][0])"
   ]
  },
  {
   "cell_type": "code",
   "execution_count": 12,
   "metadata": {},
   "outputs": [
    {
     "name": "stdout",
     "output_type": "stream",
     "text": [
      "[[1 2 3]\n",
      " [1 4 5]]\n",
      "[[1 0 2]\n",
      " [1 0 2]]\n",
      "[[1 3]\n",
      " [3 5]]\n",
      "729000000000000\n"
     ]
    }
   ],
   "source": [
    "import time\n",
    "num=3\n",
    "dim=3\n",
    "a=np.array([1,2,3])\n",
    "b=np.array([1,4,5])\n",
    "c=np.array([1,0,2])\n",
    "data=np.array([a,b])\n",
    "data1=np.array([c,c])\n",
    "print(data)\n",
    "print(data1)\n",
    "print(data[:,1:]-data1[:,:-1])\n",
    "print(300**6)"
   ]
  },
  {
   "cell_type": "code",
   "execution_count": 7,
   "metadata": {},
   "outputs": [
    {
     "data": {
      "text/plain": [
       "array([[2, 2, 2],\n",
       "       [2, 2, 2]])"
      ]
     },
     "execution_count": 7,
     "metadata": {},
     "output_type": "execute_result"
    }
   ],
   "source": [
    "x=np.array([2,2,2])\n",
    "number_of_parallels=2\n",
    "np.array([x]*number_of_parallels)"
   ]
  },
  {
   "cell_type": "code",
   "execution_count": null,
   "metadata": {},
   "outputs": [],
   "source": []
  }
 ],
 "metadata": {
  "kernelspec": {
   "display_name": "Python 3",
   "language": "python",
   "name": "python3"
  },
  "language_info": {
   "codemirror_mode": {
    "name": "ipython",
    "version": 3
   },
   "file_extension": ".py",
   "mimetype": "text/x-python",
   "name": "python",
   "nbconvert_exporter": "python",
   "pygments_lexer": "ipython3",
   "version": "3.6.8"
  }
 },
 "nbformat": 4,
 "nbformat_minor": 2
}
