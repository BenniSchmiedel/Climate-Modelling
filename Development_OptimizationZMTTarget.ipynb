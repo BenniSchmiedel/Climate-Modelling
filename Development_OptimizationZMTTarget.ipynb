{
 "cells": [
  {
   "cell_type": "code",
   "execution_count": 1,
   "metadata": {},
   "outputs": [],
   "source": [
    "import matplotlib.pyplot as plt\n",
    "import numpy as np\n",
    "from lowEBMs.Packages.Configuration import importer, add_sellersparameters, parameterinterpolatorstepwise, reset\n",
    "from lowEBMs.Packages.Configuration import import_parallelparameter, allocate_parallelparameter, write_parallelparameter\n",
    "from lowEBMs.Packages.Variables import variable_importer\n",
    "from lowEBMs.Packages.RK4 import rk4alg\n",
    "from lowEBMs.Packages.ModelEquation import model_equation\n",
    "from lowEBMs.Packages.Variables import Vars,reset, trackerreset, datareset\n",
    "from lowEBMs.Packages.Functions import plotmeanstd\n",
    "from lowEBMs import update_plotstyle, moving_average, constants\n",
    "import builtins\n",
    "import matplotlib\n",
    "update_plotstyle()\n",
    "matplotlib.rcParams['lines.linewidth']=1.1"
   ]
  },
  {
   "cell_type": "code",
   "execution_count": 2,
   "metadata": {},
   "outputs": [],
   "source": [
    "Lat_10,ZMT_10=np.loadtxt('Data/ERA_ZMT_Mean_10deginterpolated.txt')\n",
    "Lat_ERA,ZMT_ERA=np.loadtxt('Data/ERA_ZMT_Mean.txt')"
   ]
  },
  {
   "cell_type": "code",
   "execution_count": 3,
   "metadata": {},
   "outputs": [],
   "source": [
    "def coremodule(config,P0,P_pert,Pmin,Pmax,labels,ZMT,GMT,grid,maxlength,targetmode,target,targetfunction,ratio_ZMT_GMT,elevation,precision,num_paras,gamma0,control,controlconfig):\n",
    "    from tqdm import tqdm, tnrange\n",
    "    \n",
    "    F=np.reshape(np.zeros(maxlength*(2*num_paras+1)),(maxlength,2*num_paras+1))\n",
    "    dF=np.reshape(np.zeros(maxlength*(num_paras)),(maxlength,num_paras))\n",
    "    P=np.reshape(np.zeros(maxlength*(num_paras)),(maxlength,num_paras))\n",
    "    Ptrans=np.reshape(np.zeros(maxlength*(num_paras)),(maxlength,num_paras))\n",
    "    gamma=np.zeros(maxlength)\n",
    "    \n",
    "    if targetmode=='Single':\n",
    "        dataout=np.reshape(np.zeros(maxlength*(2*num_paras+1)),(maxlength,(2*num_paras+1)))\n",
    "    elif targetmode=='ZMT':\n",
    "        dataout=np.reshape(np.zeros(maxlength*len(grid)*(2*num_paras+1)),(maxlength,(2*num_paras+1),len(grid)))\n",
    "    elif targetmode=='GMT':\n",
    "        dataout=np.reshape(np.zeros(maxlength*int(number_of_integration/data_readout)*(2*num_paras+1)),(maxlength,(2*num_paras+1),int(number_of_integration/data_readout)))\n",
    "    elif targetmode=='Coupled':\n",
    "        dataout_ZMT=np.reshape(np.zeros(maxlength*len(grid)*(2*num_paras+1)),(maxlength,(2*num_paras+1),len(grid)))\n",
    "        dataout_GMT=np.reshape(np.zeros(maxlength*int(number_of_integration/data_readout)*(2*num_paras+1)),(maxlength,(2*num_paras+1),int(number_of_integration/data_readout)))     \n",
    "    for i in tnrange(maxlength):\n",
    "        print('Iteration no.'+str(i))\n",
    "        if i==0:\n",
    "            P[i]=P0\n",
    "            Ptrans[i]=(P0-Pmin)/(Pmax-Pmin)\n",
    "            Ptrans_pert=Ptrans[i]*P_pert[0]/P0[0]\n",
    "\n",
    "        if targetmode=='Coupled':\n",
    "            data_ZMT,data_GMT=run_model(config,P[i],P_pert,labels,ZMT,GMT,targetmode,control,controlconfig,grid,elevation)\n",
    "            dataout_ZMT[i]=data_ZMT\n",
    "            dataout_GMT[i]=data_GMT\n",
    "        else:\n",
    "            data=run_model(config,P[i],P_pert,labels,ZMT,GMT,targetmode,control,controlconfig,grid,elevation)\n",
    "            dataout[i]=data\n",
    "            \n",
    "        if targetmode=='Coupled':\n",
    "            target_ZMT=target['ZMT']\n",
    "            target_GMT=target['GMT']\n",
    "            F_ZMT=target_comparison(data_ZMT,'ZMT',target_ZMT,targetfunction,num_paras,grid)\n",
    "            F_GMT=target_comparison(data_GMT,'GMT',target_GMT,targetfunction,num_paras,grid)\n",
    "            F[i]=ratio_ZMT_GMT*F_ZMT+(1-ratio_ZMT_GMT)*F_GMT\n",
    "        else:\n",
    "            F[i]=target_comparison(data,targetmode,target,targetfunction,num_paras,grid)\n",
    "\n",
    "        dF[i]=local_gradient(F[i],Ptrans_pert)\n",
    "        #dF[i]=local_gradient(F[i],P_pert)\n",
    "        if i==0:\n",
    "            gamma[i]=gamma0\n",
    "        else:\n",
    "            #gamma[i]=step_weighting(dF[i-1],dF[i],P[i-1],P[i])\n",
    "            gamma[i]=step_weighting(dF[i-1],dF[i],Ptrans[i-1],Ptrans[i])\n",
    "            \n",
    "        if precision_check(dF[0],dF[i],precision):\n",
    "            print('stop',i)\n",
    "            P=P[:i]\n",
    "            Ptrans=Ptrans[:i]\n",
    "            F=F[:i]\n",
    "            dF=dF[:i]\n",
    "            gamma=gamma[:i]\n",
    "            break\n",
    "                \n",
    "        #P_next=new_parameters(P[i],gamma[i],dF[i])        \n",
    "        Ptrans_next=new_parameters(Ptrans[i],gamma[i],dF[i])\n",
    "\n",
    "        for k in range(num_paras):\n",
    "            if Ptrans_next[k]<0:\n",
    "                Ptrans_next[k]=0.\n",
    "            if Ptrans_next[k]>1:\n",
    "                Ptrans_next[k]=1.\n",
    "\n",
    "        if i<maxlength-1:\n",
    "            Ptrans[i+1]=Ptrans_next\n",
    "            P[i+1]=Pmin+Ptrans_next*(Pmax-Pmin)\n",
    "            print(F[i])\n",
    "            print(gamma[i])\n",
    "            print(P[i+1])\n",
    "            \n",
    "        if targetmode=='Coupled':\n",
    "            dataout=[dataout_ZMT,dataout_GMT]\n",
    "            \n",
    "    return F, dF, P , Ptrans, gamma, dataout\n",
    "    \n",
    "def target_comparison(data,targetmode,target,targetfunction,num_paras,grid):\n",
    "    F=np.zeros(2*num_paras+1)\n",
    "    if targetfunction=='LeastSquare':\n",
    "        if targetmode=='Single':\n",
    "            F=(np.array(data)-target)**2\n",
    "        elif targetmode=='ZMT':\n",
    "            for i in range(len(F)):\n",
    "                if len(data[i])==len(target):\n",
    "                    F[i]=np.sum(((data[i]-target)*np.cos(grid*np.pi/180)/np.mean(np.cos(grid*np.pi/180)))**2)\n",
    "                elif len(data[i])==len(F):\n",
    "                    F[i]=np.sum(((data[:,i]-target)*np.cos(grid*np.pi/180)/np.mean(np.cos(grid*np.pi/180)))**2)\n",
    "        elif targetmode=='GMT':\n",
    "            for i in range(len(F)):\n",
    "                F[i]=np.sum((data[i]-target)**2)\n",
    "\n",
    "    return F\n",
    "\n",
    "def local_gradient(F,P_pert):\n",
    "    dF=np.zeros(len(P_pert))\n",
    "    for k in range(len(P_pert)):\n",
    "        dF[k]=(F[2*(k+1)-1]-F[2*(k+1)])/(2*P_pert[k])\n",
    "    return dF\n",
    "\n",
    "def step_weighting(dF0,dF1,P0,P1):\n",
    "    gamma=np.abs(np.dot(P1-P0,dF1-dF0)/np.dot(np.abs(dF1-dF0),np.abs(dF1-dF0)))\n",
    "    return gamma\n",
    "\n",
    "def precision_check(dF0,dF,precision):\n",
    "    dFabs=np.sqrt(np.dot(dF,dF))\n",
    "    dF0abs=np.sqrt(np.dot(dF0,dF0))\n",
    "    if dFabs/dF0abs <= precision:\n",
    "        return True\n",
    "    \n",
    "def new_parameters(P,gamma,dF):\n",
    "    P_next=P-gamma*dF\n",
    "    return P_next\n",
    "\n",
    "def run_model(config,P,P_pert,labels,ZMT,GMT,targetmode,control,controlconfig,grid,elevation):\n",
    "    \n",
    "    P_config=reshape_parameters(P,P_pert)\n",
    "    setup={'number_of_parameters': len(P), 'number_of_cycles': 1, 'number_of_parallels': len(P)*2+1}\n",
    "    \n",
    "    if targetmode=='Coupled':\n",
    "        control=True\n",
    "        \n",
    "    if control==True:\n",
    "        variable_importer(controlconfig,initialZMT=True,parallel=True,parallel_config=setup)\n",
    "        controlconfig=add_parameters(controlconfig,P_config,labels)\n",
    "        data_CTRL=rk4alg(model_equation,controlconfig['eqparam'],controlconfig['rk4input'],controlconfig['funccomp'],progressbar=True)\n",
    "        ZMT,GMT=data_CTRL[1][-1],data_CTRL[2][-1]\n",
    "\n",
    "    variable_importer(config,initialZMT=False,parallel=True,parallel_config=setup)\n",
    "    config=add_parameters(config,P_config,labels)\n",
    "    Vars.T,Vars.T_global=ZMT,GMT   \n",
    "    data=rk4alg(model_equation,config['eqparam'],config['rk4input'],config['funccomp'],progressbar=True)\n",
    "    \n",
    "    if targetmode=='Single':\n",
    "        data_out=data[2][-1]\n",
    "    elif targetmode=='ZMT':\n",
    "        dataZMT=data[1][-1]\n",
    "        for i in range(len(dataZMT)):\n",
    "            dataZMT[i]=dataZMT[i]+elevation\n",
    "        data_out=dataZMT\n",
    "    elif targetmode=='GMT':\n",
    "        data_out=np.transpose(data[2][:-1]-data[2][0])\n",
    "    elif targetmode=='Coupled':\n",
    "        dataZMT=data_CTRL[1][-1]\n",
    "        for i in range(len(dataZMT)):\n",
    "            dataZMT[i]=dataZMT[i]+elevation\n",
    "        dataGMT=np.transpose(data[2][:-1]-data[2][0])\n",
    "        data_out=[dataZMT,dataGMT]\n",
    "    return data_out\n",
    "\n",
    "def reshape_parameters(P,P_pert):\n",
    "    num_para=len(P)\n",
    "    P_config=np.reshape(np.zeros(num_para*(2*num_para+1)),(num_para,2*num_para+1))\n",
    "    for i in range(num_para):\n",
    "        P_config[i]=np.array([P[i]]*(2*num_para+1))\n",
    "        P_config[i][i*2+1]=P[i]+P_pert[i]\n",
    "        P_config[i][i*2+2]=P[i]-P_pert[i]\n",
    "                      \n",
    "    return P_config\n",
    "             \n",
    "def add_parameters(config,P_config,labels):\n",
    "    num_para=len(P_config)\n",
    "    \n",
    "    for i in range(num_para):\n",
    "        if labels[i][0][:4]=='func':\n",
    "            config['funccomp']['funcparam'][labels[i][0]][labels[i][1]]=P_config[i]\n",
    "        if labels[i][0]=='eqparam':\n",
    "            config[labels[i][0]][labels[i][1]]=P_config[i]\n",
    "    return config"
   ]
  },
  {
   "cell_type": "code",
   "execution_count": 4,
   "metadata": {},
   "outputs": [
    {
     "name": "stdout",
     "output_type": "stream",
     "text": [
      "Loading Configuration from: Dev_Data/Optimization/Sellers.ini\n",
      "Loading Parameters from: /Home/siv32/bsc029/.local/lib/python3.6/site-packages/lowEBMs/Tutorials/Config/Data/SellersParameterization.ini\n"
     ]
    },
    {
     "data": {
      "application/vnd.jupyter.widget-view+json": {
       "model_id": "d376521f168144469a3b74f97c392fc6",
       "version_major": 2,
       "version_minor": 0
      },
      "text/plain": [
       "HBox(children=(IntProgress(value=0, max=10), HTML(value='')))"
      ]
     },
     "metadata": {},
     "output_type": "display_data"
    },
    {
     "name": "stdout",
     "output_type": "stream",
     "text": [
      "Iteration no.0\n",
      "\n"
     ]
    },
    {
     "ename": "TypeError",
     "evalue": "rk4alg() missing 1 required positional argument: 'funccomp'",
     "output_type": "error",
     "traceback": [
      "\u001b[0;31m---------------------------------------------------------------------------\u001b[0m",
      "\u001b[0;31mTypeError\u001b[0m                                 Traceback (most recent call last)",
      "\u001b[0;32m<ipython-input-4-c60900cfabfc>\u001b[0m in \u001b[0;36m<module>\u001b[0;34m\u001b[0m\n\u001b[1;32m     31\u001b[0m \u001b[0;31m#builtins.number_of_integration=100\u001b[0m\u001b[0;34m\u001b[0m\u001b[0;34m\u001b[0m\u001b[0;34m\u001b[0m\u001b[0m\n\u001b[1;32m     32\u001b[0m F, dF, P, Ptrans, gamma, data=coremodule(config_base,P0,P_pert,Pmin,Pmax,labels,Zero_ZMT,Zero_GMT,grid,\\\n\u001b[0;32m---> 33\u001b[0;31m             maxlength,targetmode,target,targetfunction,ratio_ZMT_GMT,elevation,precision,num_params,gamma0,control,controlconfig)\n\u001b[0m",
      "\u001b[0;32m<ipython-input-3-8b7ae1611163>\u001b[0m in \u001b[0;36mcoremodule\u001b[0;34m(config, P0, P_pert, Pmin, Pmax, labels, ZMT, GMT, grid, maxlength, targetmode, target, targetfunction, ratio_ZMT_GMT, elevation, precision, num_paras, gamma0, control, controlconfig)\u001b[0m\n\u001b[1;32m     29\u001b[0m             \u001b[0mdataout_GMT\u001b[0m\u001b[0;34m[\u001b[0m\u001b[0mi\u001b[0m\u001b[0;34m]\u001b[0m\u001b[0;34m=\u001b[0m\u001b[0mdata_GMT\u001b[0m\u001b[0;34m\u001b[0m\u001b[0;34m\u001b[0m\u001b[0m\n\u001b[1;32m     30\u001b[0m         \u001b[0;32melse\u001b[0m\u001b[0;34m:\u001b[0m\u001b[0;34m\u001b[0m\u001b[0;34m\u001b[0m\u001b[0m\n\u001b[0;32m---> 31\u001b[0;31m             \u001b[0mdata\u001b[0m\u001b[0;34m=\u001b[0m\u001b[0mrun_model\u001b[0m\u001b[0;34m(\u001b[0m\u001b[0mconfig\u001b[0m\u001b[0;34m,\u001b[0m\u001b[0mP\u001b[0m\u001b[0;34m[\u001b[0m\u001b[0mi\u001b[0m\u001b[0;34m]\u001b[0m\u001b[0;34m,\u001b[0m\u001b[0mP_pert\u001b[0m\u001b[0;34m,\u001b[0m\u001b[0mlabels\u001b[0m\u001b[0;34m,\u001b[0m\u001b[0mZMT\u001b[0m\u001b[0;34m,\u001b[0m\u001b[0mGMT\u001b[0m\u001b[0;34m,\u001b[0m\u001b[0mtargetmode\u001b[0m\u001b[0;34m,\u001b[0m\u001b[0mcontrol\u001b[0m\u001b[0;34m,\u001b[0m\u001b[0mcontrolconfig\u001b[0m\u001b[0;34m,\u001b[0m\u001b[0mgrid\u001b[0m\u001b[0;34m,\u001b[0m\u001b[0melevation\u001b[0m\u001b[0;34m)\u001b[0m\u001b[0;34m\u001b[0m\u001b[0;34m\u001b[0m\u001b[0m\n\u001b[0m\u001b[1;32m     32\u001b[0m             \u001b[0mdataout\u001b[0m\u001b[0;34m[\u001b[0m\u001b[0mi\u001b[0m\u001b[0;34m]\u001b[0m\u001b[0;34m=\u001b[0m\u001b[0mdata\u001b[0m\u001b[0;34m\u001b[0m\u001b[0;34m\u001b[0m\u001b[0m\n\u001b[1;32m     33\u001b[0m \u001b[0;34m\u001b[0m\u001b[0m\n",
      "\u001b[0;32m<ipython-input-3-8b7ae1611163>\u001b[0m in \u001b[0;36mrun_model\u001b[0;34m(config, P, P_pert, labels, ZMT, GMT, targetmode, control, controlconfig, grid, elevation)\u001b[0m\n\u001b[1;32m    133\u001b[0m     \u001b[0mconfig\u001b[0m\u001b[0;34m=\u001b[0m\u001b[0madd_parameters\u001b[0m\u001b[0;34m(\u001b[0m\u001b[0mconfig\u001b[0m\u001b[0;34m,\u001b[0m\u001b[0mP_config\u001b[0m\u001b[0;34m,\u001b[0m\u001b[0mlabels\u001b[0m\u001b[0;34m)\u001b[0m\u001b[0;34m\u001b[0m\u001b[0;34m\u001b[0m\u001b[0m\n\u001b[1;32m    134\u001b[0m     \u001b[0mVars\u001b[0m\u001b[0;34m.\u001b[0m\u001b[0mT\u001b[0m\u001b[0;34m,\u001b[0m\u001b[0mVars\u001b[0m\u001b[0;34m.\u001b[0m\u001b[0mT_global\u001b[0m\u001b[0;34m=\u001b[0m\u001b[0mZMT\u001b[0m\u001b[0;34m,\u001b[0m\u001b[0mGMT\u001b[0m\u001b[0;34m\u001b[0m\u001b[0;34m\u001b[0m\u001b[0m\n\u001b[0;32m--> 135\u001b[0;31m     \u001b[0mdata\u001b[0m\u001b[0;34m=\u001b[0m\u001b[0mrk4alg\u001b[0m\u001b[0;34m(\u001b[0m\u001b[0mmodel_equation\u001b[0m\u001b[0;34m,\u001b[0m\u001b[0mconfig\u001b[0m\u001b[0;34m[\u001b[0m\u001b[0;34m'eqparam'\u001b[0m\u001b[0;34m]\u001b[0m\u001b[0;34m,\u001b[0m\u001b[0mconfig\u001b[0m\u001b[0;34m[\u001b[0m\u001b[0;34m'funccomp'\u001b[0m\u001b[0;34m]\u001b[0m\u001b[0;34m,\u001b[0m\u001b[0mprogressbar\u001b[0m\u001b[0;34m=\u001b[0m\u001b[0;32mTrue\u001b[0m\u001b[0;34m)\u001b[0m\u001b[0;34m\u001b[0m\u001b[0;34m\u001b[0m\u001b[0m\n\u001b[0m\u001b[1;32m    136\u001b[0m \u001b[0;34m\u001b[0m\u001b[0m\n\u001b[1;32m    137\u001b[0m     \u001b[0;32mif\u001b[0m \u001b[0mtargetmode\u001b[0m\u001b[0;34m==\u001b[0m\u001b[0;34m'Single'\u001b[0m\u001b[0;34m:\u001b[0m\u001b[0;34m\u001b[0m\u001b[0;34m\u001b[0m\u001b[0m\n",
      "\u001b[0;31mTypeError\u001b[0m: rk4alg() missing 1 required positional argument: 'funccomp'"
     ]
    }
   ],
   "source": [
    "#labels=[['eqparam','c_ao'],['func1','a'],['func1','b'],['func2','factor_oc'],['func2','factor_kwv'],['func2','factor_kair']]\n",
    "labels=[['func1','m'],['func1','gamma'],['func2','factor_oc'],['func2','factor_kwv'],['func2','factor_kair']]\n",
    "#labels=[['func1','a'],['func1','b']]\n",
    "P0=np.array([0.5,1.9e-15,1.165,1.165,1.165])\n",
    "Pmin=np.array([0.4,0.5e-16,0.9,0.9,0.9])\n",
    "Pmax=np.array([0.6,5e-15,1.3,1.3,1.3])\n",
    "P_pert=(Pmax-Pmin)/10000\n",
    "precision=1e-7\n",
    "maxlength=int(10)\n",
    "targetmode='ZMT'\n",
    "target=ZMT_10\n",
    "targetfunction='LeastSquare'\n",
    "num_params=5\n",
    "gamma0=1e-7\n",
    "ratio_ZMT_GMT=0.5\n",
    "setup={'number_of_parameters': num_params, 'number_of_cycles': 1, 'number_of_parallels': num_params*2+1}\n",
    "\n",
    "config_base=importer('Dev_Data/Optimization/Sellers.ini')\n",
    "variable_importer(config_base,parallel=True,parallel_config=setup)\n",
    "#print(config_base)\n",
    "config_base,ParasCTRL=add_sellersparameters(config_base,\\\n",
    "                                    parameterinterpolatorstepwise,'SellersParameterization.ini',2,0,True,True)\n",
    "\n",
    "elevation=-0.0065*np.array(ParasCTRL[1][1])\n",
    "Zero_ZMT,Zero_GMT=Vars.T,Vars.T_global\n",
    "grid=Vars.Lat\n",
    "control=False\n",
    "controlconfig=0\n",
    "#print(Vars.T)\n",
    "#config,P0,P_pert,labels,maxlength,target,function,precision,num_paras,gamma0):\n",
    "#builtins.number_of_integration=100\n",
    "F, dF, P, Ptrans, gamma, data=coremodule(config_base,P0,P_pert,Pmin,Pmax,labels,Zero_ZMT,Zero_GMT,grid,\\\n",
    "            maxlength,targetmode,target,targetfunction,ratio_ZMT_GMT,elevation,precision,num_params,gamma0,control,controlconfig)"
   ]
  },
  {
   "cell_type": "code",
   "execution_count": 32,
   "metadata": {},
   "outputs": [
    {
     "name": "stdout",
     "output_type": "stream",
     "text": [
      "[1.00000000e-05 8.07724356e-07 1.41040469e-06 1.04709621e-06\n",
      " 6.58404939e-07 7.18398660e-07 5.29120018e-07 5.30384459e-07\n",
      " 3.89612197e-06 8.20414639e-04]\n"
     ]
    },
    {
     "data": {
      "image/png": "[encoded data removed]",
      "text/plain": [
       "<Figure size 432x288 with 1 Axes>"
      ]
     },
     "metadata": {
      "needs_background": "light"
     },
     "output_type": "display_data"
    }
   ],
   "source": [
    "for i in range(10):\n",
    "    plt.plot(Vars.Lat,data[i][0]+elevation)\n",
    "#plt.plot(Vars.Lat,data[7][0])\n",
    "plt.plot(Lat_10,ZMT_10,c='k')\n",
    "print(gamma)"
   ]
  },
  {
   "cell_type": "code",
   "execution_count": 37,
   "metadata": {},
   "outputs": [
    {
     "data": {
      "text/plain": [
       "[<matplotlib.lines.Line2D at 0x7f6c672d4a20>]"
      ]
     },
     "execution_count": 37,
     "metadata": {},
     "output_type": "execute_result"
    },
    {
     "data": {
      "image/png": "[encoded data removed]",
      "text/plain": [
       "<Figure size 432x288 with 1 Axes>"
      ]
     },
     "metadata": {
      "needs_background": "light"
     },
     "output_type": "display_data"
    }
   ],
   "source": [
    "plt.plot(np.arange(10),dF[:,0])"
   ]
  },
  {
   "cell_type": "code",
   "execution_count": 7,
   "metadata": {},
   "outputs": [
    {
     "name": "stdout",
     "output_type": "stream",
     "text": [
      "Loading Configuration from: Dev_Data/Optimization/Sellers.ini\n",
      "Starting controlrun with a temperature accuracy of 0.0001 K on the GMT over 1000 datapoints.\n",
      "Loading Parameters from: /Home/siv32/bsc029/.local/lib/python3.6/site-packages/lowEBMs/Tutorials/Config/Data/SellersParameterization.ini\n",
      "{'eqparam': {'c_ao': 294000000.0}, 'rk4input': {'number_of_integration': 36500, 'stepsize_of_integration': 86400, 'spatial_resolution': 10, 'both_hemispheres': True, 'latitudinal_circle': False, 'latitudinal_belt': True, 'eq_condition': False, 'eq_condition_length': 100, 'eq_condition_amplitude': 0.001, 'data_readout': 5, 'number_of_externals': 1}, 'funccomp': {'funclist': {'func0': <function flux_down.insolation at 0x7f0fb1195c80>, 'func1': <function flux_up.sellers at 0x7f0fb11a9620>, 'func2': <function transfer.sellers at 0x7f0fb11a9730>}, 'funcparam': {'func0': {'q': 1366.14, 'm': 1, 'dq': 0, 'albedo': <function albedo.dynamic_sel at 0x7f0fb11a9400>, 'albedoread': True, 'albedoparam': [array([2272. , 1420. ,  388. ,    5. ,    5. ,  106. ,  156. ,  121. ,\n",
      "        154. ,  158. ,  146. ,  366. ,  496. ,  382. ,  296. ,  202. ,\n",
      "        178.5,  137. ]), array([2.9   , 2.992 , 2.989 , 2.937 , 2.922 , 2.865 , 2.815 , 2.798 ,\n",
      "       2.801 , 2.808 , 2.809 , 2.826 , 2.87  , 2.908 , 2.891 , 2.878 ,\n",
      "       2.9255, 2.924 ])], 'noise': False, 'noiseamp': 10.26, 'noisedelay': 1, 'seed': True, 'seedmanipulation': 0, 'solarinput': True, 'convfactor': 1, 'timeunit': 'annualmean', 'orbital': False, 'orbitalyear': 0, 'updatefrequency': 'number_of_integration'}, 'func1': {'activation': True, 'm': 0.5, 'sig': 5.6703726225913323e-08, 'gamma': 1.9e-15, 'k': 1}, 'func2': {'readout': True, 'activated': True, 'k_wv': array([ 630000.        ,  740000.        ,  820000.        ,\n",
      "       1280000.        , 1190000.        ,  430000.        ,\n",
      "         80000.        ,   60000.        , 1630000.        ,\n",
      "       3440000.        ,  220000.        ,  290000.        ,\n",
      "        510000.        ,  590000.        ,  249999.99999999,\n",
      "        200000.        ,  460000.        ]), 'k_h': array([5.000e+05, 1.000e+06, 1.400e+06, 1.900e+06, 2.300e+06, 2.300e+06,\n",
      "       8.500e+06, 3.080e+07, 6.820e+07, 1.332e+08, 1.030e+07, 1.300e+06,\n",
      "       9.000e+05, 1.500e+06, 1.700e+06, 1.200e+06, 1.900e+06]), 'k_o': array([   0.,   20.,   50.,  180.,  290.,  510.,  950., 1900.,  700.,\n",
      "       5990., 1330.,  960.,  530.,  760.,  690.,  660.,   70.]), 'g': 9.81, 'a': array([0.005, 0.005, 0.01 , 0.01 , 0.01 , 0.02 , 0.03 , 0.03 , 0.03 ,\n",
      "       0.03 , 0.03 , 0.02 , 0.01 , 0.01 , 0.01 , 0.01 , 0.005]), 'eps': 0.622, 'p': 1000, 'e0': 1700, 'l': 2500.0, 'rd': 0.287, 'dy': 1110000.0, 'dp': array([709., 710., 713., 750., 800., 833., 880., 904., 906., 904., 880.,\n",
      "       833., 800., 750., 713., 710., 709.]), 'cp': 1004.0, 'dz': array([   0., 3000., 4000., 4000., 4000., 4000., 4000., 4000., 4000.,\n",
      "       4000., 4000., 4000., 4000., 3000., 2000., 1000., 2000.]), 'l_cover': 0.5, 'radius': 6373000.0, 'cp_w': 4182, 'dens_w': 998, 'factor_wv': 1, 'factor_air': 1, 'factor_oc': 1.165, 'factor_kwv': 1.165, 'factor_kair': 1.165}}}, 'initials': {'time': 59918400000, 'zmt': 288, 'gmt': 288, 'initial_temperature_cosine': True, 'initial_temperature_amplitude': 30, 'initial_temperature_noise': False, 'initial_temperature_noise_amplitude': 5}}\n"
     ]
    },
    {
     "data": {
      "application/vnd.jupyter.widget-view+json": {
       "model_id": "04057c1c3a9a4cfe9799aff2e9a850bd",
       "version_major": 2,
       "version_minor": 0
      },
      "text/plain": [
       "HBox(children=(IntProgress(value=0, max=100000), HTML(value='')))"
      ]
     },
     "metadata": {},
     "output_type": "display_data"
    },
    {
     "name": "stdout",
     "output_type": "stream",
     "text": [
      "Steady State reached after 78975 steps, within 112.51102447509766 seconds\n",
      "Finished controlrun over 2116.3698630136987 years. Runtime: 112.58359289169312 s\n"
     ]
    }
   ],
   "source": [
    "#setup={'number_of_parameters': len(P0), 'number_of_cycles': 1, 'number_of_parallels': len(P0)*2+1}\n",
    "config_base=importer('Dev_Data/Optimization/Sellers.ini')\n",
    "variable_importer(config_base,control=True,accuracy=1e-4)\n",
    "#print(config_base)\n",
    "config_base,ParasCTRL=add_sellersparameters(config_base,\\\n",
    "                                    parameterinterpolatorstepwise,'SellersParameterization.ini',2,0,True,True)\n",
    "#P_config=reshape_parameters(P0,P_pert)\n",
    "\n",
    "config=add_parameters(config_base,P0,labels)\n",
    "print(config)\n",
    "data=rk4alg(model_equation,config['eqparam'],config['rk4input'],config['funccomp'],progressbar=True)"
   ]
  },
  {
   "cell_type": "code",
   "execution_count": 11,
   "metadata": {},
   "outputs": [
    {
     "data": {
      "text/plain": [
       "[<matplotlib.lines.Line2D at 0x7f0f7d79dc88>]"
      ]
     },
     "execution_count": 11,
     "metadata": {},
     "output_type": "execute_result"
    },
    {
     "data": {
      "image/png": "[encoded data removed]",
      "text/plain": [
       "<Figure size 432x288 with 1 Axes>"
      ]
     },
     "metadata": {
      "needs_background": "light"
     },
     "output_type": "display_data"
    }
   ],
   "source": [
    "plt.plot(data[0],data[2])\n",
    "plt.plot(data[0][-10000:],data[2][-10000:])"
   ]
  },
  {
   "cell_type": "code",
   "execution_count": null,
   "metadata": {},
   "outputs": [],
   "source": []
  }
 ],
 "metadata": {
  "kernelspec": {
   "display_name": "Python 3",
   "language": "python",
   "name": "python3"
  },
  "language_info": {
   "codemirror_mode": {
    "name": "ipython",
    "version": 3
   },
   "file_extension": ".py",
   "mimetype": "text/x-python",
   "name": "python",
   "nbconvert_exporter": "python",
   "pygments_lexer": "ipython3",
   "version": "3.6.8"
  }
 },
 "nbformat": 4,
 "nbformat_minor": 2
}
