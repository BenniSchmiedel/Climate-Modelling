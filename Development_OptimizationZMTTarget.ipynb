{
 "cells": [
  {
   "cell_type": "code",
   "execution_count": 1,
   "metadata": {},
   "outputs": [],
   "source": [
    "import matplotlib.pyplot as plt\n",
    "import numpy as np\n",
    "from lowEBMs.Packages.Configuration import importer, add_sellersparameters, parameterinterpolatorstepwise, reset\n",
    "from lowEBMs.Packages.Configuration import import_parallelparameter, allocate_parallelparameter, write_parallelparameter\n",
    "from lowEBMs.Packages.Variables import variable_importer\n",
    "from lowEBMs.Packages.RK4 import rk4alg\n",
    "from lowEBMs.Packages.ModelEquation import model_equation\n",
    "from lowEBMs.Packages.Variables import Vars,reset, trackerreset, datareset\n",
    "from lowEBMs.Packages.Functions import plotmeanstd\n",
    "from lowEBMs import update_plotstyle, moving_average\n",
    "import lowEBMs.Packages.Constants as const\n",
    "\n",
    "import builtins\n",
    "import matplotlib\n",
    "update_plotstyle()\n",
    "matplotlib.rcParams['lines.linewidth']=1.1"
   ]
  },
  {
   "cell_type": "code",
   "execution_count": 2,
   "metadata": {},
   "outputs": [],
   "source": [
    "Lat_10,ZMT_10=np.loadtxt('Data/ERA_ZMT_Mean_10deginterpolated.txt')\n",
    "Lat_ERA,ZMT_ERA=np.loadtxt('Data/ERA_ZMT_Mean.txt')"
   ]
  },
  {
   "cell_type": "code",
   "execution_count": 3,
   "metadata": {},
   "outputs": [],
   "source": [
    "def coremodule(config,P0,P_pert_ratio,Pmin,Pmax,labels,ZMT,GMT,grid,maxlength,targetmode,target,targetfunction,ratio_ZMT_GMT,elevation,precision,num_paras,gamma0,control,controlconfig):\n",
    "    from tqdm import tqdm, tnrange\n",
    "    \n",
    "    F=np.reshape(np.zeros(maxlength*(2*num_paras+1)),(maxlength,2*num_paras+1))\n",
    "    dF=np.reshape(np.zeros(maxlength*(num_paras)),(maxlength,num_paras))\n",
    "    P=np.reshape(np.zeros(maxlength*(num_paras)),(maxlength,num_paras))\n",
    "    Ptrans=np.reshape(np.zeros(maxlength*(num_paras)),(maxlength,num_paras))\n",
    "    gamma=np.zeros(maxlength)\n",
    "    \n",
    "    if targetmode=='Single':\n",
    "        dataout=np.reshape(np.zeros(maxlength*(2*num_paras+1)),(maxlength,(2*num_paras+1)))\n",
    "    elif targetmode=='ZMT':\n",
    "        dataout=np.reshape(np.zeros(maxlength*len(grid)*(2*num_paras+1)),(maxlength,(2*num_paras+1),len(grid)))\n",
    "    elif targetmode=='GMT':\n",
    "        dataout=np.reshape(np.zeros(maxlength*int(number_of_integration/data_readout)*(2*num_paras+1)),(maxlength,(2*num_paras+1),int(number_of_integration/data_readout)))\n",
    "    elif targetmode=='Coupled':\n",
    "        dataout_ZMT=np.reshape(np.zeros(maxlength*len(grid)*(2*num_paras+1)),(maxlength,(2*num_paras+1),len(grid)))\n",
    "        dataout_GMT=np.reshape(np.zeros(maxlength*int(number_of_integration/data_readout)*(2*num_paras+1)),(maxlength,(2*num_paras+1),int(number_of_integration/data_readout)))     \n",
    "    for i in tnrange(maxlength):\n",
    "        print('Iteration no.'+str(i))\n",
    "        if i==0:\n",
    "            P[i]=P0\n",
    "            P_pert=(Pmax-Pmin)*P_pert_ratio\n",
    "            Ptrans[i]=(P0-Pmin)/(Pmax-Pmin)\n",
    "            Ptrans_pert=Ptrans[i]*P_pert_ratio\n",
    "\n",
    "        if targetmode=='Coupled':\n",
    "            data_ZMT,data_GMT=run_model(config,P[i],P_pert,labels,ZMT,GMT,targetmode,control,controlconfig,grid,elevation)\n",
    "            dataout_ZMT[i]=data_ZMT\n",
    "            dataout_GMT[i]=data_GMT\n",
    "        else:\n",
    "            data=run_model(config,P[i],P_pert,labels,ZMT,GMT,targetmode,control,controlconfig,grid,elevation)\n",
    "            dataout[i]=data\n",
    "            \n",
    "        if targetmode=='Coupled':\n",
    "            target_ZMT=target['ZMT']\n",
    "            target_GMT=target['GMT']\n",
    "            F_ZMT=target_comparison(data_ZMT,'ZMT',target_ZMT,targetfunction,num_paras,grid)\n",
    "            F_GMT=target_comparison(data_GMT,'GMT',target_GMT,targetfunction,num_paras,grid)\n",
    "            F[i]=ratio_ZMT_GMT*F_ZMT+(1-ratio_ZMT_GMT)*F_GMT\n",
    "        else:\n",
    "            F[i]=target_comparison(data,targetmode,target,targetfunction,num_paras,grid)\n",
    "\n",
    "        dF[i]=local_gradient(F[i],Ptrans_pert)\n",
    "        #dF[i]=local_gradient(F[i],P_pert)\n",
    "        if i==0:\n",
    "            gamma[i]=gamma0\n",
    "        else:\n",
    "            #gamma[i]=step_weighting(dF[i-1],dF[i],P[i-1],P[i])\n",
    "            gamma[i]=step_weighting(dF[i-1],dF[i],Ptrans[i-1],Ptrans[i])\n",
    "            \n",
    "        if precision_check(dF[0],dF[i],precision):\n",
    "            print('stop',i)\n",
    "            P=P[:i]\n",
    "            Ptrans=Ptrans[:i]\n",
    "            F=F[:i]\n",
    "            dF=dF[:i]\n",
    "            gamma=gamma[:i]\n",
    "            break\n",
    "                \n",
    "        #P_next=new_parameters(P[i],gamma[i],dF[i])        \n",
    "        Ptrans_next=new_parameters(Ptrans[i],gamma[i],dF[i])\n",
    "\n",
    "        for k in range(num_paras):\n",
    "            if Ptrans_next[k]<0:\n",
    "                Ptrans_next[k]=0.\n",
    "            if Ptrans_next[k]>1:\n",
    "                Ptrans_next[k]=1.\n",
    "\n",
    "        if i<maxlength-1:\n",
    "            Ptrans[i+1]=Ptrans_next\n",
    "            P[i+1]=Pmin+Ptrans_next*(Pmax-Pmin)\n",
    "            print(F[i])\n",
    "            print(gamma[i])\n",
    "            print(P[i+1])\n",
    "            \n",
    "        if targetmode=='Coupled':\n",
    "            dataout=[dataout_ZMT,dataout_GMT]\n",
    "            \n",
    "    return F, dF, P , Ptrans, gamma, dataout\n",
    "    \n",
    "def target_comparison(data,targetmode,target,targetfunction,num_paras,grid):\n",
    "    F=np.zeros(2*num_paras+1)\n",
    "    if targetfunction=='LeastSquare':\n",
    "        if targetmode=='Single':\n",
    "            F=(np.array(data)-target)**2\n",
    "        elif targetmode=='ZMT':\n",
    "            for i in range(len(F)):\n",
    "                if len(data[i])==len(target):\n",
    "                    F[i]=np.sum(((data[i]-target)*np.cos(grid*np.pi/180)/np.mean(np.cos(grid*np.pi/180)))**2)\n",
    "                elif len(data[i])==len(F):\n",
    "                    F[i]=np.sum(((data[:,i]-target)*np.cos(grid*np.pi/180)/np.mean(np.cos(grid*np.pi/180)))**2)\n",
    "        elif targetmode=='GMT':\n",
    "            for i in range(len(F)):\n",
    "                F[i]=np.sum((data[i]-target)**2)\n",
    "\n",
    "    return F\n",
    "\n",
    "def local_gradient(F,P_pert):\n",
    "    dF=np.zeros(len(P_pert))\n",
    "    for k in range(len(P_pert)):\n",
    "        dF[k]=(F[2*(k+1)-1]-F[2*(k+1)])/(2*P_pert[k])\n",
    "    return dF\n",
    "\n",
    "def step_weighting(dF0,dF1,P0,P1):\n",
    "    gamma=np.abs(np.dot(P1-P0,dF1-dF0)/np.dot(np.abs(dF1-dF0),np.abs(dF1-dF0)))\n",
    "    return gamma\n",
    "\n",
    "def precision_check(dF0,dF,precision):\n",
    "    dFabs=np.sqrt(np.dot(dF,dF))\n",
    "    dF0abs=np.sqrt(np.dot(dF0,dF0))\n",
    "    if dFabs/dF0abs <= precision:\n",
    "        return True\n",
    "    \n",
    "def new_parameters(P,gamma,dF):\n",
    "    P_next=P-gamma*dF\n",
    "    return P_next\n",
    "\n",
    "def run_model(config,P,P_pert,labels,ZMT,GMT,targetmode,control,controlconfig,grid,elevation):\n",
    "    \n",
    "    P_config=reshape_parameters(P,P_pert)\n",
    "    setup={'number_of_parameters': len(P), 'number_of_cycles': 1, 'number_of_parallels': len(P)*2+1}\n",
    "    \n",
    "    if targetmode=='Coupled':\n",
    "        control=True\n",
    "        \n",
    "    if control==True:\n",
    "        variable_importer(controlconfig,initialZMT=True,parallel=True,parallel_config=setup)\n",
    "        controlconfig=add_parameters(controlconfig,P_config,labels)\n",
    "        data_CTRL=rk4alg(model_equation,controlconfig['eqparam'],controlconfig['rk4input'],controlconfig['funccomp'],progressbar=True)\n",
    "        ZMT,GMT=data_CTRL[1][-1],data_CTRL[2][-1]\n",
    "\n",
    "    variable_importer(config,initialZMT=False,parallel=True,parallel_config=setup)\n",
    "    config=add_parameters(config,P_config,labels)\n",
    "    Vars.T,Vars.T_global=ZMT,GMT   \n",
    "    data=rk4alg(model_equation,config['eqparam'],config['rk4input'],config['funccomp'],progressbar=True)\n",
    "    \n",
    "    if targetmode=='Single':\n",
    "        data_out=data[2][-1]\n",
    "    elif targetmode=='ZMT':\n",
    "        dataZMT=data[1][-1]\n",
    "        for i in range(len(dataZMT)):\n",
    "            dataZMT[i]=dataZMT[i]+elevation\n",
    "        data_out=dataZMT\n",
    "    elif targetmode=='GMT':\n",
    "        data_out=np.transpose(data[2][:-1]-data[2][0])\n",
    "    elif targetmode=='Coupled':\n",
    "        dataZMT=data_CTRL[1][-1]\n",
    "        for i in range(len(dataZMT)):\n",
    "            dataZMT[i]=dataZMT[i]+elevation\n",
    "        dataGMT=np.transpose(data[2][:-1]-data[2][0])\n",
    "        data_out=[dataZMT,dataGMT]\n",
    "    return data_out\n",
    "\n",
    "def reshape_parameters(P,P_pert):\n",
    "    num_para=len(P)\n",
    "    P_config=np.reshape(np.zeros(num_para*(2*num_para+1)),(num_para,2*num_para+1))\n",
    "    for i in range(num_para):\n",
    "        P_config[i]=np.array([P[i]]*(2*num_para+1))\n",
    "        P_config[i][i*2+1]=P[i]+P_pert[i]\n",
    "        P_config[i][i*2+2]=P[i]-P_pert[i]\n",
    "                      \n",
    "    return P_config\n",
    "             \n",
    "def add_parameters(config,P_config,labels):\n",
    "    num_para=len(P_config)\n",
    "    \n",
    "    for i in range(num_para):\n",
    "        if labels[i][0][:4]=='func':\n",
    "            config['funccomp']['funcparam'][labels[i][0]][labels[i][1]]=P_config[i]\n",
    "        if labels[i][0]=='eqparam':\n",
    "            config[labels[i][0]][labels[i][1]]=P_config[i]\n",
    "    return config"
   ]
  },
  {
   "cell_type": "code",
   "execution_count": null,
   "metadata": {},
   "outputs": [
    {
     "name": "stdout",
     "output_type": "stream",
     "text": [
      "Loading Configuration from: Dev_Data/Optimization/Sellers.ini\n",
      "Loading Parameters from: /Home/siv32/bsc029/.local/lib/python3.6/site-packages/lowEBMs/Tutorials/Config/Data/SellersParameterization.ini\n"
     ]
    },
    {
     "data": {
      "application/vnd.jupyter.widget-view+json": {
       "model_id": "861f039526f540e9987a225af5176e80",
       "version_major": 2,
       "version_minor": 0
      },
      "text/plain": [
       "HBox(children=(IntProgress(value=0), HTML(value='')))"
      ]
     },
     "metadata": {},
     "output_type": "display_data"
    },
    {
     "name": "stdout",
     "output_type": "stream",
     "text": [
      "Iteration no.0\n"
     ]
    },
    {
     "data": {
      "application/vnd.jupyter.widget-view+json": {
       "model_id": "7eeef5650bd346f785cc75a9e1650757",
       "version_major": 2,
       "version_minor": 0
      },
      "text/plain": [
       "HBox(children=(IntProgress(value=0, max=54750), HTML(value='')))"
      ]
     },
     "metadata": {},
     "output_type": "display_data"
    },
    {
     "name": "stdout",
     "output_type": "stream",
     "text": [
      "[2358.00628198 2357.89044647 2358.12212043 2357.67168596 2358.34090282\n",
      " 2357.44126678 2358.5713698  2357.25014428 2358.76255273 2357.11372897\n",
      " 2358.89902527 2357.0447128  2358.96807789 2357.01852345 2358.9942841\n",
      " 2356.97940465 2359.03342476 2356.95433996 2359.05850335 2356.95603444\n",
      " 2359.05680823 2356.98531759 2359.02750952 2357.02133919 2358.99146763\n",
      " 2357.02734095 2358.98545798 2357.05494682 2358.95783073 2357.18221707\n",
      " 2358.83050287 2357.37227291 2358.64038151 2357.60320679 2358.40939312\n",
      " 2357.86498984 2358.14757847]\n",
      "1e-07\n",
      "[0.0231674  0.06692169 0.1130103  0.15124085 0.17852963 0.19233651\n",
      " 0.19757606 0.20540201 0.21041634 0.21007738 0.20421919 0.19701284\n",
      " 0.1958117  0.19028839 0.16482858 0.12681086 0.08061863 0.02825886]\n",
      "Iteration no.1\n"
     ]
    },
    {
     "data": {
      "application/vnd.jupyter.widget-view+json": {
       "model_id": "6d0db0057be84644823fa06aa733620e",
       "version_major": 2,
       "version_minor": 0
      },
      "text/plain": [
       "HBox(children=(IntProgress(value=0, max=54750), HTML(value='')))"
      ]
     },
     "metadata": {},
     "output_type": "display_data"
    },
    {
     "name": "stdout",
     "output_type": "stream",
     "text": [
      "[2122.74768933 2122.63820958 2122.85717201 2122.43173191 2123.06367155\n",
      " 2122.214632   2123.28081904 2122.03487846 2123.46063258 2121.90701105\n",
      " 2123.58855654 2121.84278248 2123.65282083 2121.81865856 2123.67696114\n",
      " 2121.78210375 2123.71353742 2121.75861521 2123.73703964 2121.76023574\n",
      " 2123.73541847 2121.78774238 2123.70789647 2121.82138175 2123.67423718\n",
      " 2121.82643623 2123.66917529 2121.85133254 2123.64425849 2121.9705808\n",
      " 2123.52495332 2122.14941838 2123.3460506  2122.36712768 2123.12828692\n",
      " 2122.61422607 2122.88115694]\n",
      "1.7013565697505305e-06\n",
      "[0.39570057 1.14207635 1.92697462 2.57695697 3.0394381  3.27185714\n",
      " 3.35921136 3.49145938 3.57642174 3.57056749 3.47108597 3.34938062\n",
      " 3.33096791 3.24069474 2.80937048 2.16270896 1.37562192 0.48240345]\n",
      "Iteration no.2\n"
     ]
    },
    {
     "data": {
      "application/vnd.jupyter.widget-view+json": {
       "model_id": "c106ea375e4f418a851154c96631a52a",
       "version_major": 2,
       "version_minor": 0
      },
      "text/plain": [
       "HBox(children=(IntProgress(value=0, max=54750), HTML(value='')))"
      ]
     },
     "metadata": {},
     "output_type": "display_data"
    },
    {
     "name": "stdout",
     "output_type": "stream",
     "text": [
      "[315.67548673 315.65281539 315.69815894 315.61059757 315.74038304\n",
      " 315.5760825  315.77490767 315.55018701 315.80081347 315.53626709\n",
      " 315.81474077 315.53463306 315.81637693 315.53118763 315.81982564\n",
      " 315.52604618 315.82497079 315.52270097 315.82831824 315.52314811\n",
      " 315.82787093 315.52737045 315.82364602 315.53261218 315.81840061\n",
      " 315.53477114 315.81623918 315.53009244 315.82091879 315.54506513\n",
      " 315.80593834 315.57292081 315.7780712  315.60914715 315.74183403\n",
      " 315.65193415 315.69904028]\n",
      "2.024672240008874e-06\n",
      "[0.48750639 1.40484937 2.32953042 3.08439342 3.60325602 3.84229614\n",
      " 3.94360873 4.09668374 4.19519656 4.18753134 4.07094688 3.92800851\n",
      " 3.90084845 3.82952279 3.33755324 2.57807126 1.64426936 0.57777792]\n",
      "Iteration no.3\n"
     ]
    },
    {
     "data": {
      "application/vnd.jupyter.widget-view+json": {
       "model_id": "7b687d5b30b541878b148890057c87d1",
       "version_major": 2,
       "version_minor": 0
      },
      "text/plain": [
       "HBox(children=(IntProgress(value=0, max=54750), HTML(value='')))"
      ]
     },
     "metadata": {},
     "output_type": "display_data"
    },
    {
     "name": "stdout",
     "output_type": "stream",
     "text": [
      "[215.47120382 215.45260529 215.48980322 215.41821616 215.52419863\n",
      " 215.39033949 215.55208471 215.36979051 215.57264377 215.35922428\n",
      " 215.58321708 215.35859359 215.58384967 215.35638774 215.5860586\n",
      " 215.3525417  215.58990817 215.34995869 215.59249334 215.35033863\n",
      " 215.59211323 215.35366608 215.58878329 215.35761862 215.58482723\n",
      " 215.35886502 215.58357854 215.35431018 215.58813451 215.36592757\n",
      " 215.57650967 215.38820461 215.5542214  215.41737367 215.52504164\n",
      " 215.45204229 215.4903663 ]\n",
      "1.011187893066388e-05\n",
      "[0.8636474  2.47653135 3.96507847 5.135621   5.86824412 6.1200583\n",
      " 6.26601267 6.49690479 6.64767758 6.63232684 6.4484237  6.22551444\n",
      " 6.17312431 6.19392611 5.46693395 4.25681291 2.73299478 0.96530568]\n",
      "Iteration no.4\n"
     ]
    },
    {
     "data": {
      "application/vnd.jupyter.widget-view+json": {
       "model_id": "9ea4a64f5e024ac7bfb8dd4bde318085",
       "version_major": 2,
       "version_minor": 0
      },
      "text/plain": [
       "HBox(children=(IntProgress(value=0, max=54750), HTML(value='')))"
      ]
     },
     "metadata": {},
     "output_type": "display_data"
    },
    {
     "name": "stdout",
     "output_type": "stream",
     "text": [
      "[28.21533702 28.21187574 28.21879943 28.20696515 28.22371698 28.20393179\n",
      " 28.22675961 28.20315134 28.22754945 28.20470605 28.22600061 28.20735712\n",
      " 28.22335021 28.20942133 28.22128809 28.21021941 28.2204929  28.21039892\n",
      " 28.22031521 28.21051362 28.22020031 28.21055852 28.22015317 28.20990678\n",
      " 28.22080191 28.2082018  28.22250531 28.20486001 28.22584915 28.20447132\n",
      " 28.22623145 28.20614168 28.22455058 28.20886868 28.22181312 28.21284961\n",
      " 28.21782541]\n",
      "1.0888323514330427e-05\n",
      "[0.93903478 2.65893074 4.21363516 5.40127555 6.10010622 6.29419633\n",
      " 6.39522185 6.6087659  6.75564933 6.73779869 6.55289335 6.34414413\n",
      " 6.32886561 6.42246267 5.70386535 4.45725502 2.87393807 1.01948387]\n",
      "Iteration no.5\n"
     ]
    },
    {
     "data": {
      "application/vnd.jupyter.widget-view+json": {
       "model_id": "7354fa96ac6f42938932922c861a1e41",
       "version_major": 2,
       "version_minor": 0
      },
      "text/plain": [
       "HBox(children=(IntProgress(value=0, max=54750), HTML(value='')))"
      ]
     },
     "metadata": {},
     "output_type": "display_data"
    },
    {
     "name": "stdout",
     "output_type": "stream",
     "text": [
      "[26.77710003 26.7750427  26.77915849 26.77252745 26.78168068 26.77136074\n",
      " 26.78285659 26.77202761 26.782199   26.77439075 26.77984163 26.77714761\n",
      " 26.77708538 26.77943627 26.77479875 26.78054061 26.77369725 26.78091111\n",
      " 26.77332855 26.78099845 26.773241   26.78079877 26.77343849 26.77982164\n",
      " 26.77441265 26.77795539 26.77627738 26.77481582 26.77941904 26.7735794\n",
      " 26.78064918 26.77370052 26.78051766 26.77438395 26.77982384 26.7759446\n",
      " 26.77825645]\n",
      "1.1026275725290731e-05\n",
      "[0.98441661 2.75985679 4.3403916  5.5134281  6.16020915 6.29351015\n",
      " 6.34408727 6.53330915 6.67204189 6.6522629  6.47173684 6.28450312\n",
      " 6.31036335 6.47321896 5.78181865 4.53242262 2.93391984 1.04497502]\n",
      "Iteration no.6\n"
     ]
    },
    {
     "data": {
      "application/vnd.jupyter.widget-view+json": {
       "model_id": "a8eeb885dd484284b4fde859b25911ba",
       "version_major": 2,
       "version_minor": 0
      },
      "text/plain": [
       "HBox(children=(IntProgress(value=0, max=54750), HTML(value='')))"
      ]
     },
     "metadata": {},
     "output_type": "display_data"
    },
    {
     "name": "stdout",
     "output_type": "stream",
     "text": [
      "[26.34393419 26.34191661 26.34595291 26.33945902 26.34841743 26.33831907\n",
      " 26.34956659 26.33899323 26.34890171 26.34133939 26.34656133 26.34406108\n",
      " 26.34384025 26.34632461 26.34157875 26.3474188  26.3404874  26.34778596\n",
      " 26.34012205 26.34787152 26.34003627 26.34767148 26.34023411 26.34670046\n",
      " 26.34120217 26.34485608 26.34304502 26.3417565  26.34614669 26.34053211\n",
      " 26.34736481 26.34064245 26.34724406 26.34129549 26.34658063 26.34280842\n",
      " 26.34506096]\n",
      "0.00023274807320586936\n",
      "[1.92385949 4.84491028 6.95823092 7.81960802 7.37560538 6.24211348\n",
      " 5.23949725 4.92003839 4.88828141 4.82862349 4.74070469 5.00478699\n",
      " 5.88884427 7.49502783 7.37211594 6.06893426 4.16402539 1.56924947]\n",
      "Iteration no.7\n"
     ]
    },
    {
     "data": {
      "application/vnd.jupyter.widget-view+json": {
       "model_id": "6cd28d6b06c742239ef41c48cc9b1002",
       "version_major": 2,
       "version_minor": 0
      },
      "text/plain": [
       "HBox(children=(IntProgress(value=0, max=54750), HTML(value='')))"
      ]
     },
     "metadata": {},
     "output_type": "display_data"
    },
    {
     "name": "stdout",
     "output_type": "stream",
     "text": [
      "[18.57590675 18.57442692 18.57738773 18.57267415 18.57914749 18.57170113\n",
      " 18.58012982 18.57222153 18.5796188  18.57403886 18.5778073  18.57599781\n",
      " 18.57584898 18.57768449 18.57416437 18.57849987 18.57335186 18.57875591\n",
      " 18.57309764 18.57880993 18.57304341 18.57865428 18.57319683 18.57788106\n",
      " 18.57396706 18.57653145 18.57531511 18.57423083 18.57761784 18.57343965\n",
      " 18.57840267 18.57365212 18.57817968 18.57409963 18.57772169 18.57512228\n",
      " 18.57669222]\n",
      "0.0008649103456620941\n",
      "[ 4.48469490e+00  1.04437686e+01  1.42482893e+01  1.42175887e+01\n",
      "  1.06349687e+01  6.11338501e+00  2.19491206e+00  4.67477950e-01\n",
      " -5.61624436e-03 -1.58895134e-01  2.04984085e-02  1.61953120e+00\n",
      "  4.83681842e+00  1.04244859e+01  1.16646803e+01  9.98486726e+00\n",
      "  7.29677996e+00  2.92710903e+00]\n",
      "Iteration no.8\n"
     ]
    },
    {
     "data": {
      "application/vnd.jupyter.widget-view+json": {
       "model_id": "1d030a86e23b48f1aa7aaa9147013aac",
       "version_major": 2,
       "version_minor": 0
      },
      "text/plain": [
       "HBox(children=(IntProgress(value=0, max=54750), HTML(value='')))"
      ]
     },
     "metadata": {},
     "output_type": "display_data"
    },
    {
     "name": "stdout",
     "output_type": "stream",
     "text": [
      "[9.56288681 9.56285405 9.56292074 9.56299803 9.56278395 9.56246346\n",
      " 9.56332806 9.56254874 9.56325241 9.56291336 9.5628938  9.56278619\n",
      " 9.56302166 9.56288976 9.56292023 9.56293714 9.56287582 9.56288614\n",
      " 9.5629287  9.56285366 9.56296096 9.56282191 9.56299042 9.56258933\n",
      " 9.56321991 9.56258233 9.56322528 9.56244069 9.56336903 9.56283413\n",
      " 9.56296906 9.56334696 9.56244544 9.56327186 9.56250978 9.56300668\n",
      " 9.56276796]\n",
      "0.0008616267686675029\n",
      "[ 4.54215704 10.25931206 14.99324929 14.82388705 10.61811405  6.31627007\n",
      "  2.22116544  0.41464111  0.03105571 -0.06644742  0.16568907  2.16285414\n",
      "  5.3908023  11.22436421 11.78094564  9.20809018  6.64015664  2.72142452]\n",
      "Iteration no.9\n"
     ]
    },
    {
     "data": {
      "application/vnd.jupyter.widget-view+json": {
       "model_id": "04791ca7c61a46478cbe096862598fd4",
       "version_major": 2,
       "version_minor": 0
      },
      "text/plain": [
       "HBox(children=(IntProgress(value=0, max=54750), HTML(value='')))"
      ]
     },
     "metadata": {},
     "output_type": "display_data"
    },
    {
     "name": "stdout",
     "output_type": "stream",
     "text": [
      "[10.48312583 10.48459536 10.48165746 10.48732024 10.47893971 10.48880858\n",
      " 10.47746083 10.49046008 10.47581883 10.49170332 10.47458148 10.49170333\n",
      " 10.4745821  10.49206069 10.47422682 10.4924442  10.47384622 10.49260084\n",
      " 10.47369143 10.49253826 10.47375379 10.4922394  10.4740504  10.49163453\n",
      " 10.47465223 10.49139531 10.47488988 10.49137264 10.4749147  10.49080692\n",
      " 10.47547401 10.48965488 10.4766154  10.48742759 10.47883202 10.4846349\n",
      " 10.48161777]\n",
      "1.0776138464603147e-05\n",
      "[ 4.51049784 10.16900232 14.87096446 14.66611097 10.43360672  6.13176927\n",
      "  2.02898515  0.21422668 -0.17271469 -0.26887145 -0.03031807  1.97985061\n",
      "  5.21293749 11.04701114 11.615716    9.067575    6.54752959  2.68891158]\n",
      "Iteration no.10\n"
     ]
    },
    {
     "data": {
      "application/vnd.jupyter.widget-view+json": {
       "model_id": "875458303de34ddebdca5a78ffbc9cf6",
       "version_major": 2,
       "version_minor": 0
      },
      "text/plain": [
       "HBox(children=(IntProgress(value=0, max=54750), HTML(value='')))"
      ]
     },
     "metadata": {},
     "output_type": "display_data"
    },
    {
     "name": "stdout",
     "output_type": "stream",
     "text": [
      "[9.40102719 9.40101679 9.40103876 9.40120631 9.40085642 9.40070904\n",
      " 9.40136323 9.40081178 9.40127011 9.40116968 9.40091822 9.40101948\n",
      " 9.40106911 9.4011073  9.40098344 9.4011489  9.4009448  9.40109574\n",
      " 9.40099984 9.40106098 9.40103439 9.40102581 9.40106726 9.40077887\n",
      " 9.40131111 9.40073813 9.40135023 9.40053762 9.40155284 9.40089417\n",
      " 9.40118976 9.40139907 9.40067409 9.40134677 9.40071562 9.40112377\n",
      " 9.40093163]\n",
      "1.0700199335521807e-05\n",
      "[ 4.51073298 10.16525837 14.87796436 14.67101517 10.43091604  6.13230029\n",
      "  2.02765979  0.21204274 -0.1737408  -0.26915598 -0.02987456  1.98554574\n",
      "  5.21948706 11.05787419 11.61887882  9.05981758  6.54077612  2.68685559]\n",
      "Iteration no.11\n"
     ]
    },
    {
     "data": {
      "application/vnd.jupyter.widget-view+json": {
       "model_id": "aa2c0047ac744aaab6330f34c136d927",
       "version_major": 2,
       "version_minor": 0
      },
      "text/plain": [
       "HBox(children=(IntProgress(value=0, max=54750), HTML(value='')))"
      ]
     },
     "metadata": {},
     "output_type": "display_data"
    },
    {
     "name": "stdout",
     "output_type": "stream",
     "text": [
      "[9.39913891 9.39913901 9.39913997 9.39934654 9.39893962 9.3988634\n",
      " 9.39943231 9.3989771  9.39932823 9.3993412  9.39897013 9.39919203\n",
      " 9.39911999 9.39928177 9.3990324  9.39932582 9.39899132 9.39927415\n",
      " 9.39904486 9.39923921 9.39907959 9.39920218 9.39911433 9.39895274\n",
      " 9.39936068 9.39891066 9.39940112 9.39871142 9.39960248 9.39906127\n",
      " 9.3992461  9.39955427 9.39874231 9.39948656 9.39879927 9.39924544\n",
      " 9.39903339]\n",
      "1.068785221348416e-05\n",
      "[ 4.51074331 10.16090929 14.88404481 14.67476803 10.42695011  6.13153036\n",
      "  2.02499459  0.20846767 -0.1761915  -0.27086197 -0.03081348  1.98990577\n",
      "  5.22472899 11.06739773 11.62085423  9.05113942  6.53343044  2.68458923]\n",
      "Iteration no.12\n"
     ]
    },
    {
     "data": {
      "application/vnd.jupyter.widget-view+json": {
       "model_id": "0c5b1175d112461b9a2ed3510ff07509",
       "version_major": 2,
       "version_minor": 0
      },
      "text/plain": [
       "HBox(children=(IntProgress(value=0, max=54750), HTML(value='')))"
      ]
     },
     "metadata": {},
     "output_type": "display_data"
    },
    {
     "name": "stdout",
     "output_type": "stream",
     "text": [
      "[9.39730782 9.39730788 9.39730892 9.39751535 9.39710864 9.39703216\n",
      " 9.39760137 9.39714576 9.39749739 9.39750974 9.39713942 9.3973605\n",
      " 9.39728934 9.39745022 9.39720177 9.39749427 9.39716069 9.39744261\n",
      " 9.39721423 9.39740767 9.39724895 9.39737066 9.39728367 9.39712128\n",
      " 9.39752996 9.39707931 9.3975703  9.39688008 9.39777164 9.39722983\n",
      " 9.39741536 9.39772278 9.39691163 9.39765516 9.39696849 9.39741424\n",
      " 9.39720241]\n",
      "0.0013212999181241927\n",
      "[ 4.51211982  9.62351771 15.63613368 15.13937107  9.93764933  6.03751162\n",
      "  1.69672041 -0.23228553 -0.47794922 -0.48057992 -0.14575047  2.5298911\n",
      "  5.87347555 12.2454206  11.86598778  7.97935483  5.62613375  2.40470201]\n",
      "Iteration no.13\n"
     ]
    },
    {
     "data": {
      "application/vnd.jupyter.widget-view+json": {
       "model_id": "ac8a2a1737ec4ceab84858e4edce448c",
       "version_major": 2,
       "version_minor": 0
      },
      "text/plain": [
       "HBox(children=(IntProgress(value=0, max=54750), HTML(value='')))"
      ]
     },
     "metadata": {},
     "output_type": "display_data"
    },
    {
     "name": "stdout",
     "output_type": "stream",
     "text": [
      "[9.17527344 9.1752769  9.17527114 9.17549035 9.17506487 9.17501262\n",
      " 9.17555214 9.17512235 9.17545204 9.17547522 9.17510517 9.17531881\n",
      " 9.17526226 9.17540772 9.17517551 9.17545341 9.17513278 9.17540319\n",
      " 9.17518488 9.17536936 9.17521849 9.17533319 9.17525237 9.17508967\n",
      " 9.1754928  9.17505899 9.17552185 9.17486272 9.17572023 9.17519529\n",
      " 9.17538114 9.17567247 9.17489317 9.17560417 9.17495072 9.17537382\n",
      " 9.17517408]\n",
      "0.024707326522473965\n",
      "[  4.36968161  -0.88906073  28.96622037  23.28502537   0.79488608\n",
      "   4.64028547  -4.04067122  -8.1541467   -5.8719251   -4.20831047\n",
      "  -2.14262896  12.4901937   17.30934327  33.43215864  16.45784406\n",
      " -11.27506417 -10.51888804  -2.53045116]\n",
      "Iteration no.14\n"
     ]
    },
    {
     "data": {
      "application/vnd.jupyter.widget-view+json": {
       "model_id": "e9e33c7666864d0ead960ed4001fb10d",
       "version_major": 2,
       "version_minor": 0
      },
      "text/plain": [
       "HBox(children=(IntProgress(value=0, max=54750), HTML(value='')))"
      ]
     },
     "metadata": {},
     "output_type": "display_data"
    }
   ],
   "source": [
    "#labels=[['eqparam','c_ao'],['func1','a'],['func1','b'],['func2','factor_oc'],['func2','factor_kwv'],['func2','factor_kair']]\n",
    "\"\"\"labels=[['func1','m'],['func1','gamma'],['func2','factor_oc'],['func2','factor_kwv'],['func2','factor_kair']]\n",
    "#labels=[['func1','a'],['func1','b']]\n",
    "P0=np.array([0.5,1.9e-15,1.165,1.165,1.165])\n",
    "Pmin=np.array([0.4,0.5e-15,0.9,0.9,0.9])\n",
    "Pmax=np.array([0.6,5e-15,1.3,1.3,1.3])\"\"\"\n",
    "\n",
    "labels=[['func3','f1'],['func3','f2'],['func3','f3'],['func3','f4'],['func3','f5'],['func3','f6'],['func3','f7'],['func3','f8'],['func3','f9'],['func3','f10'],\\\n",
    "       ['func3','f11'],['func3','f12'],['func3','f13'],['func3','f14'],['func3','f15'],['func3','f16'],['func3','f17'],['func3','f18']]\n",
    "P0=np.zeros(18)\n",
    "Pmax=np.full(18,50)\n",
    "Pmin=np.full(18,-50)\n",
    "P_pert_ratio=1/10000\n",
    "precision=1e-7\n",
    "maxlength=int(100)\n",
    "targetmode='ZMT'\n",
    "target=ZMT_10\n",
    "targetfunction='LeastSquare'\n",
    "num_params=18\n",
    "gamma0=1e-7\n",
    "ratio_ZMT_GMT=0.5\n",
    "setup={'number_of_parameters': num_params, 'number_of_cycles': 1, 'number_of_parallels': num_params*2+1}\n",
    "\n",
    "config_base=importer('Dev_Data/Optimization/Sellers.ini')\n",
    "variable_importer(config_base,parallel=True,parallel_config=setup)\n",
    "#print(config_base)\n",
    "config_base,ParasCTRL=add_sellersparameters(config_base,\\\n",
    "                                    parameterinterpolatorstepwise,'SellersParameterization.ini',2,0,True,True)\n",
    "\n",
    "elevation=-0.0065*np.array(ParasCTRL[1][1])\n",
    "Zero_ZMT,Zero_GMT=Vars.T,Vars.T_global\n",
    "grid=Vars.Lat\n",
    "control=False\n",
    "controlconfig=0\n",
    "#print(Vars.T)\n",
    "#config,P0,P_pert,labels,maxlength,target,function,precision,num_paras,gamma0):\n",
    "#builtins.number_of_integration=100\n",
    "F, dF, P, Ptrans, gamma, data=coremodule(config_base,P0,P_pert_ratio,Pmin,Pmax,labels,Zero_ZMT,Zero_GMT,grid,\\\n",
    "            maxlength,targetmode,target,targetfunction,ratio_ZMT_GMT,elevation,precision,num_params,gamma0,control,controlconfig)"
   ]
  },
  {
   "cell_type": "code",
   "execution_count": 15,
   "metadata": {},
   "outputs": [
    {
     "name": "stdout",
     "output_type": "stream",
     "text": [
      "[1.00000000e-07 9.30182048e-08 4.38133642e-07 2.57830261e-07\n",
      " 5.76286964e-07 6.27593928e-08 5.64682239e-08 2.22795349e-07\n",
      " 1.45368962e-07 1.08411138e-07 1.12383383e-07 1.00990167e-07\n",
      " 1.36631191e-06 6.87678984e-05 2.80359181e-07 1.36816116e-07\n",
      " 1.35845902e-07 1.04522412e-05 1.39876059e-05 2.57724906e-07\n",
      " 1.42855298e-07 1.44520795e-07 1.34338840e-06 2.50074051e-04\n",
      " 9.31820472e-08 2.38731630e-07 2.46706275e-07 2.60164946e-07\n",
      " 7.71504725e-07 3.88784967e-05 4.19053587e-05 1.94431013e-07\n",
      " 2.58148680e-07 2.62519686e-07 3.90207385e-07 2.36254731e-04\n",
      " 1.89572154e-06 2.89111331e-07 2.88561365e-07 3.71302588e-07\n",
      " 9.74570506e-05 2.62147016e-04 1.23251309e-07 2.89633584e-07\n",
      " 2.89635517e-07 1.87591942e-09 1.65721666e-05 9.55403582e-06\n",
      " 2.36225349e-06 2.26077088e-07 2.99303017e-07 3.31040195e-07\n",
      " 1.00684714e-06 1.02713988e-05 3.38675794e-06 4.01072647e-07\n",
      " 2.79752678e-07 3.17391780e-07 1.05308990e-06 7.31011811e-06\n",
      " 3.43188417e-06 1.62691825e-07 3.01881382e-07 3.16937889e-07\n",
      " 3.66839491e-07 7.76466114e-06 2.15129395e-05 1.35939401e-06\n",
      " 2.75211622e-07 2.93846517e-07 3.68479279e-07 5.18632161e-06\n",
      " 2.37547554e-05 9.37200190e-07 3.05032138e-07 2.82697805e-07\n",
      " 4.19201273e-07 5.89132226e-06 1.09612278e-05 9.22597493e-07\n",
      " 2.72308263e-07 2.97347348e-07 4.21977899e-07 4.43485091e-06\n",
      " 1.15546984e-05 4.48966415e-07 3.08476452e-07 2.54668479e-07\n",
      " 8.15319343e-07 4.77733748e-06 2.08510543e-06 4.44948227e-07\n",
      " 2.64211002e-07 3.35883789e-07 8.28663107e-07 2.98253501e-06\n",
      " 2.09800972e-06 9.70495762e-08 3.20026984e-07 3.35575572e-07]\n"
     ]
    },
    {
     "data": {
      "image/png": "[encoded data removed]",
      "text/plain": [
       "<Figure size 432x288 with 1 Axes>"
      ]
     },
     "metadata": {
      "needs_background": "light"
     },
     "output_type": "display_data"
    }
   ],
   "source": [
    "for i in [0,1,2,3,4,5,99]:\n",
    "    plt.plot(Vars.Lat,data[i][0])\n",
    "#plt.plot(Vars.Lat,data[7][0])\n",
    "plt.plot(Lat_10,ZMT_10,c='k')\n",
    "print(gamma)"
   ]
  },
  {
   "cell_type": "code",
   "execution_count": 20,
   "metadata": {},
   "outputs": [
    {
     "data": {
      "text/plain": [
       "[<matplotlib.lines.Line2D at 0x7f35a7d119e8>]"
      ]
     },
     "execution_count": 20,
     "metadata": {},
     "output_type": "execute_result"
    },
    {
     "data": {
      "image/png": "[encoded data removed]",
      "text/plain": [
       "<Figure size 432x288 with 1 Axes>"
      ]
     },
     "metadata": {
      "needs_background": "light"
     },
     "output_type": "display_data"
    }
   ],
   "source": [
    "plt.plot(np.arange(100),P[:,0])"
   ]
  },
  {
   "cell_type": "code",
   "execution_count": 14,
   "metadata": {},
   "outputs": [
    {
     "name": "stdout",
     "output_type": "stream",
     "text": [
      "Loading Configuration from: Dev_Data/Optimization/Sellers.ini\n",
      "Starting controlrun with a temperature accuracy of 0.0001 K on the GMT over 1000 datapoints.\n",
      "Loading Parameters from: /Home/siv32/bsc029/.local/lib/python3.6/site-packages/lowEBMs/Tutorials/Config/Data/SellersParameterization.ini\n"
     ]
    },
    {
     "data": {
      "application/vnd.jupyter.widget-view+json": {
       "model_id": "817a4dbe2c0e4204be6160317ef3903d",
       "version_major": 2,
       "version_minor": 0
      },
      "text/plain": [
       "HBox(children=(IntProgress(value=0, max=100000), HTML(value='')))"
      ]
     },
     "metadata": {},
     "output_type": "display_data"
    },
    {
     "name": "stdout",
     "output_type": "stream",
     "text": [
      "Steady State reached after 29943 steps, within 41.05894374847412 seconds\n",
      "Finished controlrun over 1982.035616438356 years. Runtime: 41.0869026184082 s\n"
     ]
    }
   ],
   "source": [
    "#setup={'number_of_parameters': len(P0), 'number_of_cycles': 1, 'number_of_parallels': len(P0)*2+1}\n",
    "config_base=importer('Dev_Data/Optimization/Sellers.ini')\n",
    "variable_importer(config_base,control=True,accuracy=1e-4)\n",
    "#print(config_base)\n",
    "config_base,ParasCTRL=add_sellersparameters(config_base,\\\n",
    "                                    parameterinterpolatorstepwise,'SellersParameterization.ini',2,0,True,True)\n",
    "elevation=-0.0065*np.array(ParasCTRL[1][1])\n",
    "#P_config=reshape_parameters(P0,P_pert)\n",
    "labels=[['func1','m'],['func1','gamma'],['func2','factor_oc'],['func2','factor_kwv'],['func2','factor_kair']]\n",
    "P_optimal=[0.4668,2.4762e-15,1.1689,1.16658,1.1942]\n",
    "config=add_parameters(config_base,P_optimal,labels)\n",
    "#print(config)\n",
    "data=rk4alg(model_equation,config['eqparam'],config['rk4input'],config['funccomp'],progressbar=True)"
   ]
  },
  {
   "cell_type": "code",
   "execution_count": 9,
   "metadata": {},
   "outputs": [
    {
     "data": {
      "text/plain": [
       "[<matplotlib.lines.Line2D at 0x7f3617843ef0>]"
      ]
     },
     "execution_count": 9,
     "metadata": {},
     "output_type": "execute_result"
    },
    {
     "data": {
      "image/png": "[encoded data removed]",
      "text/plain": [
       "<Figure size 432x288 with 1 Axes>"
      ]
     },
     "metadata": {
      "needs_background": "light"
     },
     "output_type": "display_data"
    }
   ],
   "source": [
    "plt.plot(data[0],data[2])\n",
    "plt.plot(data[0][-10000:],data[2][-10000:])"
   ]
  },
  {
   "cell_type": "code",
   "execution_count": 15,
   "metadata": {},
   "outputs": [
    {
     "data": {
      "text/plain": [
       "[<matplotlib.lines.Line2D at 0x7f35debdbeb8>]"
      ]
     },
     "execution_count": 15,
     "metadata": {},
     "output_type": "execute_result"
    },
    {
     "data": {
      "image/png": "[encoded data removed]",
      "text/plain": [
       "<Figure size 432x288 with 1 Axes>"
      ]
     },
     "metadata": {
      "needs_background": "light"
     },
     "output_type": "display_data"
    }
   ],
   "source": [
    "plt.plot(Vars.Lat,data[1][-1]+elevation)\n",
    "plt.plot(Lat_10,ZMT_10)"
   ]
  },
  {
   "cell_type": "code",
   "execution_count": null,
   "metadata": {},
   "outputs": [],
   "source": []
  }
 ],
 "metadata": {
  "kernelspec": {
   "display_name": "Python 3",
   "language": "python",
   "name": "python3"
  },
  "language_info": {
   "codemirror_mode": {
    "name": "ipython",
    "version": 3
   },
   "file_extension": ".py",
   "mimetype": "text/x-python",
   "name": "python",
   "nbconvert_exporter": "python",
   "pygments_lexer": "ipython3",
   "version": "3.6.8"
  }
 },
 "nbformat": 4,
 "nbformat_minor": 2
}
