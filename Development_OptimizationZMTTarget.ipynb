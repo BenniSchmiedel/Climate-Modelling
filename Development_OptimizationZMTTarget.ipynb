{
 "cells": [
  {
   "cell_type": "code",
   "execution_count": 1,
   "metadata": {},
   "outputs": [],
   "source": [
    "import matplotlib.pyplot as plt\n",
    "import numpy as np\n",
    "from lowEBMs.Packages.Configuration import importer, add_sellersparameters, parameterinterpolatorstepwise, reset\n",
    "from lowEBMs.Packages.Configuration import import_parallelparameter, allocate_parallelparameter, write_parallelparameter\n",
    "from lowEBMs.Packages.Variables import variable_importer\n",
    "from lowEBMs.Packages.RK4 import rk4alg\n",
    "from lowEBMs.Packages.ModelEquation import model_equation\n",
    "from lowEBMs.Packages.Variables import Vars,reset, trackerreset, datareset\n",
    "from lowEBMs.Packages.Functions import plotmeanstd\n",
    "from lowEBMs import update_plotstyle, moving_average\n",
    "import lowEBMs.Packages.Constants as const\n",
    "\n",
    "import builtins\n",
    "import matplotlib\n",
    "update_plotstyle()\n",
    "matplotlib.rcParams['lines.linewidth']=1.1"
   ]
  },
  {
   "cell_type": "code",
   "execution_count": 2,
   "metadata": {},
   "outputs": [],
   "source": [
    "Lat_10,ZMT_10=np.loadtxt('Data/ERA_ZMT_Mean_10deginterpolated.txt')\n",
    "Lat_ERA,ZMT_ERA=np.loadtxt('Data/ERA_ZMT_Mean.txt')\n"
   ]
  },
  {
   "cell_type": "code",
   "execution_count": 3,
   "metadata": {},
   "outputs": [],
   "source": [
    "def coremodule(config,P0,P_pert_ratio,Pmin,Pmax,labels,ZMT,GMT,grid,maxlength,targetmode,target,targetfunction,ratio_ZMT_GMT,elevation,precision,num_paras,gamma0,control,controlconfig):\n",
    "    from tqdm import tqdm, tnrange\n",
    "    \n",
    "    F=np.reshape(np.zeros(maxlength*(2*num_paras+1)),(maxlength,2*num_paras+1))\n",
    "    dF=np.reshape(np.zeros(maxlength*(num_paras)),(maxlength,num_paras))\n",
    "    P=np.reshape(np.zeros(maxlength*(num_paras)),(maxlength,num_paras))\n",
    "    Ptrans=np.reshape(np.zeros(maxlength*(num_paras)),(maxlength,num_paras))\n",
    "    gamma=np.zeros(maxlength)\n",
    "    \n",
    "    if targetmode=='Single':\n",
    "        dataout=np.reshape(np.zeros(maxlength*(2*num_paras+1)),(maxlength,(2*num_paras+1)))\n",
    "    elif targetmode=='ZMT':\n",
    "        dataout=np.reshape(np.zeros(maxlength*len(grid)*(2*num_paras+1)),(maxlength,(2*num_paras+1),len(grid)))\n",
    "    elif targetmode=='GMT':\n",
    "        dataout=np.reshape(np.zeros(maxlength*int(number_of_integration/data_readout)*(2*num_paras+1)),(maxlength,(2*num_paras+1),int(number_of_integration/data_readout)))\n",
    "    elif targetmode=='Coupled':\n",
    "        dataout_ZMT=np.reshape(np.zeros(maxlength*len(grid)*(2*num_paras+1)),(maxlength,(2*num_paras+1),len(grid)))\n",
    "        dataout_GMT=np.reshape(np.zeros(maxlength*int(number_of_integration/data_readout)*(2*num_paras+1)),(maxlength,(2*num_paras+1),int(number_of_integration/data_readout)))     \n",
    "    for i in tnrange(maxlength):\n",
    "        print('Iteration no.'+str(i))\n",
    "        if i==0:\n",
    "            P[i]=P0\n",
    "            P_pert=(Pmax-Pmin)*P_pert_ratio\n",
    "            Ptrans[i]=(P0-Pmin)/(Pmax-Pmin)\n",
    "            Ptrans_pert=Ptrans[i]*P_pert_ratio\n",
    "\n",
    "        if targetmode=='Coupled':\n",
    "            data_ZMT,data_GMT=run_model(config,P[i],P_pert,labels,ZMT,GMT,targetmode,control,controlconfig,grid,elevation)\n",
    "            dataout_ZMT[i]=data_ZMT\n",
    "            dataout_GMT[i]=data_GMT\n",
    "        else:\n",
    "            data=run_model(config,P[i],P_pert,labels,ZMT,GMT,targetmode,control,controlconfig,grid,elevation)\n",
    "            dataout[i]=data\n",
    "            \n",
    "        if targetmode=='Coupled':\n",
    "            target_ZMT=target['ZMT']\n",
    "            target_GMT=target['GMT']\n",
    "            F_ZMT=target_comparison(data_ZMT,'ZMT',target_ZMT,targetfunction,num_paras,grid)\n",
    "            F_GMT=target_comparison(data_GMT,'GMT',target_GMT,targetfunction,num_paras,grid)\n",
    "            F[i]=ratio_ZMT_GMT*F_ZMT+(1-ratio_ZMT_GMT)*F_GMT\n",
    "        else:\n",
    "            F[i]=target_comparison(data,targetmode,target,targetfunction,num_paras,grid)\n",
    "\n",
    "        dF[i]=local_gradient(F[i],Ptrans_pert)\n",
    "        #dF[i]=local_gradient(F[i],P_pert)\n",
    "        if i==0:\n",
    "            gamma[i]=gamma0\n",
    "        else:\n",
    "            #gamma[i]=step_weighting(dF[i-1],dF[i],P[i-1],P[i])\n",
    "            gamma[i]=step_weighting(dF[i-1],dF[i],Ptrans[i-1],Ptrans[i])\n",
    "            \n",
    "        if precision_check(dF[0],dF[i],precision):\n",
    "            print('stop',i)\n",
    "            P=P[:i]\n",
    "            Ptrans=Ptrans[:i]\n",
    "            F=F[:i]\n",
    "            dF=dF[:i]\n",
    "            gamma=gamma[:i]\n",
    "            break\n",
    "                \n",
    "        #P_next=new_parameters(P[i],gamma[i],dF[i])        \n",
    "        Ptrans_next=new_parameters(Ptrans[i],gamma[i],dF[i])\n",
    "\n",
    "        for k in range(num_paras):\n",
    "            if Ptrans_next[k]<0:\n",
    "                Ptrans_next[k]=0.\n",
    "            if Ptrans_next[k]>1:\n",
    "                Ptrans_next[k]=1.\n",
    "\n",
    "        if i<maxlength-1:\n",
    "            Ptrans[i+1]=Ptrans_next\n",
    "            P[i+1]=Pmin+Ptrans_next*(Pmax-Pmin)\n",
    "            print(F[i])\n",
    "            print(gamma[i])\n",
    "            print(P[i+1])\n",
    "            \n",
    "        if targetmode=='Coupled':\n",
    "            dataout=[dataout_ZMT,dataout_GMT]\n",
    "            \n",
    "    return F, dF, P , Ptrans, gamma, dataout\n",
    "    \n",
    "def target_comparison(data,targetmode,target,targetfunction,num_paras,grid):\n",
    "    F=np.zeros(2*num_paras+1)\n",
    "    if targetfunction=='LeastSquare':\n",
    "        if targetmode=='Single':\n",
    "            F=(np.array(data)-target)**2\n",
    "        elif targetmode=='ZMT':\n",
    "            for i in range(len(F)):\n",
    "                if len(data[i])==len(target):\n",
    "                    F[i]=np.sum(((data[i]-target)*np.cos(grid*np.pi/180)/np.mean(np.cos(grid*np.pi/180)))**2)\n",
    "                elif len(data[i])==len(F):\n",
    "                    F[i]=np.sum(((data[:,i]-target)*np.cos(grid*np.pi/180)/np.mean(np.cos(grid*np.pi/180)))**2)\n",
    "        elif targetmode=='GMT':\n",
    "            for i in range(len(F)):\n",
    "                F[i]=np.sum((data[i]-target)**2)\n",
    "\n",
    "    return F\n",
    "\n",
    "def local_gradient(F,P_pert):\n",
    "    dF=np.zeros(len(P_pert))\n",
    "    for k in range(len(P_pert)):\n",
    "        dF[k]=(F[2*(k+1)-1]-F[2*(k+1)])/(2*P_pert[k])\n",
    "    return dF\n",
    "\n",
    "def step_weighting(dF0,dF1,P0,P1):\n",
    "    gamma=np.abs(np.dot(P1-P0,dF1-dF0)/np.dot(np.abs(dF1-dF0),np.abs(dF1-dF0)))\n",
    "    return gamma\n",
    "\n",
    "def precision_check(dF0,dF,precision):\n",
    "    dFabs=np.sqrt(np.dot(dF,dF))\n",
    "    dF0abs=np.sqrt(np.dot(dF0,dF0))\n",
    "    if dFabs/dF0abs <= precision:\n",
    "        return True\n",
    "    \n",
    "def new_parameters(P,gamma,dF):\n",
    "    P_next=P-gamma*dF\n",
    "    return P_next\n",
    "\n",
    "def run_model(config,P,P_pert,labels,ZMT,GMT,targetmode,control,controlconfig,grid,elevation):\n",
    "    \n",
    "    P_config=reshape_parameters(P,P_pert)\n",
    "    setup={'number_of_parameters': len(P), 'number_of_cycles': 1, 'number_of_parallels': len(P)*2+1}\n",
    "    \n",
    "    if targetmode=='Coupled':\n",
    "        control=True\n",
    "        \n",
    "    if control==True:\n",
    "        variable_importer(controlconfig,initialZMT=True,parallel=True,parallel_config=setup)\n",
    "        controlconfig=add_parameters(controlconfig,P_config,labels)\n",
    "        data_CTRL=rk4alg(model_equation,controlconfig['eqparam'],controlconfig['rk4input'],controlconfig['funccomp'],progressbar=True)\n",
    "        ZMT,GMT=data_CTRL[1][-1],data_CTRL[2][-1]\n",
    "\n",
    "    variable_importer(config,initialZMT=False,parallel=True,parallel_config=setup)\n",
    "    config=add_parameters(config,P_config,labels)\n",
    "    Vars.T,Vars.T_global=ZMT,GMT   \n",
    "    data=rk4alg(model_equation,config['eqparam'],config['rk4input'],config['funccomp'],progressbar=True)\n",
    "    \n",
    "    if targetmode=='Single':\n",
    "        data_out=data[2][-1]\n",
    "    elif targetmode=='ZMT':\n",
    "        dataZMT=data[1][-1]\n",
    "        for i in range(len(dataZMT)):\n",
    "            dataZMT[i]=dataZMT[i]+elevation\n",
    "        data_out=dataZMT\n",
    "    elif targetmode=='GMT':\n",
    "        data_out=np.transpose(data[2][:-1]-data[2][0])\n",
    "    elif targetmode=='Coupled':\n",
    "        dataZMT=data_CTRL[1][-1]\n",
    "        for i in range(len(dataZMT)):\n",
    "            dataZMT[i]=dataZMT[i]+elevation\n",
    "        dataGMT=np.transpose(data[2][:-1]-data[2][0])\n",
    "        data_out=[dataZMT,dataGMT]\n",
    "    return data_out\n",
    "\n",
    "def reshape_parameters(P,P_pert):\n",
    "    num_para=len(P)\n",
    "    P_config=np.reshape(np.zeros(num_para*(2*num_para+1)),(num_para,2*num_para+1))\n",
    "    for i in range(num_para):\n",
    "        P_config[i]=np.array([P[i]]*(2*num_para+1))\n",
    "        P_config[i][i*2+1]=P[i]+P_pert[i]\n",
    "        P_config[i][i*2+2]=P[i]-P_pert[i]\n",
    "                      \n",
    "    return P_config\n",
    "             \n",
    "def add_parameters(config,P_config,labels):\n",
    "    num_para=len(P_config)\n",
    "    \n",
    "    for i in range(num_para):\n",
    "        if labels[i][0][:4]=='func':\n",
    "            config['funccomp']['funcparam'][labels[i][0]][labels[i][1]]=P_config[i]\n",
    "        if labels[i][0]=='eqparam':\n",
    "            config[labels[i][0]][labels[i][1]]=P_config[i]\n",
    "    return config"
   ]
  },
  {
   "cell_type": "code",
   "execution_count": 6,
   "metadata": {},
   "outputs": [
    {
     "name": "stdout",
     "output_type": "stream",
     "text": [
      "Loading Configuration from: Dev_Data/Optimization/Volcanic_Sellers_CTRL.ini\n",
      "Loading Parameters from: /Home/siv32/bsc029/.local/lib/python3.6/site-packages/lowEBMs/Tutorials/Config/Data/SellersParameterization.ini\n"
     ]
    },
    {
     "data": {
      "application/vnd.jupyter.widget-view+json": {
       "model_id": "a8523d6c50e545e48d05a4a724bcd699",
       "version_major": 2,
       "version_minor": 0
      },
      "text/plain": [
       "HBox(children=(IntProgress(value=0), HTML(value='')))"
      ]
     },
     "metadata": {},
     "output_type": "display_data"
    },
    {
     "name": "stdout",
     "output_type": "stream",
     "text": [
      "Iteration no.0\n"
     ]
    },
    {
     "data": {
      "application/vnd.jupyter.widget-view+json": {
       "model_id": "214d5cd215a44018baa0f2ea9c6853b3",
       "version_major": 2,
       "version_minor": 0
      },
      "text/plain": [
       "HBox(children=(IntProgress(value=0, max=36500), HTML(value='')))"
      ]
     },
     "metadata": {},
     "output_type": "display_data"
    },
    {
     "name": "stdout",
     "output_type": "stream",
     "text": [
      "[2292.14935724 2285.91335173 2298.39082043 2271.19734478 2313.20305479\n",
      " 2292.08942435 2292.20929162 2292.13723958 2292.16147497 2291.93006489\n",
      " 2292.36867039]\n",
      "1e-07\n",
      "[5.02495494e-01 2.20379130e-15 1.16503619e+00 1.16500732e+00\n",
      " 1.16513241e+00]\n",
      "Iteration no.1\n"
     ]
    },
    {
     "data": {
      "application/vnd.jupyter.widget-view+json": {
       "model_id": "964e7b2c706c45c98b7501d81b9f6b40",
       "version_major": 2,
       "version_minor": 0
      },
      "text/plain": [
       "HBox(children=(IntProgress(value=0, max=36500), HTML(value='')))"
      ]
     },
     "metadata": {},
     "output_type": "display_data"
    },
    {
     "name": "stdout",
     "output_type": "stream",
     "text": [
      "[452.05972959 453.11788046 451.00296681 453.87033038 450.25138698\n",
      " 452.06470904 452.05475019 452.06119766 452.05826153 452.08294228\n",
      " 452.03651848]\n",
      "9.18180196949249e-08\n",
      "[5.02107119e-01 2.17976003e-15 1.16503343e+00 1.16500650e+00\n",
      " 1.16511954e+00]\n",
      "Iteration no.2\n"
     ]
    },
    {
     "data": {
      "application/vnd.jupyter.widget-view+json": {
       "model_id": "695817311cb5470082689f7083ad918f",
       "version_major": 2,
       "version_minor": 0
      },
      "text/plain": [
       "HBox(children=(IntProgress(value=0, max=36500), HTML(value='')))"
      ]
     },
     "metadata": {},
     "output_type": "display_data"
    },
    {
     "name": "stdout",
     "output_type": "stream",
     "text": [
      "[340.90859848 341.82110426 339.99747163 342.54122248 339.27878169\n",
      " 340.91277461 340.90442244 340.9098236  340.90737337 340.92780111\n",
      " 340.88939773]\n",
      "8.775277216458507e-07\n",
      "[4.98906543e-01 1.97271229e-15 1.16501130e+00 1.16500001e+00\n",
      " 1.16501781e+00]\n",
      "Iteration no.3\n"
     ]
    },
    {
     "data": {
      "application/vnd.jupyter.widget-view+json": {
       "model_id": "53138be85e44444180e53d3efdd65e67",
       "version_major": 2,
       "version_minor": 0
      },
      "text/plain": [
       "HBox(children=(IntProgress(value=0, max=36500), HTML(value='')))"
      ]
     },
     "metadata": {},
     "output_type": "display_data"
    },
    {
     "name": "stdout",
     "output_type": "stream",
     "text": [
      "[468.68565296 467.34638074 470.02666713 464.91715989 472.47227128\n",
      " 468.67291307 468.69839325 468.68258189 468.68872406 468.63634812\n",
      " 468.73496385]\n",
      "2.70352459555049e-07\n",
      "[5.00355787e-01 2.12043192e-15 1.16503210e+00 1.16500502e+00\n",
      " 1.16509829e+00]\n",
      "Iteration no.4\n"
     ]
    },
    {
     "data": {
      "application/vnd.jupyter.widget-view+json": {
       "model_id": "a254a5d761a143b0aa70563432bc54a8",
       "version_major": 2,
       "version_minor": 0
      },
      "text/plain": [
       "HBox(children=(IntProgress(value=0, max=36500), HTML(value='')))"
      ]
     },
     "metadata": {},
     "output_type": "display_data"
    },
    {
     "name": "stdout",
     "output_type": "stream",
     "text": [
      "[101.16754087 101.71735904 100.6196332  102.27867276 100.06318162\n",
      " 101.17044446 101.16463747 101.16826373 101.16681802 101.17794722\n",
      " 101.15713785]\n",
      "2.081064434603158e-07\n",
      "[4.99898899e-01 2.08708754e-15 1.16502845e+00 1.16500412e+00\n",
      " 1.16508522e+00]\n",
      "Iteration no.5\n"
     ]
    },
    {
     "data": {
      "application/vnd.jupyter.widget-view+json": {
       "model_id": "adfcdc97a40843259ba542ce0949278a",
       "version_major": 2,
       "version_minor": 0
      },
      "text/plain": [
       "HBox(children=(IntProgress(value=0, max=36500), HTML(value='')))"
      ]
     },
     "metadata": {},
     "output_type": "display_data"
    },
    {
     "name": "stdout",
     "output_type": "stream",
     "text": [
      "[31.95470008 32.2000521  31.71217584 32.48054893 31.44204976 31.95538205\n",
      " 31.95401839 31.95484486 31.95455532 31.95666331 31.95274303]\n",
      "3.9010645148089203e-07\n",
      "[4.99518252e-01 2.05778831e-15 1.16502684e+00 1.16500378e+00\n",
      " 1.16508060e+00]\n",
      "Iteration no.6\n"
     ]
    },
    {
     "data": {
      "application/vnd.jupyter.widget-view+json": {
       "model_id": "e0b75121f68a4d03a458d27197232897",
       "version_major": 2,
       "version_minor": 0
      },
      "text/plain": [
       "HBox(children=(IntProgress(value=0, max=36500), HTML(value='')))"
      ]
     },
     "metadata": {},
     "output_type": "display_data"
    },
    {
     "name": "stdout",
     "output_type": "stream",
     "text": [
      "[31.65531852 31.43488522 31.87845793 31.11641581 32.21002665 31.65193252\n",
      " 31.65870488 31.65433169 31.65630538 31.63896143 31.67168293]\n",
      "1.9098721304104504e-07\n",
      "[4.99687685e-01 2.07289377e-15 1.16503075e+00 1.16500491e+00\n",
      " 1.16509947e+00]\n",
      "Iteration no.7\n"
     ]
    },
    {
     "data": {
      "application/vnd.jupyter.widget-view+json": {
       "model_id": "e0c6dede69e24a57a79b804091229ef6",
       "version_major": 2,
       "version_minor": 0
      },
      "text/plain": [
       "HBox(children=(IntProgress(value=0, max=36500), HTML(value='')))"
      ]
     },
     "metadata": {},
     "output_type": "display_data"
    },
    {
     "name": "stdout",
     "output_type": "stream",
     "text": [
      "[22.0115292  22.02974311 21.99609217 22.03528162 22.0022666  22.01025674\n",
      " 22.01280198 22.01113029 22.01192813 22.00465248 22.01841269]\n",
      "1.8488807001876172e-07\n",
      "[4.99675242e-01 2.07245232e-15 1.16503217e+00 1.16500536e+00\n",
      " 1.16510715e+00]\n",
      "Iteration no.8\n"
     ]
    },
    {
     "data": {
      "application/vnd.jupyter.widget-view+json": {
       "model_id": "847229b7dcc14fcd88ce222526f89903",
       "version_major": 2,
       "version_minor": 0
      },
      "text/plain": [
       "HBox(children=(IntProgress(value=0, max=36500), HTML(value='')))"
      ]
     },
     "metadata": {},
     "output_type": "display_data"
    },
    {
     "name": "stdout",
     "output_type": "stream",
     "text": [
      "[21.99481609 22.00509884 21.98730795 22.00045691 22.00370647 21.99347465\n",
      " 21.99615785 21.99439799 21.99523421 21.9876288  22.00201017]\n",
      "1.834928526935838e-07\n",
      "[4.99668713e-01 2.07249544e-15 1.16503365e+00 1.16500582e+00\n",
      " 1.16511511e+00]\n",
      "Iteration no.9\n"
     ]
    },
    {
     "data": {
      "application/vnd.jupyter.widget-view+json": {
       "model_id": "8f1bb4e8b6394538afb330f8b9d8f5a3",
       "version_major": 2,
       "version_minor": 0
      },
      "text/plain": [
       "HBox(children=(IntProgress(value=0, max=36500), HTML(value='')))"
      ]
     },
     "metadata": {},
     "output_type": "display_data"
    },
    {
     "name": "stdout",
     "output_type": "stream",
     "text": [
      "[21.99028432 22.00029147 21.98305143 21.99529686 21.99980082 21.98894079\n",
      " 21.99162816 21.98986564 21.99070302 21.98308777 21.99748766]\n",
      "3.7272034566432295e-08\n",
      "[4.99667428e-01 2.07250758e-15 1.16503396e+00 1.16500592e+00\n",
      " 1.16511673e+00]\n",
      "Iteration no.10\n"
     ]
    },
    {
     "data": {
      "application/vnd.jupyter.widget-view+json": {
       "model_id": "301cd85db27d401f8bd236da046a9eec",
       "version_major": 2,
       "version_minor": 0
      },
      "text/plain": [
       "HBox(children=(IntProgress(value=0, max=36500), HTML(value='')))"
      ]
     },
     "metadata": {},
     "output_type": "display_data"
    },
    {
     "name": "stdout",
     "output_type": "stream",
     "text": [
      "[21.98936708 21.99937165 21.98213673 21.99437407 21.9988884  21.9880236\n",
      " 21.99071089 21.98894842 21.98978577 21.98217075 21.9965702 ]\n",
      "3.49964132427524e-06\n",
      "[4.99546796e-01 2.07365015e-15 1.16506235e+00 1.16501476e+00\n",
      " 1.16526886e+00]\n",
      "Iteration no.11\n"
     ]
    },
    {
     "data": {
      "application/vnd.jupyter.widget-view+json": {
       "model_id": "0b25794b8e704180a16daaaa6a0bc36f",
       "version_major": 2,
       "version_minor": 0
      },
      "text/plain": [
       "HBox(children=(IntProgress(value=0, max=36500), HTML(value='')))"
      ]
     },
     "metadata": {},
     "output_type": "display_data"
    },
    {
     "name": "stdout",
     "output_type": "stream",
     "text": [
      "[21.9033962  21.91318809 21.89637328 21.90795205 21.9132992  21.90205696\n",
      " 21.90473577 21.9029788  21.90381363 21.89622185 21.91057733]\n",
      "3.7240256510731665e-06\n",
      "[4.99421558e-01 2.07509029e-15 1.16509246e+00 1.16502415e+00\n",
      " 1.16543025e+00]\n",
      "Iteration no.12\n"
     ]
    },
    {
     "data": {
      "application/vnd.jupyter.widget-view+json": {
       "model_id": "69fc47b75c744d19a56fdbc915ef2632",
       "version_major": 2,
       "version_minor": 0
      },
      "text/plain": [
       "HBox(children=(IntProgress(value=0, max=36500), HTML(value='')))"
      ]
     },
     "metadata": {},
     "output_type": "display_data"
    },
    {
     "name": "stdout",
     "output_type": "stream",
     "text": [
      "[21.81434135 21.82745372 21.80399326 21.82649904 21.81654901 21.81303758\n",
      " 21.81564543 21.81393391 21.81474882 21.80732987 21.82135959]\n",
      "5.873842164586046e-07\n",
      "[4.99393998e-01 2.07466760e-15 1.16509709e+00 1.16502559e+00\n",
      " 1.16545513e+00]\n",
      "Iteration no.13\n"
     ]
    },
    {
     "data": {
      "application/vnd.jupyter.widget-view+json": {
       "model_id": "3bbfd75abb2c4cbc905559a3859bebda",
       "version_major": 2,
       "version_minor": 0
      },
      "text/plain": [
       "HBox(children=(IntProgress(value=0, max=36500), HTML(value='')))"
      ]
     },
     "metadata": {},
     "output_type": "display_data"
    },
    {
     "name": "stdout",
     "output_type": "stream",
     "text": [
      "[21.80584678 21.80930071 21.80515387 21.79599117 21.83011078 21.80445961\n",
      " 21.80723427 21.80541614 21.80627744 21.79846011 21.81324023]\n",
      "1.7213050819402649e-07\n",
      "[4.99392570e-01 2.07509235e-15 1.16509853e+00 1.16502604e+00\n",
      " 1.16546281e+00]\n",
      "Iteration no.14\n"
     ]
    },
    {
     "data": {
      "application/vnd.jupyter.widget-view+json": {
       "model_id": "9c2e7ef236f14f858bb010eb4a681170",
       "version_major": 2,
       "version_minor": 0
      },
      "text/plain": [
       "HBox(children=(IntProgress(value=0, max=36500), HTML(value='')))"
      ]
     },
     "metadata": {},
     "output_type": "display_data"
    },
    {
     "name": "stdout",
     "output_type": "stream",
     "text": [
      "[21.79416991 21.80339504 21.78770698 21.79747922 21.80523286 21.79283349\n",
      " 21.79550665 21.7937534  21.79458645 21.78701197 21.80133462]\n",
      "2.0344180778751267e-07\n",
      "[4.99386187e-01 2.07520643e-15 1.16510017e+00 1.16502655e+00\n",
      " 1.16547161e+00]\n",
      "Iteration no.15\n"
     ]
    },
    {
     "data": {
      "application/vnd.jupyter.widget-view+json": {
       "model_id": "f7837b8104014ff795f345e2690d415d",
       "version_major": 2,
       "version_minor": 0
      },
      "text/plain": [
       "HBox(children=(IntProgress(value=0, max=36500), HTML(value='')))"
      ]
     },
     "metadata": {},
     "output_type": "display_data"
    },
    {
     "name": "stdout",
     "output_type": "stream",
     "text": [
      "[21.78915009 21.79911422 21.78194804 21.79414526 21.79851893 21.78782048\n",
      " 21.79048001 21.78873548 21.78956472 21.78202298 21.79628395]\n",
      "2.8902261973133984e-07\n",
      "[4.99376264e-01 2.07529785e-15 1.16510249e+00 1.16502728e+00\n",
      " 1.16548405e+00]\n",
      "Iteration no.16\n"
     ]
    },
    {
     "data": {
      "application/vnd.jupyter.widget-view+json": {
       "model_id": "4318dca258ac43aa979c5996971b058a",
       "version_major": 2,
       "version_minor": 0
      },
      "text/plain": [
       "HBox(children=(IntProgress(value=0, max=36500), HTML(value='')))"
      ]
     },
     "metadata": {},
     "output_type": "display_data"
    },
    {
     "name": "stdout",
     "output_type": "stream",
     "text": [
      "[21.78214756 21.79205446 21.77500231 21.78701521 21.79163851 21.78081795\n",
      " 21.78347749 21.78173296 21.78256219 21.77502069 21.78928119]\n",
      "1.427042866047663e-06\n",
      "[4.99327596e-01 2.07577500e-15 1.16511395e+00 1.16503085e+00\n",
      " 1.16554549e+00]\n",
      "Iteration no.17\n"
     ]
    },
    {
     "data": {
      "application/vnd.jupyter.widget-view+json": {
       "model_id": "d26e208e1faa4476aac2c33d16aeef53",
       "version_major": 2,
       "version_minor": 0
      },
      "text/plain": [
       "HBox(children=(IntProgress(value=0, max=36500), HTML(value='')))"
      ]
     },
     "metadata": {},
     "output_type": "display_data"
    },
    {
     "name": "stdout",
     "output_type": "stream",
     "text": [
      "[21.74761364 21.7576408  21.74034607 21.75276916 21.75678769 21.74628755\n",
      " 21.74894005 21.74720005 21.74802726 21.74050377 21.75473027]\n",
      "4.793383788772213e-06\n",
      "[4.99161795e-01 2.07716808e-15 1.16515233e+00 1.16504282e+00\n",
      " 1.16575135e+00]\n",
      "Iteration no.18\n"
     ]
    },
    {
     "data": {
      "application/vnd.jupyter.widget-view+json": {
       "model_id": "d1d103ff2fc0483db529352fa743e207",
       "version_major": 2,
       "version_minor": 0
      },
      "text/plain": [
       "HBox(children=(IntProgress(value=0, max=36500), HTML(value='')))"
      ]
     },
     "metadata": {},
     "output_type": "display_data"
    },
    {
     "name": "stdout",
     "output_type": "stream",
     "text": [
      "[21.63343619 21.64059862 21.62902562 21.63212783 21.64899554 21.63209333\n",
      " 21.63477936 21.63301804 21.63385436 21.6262547  21.64062443]\n",
      "3.7190799475437985e-07\n",
      "[4.99153187e-01 2.07762177e-15 1.16515535e+00 1.16504376e+00\n",
      " 1.16576748e+00]\n",
      "Iteration no.19\n"
     ]
    },
    {
     "data": {
      "application/vnd.jupyter.widget-view+json": {
       "model_id": "82b0326045a041ac92f9409d6eaf2c32",
       "version_major": 2,
       "version_minor": 0
      },
      "text/plain": [
       "HBox(children=(IntProgress(value=0, max=36500), HTML(value='')))"
      ]
     },
     "metadata": {},
     "output_type": "display_data"
    },
    {
     "name": "stdout",
     "output_type": "stream",
     "text": [
      "[21.62430315 21.63663286 21.61472604 21.63473754 21.62808325 21.62300608\n",
      " 21.62560055 21.62389775 21.62470858 21.61732819 21.63128485]\n",
      "2.2003494985114383e-07\n",
      "[4.99143547e-01 2.07751588e-15 1.16515707e+00 1.16504430e+00\n",
      " 1.16577676e+00]\n",
      "Iteration no.20\n"
     ]
    },
    {
     "data": {
      "application/vnd.jupyter.widget-view+json": {
       "model_id": "e1cbeef2952146b18c5c1a4740182f86",
       "version_major": 2,
       "version_minor": 0
      },
      "text/plain": [
       "HBox(children=(IntProgress(value=0, max=36500), HTML(value='')))"
      ]
     },
     "metadata": {},
     "output_type": "display_data"
    },
    {
     "name": "stdout",
     "output_type": "stream",
     "text": [
      "[21.6179568  21.62751346 21.61115173 21.62209623 21.62804321 21.61663588\n",
      " 21.61927804 21.61754477 21.61836885 21.6108746  21.62504574]\n",
      "1.6781399242654755e-07\n",
      "[4.99138055e-01 2.07758806e-15 1.16515841e+00 1.16504471e+00\n",
      " 1.16578393e+00]\n",
      "Iteration no.21\n"
     ]
    },
    {
     "data": {
      "application/vnd.jupyter.widget-view+json": {
       "model_id": "462aa85af9974506a57e4dfc675b0db6",
       "version_major": 2,
       "version_minor": 0
      },
      "text/plain": [
       "HBox(children=(IntProgress(value=0, max=36500), HTML(value='')))"
      ]
     },
     "metadata": {},
     "output_type": "display_data"
    },
    {
     "name": "stdout",
     "output_type": "stream",
     "text": [
      "[21.61392792 21.62375166 21.60685558 21.61867569 21.62340119 21.61260962\n",
      " 21.61524653 21.61351662 21.61433924 21.60685766 21.62100491]\n",
      "4.1434640204924705e-07\n",
      "[4.99124053e-01 2.07772966e-15 1.16516171e+00 1.16504574e+00\n",
      " 1.16580163e+00]\n",
      "Iteration no.22\n"
     ]
    },
    {
     "data": {
      "application/vnd.jupyter.widget-view+json": {
       "model_id": "3e4adbc3d15d4ab0b72bb40a04975b08",
       "version_major": 2,
       "version_minor": 0
      },
      "text/plain": [
       "HBox(children=(IntProgress(value=0, max=36500), HTML(value='')))"
      ]
     },
     "metadata": {},
     "output_type": "display_data"
    },
    {
     "name": "stdout",
     "output_type": "stream",
     "text": [
      "[21.60402705 21.61394024 21.59686469 21.60898205 21.61328447 21.60271024\n",
      " 21.60534417 21.60361618 21.60443795 21.59696385 21.61109699]\n",
      "1.8847594008495466e-06\n",
      "[4.99059687e-01 2.07831612e-15 1.16517669e+00 1.16505042e+00\n",
      " 1.16588205e+00]\n",
      "Iteration no.23\n"
     ]
    },
    {
     "data": {
      "application/vnd.jupyter.widget-view+json": {
       "model_id": "b12169f0b1d6495889cb8c40607bba92",
       "version_major": 2,
       "version_minor": 0
      },
      "text/plain": [
       "HBox(children=(IntProgress(value=0, max=36500), HTML(value='')))"
      ]
     },
     "metadata": {},
     "output_type": "display_data"
    },
    {
     "name": "stdout",
     "output_type": "stream",
     "text": [
      "[21.55908852 21.56851072 21.55241429 21.56294799 21.56940737 21.55777066\n",
      " 21.5604067  21.5586774  21.55949967 21.55202207 21.5661617 ]\n",
      "1.0612745698713795e-06\n",
      "[4.99025521e-01 2.07881189e-15 1.16518514e+00 1.16505305e+00\n",
      " 1.16592735e+00]\n",
      "Iteration no.24\n"
     ]
    },
    {
     "data": {
      "application/vnd.jupyter.widget-view+json": {
       "model_id": "eacbcc93bd974e6a9c941c384acaa231",
       "version_major": 2,
       "version_minor": 0
      },
      "text/plain": [
       "HBox(children=(IntProgress(value=0, max=36500), HTML(value='')))"
      ]
     },
     "metadata": {},
     "output_type": "display_data"
    },
    {
     "name": "stdout",
     "output_type": "stream",
     "text": [
      "[21.53446023 21.54618215 21.52548531 21.54354522 21.53951989 21.53316427\n",
      " 21.53575652 21.53405523 21.53486526 21.5274933  21.54143389]\n",
      "3.566910535165172e-07\n",
      "[4.99010757e-01 2.07870806e-15 1.16518793e+00 1.16505392e+00\n",
      " 1.16594236e+00]\n",
      "Iteration no.25\n"
     ]
    },
    {
     "data": {
      "application/vnd.jupyter.widget-view+json": {
       "model_id": "7d59e1a241524391a084ac58e239c9e6",
       "version_major": 2,
       "version_minor": 0
      },
      "text/plain": [
       "HBox(children=(IntProgress(value=0, max=36500), HTML(value='')))"
      ]
     },
     "metadata": {},
     "output_type": "display_data"
    },
    {
     "name": "stdout",
     "output_type": "stream",
     "text": [
      "[21.52577424 21.5340714  21.52022273 21.52709648 21.53860904 21.52444898\n",
      " 21.52709982 21.52536109 21.52618742 21.51867559 21.53287963]\n",
      "1.6017227074055626e-07\n",
      "[4.99006320e-01 2.07884142e-15 1.16518921e+00 1.16505432e+00\n",
      " 1.16594923e+00]\n",
      "Iteration no.26\n"
     ]
    },
    {
     "data": {
      "application/vnd.jupyter.widget-view+json": {
       "model_id": "e13c9dbda62e4fcf856aaf39f1d7dbaa",
       "version_major": 2,
       "version_minor": 0
      },
      "text/plain": [
       "HBox(children=(IntProgress(value=0, max=36500), HTML(value='')))"
      ]
     },
     "metadata": {},
     "output_type": "display_data"
    },
    {
     "name": "stdout",
     "output_type": "stream",
     "text": [
      "[21.52155678 21.53111019 21.51474909 21.52573007 21.53153032 21.52024276\n",
      " 21.52287112 21.52114676 21.52196682 21.51450892 21.52861136]\n",
      "2.4030365596138157e-07\n",
      "[4.98998457e-01 2.07894222e-15 1.16519112e+00 1.16505492e+00\n",
      " 1.16595946e+00]\n",
      "Iteration no.27\n"
     ]
    },
    {
     "data": {
      "application/vnd.jupyter.widget-view+json": {
       "model_id": "00ff82fff5ce46ee85de8b8e417f4259",
       "version_major": 2,
       "version_minor": 0
      },
      "text/plain": [
       "HBox(children=(IntProgress(value=0, max=36500), HTML(value='')))"
      ]
     },
     "metadata": {},
     "output_type": "display_data"
    },
    {
     "name": "stdout",
     "output_type": "stream",
     "text": [
      "[21.51584258 21.52573974 21.50869089 21.52079768 21.52502771 21.51453198\n",
      " 21.51715351 21.51543352 21.51625167 21.50881029 21.5228816 ]\n",
      "4.4019364968206643e-07\n",
      "[4.98983447e-01 2.07907688e-15 1.16519460e+00 1.16505601e+00\n",
      " 1.16597816e+00]\n",
      "Iteration no.28\n"
     ]
    },
    {
     "data": {
      "application/vnd.jupyter.widget-view+json": {
       "model_id": "ad6b7890907b4d2c939138ff92aa2182",
       "version_major": 2,
       "version_minor": 0
      },
      "text/plain": [
       "HBox(children=(IntProgress(value=0, max=36500), HTML(value='')))"
      ]
     },
     "metadata": {},
     "output_type": "display_data"
    },
    {
     "name": "stdout",
     "output_type": "stream",
     "text": [
      "[21.50540589 21.51515719 21.49839937 21.5100347  21.51490957 21.50409476\n",
      " 21.50671734 21.50499669 21.50581511 21.4983716  21.5124469 ]\n",
      "8.043495847098428e-07\n",
      "[4.98956489e-01 2.07936046e-15 1.16520097e+00 1.16505799e+00\n",
      " 1.16601233e+00]\n",
      "Iteration no.29\n"
     ]
    },
    {
     "data": {
      "application/vnd.jupyter.widget-view+json": {
       "model_id": "37ffd56339bb401489b72f007986bf7a",
       "version_major": 2,
       "version_minor": 0
      },
      "text/plain": [
       "HBox(children=(IntProgress(value=0, max=36500), HTML(value='')))"
      ]
     },
     "metadata": {},
     "output_type": "display_data"
    },
    {
     "name": "stdout",
     "output_type": "stream",
     "text": [
      "[21.48636389 21.49643087 21.47904061 21.49171606 21.49512682 21.48505689\n",
      " 21.48767121 21.48595586 21.48677194 21.47934885 21.49338565]\n",
      "1.1052477502348151e-06\n",
      "[4.98918048e-01 2.07963310e-15 1.16520969e+00 1.16506072e+00\n",
      " 1.16605917e+00]\n",
      "Iteration no.30\n"
     ]
    },
    {
     "data": {
      "application/vnd.jupyter.widget-view+json": {
       "model_id": "9cfe247c0c634306992d0111db7f337d",
       "version_major": 2,
       "version_minor": 0
      },
      "text/plain": [
       "HBox(children=(IntProgress(value=0, max=36500), HTML(value='')))"
      ]
     },
     "metadata": {},
     "output_type": "display_data"
    },
    {
     "name": "stdout",
     "output_type": "stream",
     "text": [
      "[21.46044733 21.46913695 21.45449948 21.46269012 21.47230599 21.45913018\n",
      " 21.46176479 21.4600365  21.46085818 21.45338747 21.4675139 ]\n",
      "7.788801619158692e-08\n",
      "[4.98915768e-01 2.07968726e-15 1.16521031e+00 1.16506091e+00\n",
      " 1.16606249e+00]\n",
      "Iteration no.31\n"
     ]
    },
    {
     "data": {
      "application/vnd.jupyter.widget-view+json": {
       "model_id": "9451f26350b04d3b9cc1a00b4ecf9735",
       "version_major": 2,
       "version_minor": 0
      },
      "text/plain": [
       "HBox(children=(IntProgress(value=0, max=36500), HTML(value='')))"
      ]
     },
     "metadata": {},
     "output_type": "display_data"
    },
    {
     "name": "stdout",
     "output_type": "stream",
     "text": [
      "[21.45846231 21.46759646 21.45206993 21.46171303 21.46930903 21.45714918\n",
      " 21.45977576 21.4580526  21.45887205 21.4514206  21.46551073]\n",
      "2.5752944694219636e-07\n",
      "[4.98907771e-01 2.07982874e-15 1.16521236e+00 1.16506155e+00\n",
      " 1.16607345e+00]\n",
      "Iteration no.32\n"
     ]
    },
    {
     "data": {
      "application/vnd.jupyter.widget-view+json": {
       "model_id": "943983a00c9045129f313b59a203c6bf",
       "version_major": 2,
       "version_minor": 0
      },
      "text/plain": [
       "HBox(children=(IntProgress(value=0, max=36500), HTML(value='')))"
      ]
     },
     "metadata": {},
     "output_type": "display_data"
    },
    {
     "name": "stdout",
     "output_type": "stream",
     "text": [
      "[21.45230823 21.46232931 21.44502877 21.45757041 21.46113352 21.45100329\n",
      " 21.4536135  21.45190081 21.45271569 21.44530361 21.45931958]\n",
      "2.976911927459407e-07\n",
      "[4.98897470e-01 2.07990545e-15 1.16521470e+00 1.16506228e+00\n",
      " 1.16608604e+00]\n",
      "Iteration no.33\n"
     ]
    },
    {
     "data": {
      "application/vnd.jupyter.widget-view+json": {
       "model_id": "3e4f4537cdbd44be8833c106d6d765e5",
       "version_major": 2,
       "version_minor": 0
      },
      "text/plain": [
       "HBox(children=(IntProgress(value=0, max=36500), HTML(value='')))"
      ]
     },
     "metadata": {},
     "output_type": "display_data"
    },
    {
     "name": "stdout",
     "output_type": "stream",
     "text": [
      "[21.4452791  21.45498139 21.43831792 21.44982231 21.45481939 21.44397188\n",
      " 21.44658664 21.44487105 21.44568718 21.43826445 21.45230046]\n",
      "1.2197910676286153e-07\n",
      "[4.98893405e-01 2.07994953e-15 1.16521566e+00 1.16506258e+00\n",
      " 1.16609121e+00]\n",
      "Iteration no.34\n"
     ]
    },
    {
     "data": {
      "application/vnd.jupyter.widget-view+json": {
       "model_id": "06164eee3c3c4216822126ca7ddaa145",
       "version_major": 2,
       "version_minor": 0
      },
      "text/plain": [
       "HBox(children=(IntProgress(value=0, max=36500), HTML(value='')))"
      ]
     },
     "metadata": {},
     "output_type": "display_data"
    },
    {
     "name": "stdout",
     "output_type": "stream",
     "text": [
      "[21.4424011  21.45216866 21.43537449 21.44709334 21.45178964 21.44109466\n",
      " 21.44370786 21.44199327 21.44280896 21.43539005 21.44941886]\n",
      "8.580575517414325e-07\n",
      "[4.98864584e-01 2.08024097e-15 1.16522243e+00 1.16506469e+00\n",
      " 1.16612755e+00]\n",
      "Iteration no.35\n"
     ]
    },
    {
     "data": {
      "application/vnd.jupyter.widget-view+json": {
       "model_id": "8e44d99ba90e400b8d09d2003eb24d4d",
       "version_major": 2,
       "version_minor": 0
      },
      "text/plain": [
       "HBox(children=(IntProgress(value=0, max=36500), HTML(value='')))"
      ]
     },
     "metadata": {},
     "output_type": "display_data"
    },
    {
     "name": "stdout",
     "output_type": "stream",
     "text": [
      "[21.422183   21.43212037 21.41498539 21.42726812 21.43116114 21.4208795\n",
      " 21.42348682 21.421776   21.42259002 21.4151859  21.42918681]\n",
      "2.046393565130079e-06\n",
      "[4.98794455e-01 2.08081712e-15 1.16523854e+00 1.16506972e+00\n",
      " 1.16621405e+00]\n",
      "Iteration no.36\n"
     ]
    },
    {
     "data": {
      "application/vnd.jupyter.widget-view+json": {
       "model_id": "8c8c25ea953d409ba0427d89e242988c",
       "version_major": 2,
       "version_minor": 0
      },
      "text/plain": [
       "HBox(children=(IntProgress(value=0, max=36500), HTML(value='')))"
      ]
     },
     "metadata": {},
     "output_type": "display_data"
    },
    {
     "name": "stdout",
     "output_type": "stream",
     "text": [
      "[21.37435585 21.38286383 21.36858433 21.37622797 21.38651564 21.37304335\n",
      " 21.37566867 21.37394639 21.37476533 21.36731982 21.38139858]\n",
      "2.8816384119068164e-07\n",
      "[4.98786225e-01 2.08103152e-15 1.16524083e+00 1.16507043e+00\n",
      " 1.16622629e+00]\n",
      "Iteration no.37\n"
     ]
    },
    {
     "data": {
      "application/vnd.jupyter.widget-view+json": {
       "model_id": "109e9afcb8a9434a96eb821f29ea1684",
       "version_major": 2,
       "version_minor": 0
      },
      "text/plain": [
       "HBox(children=(IntProgress(value=0, max=36500), HTML(value='')))"
      ]
     },
     "metadata": {},
     "output_type": "display_data"
    },
    {
     "name": "stdout",
     "output_type": "stream",
     "text": [
      "[21.36736619 21.37773173 21.35973716 21.37344228 21.37530602 21.3660704\n",
      " 21.3686623  21.36696139 21.36777101 21.36040567 21.37433341]\n",
      "2.5154474695051777e-07\n",
      "[4.98777172e-01 2.08106543e-15 1.16524279e+00 1.16507105e+00\n",
      " 1.16623687e+00]\n",
      "Iteration no.38\n"
     ]
    },
    {
     "data": {
      "application/vnd.jupyter.widget-view+json": {
       "model_id": "db218c4fd7a24c58a05c9d632344ad13",
       "version_major": 2,
       "version_minor": 0
      },
      "text/plain": [
       "HBox(children=(IntProgress(value=0, max=36500), HTML(value='')))"
      ]
     },
     "metadata": {},
     "output_type": "display_data"
    },
    {
     "name": "stdout",
     "output_type": "stream",
     "text": [
      "[21.36141392 21.37103595 21.35452787 21.3658114  21.37103173 21.36011206\n",
      " 21.3627161  21.36100744 21.36182043 21.35442628 21.36840827]\n",
      "8.14641501907651e-08\n",
      "[4.98774482e-01 2.08109619e-15 1.16524343e+00 1.16507125e+00\n",
      " 1.16624031e+00]\n",
      "Iteration no.39\n"
     ]
    },
    {
     "data": {
      "application/vnd.jupyter.widget-view+json": {
       "model_id": "39e816148b914803a683c1573a097334",
       "version_major": 2,
       "version_minor": 0
      },
      "text/plain": [
       "HBox(children=(IntProgress(value=0, max=36500), HTML(value='')))"
      ]
     },
     "metadata": {},
     "output_type": "display_data"
    },
    {
     "name": "stdout",
     "output_type": "stream",
     "text": [
      "[21.35950296 21.36918941 21.35255238 21.36404693 21.36897235 21.35820181\n",
      " 21.36080444 21.35909668 21.35990927 21.35251854 21.36649409]\n",
      "6.418640585041043e-07\n",
      "[4.98753125e-01 2.08132483e-15 1.16524848e+00 1.16507282e+00\n",
      " 1.16626739e+00]\n",
      "Iteration no.40\n"
     ]
    },
    {
     "data": {
      "application/vnd.jupyter.widget-view+json": {
       "model_id": "327de619faa240018b3ab493ee55de84",
       "version_major": 2,
       "version_minor": 0
      },
      "text/plain": [
       "HBox(children=(IntProgress(value=0, max=36500), HTML(value='')))"
      ]
     },
     "metadata": {},
     "output_type": "display_data"
    },
    {
     "name": "stdout",
     "output_type": "stream",
     "text": [
      "[21.34448232 21.35446477 21.33723489 21.34970176 21.35326226 21.34318484\n",
      " 21.34578012 21.34407707 21.34488759 21.33751496 21.35145638]\n",
      "9.675713505202806e-07\n",
      "[4.98719783e-01 2.08157398e-15 1.16525606e+00 1.16507519e+00\n",
      " 1.16630811e+00]\n",
      "Iteration no.41\n"
     ]
    },
    {
     "data": {
      "application/vnd.jupyter.widget-view+json": {
       "model_id": "4ad46d296edd4412b8d5f47c7fa79a0f",
       "version_major": 2,
       "version_minor": 0
      },
      "text/plain": [
       "HBox(children=(IntProgress(value=0, max=36500), HTML(value='')))"
      ]
     },
     "metadata": {},
     "output_type": "display_data"
    },
    {
     "name": "stdout",
     "output_type": "stream",
     "text": [
      "[21.3219716  21.33092929 21.3157473  21.32488494 21.3330449  21.32066681\n",
      " 21.32327671 21.32156434 21.32237889 21.31497208 21.32897782]\n",
      "1.2412151029872012e-07\n",
      "[4.98716014e-01 2.08164723e-15 1.16525704e+00 1.16507550e+00\n",
      " 1.16631336e+00]\n",
      "Iteration no.42\n"
     ]
    },
    {
     "data": {
      "application/vnd.jupyter.widget-view+json": {
       "model_id": "66cc9bf065ba46a989e2219c022ccd51",
       "version_major": 2,
       "version_minor": 0
      },
      "text/plain": [
       "HBox(children=(IntProgress(value=0, max=36500), HTML(value='')))"
      ]
     },
     "metadata": {},
     "output_type": "display_data"
    },
    {
     "name": "stdout",
     "output_type": "stream",
     "text": [
      "[21.31897135 21.32843413 21.31224191 21.32302733 21.3288968  21.31767118\n",
      " 21.32027184 21.31856538 21.31937735 21.31199275 21.32595665]\n",
      "2.8352043892586036e-07\n",
      "[4.98706832e-01 2.08176758e-15 1.16525926e+00 1.16507619e+00\n",
      " 1.16632531e+00]\n",
      "Iteration no.43\n"
     ]
    },
    {
     "data": {
      "application/vnd.jupyter.widget-view+json": {
       "model_id": "7a2b81e1948f40ba968d16ea07c7775a",
       "version_major": 2,
       "version_minor": 0
      },
      "text/plain": [
       "HBox(children=(IntProgress(value=0, max=36500), HTML(value='')))"
      ]
     },
     "metadata": {},
     "output_type": "display_data"
    },
    {
     "name": "stdout",
     "output_type": "stream",
     "text": [
      "[21.31234097 21.32223374 21.30518123 21.31737124 21.32128429 21.31104503\n",
      " 21.31363723 21.31193619 21.31274578 21.30538167 21.31930697]\n",
      "4.2820226482805956e-07\n",
      "[4.98692228e-01 2.08188876e-15 1.16526261e+00 1.16507724e+00\n",
      " 1.16634331e+00]\n",
      "Iteration no.44\n"
     ]
    },
    {
     "data": {
      "application/vnd.jupyter.widget-view+json": {
       "model_id": "8384d2022d0c40de91d49efa91dc20c2",
       "version_major": 2,
       "version_minor": 0
      },
      "text/plain": [
       "HBox(children=(IntProgress(value=0, max=36500), HTML(value='')))"
      ]
     },
     "metadata": {},
     "output_type": "display_data"
    },
    {
     "name": "stdout",
     "output_type": "stream",
     "text": [
      "[21.302354   21.31196327 21.29547709 21.30674815 21.31192686 21.30105631\n",
      " 21.30365201 21.30194874 21.30275929 21.29538715 21.30932754]\n",
      "3.131059417023996e-07\n",
      "[4.98681905e-01 2.08200602e-15 1.16526507e+00 1.16507800e+00\n",
      " 1.16635649e+00]\n",
      "Iteration no.45\n"
     ]
    },
    {
     "data": {
      "application/vnd.jupyter.widget-view+json": {
       "model_id": "78f15d8017c64ce99c4d65b4c3ed6759",
       "version_major": 2,
       "version_minor": 0
      },
      "text/plain": [
       "HBox(children=(IntProgress(value=0, max=36500), HTML(value='')))"
      ]
     },
     "metadata": {},
     "output_type": "display_data"
    },
    {
     "name": "stdout",
     "output_type": "stream",
     "text": [
      "[21.29505382 21.30489737 21.28794223 21.29998022 21.30408714 21.2937587\n",
      " 21.29634925 21.29464928 21.29545838 21.28809882 21.30201551]\n",
      "6.681454959341804e-07\n",
      "[4.98659248e-01 2.08220448e-15 1.16527029e+00 1.16507964e+00\n",
      " 1.16638456e+00]\n",
      "Iteration no.46\n"
     ]
    },
    {
     "data": {
      "application/vnd.jupyter.widget-view+json": {
       "model_id": "f0d01210d0b243f68d93c9f9407e3173",
       "version_major": 2,
       "version_minor": 0
      },
      "text/plain": [
       "HBox(children=(IntProgress(value=0, max=36500), HTML(value='')))"
      ]
     },
     "metadata": {},
     "output_type": "display_data"
    },
    {
     "name": "stdout",
     "output_type": "stream",
     "text": [
      "[21.27949912 21.28904579 21.27268338 21.28376185 21.28918505 21.27820254\n",
      " 21.28079601 21.27909419 21.27990407 21.27253806 21.28646687]\n",
      "5.556197175214843e-07\n",
      "[4.98641065e-01 2.08242240e-15 1.16527464e+00 1.16508099e+00\n",
      " 1.16640792e+00]\n",
      "Iteration no.47\n"
     ]
    },
    {
     "data": {
      "application/vnd.jupyter.widget-view+json": {
       "model_id": "2235617947ee4b48a0a2fe9a785a77f5",
       "version_major": 2,
       "version_minor": 0
      },
      "text/plain": [
       "HBox(children=(IntProgress(value=0, max=36500), HTML(value='')))"
      ]
     },
     "metadata": {},
     "output_type": "display_data"
    },
    {
     "name": "stdout",
     "output_type": "stream",
     "text": [
      "[21.26659223 21.27670641 21.25920834 21.2721415  21.27497785 21.26530155\n",
      " 21.26788323 21.26618895 21.26699553 21.25965816 21.27353298]\n",
      "5.414107327846193e-07\n",
      "[4.98622118e-01 2.08253346e-15 1.16527886e+00 1.16508231e+00\n",
      " 1.16643060e+00]\n",
      "Iteration no.48\n"
     ]
    },
    {
     "data": {
      "application/vnd.jupyter.widget-view+json": {
       "model_id": "6355ad2003f14880b6b51d211a3d9497",
       "version_major": 2,
       "version_minor": 0
      },
      "text/plain": [
       "HBox(children=(IntProgress(value=0, max=36500), HTML(value='')))"
      ]
     },
     "metadata": {},
     "output_type": "display_data"
    },
    {
     "name": "stdout",
     "output_type": "stream",
     "text": [
      "[21.25405912 21.26316984 21.24767768 21.25734908 21.26469941 21.25276059\n",
      " 21.25535797 21.25365367 21.2544646  21.24709014 21.2610348 ]\n",
      "1.3883745752716224e-08\n",
      "[4.98621688e-01 2.08254084e-15 1.16527897e+00 1.16508235e+00\n",
      " 1.16643118e+00]\n",
      "Iteration no.49\n"
     ]
    },
    {
     "data": {
      "application/vnd.jupyter.widget-view+json": {
       "model_id": "80084ace90324636a9d999b6bb5a040e",
       "version_major": 2,
       "version_minor": 0
      },
      "text/plain": [
       "HBox(children=(IntProgress(value=0, max=36500), HTML(value='')))"
      ]
     },
     "metadata": {},
     "output_type": "display_data"
    },
    {
     "name": "stdout",
     "output_type": "stream",
     "text": [
      "[21.25372695 21.26288163 21.24730153 21.25711627 21.26426736 21.25242882\n",
      " 21.25502539 21.25332161 21.25413231 21.2467598  21.26070078]\n",
      "3.0858413525206636e-07\n",
      "[4.98612072e-01 2.08270043e-15 1.16528139e+00 1.16508310e+00\n",
      " 1.16644417e+00]\n",
      "Iteration no.50\n"
     ]
    },
    {
     "data": {
      "application/vnd.jupyter.widget-view+json": {
       "model_id": "191f640282d14743a76413696d3e1a55",
       "version_major": 2,
       "version_minor": 0
      },
      "text/plain": [
       "HBox(children=(IntProgress(value=0, max=36500), HTML(value='')))"
      ]
     },
     "metadata": {},
     "output_type": "display_data"
    },
    {
     "name": "stdout",
     "output_type": "stream",
     "text": [
      "[21.24651978 21.25658285 21.23918576 21.25196204 21.2549963  21.24523011\n",
      " 21.24780977 21.24611681 21.24692278 21.23959096 21.25345529]\n",
      "3.1701573897873605e-07\n",
      "[4.98601042e-01 2.08277000e-15 1.16528386e+00 1.16508387e+00\n",
      " 1.16645744e+00]\n",
      "Iteration no.51\n"
     ]
    },
    {
     "data": {
      "application/vnd.jupyter.widget-view+json": {
       "model_id": "5221895746d648edad7108c86bcc1f00",
       "version_major": 2,
       "version_minor": 0
      },
      "text/plain": [
       "HBox(children=(IntProgress(value=0, max=36500), HTML(value='')))"
      ]
     },
     "metadata": {},
     "output_type": "display_data"
    },
    {
     "name": "stdout",
     "output_type": "stream",
     "text": [
      "[21.2391517  21.24869793 21.23233393 21.24343104 21.24878801 21.23785805\n",
      " 21.24044566 21.23874762 21.2395558  21.23220521 21.24610487]\n",
      "1.1040651920184068e-08\n",
      "[4.98600680e-01 2.08277427e-15 1.16528394e+00 1.16508390e+00\n",
      " 1.16645790e+00]\n",
      "Iteration no.52\n"
     ]
    },
    {
     "data": {
      "application/vnd.jupyter.widget-view+json": {
       "model_id": "dc630598e53644d9bf2e07829c1c76c7",
       "version_major": 2,
       "version_minor": 0
      },
      "text/plain": [
       "HBox(children=(IntProgress(value=0, max=36500), HTML(value='')))"
      ]
     },
     "metadata": {},
     "output_type": "display_data"
    },
    {
     "name": "stdout",
     "output_type": "stream",
     "text": [
      "[21.23889494 21.24845168 21.23206667 21.2431981  21.24850718 21.23760141\n",
      " 21.2401888  21.2384909  21.23929902 21.23194896 21.24584761]\n",
      "5.671460731498531e-07\n",
      "[4.98582095e-01 2.08299204e-15 1.16528837e+00 1.16508528e+00\n",
      " 1.16648170e+00]\n",
      "Iteration no.53\n"
     ]
    },
    {
     "data": {
      "application/vnd.jupyter.widget-view+json": {
       "model_id": "733e264d64e44e0f8414b61dc6ffc2d5",
       "version_major": 2,
       "version_minor": 0
      },
      "text/plain": [
       "HBox(children=(IntProgress(value=0, max=36500), HTML(value='')))"
      ]
     },
     "metadata": {},
     "output_type": "display_data"
    },
    {
     "name": "stdout",
     "output_type": "stream",
     "text": [
      "[21.22576096 21.2358265  21.21842319 21.23121744 21.23420625 21.22447282\n",
      " 21.22704942 21.22535843 21.22616351 21.21883974 21.23268885]\n",
      "5.898507990618541e-07\n",
      "[4.98561564e-01 2.08311953e-15 1.16529296e+00 1.16508672e+00\n",
      " 1.16650636e+00]\n",
      "Iteration no.54\n"
     ]
    },
    {
     "data": {
      "application/vnd.jupyter.widget-view+json": {
       "model_id": "b14c92eb421b481ab0baab2838bb826b",
       "version_major": 2,
       "version_minor": 0
      },
      "text/plain": [
       "HBox(children=(IntProgress(value=0, max=36500), HTML(value='')))"
      ]
     },
     "metadata": {},
     "output_type": "display_data"
    },
    {
     "name": "stdout",
     "output_type": "stream",
     "text": [
      "[21.21215739 21.22123354 21.20580793 21.21538846 21.22282247 21.2108616\n",
      " 21.21345349 21.21175274 21.21256206 21.2052022  21.21911925]\n",
      "4.913166210453446e-09\n",
      "[4.98561413e-01 2.08312218e-15 1.16529300e+00 1.16508673e+00\n",
      " 1.16650657e+00]\n",
      "Iteration no.55\n"
     ]
    },
    {
     "data": {
      "application/vnd.jupyter.widget-view+json": {
       "model_id": "5aa777c6e8384259b9eb4aa4bece9e1d",
       "version_major": 2,
       "version_minor": 0
      },
      "text/plain": [
       "HBox(children=(IntProgress(value=0, max=36500), HTML(value='')))"
      ]
     },
     "metadata": {},
     "output_type": "display_data"
    },
    {
     "name": "stdout",
     "output_type": "stream",
     "text": [
      "[21.21203992 21.22113209 21.20567445 21.21530716 21.22266866 21.21074429\n",
      " 21.21333587 21.21163532 21.21244455 21.20508541 21.21900112]\n",
      "3.059061071892773e-07\n",
      "[4.98551955e-01 2.08328504e-15 1.16529539e+00 1.16508748e+00\n",
      " 1.16651942e+00]\n",
      "Iteration no.56\n"
     ]
    },
    {
     "data": {
      "application/vnd.jupyter.widget-view+json": {
       "model_id": "1e7a8514694049c99a1135366104e873",
       "version_major": 2,
       "version_minor": 0
      },
      "text/plain": [
       "HBox(children=(IntProgress(value=0, max=36500), HTML(value='')))"
      ]
     },
     "metadata": {},
     "output_type": "display_data"
    },
    {
     "name": "stdout",
     "output_type": "stream",
     "text": [
      "[21.20491028 21.21497426 21.19757279 21.21037193 21.21333336 21.20362364\n",
      " 21.20619723 21.20450818 21.20531239 21.19799655 21.21183068]\n",
      "3.0876370087693246e-07\n",
      "[4.98541210e-01 2.08335117e-15 1.16529779e+00 1.16508823e+00\n",
      " 1.16653231e+00]\n",
      "Iteration no.57\n"
     ]
    },
    {
     "data": {
      "application/vnd.jupyter.widget-view+json": {
       "model_id": "8ce2e51d842a4814b4890024974617ba",
       "version_major": 2,
       "version_minor": 0
      },
      "text/plain": [
       "HBox(children=(IntProgress(value=0, max=36500), HTML(value='')))"
      ]
     },
     "metadata": {},
     "output_type": "display_data"
    },
    {
     "name": "stdout",
     "output_type": "stream",
     "text": [
      "[21.19775567 21.20729337 21.19094391 21.2020339  21.20735929 21.19646496\n",
      " 21.1990467  21.19735245 21.19815892 21.19082383 21.20469419]\n",
      "1.4726457587298148e-09\n",
      "[4.98541161e-01 2.08335174e-15 1.16529780e+00 1.16508823e+00\n",
      " 1.16653237e+00]\n",
      "Iteration no.58\n"
     ]
    },
    {
     "data": {
      "application/vnd.jupyter.widget-view+json": {
       "model_id": "e5afa1e81ab440868d44ec00896f93ef",
       "version_major": 2,
       "version_minor": 0
      },
      "text/plain": [
       "HBox(children=(IntProgress(value=0, max=36500), HTML(value='')))"
      ]
     },
     "metadata": {},
     "output_type": "display_data"
    },
    {
     "name": "stdout",
     "output_type": "stream",
     "text": [
      "[21.19772154 21.2072606  21.19090842 21.20200284 21.20732206 21.19643085\n",
      " 21.19901256 21.19731833 21.19812478 21.19078977 21.20466   ]\n",
      "5.806397688222079e-07\n",
      "[4.98522172e-01 2.08357510e-15 1.16530233e+00 1.16508964e+00\n",
      " 1.16655669e+00]\n",
      "Iteration no.59\n"
     ]
    },
    {
     "data": {
      "application/vnd.jupyter.widget-view+json": {
       "model_id": "6d82ccc7c52f4474b436be4d0b9c6760",
       "version_major": 2,
       "version_minor": 0
      },
      "text/plain": [
       "HBox(children=(IntProgress(value=0, max=36500), HTML(value='')))"
      ]
     },
     "metadata": {},
     "output_type": "display_data"
    },
    {
     "name": "stdout",
     "output_type": "stream",
     "text": [
      "[21.18432213 21.1943902  21.17697929 21.18980158 21.19271054 21.18303703\n",
      " 21.18560754 21.18392048 21.1847238  21.17741602 21.19123491]\n",
      "5.841680620795857e-07\n",
      "[4.98501830e-01 2.08369800e-15 1.16530686e+00 1.16509106e+00\n",
      " 1.16658106e+00]\n",
      "Iteration no.60\n"
     ]
    },
    {
     "data": {
      "application/vnd.jupyter.widget-view+json": {
       "model_id": "5dfc42ff66394fdb8ba07254eab72cd8",
       "version_major": 2,
       "version_minor": 0
      },
      "text/plain": [
       "HBox(children=(IntProgress(value=0, max=36500), HTML(value='')))"
      ]
     },
     "metadata": {},
     "output_type": "display_data"
    },
    {
     "name": "stdout",
     "output_type": "stream",
     "text": [
      "[21.17089909 21.17993951 21.16458284 21.17406851 21.18159229 21.169606\n",
      " 21.1721925  21.17049524 21.17130297 21.16395746 21.1778474 ]\n",
      "5.008316353393909e-09\n",
      "[4.98501676e-01 2.08370073e-15 1.16530690e+00 1.16509107e+00\n",
      " 1.16658127e+00]\n",
      "Iteration no.61\n"
     ]
    },
    {
     "data": {
      "application/vnd.jupyter.widget-view+json": {
       "model_id": "16b18c0d26dc4fe5b04940878f81900b",
       "version_major": 2,
       "version_minor": 0
      },
      "text/plain": [
       "HBox(children=(IntProgress(value=0, max=36500), HTML(value='')))"
      ]
     },
     "metadata": {},
     "output_type": "display_data"
    },
    {
     "name": "stdout",
     "output_type": "stream",
     "text": [
      "[21.1707795  21.17983672 21.16444643 21.17398687 21.18143456 21.16948656\n",
      " 21.17207275 21.17037568 21.17118333 21.16383857 21.1777271 ]\n",
      "3.0319825025646556e-07\n",
      "[4.98492344e-01 2.08386404e-15 1.16530927e+00 1.16509181e+00\n",
      " 1.16659398e+00]\n",
      "Iteration no.62\n"
     ]
    },
    {
     "data": {
      "application/vnd.jupyter.widget-view+json": {
       "model_id": "dc5131edb09b42aab55fa540d492a4d5",
       "version_major": 2,
       "version_minor": 0
      },
      "text/plain": [
       "HBox(children=(IntProgress(value=0, max=36500), HTML(value='')))"
      ]
     },
     "metadata": {},
     "output_type": "display_data"
    },
    {
     "name": "stdout",
     "output_type": "stream",
     "text": [
      "[21.16373134 21.17378052 21.15640611 21.16917685 21.17213697 21.16244757\n",
      " 21.16501542 21.16333008 21.16413261 21.15683195 21.17063739]\n",
      "3.060189531237804e-07\n",
      "[4.98481710e-01 2.08392955e-15 1.16531164e+00 1.16509255e+00\n",
      " 1.16660673e+00]\n",
      "Iteration no.63\n"
     ]
    },
    {
     "data": {
      "application/vnd.jupyter.widget-view+json": {
       "model_id": "6f0b0ed1afa440d69ed14d17bc57e7e0",
       "version_major": 2,
       "version_minor": 0
      },
      "text/plain": [
       "HBox(children=(IntProgress(value=0, max=36500), HTML(value='')))"
      ]
     },
     "metadata": {},
     "output_type": "display_data"
    },
    {
     "name": "stdout",
     "output_type": "stream",
     "text": [
      "[21.15666374 21.16619291 21.14985796 21.16094083 21.16623494 21.15537595\n",
      " 21.15795184 21.15626137 21.15706613 21.14974646 21.16358768]\n",
      "1.6009370948361238e-09\n",
      "[4.98481658e-01 2.08393016e-15 1.16531165e+00 1.16509256e+00\n",
      " 1.16660680e+00]\n",
      "Iteration no.64\n"
     ]
    },
    {
     "data": {
      "application/vnd.jupyter.widget-view+json": {
       "model_id": "b5024994b3d1485f9f42348baaf12a4d",
       "version_major": 2,
       "version_minor": 0
      },
      "text/plain": [
       "HBox(children=(IntProgress(value=0, max=36500), HTML(value='')))"
      ]
     },
     "metadata": {},
     "output_type": "display_data"
    },
    {
     "name": "stdout",
     "output_type": "stream",
     "text": [
      "[21.15662677 21.16615736 21.14981957 21.16090707 21.16619472 21.15533899\n",
      " 21.15791486 21.1562244  21.15702915 21.14970956 21.16355064]\n",
      "5.94912168780915e-07\n",
      "[4.98462219e-01 2.08415766e-15 1.16531628e+00 1.16509400e+00\n",
      " 1.16663166e+00]\n",
      "Iteration no.65\n"
     ]
    },
    {
     "data": {
      "application/vnd.jupyter.widget-view+json": {
       "model_id": "30b6423ad78c484f9f150201a971ffb5",
       "version_major": 2,
       "version_minor": 0
      },
      "text/plain": [
       "HBox(children=(IntProgress(value=0, max=36500), HTML(value='')))"
      ]
     },
     "metadata": {},
     "output_type": "display_data"
    },
    {
     "name": "stdout",
     "output_type": "stream",
     "text": [
      "[21.14294448 21.15299791 21.13561374 21.14840825 21.15131483 21.14166227\n",
      " 21.14422701 21.14254368 21.1433453  21.1360528  21.14984282]\n",
      "5.988475018190599e-07\n",
      "[4.98441398e-01 2.08428355e-15 1.16532092e+00 1.16509545e+00\n",
      " 1.16665659e+00]\n",
      "Iteration no.66\n"
     ]
    },
    {
     "data": {
      "application/vnd.jupyter.widget-view+json": {
       "model_id": "63487c16009f44b1b23c7dae8d24c7c5",
       "version_major": 2,
       "version_minor": 0
      },
      "text/plain": [
       "HBox(children=(IntProgress(value=0, max=36500), HTML(value='')))"
      ]
     },
     "metadata": {},
     "output_type": "display_data"
    },
    {
     "name": "stdout",
     "output_type": "stream",
     "text": [
      "[21.12923567 21.13823812 21.12295482 21.13233878 21.13996133 21.12794529\n",
      " 21.13052637 21.12883261 21.12963876 21.12230767 21.13617034]\n",
      "5.038577024471697e-09\n",
      "[4.98441244e-01 2.08428632e-15 1.16532096e+00 1.16509546e+00\n",
      " 1.16665680e+00]\n",
      "Iteration no.67\n"
     ]
    },
    {
     "data": {
      "application/vnd.jupyter.widget-view+json": {
       "model_id": "cdadb58b08ee4c91b8e652250dab2e39",
       "version_major": 2,
       "version_minor": 0
      },
      "text/plain": [
       "HBox(children=(IntProgress(value=0, max=36500), HTML(value='')))"
      ]
     },
     "metadata": {},
     "output_type": "display_data"
    },
    {
     "name": "stdout",
     "output_type": "stream",
     "text": [
      "[21.12911547 21.13813538 21.12281715 21.13225796 21.13980155 21.12782525\n",
      " 21.130406   21.12871245 21.12951851 21.1221882  21.13604941]\n",
      "3.0039649415605757e-07\n",
      "[4.98432041e-01 2.08445021e-15 1.16532330e+00 1.16509619e+00\n",
      " 1.16666937e+00]\n",
      "Iteration no.68\n"
     ]
    },
    {
     "data": {
      "application/vnd.jupyter.widget-view+json": {
       "model_id": "8ac8110b17e34c6aa785412cac38a0d9",
       "version_major": 2,
       "version_minor": 0
      },
      "text/plain": [
       "HBox(children=(IntProgress(value=0, max=36500), HTML(value='')))"
      ]
     },
     "metadata": {},
     "output_type": "display_data"
    },
    {
     "name": "stdout",
     "output_type": "stream",
     "text": [
      "[21.12215007 21.13218439 21.11483716 21.12757955 21.13053783 21.12086921\n",
      " 21.12343125 21.12174967 21.1225505  21.1152652  21.12904161]\n",
      "3.031407511741271e-07\n",
      "[4.98421523e-01 2.08451507e-15 1.16532564e+00 1.16509693e+00\n",
      " 1.16668198e+00]\n",
      "Iteration no.69\n"
     ]
    },
    {
     "data": {
      "application/vnd.jupyter.widget-view+json": {
       "model_id": "bf5daa1705f24100bd4d11b15b3c166b",
       "version_major": 2,
       "version_minor": 0
      },
      "text/plain": [
       "HBox(children=(IntProgress(value=0, max=36500), HTML(value='')))"
      ]
     },
     "metadata": {},
     "output_type": "display_data"
    },
    {
     "name": "stdout",
     "output_type": "stream",
     "text": [
      "[21.11517235 21.12469298 21.10837257 21.11944849 21.12471063 21.11388751\n",
      " 21.1164575  21.11477084 21.11557387 21.1082698  21.12208156]\n",
      "1.665250024823731e-09\n",
      "[4.98421469e-01 2.08451570e-15 1.16532565e+00 1.16509693e+00\n",
      " 1.16668205e+00]\n",
      "Iteration no.70\n"
     ]
    },
    {
     "data": {
      "application/vnd.jupyter.widget-view+json": {
       "model_id": "6c91d65f342a45aea1f6ffbad59576b8",
       "version_major": 2,
       "version_minor": 0
      },
      "text/plain": [
       "HBox(children=(IntProgress(value=0, max=36500), HTML(value='')))"
      ]
     },
     "metadata": {},
     "output_type": "display_data"
    },
    {
     "name": "stdout",
     "output_type": "stream",
     "text": [
      "[21.11513403 21.12465608 21.10833283 21.11941339 21.12466906 21.11384921\n",
      " 21.11641917 21.11473253 21.11553555 21.10823155 21.12204317]\n",
      "6.105455937152058e-07\n",
      "[4.98401537e-01 2.08474777e-15 1.16533039e+00 1.16509841e+00\n",
      " 1.16670750e+00]\n",
      "Iteration no.71\n"
     ]
    },
    {
     "data": {
      "application/vnd.jupyter.widget-view+json": {
       "model_id": "7f30e4572e664995a1cd3a54e99b1e73",
       "version_major": 2,
       "version_minor": 0
      },
      "text/plain": [
       "HBox(children=(IntProgress(value=0, max=36500), HTML(value='')))"
      ]
     },
     "metadata": {},
     "output_type": "display_data"
    },
    {
     "name": "stdout",
     "output_type": "stream",
     "text": [
      "[21.10114037 21.11117911 21.09382176 21.10658863 21.10949216 21.09986109\n",
      " 21.10241998 21.10074043 21.10154034 21.09426331 21.1080241 ]\n",
      "6.147838082916954e-07\n",
      "[4.98380195e-01 2.08487686e-15 1.16533514e+00 1.16509990e+00\n",
      " 1.16673304e+00]\n",
      "Iteration no.72\n"
     ]
    },
    {
     "data": {
      "application/vnd.jupyter.widget-view+json": {
       "model_id": "220bf9161247475da197eeeba5a48645",
       "version_major": 2,
       "version_minor": 0
      },
      "text/plain": [
       "HBox(children=(IntProgress(value=0, max=36500), HTML(value='')))"
      ]
     },
     "metadata": {},
     "output_type": "display_data"
    },
    {
     "name": "stdout",
     "output_type": "stream",
     "text": [
      "[21.08712064 21.09608259 21.08087769 21.09015214 21.09788371 21.08583299\n",
      " 21.08840861 21.08671838 21.08752292 21.08020635 21.09404159]\n",
      "5.146688393835531e-09\n",
      "[4.98380038e-01 2.08487974e-15 1.16533518e+00 1.16509991e+00\n",
      " 1.16673326e+00]\n",
      "Iteration no.73\n"
     ]
    },
    {
     "data": {
      "application/vnd.jupyter.widget-view+json": {
       "model_id": "82bd8c45a32f4a9882d38979291b0ceb",
       "version_major": 2,
       "version_minor": 0
      },
      "text/plain": [
       "HBox(children=(IntProgress(value=0, max=36500), HTML(value='')))"
      ]
     },
     "metadata": {},
     "output_type": "display_data"
    },
    {
     "name": "stdout",
     "output_type": "stream",
     "text": [
      "[21.08699794 21.09597834 21.08073653 21.09007101 21.09771923 21.08571046\n",
      " 21.08828574 21.08659573 21.08740018 21.08008442 21.09391812]\n",
      "2.975057095752218e-07\n",
      "[4.98370969e-01 2.08504430e-15 1.16533749e+00 1.16510063e+00\n",
      " 1.16674568e+00]\n",
      "Iteration no.74\n"
     ]
    },
    {
     "data": {
      "application/vnd.jupyter.widget-view+json": {
       "model_id": "7eb5aacc099b4b21a5044f2286323ac3",
       "version_major": 2,
       "version_minor": 0
      },
      "text/plain": [
       "HBox(children=(IntProgress(value=0, max=36500), HTML(value='')))"
      ]
     },
     "metadata": {},
     "output_type": "display_data"
    },
    {
     "name": "stdout",
     "output_type": "stream",
     "text": [
      "[21.08011644 21.09013557 21.07281613 21.08552946 21.0884864  21.07883852\n",
      " 21.08139468 21.0797169  21.08051601 21.07324625 21.08699329]\n",
      "3.0020498413794877e-07\n",
      "[4.98360570e-01 2.08510850e-15 1.16533981e+00 1.16510136e+00\n",
      " 1.16675814e+00]\n",
      "Iteration no.75\n"
     ]
    },
    {
     "data": {
      "application/vnd.jupyter.widget-view+json": {
       "model_id": "cd3d5b02768a483585e206b4507a07b9",
       "version_major": 2,
       "version_minor": 0
      },
      "text/plain": [
       "HBox(children=(IntProgress(value=0, max=36500), HTML(value='')))"
      ]
     },
     "metadata": {},
     "output_type": "display_data"
    },
    {
     "name": "stdout",
     "output_type": "stream",
     "text": [
      "[21.07322974 21.08274177 21.06643599 21.07750509 21.0827346  21.0719479\n",
      " 21.0745119  21.07282911 21.0736304  21.06634211 21.08012403]\n",
      "1.800684593016246e-09\n",
      "[4.98360512e-01 2.08510918e-15 1.16533982e+00 1.16510136e+00\n",
      " 1.16675822e+00]\n",
      "Iteration no.76\n"
     ]
    },
    {
     "data": {
      "application/vnd.jupyter.widget-view+json": {
       "model_id": "d44088182da04666afaad1978a1c74a7",
       "version_major": 2,
       "version_minor": 0
      },
      "text/plain": [
       "HBox(children=(IntProgress(value=0, max=36500), HTML(value='')))"
      ]
     },
     "metadata": {},
     "output_type": "display_data"
    },
    {
     "name": "stdout",
     "output_type": "stream",
     "text": [
      "[21.07318846 21.08270197 21.06639323 21.07746715 21.08268993 21.07190663\n",
      " 21.0744706  21.07278783 21.07358911 21.0663009  21.08008268]\n",
      "6.277027191633558e-07\n",
      "[4.98340038e-01 2.08534627e-15 1.16534468e+00 1.16510288e+00\n",
      " 1.16678433e+00]\n",
      "Iteration no.77\n"
     ]
    },
    {
     "data": {
      "application/vnd.jupyter.widget-view+json": {
       "model_id": "f9dcf8700cba46dea9227e83ff7f3c47",
       "version_major": 2,
       "version_minor": 0
      },
      "text/plain": [
       "HBox(children=(IntProgress(value=0, max=36500), HTML(value='')))"
      ]
     },
     "metadata": {},
     "output_type": "display_data"
    },
    {
     "name": "stdout",
     "output_type": "stream",
     "text": [
      "[21.05885162 21.06887535 21.05154541 21.06428396 21.06718486 21.0575753\n",
      " 21.06012826 21.05845254 21.05925073 21.05198935 21.06572055]\n",
      "6.324351096852129e-07\n",
      "[4.98318117e-01 2.08547896e-15 1.16534956e+00 1.16510440e+00\n",
      " 1.16681055e+00]\n",
      "Iteration no.78\n"
     ]
    },
    {
     "data": {
      "application/vnd.jupyter.widget-view+json": {
       "model_id": "bd6f4463749d4b168a4ff7dcc4529ada",
       "version_major": 2,
       "version_minor": 0
      },
      "text/plain": [
       "HBox(children=(IntProgress(value=0, max=36500), HTML(value='')))"
      ]
     },
     "metadata": {},
     "output_type": "display_data"
    },
    {
     "name": "stdout",
     "output_type": "stream",
     "text": [
      "[21.04448593 21.05340454 21.03828368 21.04743987 21.05529195 21.04320102\n",
      " 21.04577115 21.04408447 21.04488741 21.03758546 21.05139305]\n",
      "5.199336499500831e-09\n",
      "[4.98317960e-01 2.08548191e-15 1.16534960e+00 1.16510441e+00\n",
      " 1.16681076e+00]\n",
      "Iteration no.79\n"
     ]
    },
    {
     "data": {
      "application/vnd.jupyter.widget-view+json": {
       "model_id": "90eb7d08192a4d279284e5156f55b035",
       "version_major": 2,
       "version_minor": 0
      },
      "text/plain": [
       "HBox(children=(IntProgress(value=0, max=36500), HTML(value='')))"
      ]
     },
     "metadata": {},
     "output_type": "display_data"
    },
    {
     "name": "stdout",
     "output_type": "stream",
     "text": [
      "[21.04436201 21.05329995 21.03814044 21.04735946 21.05512433 21.04307728\n",
      " 21.04564706 21.04396061 21.04476344 21.03746235 21.05126833]\n",
      "2.945193686460426e-07\n",
      "[4.98309031e-01 2.08564730e-15 1.16535188e+00 1.16510513e+00\n",
      " 1.16682304e+00]\n",
      "Iteration no.80\n"
     ]
    },
    {
     "data": {
      "application/vnd.jupyter.widget-view+json": {
       "model_id": "1a1bf7fe90e74a22931d1013f90132f4",
       "version_major": 2,
       "version_minor": 0
      },
      "text/plain": [
       "HBox(children=(IntProgress(value=0, max=36500), HTML(value='')))"
      ]
     },
     "metadata": {},
     "output_type": "display_data"
    },
    {
     "name": "stdout",
     "output_type": "stream",
     "text": [
      "[21.03756548 21.04756926 21.0302779  21.04296198 21.04591727 21.03629053\n",
      " 21.03884073 21.0371668  21.03796417 21.03071017 21.04442743]\n",
      "2.971496996560384e-07\n",
      "[4.98298754e-01 2.08571081e-15 1.16535417e+00 1.16510584e+00\n",
      " 1.16683534e+00]\n",
      "Iteration no.81\n"
     ]
    },
    {
     "data": {
      "application/vnd.jupyter.widget-view+json": {
       "model_id": "21821623ff82424eb3371be31c02afbc",
       "version_major": 2,
       "version_minor": 0
      },
      "text/plain": [
       "HBox(children=(IntProgress(value=0, max=36500), HTML(value='')))"
      ]
     },
     "metadata": {},
     "output_type": "display_data"
    },
    {
     "name": "stdout",
     "output_type": "stream",
     "text": [
      "[21.03077236 21.04027572 21.02398467 21.03504707 21.04024322 21.02949355\n",
      " 21.03205149 21.03037262 21.03117213 21.02389985 21.03765153]\n",
      "1.901704287212983e-09\n",
      "[4.98298692e-01 2.08571153e-15 1.16535418e+00 1.16510585e+00\n",
      " 1.16683542e+00]\n",
      "Iteration no.82\n"
     ]
    },
    {
     "data": {
      "application/vnd.jupyter.widget-view+json": {
       "model_id": "572c4d4829944b5cb5e759a6d5e1a940",
       "version_major": 2,
       "version_minor": 0
      },
      "text/plain": [
       "HBox(children=(IntProgress(value=0, max=36500), HTML(value='')))"
      ]
     },
     "metadata": {},
     "output_type": "display_data"
    },
    {
     "name": "stdout",
     "output_type": "stream",
     "text": [
      "[21.03072893 21.04023378 21.02393974 21.03500702 21.04019635 21.02945013\n",
      " 21.03200804 21.03032919 21.03112869 21.02385649 21.03760801]\n",
      "6.466610950578718e-07\n",
      "[4.98277619e-01 2.08595422e-15 1.16535918e+00 1.16510741e+00\n",
      " 1.16686227e+00]\n",
      "Iteration no.83\n"
     ]
    },
    {
     "data": {
      "application/vnd.jupyter.widget-view+json": {
       "model_id": "771b169428c8456e8f543eb8280def9e",
       "version_major": 2,
       "version_minor": 0
      },
      "text/plain": [
       "HBox(children=(IntProgress(value=0, max=36500), HTML(value='')))"
      ]
     },
     "metadata": {},
     "output_type": "display_data"
    },
    {
     "name": "stdout",
     "output_type": "stream",
     "text": [
      "[21.01601127 21.02601985 21.00871758 21.02142771 21.02432551 21.01473795\n",
      " 21.01728491 21.01561307 21.0164095  21.00916402 21.02286518]\n",
      "6.518569727304047e-07\n",
      "[4.98255062e-01 2.08609083e-15 1.16536419e+00 1.16510898e+00\n",
      " 1.16688923e+00]\n",
      "Iteration no.84\n"
     ]
    },
    {
     "data": {
      "application/vnd.jupyter.widget-view+json": {
       "model_id": "b96259e741b84a938233cf4e83f8ffae",
       "version_major": 2,
       "version_minor": 0
      },
      "text/plain": [
       "HBox(children=(IntProgress(value=0, max=36500), HTML(value='')))"
      ]
     },
     "metadata": {},
     "output_type": "display_data"
    },
    {
     "name": "stdout",
     "output_type": "stream",
     "text": [
      "[21.00126407 21.010136   20.99510584 21.00413341 21.01211965 20.99998193\n",
      " 21.00254654 21.00086343 21.00166474 20.99437754 21.00815726]\n",
      "5.3044504509729195e-09\n",
      "[4.98254902e-01 2.08609389e-15 1.16536423e+00 1.16510899e+00\n",
      " 1.16688945e+00]\n",
      "Iteration no.85\n"
     ]
    },
    {
     "data": {
      "application/vnd.jupyter.widget-view+json": {
       "model_id": "71b5748b3a3847218d2f5cb5c38fd76b",
       "version_major": 2,
       "version_minor": 0
      },
      "text/plain": [
       "HBox(children=(IntProgress(value=0, max=36500), HTML(value='')))"
      ]
     },
     "metadata": {},
     "output_type": "display_data"
    },
    {
     "name": "stdout",
     "output_type": "stream",
     "text": [
      "[21.00113764 21.01003006 20.99495892 21.00405307 21.01194691 20.99985568\n",
      " 21.00241992 21.00073705 21.00153826 20.99425196 21.00802998]\n",
      "2.914423463537174e-07\n",
      "[4.98246118e-01 2.08626028e-15 1.16536649e+00 1.16510969e+00\n",
      " 1.16690157e+00]\n",
      "Iteration no.86\n"
     ]
    },
    {
     "data": {
      "application/vnd.jupyter.widget-view+json": {
       "model_id": "f8caf5ab1a544a36bf58374d472daa22",
       "version_major": 2,
       "version_minor": 0
      },
      "text/plain": [
       "HBox(children=(IntProgress(value=0, max=36500), HTML(value='')))"
      ]
     },
     "metadata": {},
     "output_type": "display_data"
    },
    {
     "name": "stdout",
     "output_type": "stream",
     "text": [
      "[20.9944269  21.004415   20.98715235 20.99980652 21.00276044 20.99315499\n",
      " 20.99569913 20.99402911 20.99482471 20.98758671 21.00127374]\n",
      "2.9401909680022833e-07\n",
      "[4.98235966e-01 2.08632309e-15 1.16536874e+00 1.16511040e+00\n",
      " 1.16691372e+00]\n",
      "Iteration no.87\n"
     ]
    },
    {
     "data": {
      "application/vnd.jupyter.widget-view+json": {
       "model_id": "eb96e7602d5940c7aa2053641ce24da2",
       "version_major": 2,
       "version_minor": 0
      },
      "text/plain": [
       "HBox(children=(IntProgress(value=0, max=36500), HTML(value='')))"
      ]
     },
     "metadata": {},
     "output_type": "display_data"
    },
    {
     "name": "stdout",
     "output_type": "stream",
     "text": [
      "[20.98772895 20.99722353 20.98094739 20.99200313 20.99716523 20.98645322\n",
      " 20.989005   20.98733011 20.98812782 20.9808718  20.99459275]\n",
      "2.0475975005450552e-09\n",
      "[4.98235900e-01 2.08632385e-15 1.16536876e+00 1.16511041e+00\n",
      " 1.16691381e+00]\n",
      "Iteration no.88\n"
     ]
    },
    {
     "data": {
      "application/vnd.jupyter.widget-view+json": {
       "model_id": "886a3975b7e348a18690f38080985938",
       "version_major": 2,
       "version_minor": 0
      },
      "text/plain": [
       "HBox(children=(IntProgress(value=0, max=36500), HTML(value='')))"
      ]
     },
     "metadata": {},
     "output_type": "display_data"
    },
    {
     "name": "stdout",
     "output_type": "stream",
     "text": [
      "[20.98768236 20.99717848 20.98089925 20.99196002 20.99711511 20.98640664\n",
      " 20.98895839 20.98728352 20.98808122 20.98082528 20.99454608]\n",
      "6.676698299374981e-07\n",
      "[4.98214162e-01 2.08657278e-15 1.16537390e+00 1.16511201e+00\n",
      " 1.16694146e+00]\n",
      "Iteration no.89\n"
     ]
    },
    {
     "data": {
      "application/vnd.jupyter.widget-view+json": {
       "model_id": "428248c836e2476ea0e3f3fce0016dab",
       "version_major": 2,
       "version_minor": 0
      },
      "text/plain": [
       "HBox(children=(IntProgress(value=0, max=36500), HTML(value='')))"
      ]
     },
     "metadata": {},
     "output_type": "display_data"
    },
    {
     "name": "stdout",
     "output_type": "stream",
     "text": [
      "[20.97254118 20.9825343  20.96526026 20.97794139 20.98083624 20.97127091\n",
      " 20.97381176 20.97214387 20.97293851 20.96570918 20.97937982]\n",
      "6.734865894204398e-07\n",
      "[4.98190894e-01 2.08671378e-15 1.16537907e+00 1.16511363e+00\n",
      " 1.16696926e+00]\n",
      "Iteration no.90\n"
     ]
    },
    {
     "data": {
      "application/vnd.jupyter.widget-view+json": {
       "model_id": "9275cfeb47514b329de1a2ef2d07388e",
       "version_major": 2,
       "version_minor": 0
      },
      "text/plain": [
       "HBox(children=(IntProgress(value=0, max=36500), HTML(value='')))"
      ]
     },
     "metadata": {},
     "output_type": "display_data"
    },
    {
     "name": "stdout",
     "output_type": "stream",
     "text": [
      "[20.95736788 20.9661893  20.95125743 20.9601446  20.96828051 20.95608851\n",
      " 20.95864756 20.95696805 20.95776773 20.95049539 20.96424701]\n",
      "5.386510941721878e-09\n",
      "[4.98190733e-01 2.08671695e-15 1.16537911e+00 1.16511364e+00\n",
      " 1.16696948e+00]\n",
      "Iteration no.91\n"
     ]
    },
    {
     "data": {
      "application/vnd.jupyter.widget-view+json": {
       "model_id": "c599b780330b434886e3c3f3b001fa41",
       "version_major": 2,
       "version_minor": 0
      },
      "text/plain": [
       "HBox(children=(IntProgress(value=0, max=36500), HTML(value='')))"
      ]
     },
     "metadata": {},
     "output_type": "display_data"
    },
    {
     "name": "stdout",
     "output_type": "stream",
     "text": [
      "[20.95723941 20.96608252 20.95110728 20.96006486 20.96810308 20.95596024\n",
      " 20.95851889 20.95683964 20.95763921 20.95036782 20.96411764]\n",
      "2.8827689697503297e-07\n",
      "[4.98182099e-01 2.08688453e-15 1.16538134e+00 1.16511434e+00\n",
      " 1.16698145e+00]\n",
      "Iteration no.92\n"
     ]
    },
    {
     "data": {
      "application/vnd.jupyter.widget-view+json": {
       "model_id": "29682ba20d5d408a802e86e3363d1820",
       "version_major": 2,
       "version_minor": 0
      },
      "text/plain": [
       "HBox(children=(IntProgress(value=0, max=36500), HTML(value='')))"
      ]
     },
     "metadata": {},
     "output_type": "display_data"
    },
    {
     "name": "stdout",
     "output_type": "stream",
     "text": [
      "[20.95061498 20.96058715 20.94335365 20.95597754 20.95892989 20.94934614\n",
      " 20.95188413 20.95021809 20.95101189 20.94379016 20.95744643]\n",
      "2.9078409287096463e-07\n",
      "[4.98172077e-01 2.08694662e-15 1.16538357e+00 1.16511503e+00\n",
      " 1.16699344e+00]\n",
      "Iteration no.93\n"
     ]
    },
    {
     "data": {
      "application/vnd.jupyter.widget-view+json": {
       "model_id": "01d2785d57674beaade4d0fb62626fa7",
       "version_major": 2,
       "version_minor": 0
      },
      "text/plain": [
       "HBox(children=(IntProgress(value=0, max=36500), HTML(value='')))"
      ]
     },
     "metadata": {},
     "output_type": "display_data"
    },
    {
     "name": "stdout",
     "output_type": "stream",
     "text": [
      "[20.94401442 20.95350009 20.93723908 20.94828815 20.95341553 20.94274182\n",
      " 20.94528734 20.94361649 20.94441238 20.93717289 20.95086259]\n",
      "2.1745342579351834e-09\n",
      "[4.98172006e-01 2.08694743e-15 1.16538358e+00 1.16511504e+00\n",
      " 1.16699353e+00]\n",
      "Iteration no.94\n"
     ]
    },
    {
     "data": {
      "application/vnd.jupyter.widget-view+json": {
       "model_id": "16ac4fc487f947fc9241cfec57c909e5",
       "version_major": 2,
       "version_minor": 0
      },
      "text/plain": [
       "HBox(children=(IntProgress(value=0, max=36500), HTML(value='')))"
      ]
     },
     "metadata": {},
     "output_type": "display_data"
    },
    {
     "name": "stdout",
     "output_type": "stream",
     "text": [
      "[20.94396513 20.95345236 20.93718822 20.94824238 20.95336266 20.94269255\n",
      " 20.94523803 20.94356721 20.94436308 20.93712368 20.95081322]\n",
      "6.910726794885869e-07\n",
      "[4.98149526e-01 2.08720333e-15 1.16538889e+00 1.16511670e+00\n",
      " 1.16702209e+00]\n",
      "Iteration no.95\n"
     ]
    },
    {
     "data": {
      "application/vnd.jupyter.widget-view+json": {
       "model_id": "1cf3ebb5312a4cffb43fd6084e783604",
       "version_major": 2,
       "version_minor": 0
      },
      "text/plain": [
       "HBox(children=(IntProgress(value=0, max=36500), HTML(value='')))"
      ]
     },
     "metadata": {},
     "output_type": "display_data"
    },
    {
     "name": "stdout",
     "output_type": "stream",
     "text": [
      "[20.92835065 20.93832807 20.9210827  20.93373453 20.93662604 20.92708349\n",
      " 20.92961812 20.92795425 20.92874707 20.92153419 20.93517375]\n",
      "6.975370833381843e-07\n",
      "[4.98125468e-01 2.08734920e-15 1.16539423e+00 1.16511837e+00\n",
      " 1.16705081e+00]\n",
      "Iteration no.96\n"
     ]
    },
    {
     "data": {
      "application/vnd.jupyter.widget-view+json": {
       "model_id": "249965a3faa84fdbb423321ac5d99cfa",
       "version_major": 2,
       "version_minor": 0
      },
      "text/plain": [
       "HBox(children=(IntProgress(value=0, max=36500), HTML(value='')))"
      ]
     },
     "metadata": {},
     "output_type": "display_data"
    },
    {
     "name": "stdout",
     "output_type": "stream",
     "text": [
      "[20.9127029  20.92146937 20.90664465 20.91537761 20.92368137 20.91142634\n",
      " 20.91397978 20.9123039  20.91310193 20.9058446  20.91956784]\n",
      "5.510017632850723e-09\n",
      "[4.98125304e-01 2.08735251e-15 1.16539427e+00 1.16511838e+00\n",
      " 1.16705104e+00]\n",
      "Iteration no.97\n"
     ]
    },
    {
     "data": {
      "application/vnd.jupyter.widget-view+json": {
       "model_id": "c689575b4cad423696b0a7abe47e85af",
       "version_major": 2,
       "version_minor": 0
      },
      "text/plain": [
       "HBox(children=(IntProgress(value=0, max=36500), HTML(value='')))"
      ]
     },
     "metadata": {},
     "output_type": "display_data"
    },
    {
     "name": "stdout",
     "output_type": "stream",
     "text": [
      "[20.91257133 20.92136098 20.90648988 20.9152981  20.9234975  20.91129498\n",
      " 20.91384799 20.91217238 20.91297029 20.90571398 20.91943531]\n",
      "2.85025155822147e-07\n",
      "[4.98116827e-01 2.08752153e-15 1.16539647e+00 1.16511907e+00\n",
      " 1.16706284e+00]\n",
      "Iteration no.98\n"
     ]
    },
    {
     "data": {
      "application/vnd.jupyter.widget-view+json": {
       "model_id": "bb2ea781f5494129b2a9a9c57e0a26ea",
       "version_major": 2,
       "version_minor": 0
      },
      "text/plain": [
       "HBox(children=(IntProgress(value=0, max=36500), HTML(value='')))"
      ]
     },
     "metadata": {},
     "output_type": "display_data"
    },
    {
     "name": "stdout",
     "output_type": "stream",
     "text": [
      "[20.90603343 20.91598928 20.89878567 20.9113785  20.91432954 20.90476773\n",
      " 20.90729944 20.90563746 20.90642942 20.89922428 20.9128492 ]\n",
      "2.8747489653976607e-07\n",
      "[4.98106936e-01 2.08758288e-15 1.16539867e+00 1.16511976e+00\n",
      " 1.16707467e+00]\n",
      "Iteration no.99\n"
     ]
    },
    {
     "data": {
      "application/vnd.jupyter.widget-view+json": {
       "model_id": "cc10e9d3ee754651b4f290913e51ab48",
       "version_major": 2,
       "version_minor": 0
      },
      "text/plain": [
       "HBox(children=(IntProgress(value=0, max=36500), HTML(value='')))"
      ]
     },
     "metadata": {},
     "output_type": "display_data"
    }
   ],
   "source": [
    "#labels=[['eqparam','c_ao'],['func1','a'],['func1','b'],['func2','factor_oc'],['func2','factor_kwv'],['func2','factor_kair']]\n",
    "labels=[['func1','m'],['func1','gamma'],['func2','factor_oc'],['func2','factor_kwv'],['func2','factor_kair']]\n",
    "#labels=[['func1','a'],['func1','b']]\n",
    "P0=np.array([0.5,1.9e-15,1.165,1.165,1.165])\n",
    "Pmin=np.array([0.4,0.5e-15,0.9,0.9,0.9])\n",
    "Pmax=np.array([0.6,5e-15,1.3,1.3,1.3])\n",
    "\n",
    "\"\"\"labels=[['eqparam','c_ao'],['func1','a'],['func1','b'],['func2','factor_oc'],['func2','factor_kwv'],['func2','factor_kair']]\n",
    "P0=np.array([70*4.2e6,230,2.5,1.165,1.165,1.165])\n",
    "Pmin=np.array([1*4.2e6,190,1.9,0.9,0.9,0.9])\n",
    "Pmax=np.array([150*4.2e6,250,3.3,1.3,1.3,1.3])\"\"\"\n",
    "\n",
    "#labels=[['func3','f1'],['func3','f2'],['func3','f3'],['func3','f4'],['func3','f5'],['func3','f6'],['func3','f7'],['func3','f8'],['func3','f9'],['func3','f10'],\\\n",
    "#       ['func3','f11'],['func3','f12'],['func3','f13'],['func3','f14'],['func3','f15'],['func3','f16'],['func3','f17'],['func3','f18']]\n",
    "#P0=np.zeros(18)\n",
    "#Pmax=np.full(18,50)\n",
    "#Pmin=np.full(18,-50)\n",
    "P_pert_ratio=1/10000\n",
    "precision=1e-5\n",
    "maxlength=int(100)\n",
    "targetmode='ZMT'\n",
    "target=ZMT_10\n",
    "targetfunction='LeastSquare'\n",
    "num_params=5\n",
    "gamma0=1e-7\n",
    "ratio_ZMT_GMT=0.5\n",
    "setup={'number_of_parameters': num_params, 'number_of_cycles': 1, 'number_of_parallels': num_params*2+1}\n",
    "\n",
    "config_base=importer('Dev_Data/Optimization/Volcanic_Sellers_CTRL.ini')\n",
    "variable_importer(config_base,parallel=True,parallel_config=setup)\n",
    "#print(config_base)\n",
    "config_base,ParasCTRL=add_sellersparameters(config_base,\\\n",
    "                                    parameterinterpolatorstepwise,'SellersParameterization.ini',2,0,True,True)\n",
    "\n",
    "elevation=-0.0065*np.array(ParasCTRL[1][1])\n",
    "Zero_ZMT,Zero_GMT=Vars.T,Vars.T_global\n",
    "grid=Vars.Lat\n",
    "control=False\n",
    "controlconfig=0\n",
    "#print(Vars.T)\n",
    "#config,P0,P_pert,labels,maxlength,target,function,precision,num_paras,gamma0):\n",
    "#builtins.number_of_integration=100\n",
    "F, dF, P, Ptrans, gamma, data=coremodule(config_base,P0,P_pert_ratio,Pmin,Pmax,labels,Zero_ZMT,Zero_GMT,grid,\\\n",
    "            maxlength,targetmode,target,targetfunction,ratio_ZMT_GMT,elevation,precision,num_params,gamma0,control,controlconfig)"
   ]
  },
  {
   "cell_type": "code",
   "execution_count": 56,
   "metadata": {},
   "outputs": [
    {
     "name": "stderr",
     "output_type": "stream",
     "text": [
      "The PostScript backend does not support transparency; partially transparent artists will be rendered opaque.\n",
      "The PostScript backend does not support transparency; partially transparent artists will be rendered opaque.\n",
      "The PostScript backend does not support transparency; partially transparent artists will be rendered opaque.\n",
      "The PostScript backend does not support transparency; partially transparent artists will be rendered opaque.\n",
      "The PostScript backend does not support transparency; partially transparent artists will be rendered opaque.\n",
      "The PostScript backend does not support transparency; partially transparent artists will be rendered opaque.\n",
      "The PostScript backend does not support transparency; partially transparent artists will be rendered opaque.\n",
      "The PostScript backend does not support transparency; partially transparent artists will be rendered opaque.\n"
     ]
    },
    {
     "data": {
      "image/png": "[encoded data removed]",
      "text/plain": [
       "<Figure size 684x504 with 1 Axes>"
      ]
     },
     "metadata": {
      "needs_background": "light"
     },
     "output_type": "display_data"
    }
   ],
   "source": [
    "plt.figure(figsize=(9.5,7))\n",
    "colors=['#4e79a7','#f28e2b','#e15759','#76b7b2']\n",
    "j=0\n",
    "for i in [0,1,5,10]:\n",
    "    plt.plot(Vars.Lat,data[i][0],label=i,c=colors[j],linewidth=1.7)\n",
    "    j+=1\n",
    "plt.legend(fontsize=17,ncol=4,columnspacing=1,handlelength=2.5,loc='lower right')\n",
    "#plt.plot(Vars.Lat,data[7][0])\n",
    "line2=plt.plot(Lat_10,ZMT_10,c='k',linewidth=1.7,label='ERA-Target ZMT')\n",
    "plt.xticks(np.linspace(-90,90,7)), plt.xlim(-90,90)\n",
    "\n",
    "plt.xlabel('$Latitudes\\;[°]$'),plt.ylabel('$T_{zonal mean}$ [K]')\n",
    "plt.figlegend((line2),['ERA-Target ZMT'],fontsize=17,bbox_to_anchor=(0.88,0.28))\n",
    "plt.title('ZMT parameter optimization')\n",
    "#plt.xlim(1808,1858)\n",
    "plt.savefig('Data/ZMT_Optimization_Sellers.eps',format='EPS',bbox_inches='tight')"
   ]
  },
  {
   "cell_type": "code",
   "execution_count": 62,
   "metadata": {},
   "outputs": [
    {
     "name": "stdout",
     "output_type": "stream",
     "text": [
      "[233.09009959 246.36990456 263.11344375 274.51305497 282.41968221\n",
      " 288.55264889 293.70951581 296.98019182 297.95165858 298.47074786\n",
      " 298.21671032 294.12617231 287.73587446 280.69268811 274.31756221\n",
      " 268.17909919 261.60364255 257.76262812]\n"
     ]
    }
   ],
   "source": [
    "print(data[-1][1])"
   ]
  },
  {
   "cell_type": "code",
   "execution_count": 9,
   "metadata": {},
   "outputs": [
    {
     "ename": "ValueError",
     "evalue": "x and y must have same first dimension, but have shapes (1,) and (100, 11, 18)",
     "output_type": "error",
     "traceback": [
      "\u001b[0;31m---------------------------------------------------------------------------\u001b[0m",
      "\u001b[0;31mValueError\u001b[0m                                Traceback (most recent call last)",
      "\u001b[0;32m<ipython-input-9-cc0ef033760e>\u001b[0m in \u001b[0;36m<module>\u001b[0;34m\u001b[0m\n\u001b[1;32m      5\u001b[0m \u001b[0;31m#plt.plot(Lat_10,ZMT_10)\u001b[0m\u001b[0;34m\u001b[0m\u001b[0;34m\u001b[0m\u001b[0;34m\u001b[0m\u001b[0m\n\u001b[1;32m      6\u001b[0m \u001b[0;32mfor\u001b[0m \u001b[0mi\u001b[0m \u001b[0;32min\u001b[0m \u001b[0;34m[\u001b[0m\u001b[0;36m0\u001b[0m\u001b[0;34m,\u001b[0m\u001b[0;36m1\u001b[0m\u001b[0;34m,\u001b[0m\u001b[0;36m10\u001b[0m\u001b[0;34m,\u001b[0m\u001b[0;36m99\u001b[0m\u001b[0;34m]\u001b[0m\u001b[0;34m:\u001b[0m\u001b[0;34m\u001b[0m\u001b[0;34m\u001b[0m\u001b[0m\n\u001b[0;32m----> 7\u001b[0;31m     \u001b[0max\u001b[0m\u001b[0;34m[\u001b[0m\u001b[0;36m0\u001b[0m\u001b[0;34m]\u001b[0m\u001b[0;34m.\u001b[0m\u001b[0mplot\u001b[0m\u001b[0;34m(\u001b[0m\u001b[0mnp\u001b[0m\u001b[0;34m.\u001b[0m\u001b[0marange\u001b[0m\u001b[0;34m,\u001b[0m\u001b[0mdata\u001b[0m\u001b[0;34m-\u001b[0m\u001b[0mdata\u001b[0m\u001b[0;34m,\u001b[0m\u001b[0mlabel\u001b[0m\u001b[0;34m=\u001b[0m\u001b[0;34m'Optimized_GMT'\u001b[0m\u001b[0;34m)\u001b[0m\u001b[0;34m\u001b[0m\u001b[0;34m\u001b[0m\u001b[0m\n\u001b[0m\u001b[1;32m      8\u001b[0m     \u001b[0max\u001b[0m\u001b[0;34m[\u001b[0m\u001b[0;36m0\u001b[0m\u001b[0;34m]\u001b[0m\u001b[0;34m.\u001b[0m\u001b[0mlegend\u001b[0m\u001b[0;34m(\u001b[0m\u001b[0mloc\u001b[0m\u001b[0;34m=\u001b[0m\u001b[0;34m'lower right'\u001b[0m\u001b[0;34m)\u001b[0m\u001b[0;34m\u001b[0m\u001b[0;34m\u001b[0m\u001b[0m\n\u001b[1;32m      9\u001b[0m \u001b[0;34m\u001b[0m\u001b[0m\n",
      "\u001b[0;32m~/.local/lib/python3.6/site-packages/matplotlib/axes/_axes.py\u001b[0m in \u001b[0;36mplot\u001b[0;34m(self, scalex, scaley, data, *args, **kwargs)\u001b[0m\n\u001b[1;32m   1664\u001b[0m         \"\"\"\n\u001b[1;32m   1665\u001b[0m         \u001b[0mkwargs\u001b[0m \u001b[0;34m=\u001b[0m \u001b[0mcbook\u001b[0m\u001b[0;34m.\u001b[0m\u001b[0mnormalize_kwargs\u001b[0m\u001b[0;34m(\u001b[0m\u001b[0mkwargs\u001b[0m\u001b[0;34m,\u001b[0m \u001b[0mmlines\u001b[0m\u001b[0;34m.\u001b[0m\u001b[0mLine2D\u001b[0m\u001b[0;34m.\u001b[0m\u001b[0m_alias_map\u001b[0m\u001b[0;34m)\u001b[0m\u001b[0;34m\u001b[0m\u001b[0;34m\u001b[0m\u001b[0m\n\u001b[0;32m-> 1666\u001b[0;31m         \u001b[0mlines\u001b[0m \u001b[0;34m=\u001b[0m \u001b[0;34m[\u001b[0m\u001b[0;34m*\u001b[0m\u001b[0mself\u001b[0m\u001b[0;34m.\u001b[0m\u001b[0m_get_lines\u001b[0m\u001b[0;34m(\u001b[0m\u001b[0;34m*\u001b[0m\u001b[0margs\u001b[0m\u001b[0;34m,\u001b[0m \u001b[0mdata\u001b[0m\u001b[0;34m=\u001b[0m\u001b[0mdata\u001b[0m\u001b[0;34m,\u001b[0m \u001b[0;34m**\u001b[0m\u001b[0mkwargs\u001b[0m\u001b[0;34m)\u001b[0m\u001b[0;34m]\u001b[0m\u001b[0;34m\u001b[0m\u001b[0;34m\u001b[0m\u001b[0m\n\u001b[0m\u001b[1;32m   1667\u001b[0m         \u001b[0;32mfor\u001b[0m \u001b[0mline\u001b[0m \u001b[0;32min\u001b[0m \u001b[0mlines\u001b[0m\u001b[0;34m:\u001b[0m\u001b[0;34m\u001b[0m\u001b[0;34m\u001b[0m\u001b[0m\n\u001b[1;32m   1668\u001b[0m             \u001b[0mself\u001b[0m\u001b[0;34m.\u001b[0m\u001b[0madd_line\u001b[0m\u001b[0;34m(\u001b[0m\u001b[0mline\u001b[0m\u001b[0;34m)\u001b[0m\u001b[0;34m\u001b[0m\u001b[0;34m\u001b[0m\u001b[0m\n",
      "\u001b[0;32m~/.local/lib/python3.6/site-packages/matplotlib/axes/_base.py\u001b[0m in \u001b[0;36m__call__\u001b[0;34m(self, *args, **kwargs)\u001b[0m\n\u001b[1;32m    223\u001b[0m                 \u001b[0mthis\u001b[0m \u001b[0;34m+=\u001b[0m \u001b[0margs\u001b[0m\u001b[0;34m[\u001b[0m\u001b[0;36m0\u001b[0m\u001b[0;34m]\u001b[0m\u001b[0;34m,\u001b[0m\u001b[0;34m\u001b[0m\u001b[0;34m\u001b[0m\u001b[0m\n\u001b[1;32m    224\u001b[0m                 \u001b[0margs\u001b[0m \u001b[0;34m=\u001b[0m \u001b[0margs\u001b[0m\u001b[0;34m[\u001b[0m\u001b[0;36m1\u001b[0m\u001b[0;34m:\u001b[0m\u001b[0;34m]\u001b[0m\u001b[0;34m\u001b[0m\u001b[0;34m\u001b[0m\u001b[0m\n\u001b[0;32m--> 225\u001b[0;31m             \u001b[0;32myield\u001b[0m \u001b[0;32mfrom\u001b[0m \u001b[0mself\u001b[0m\u001b[0;34m.\u001b[0m\u001b[0m_plot_args\u001b[0m\u001b[0;34m(\u001b[0m\u001b[0mthis\u001b[0m\u001b[0;34m,\u001b[0m \u001b[0mkwargs\u001b[0m\u001b[0;34m)\u001b[0m\u001b[0;34m\u001b[0m\u001b[0;34m\u001b[0m\u001b[0m\n\u001b[0m\u001b[1;32m    226\u001b[0m \u001b[0;34m\u001b[0m\u001b[0m\n\u001b[1;32m    227\u001b[0m     \u001b[0;32mdef\u001b[0m \u001b[0mget_next_color\u001b[0m\u001b[0;34m(\u001b[0m\u001b[0mself\u001b[0m\u001b[0;34m)\u001b[0m\u001b[0;34m:\u001b[0m\u001b[0;34m\u001b[0m\u001b[0;34m\u001b[0m\u001b[0m\n",
      "\u001b[0;32m~/.local/lib/python3.6/site-packages/matplotlib/axes/_base.py\u001b[0m in \u001b[0;36m_plot_args\u001b[0;34m(self, tup, kwargs)\u001b[0m\n\u001b[1;32m    389\u001b[0m             \u001b[0mx\u001b[0m\u001b[0;34m,\u001b[0m \u001b[0my\u001b[0m \u001b[0;34m=\u001b[0m \u001b[0mindex_of\u001b[0m\u001b[0;34m(\u001b[0m\u001b[0mtup\u001b[0m\u001b[0;34m[\u001b[0m\u001b[0;34m-\u001b[0m\u001b[0;36m1\u001b[0m\u001b[0;34m]\u001b[0m\u001b[0;34m)\u001b[0m\u001b[0;34m\u001b[0m\u001b[0;34m\u001b[0m\u001b[0m\n\u001b[1;32m    390\u001b[0m \u001b[0;34m\u001b[0m\u001b[0m\n\u001b[0;32m--> 391\u001b[0;31m         \u001b[0mx\u001b[0m\u001b[0;34m,\u001b[0m \u001b[0my\u001b[0m \u001b[0;34m=\u001b[0m \u001b[0mself\u001b[0m\u001b[0;34m.\u001b[0m\u001b[0m_xy_from_xy\u001b[0m\u001b[0;34m(\u001b[0m\u001b[0mx\u001b[0m\u001b[0;34m,\u001b[0m \u001b[0my\u001b[0m\u001b[0;34m)\u001b[0m\u001b[0;34m\u001b[0m\u001b[0;34m\u001b[0m\u001b[0m\n\u001b[0m\u001b[1;32m    392\u001b[0m \u001b[0;34m\u001b[0m\u001b[0m\n\u001b[1;32m    393\u001b[0m         \u001b[0;32mif\u001b[0m \u001b[0mself\u001b[0m\u001b[0;34m.\u001b[0m\u001b[0mcommand\u001b[0m \u001b[0;34m==\u001b[0m \u001b[0;34m'plot'\u001b[0m\u001b[0;34m:\u001b[0m\u001b[0;34m\u001b[0m\u001b[0;34m\u001b[0m\u001b[0m\n",
      "\u001b[0;32m~/.local/lib/python3.6/site-packages/matplotlib/axes/_base.py\u001b[0m in \u001b[0;36m_xy_from_xy\u001b[0;34m(self, x, y)\u001b[0m\n\u001b[1;32m    268\u001b[0m         \u001b[0;32mif\u001b[0m \u001b[0mx\u001b[0m\u001b[0;34m.\u001b[0m\u001b[0mshape\u001b[0m\u001b[0;34m[\u001b[0m\u001b[0;36m0\u001b[0m\u001b[0;34m]\u001b[0m \u001b[0;34m!=\u001b[0m \u001b[0my\u001b[0m\u001b[0;34m.\u001b[0m\u001b[0mshape\u001b[0m\u001b[0;34m[\u001b[0m\u001b[0;36m0\u001b[0m\u001b[0;34m]\u001b[0m\u001b[0;34m:\u001b[0m\u001b[0;34m\u001b[0m\u001b[0;34m\u001b[0m\u001b[0m\n\u001b[1;32m    269\u001b[0m             raise ValueError(\"x and y must have same first dimension, but \"\n\u001b[0;32m--> 270\u001b[0;31m                              \"have shapes {} and {}\".format(x.shape, y.shape))\n\u001b[0m\u001b[1;32m    271\u001b[0m         \u001b[0;32mif\u001b[0m \u001b[0mx\u001b[0m\u001b[0;34m.\u001b[0m\u001b[0mndim\u001b[0m \u001b[0;34m>\u001b[0m \u001b[0;36m2\u001b[0m \u001b[0;32mor\u001b[0m \u001b[0my\u001b[0m\u001b[0;34m.\u001b[0m\u001b[0mndim\u001b[0m \u001b[0;34m>\u001b[0m \u001b[0;36m2\u001b[0m\u001b[0;34m:\u001b[0m\u001b[0;34m\u001b[0m\u001b[0;34m\u001b[0m\u001b[0m\n\u001b[1;32m    272\u001b[0m             raise ValueError(\"x and y can be no greater than 2-D, but have \"\n",
      "\u001b[0;31mValueError\u001b[0m: x and y must have same first dimension, but have shapes (1,) and (100, 11, 18)"
     ]
    },
    {
     "data": {
      "image/png": "[encoded data removed]",
      "text/plain": [
       "<Figure size 1152x504 with 2 Axes>"
      ]
     },
     "metadata": {
      "needs_background": "light"
     },
     "output_type": "display_data"
    }
   ],
   "source": [
    "fig,ax=plt.subplots(1,2,figsize=(16,7))\n",
    "Lat_10,ZMT_10=np.loadtxt('Data/ERA_ZMT_Mean_10deginterpolated.txt')\n",
    "Lat_ERA,ZMT_ERA=np.loadtxt('Data/ERA_ZMT_Mean.txt')\n",
    "#plt.plot(Vars.Lat,data[1][-1]+elevation)\n",
    "#plt.plot(Lat_10,ZMT_10)\n",
    "for i in [0,1,10,99]:\n",
    "    ax[0].plot(np.arange,data-data,label='Optimized_GMT')\n",
    "    ax[0].legend(loc='lower right')\n",
    "\n",
    "ax[1].plot(Vars.Lat,data[1][0]+elevation,label='ZMT Optimized_GMT')\n",
    "ax[1].plot(Lat_10,ZMT_10,label='Expected ZMT')\n",
    "ax[1].legend(loc='lower right')\n",
    "#plt.savefig('GMT_Optimization_Comparison.eps',format='EPS',bbox_inches='tight')"
   ]
  },
  {
   "cell_type": "code",
   "execution_count": 50,
   "metadata": {},
   "outputs": [
    {
     "name": "stderr",
     "output_type": "stream",
     "text": [
      "The PostScript backend does not support transparency; partially transparent artists will be rendered opaque.\n",
      "The PostScript backend does not support transparency; partially transparent artists will be rendered opaque.\n",
      "The PostScript backend does not support transparency; partially transparent artists will be rendered opaque.\n",
      "The PostScript backend does not support transparency; partially transparent artists will be rendered opaque.\n"
     ]
    },
    {
     "data": {
      "image/png": "[encoded data removed]",
      "text/plain": [
       "<Figure size 684x504 with 1 Axes>"
      ]
     },
     "metadata": {
      "needs_background": "light"
     },
     "output_type": "display_data"
    }
   ],
   "source": [
    "plt.figure(figsize=(9.5,7))\n",
    "plt.plot(np.arange(100)+1,F[:,0],label='Optimization cost function')\n",
    "plt.yscale('log')\n",
    "plt.xscale('log')\n",
    "plt.xlabel('$Stepcount$'),plt.ylabel('$F\\; [K^2]$')\n",
    "#plt.figlegend((line2),['ERA-Target ZMT'],fontsize=17,bbox_to_anchor=(0.858,0.215))\n",
    "plt.legend(fontsize=17)\n",
    "plt.title('ZMT parameter optimization cost function')\n",
    "#plt.xlim(1808,1858)\n",
    "plt.savefig('Data/ZMT_Optimization_F_log.eps',format='EPS',bbox_inches='tight')"
   ]
  },
  {
   "cell_type": "code",
   "execution_count": 49,
   "metadata": {},
   "outputs": [
    {
     "name": "stderr",
     "output_type": "stream",
     "text": [
      "The PostScript backend does not support transparency; partially transparent artists will be rendered opaque.\n",
      "The PostScript backend does not support transparency; partially transparent artists will be rendered opaque.\n",
      "The PostScript backend does not support transparency; partially transparent artists will be rendered opaque.\n",
      "The PostScript backend does not support transparency; partially transparent artists will be rendered opaque.\n"
     ]
    },
    {
     "data": {
      "image/png": "[encoded data removed]",
      "text/plain": [
       "<Figure size 684x504 with 1 Axes>"
      ]
     },
     "metadata": {
      "needs_background": "light"
     },
     "output_type": "display_data"
    }
   ],
   "source": [
    "plt.figure(figsize=(9.5,7))\n",
    "plt.plot(np.arange(100)+1,np.abs(dF[:,0]),label='Optimization cost function gradient')\n",
    "plt.yscale('log')\n",
    "plt.xscale('log')\n",
    "#plt.ylim(-1.5e5,1e5)\n",
    "plt.xlabel('$Stepcount$'),plt.ylabel('$dF\\; [K^2]$')\n",
    "#plt.figlegend((line2),['ERA-Target ZMT'],fontsize=17,bbox_to_anchor=(0.858,0.215))\n",
    "plt.legend(fontsize=17)\n",
    "plt.title('ZMT parameter optimization cost function gradient')\n",
    "#plt.xlim(1808,1858)\n",
    "plt.savefig('Data/ZMT_Optimization_dF_log.eps',format='EPS',bbox_inches='tight')"
   ]
  },
  {
   "cell_type": "code",
   "execution_count": 14,
   "metadata": {},
   "outputs": [
    {
     "name": "stdout",
     "output_type": "stream",
     "text": [
      "Loading Configuration from: Dev_Data/Optimization/Sellers.ini\n",
      "Starting controlrun with a temperature accuracy of 0.0001 K on the GMT over 1000 datapoints.\n",
      "Loading Parameters from: /Home/siv32/bsc029/.local/lib/python3.6/site-packages/lowEBMs/Tutorials/Config/Data/SellersParameterization.ini\n"
     ]
    },
    {
     "data": {
      "application/vnd.jupyter.widget-view+json": {
       "model_id": "817a4dbe2c0e4204be6160317ef3903d",
       "version_major": 2,
       "version_minor": 0
      },
      "text/plain": [
       "HBox(children=(IntProgress(value=0, max=100000), HTML(value='')))"
      ]
     },
     "metadata": {},
     "output_type": "display_data"
    },
    {
     "name": "stdout",
     "output_type": "stream",
     "text": [
      "Steady State reached after 29943 steps, within 41.05894374847412 seconds\n",
      "Finished controlrun over 1982.035616438356 years. Runtime: 41.0869026184082 s\n"
     ]
    }
   ],
   "source": [
    "#setup={'number_of_parameters': len(P0), 'number_of_cycles': 1, 'number_of_parallels': len(P0)*2+1}\n",
    "config_base=importer('Dev_Data/Optimization/Sellers.ini')\n",
    "variable_importer(config_base,control=True,accuracy=1e-4)\n",
    "#print(config_base)\n",
    "config_base,ParasCTRL=add_sellersparameters(config_base,\\\n",
    "                                    parameterinterpolatorstepwise,'SellersParameterization.ini',2,0,True,True)\n",
    "elevation=-0.0065*np.array(ParasCTRL[1][1])\n",
    "#P_config=reshape_parameters(P0,P_pert)\n",
    "labels=[['func1','m'],['func1','gamma'],['func2','factor_oc'],['func2','factor_kwv'],['func2','factor_kair']]\n",
    "P_optimal=[0.4668,2.4762e-15,1.1689,1.16658,1.1942]\n",
    "config=add_parameters(config_base,P_optimal,labels)\n",
    "#print(config)\n",
    "data=rk4alg(model_equation,config['eqparam'],config['rk4input'],config['funccomp'],progressbar=True)"
   ]
  },
  {
   "cell_type": "code",
   "execution_count": 9,
   "metadata": {},
   "outputs": [
    {
     "data": {
      "text/plain": [
       "[<matplotlib.lines.Line2D at 0x7f3617843ef0>]"
      ]
     },
     "execution_count": 9,
     "metadata": {},
     "output_type": "execute_result"
    },
    {
     "data": {
      "image/png": "[encoded data removed]",
      "text/plain": [
       "<Figure size 432x288 with 1 Axes>"
      ]
     },
     "metadata": {
      "needs_background": "light"
     },
     "output_type": "display_data"
    }
   ],
   "source": [
    "plt.plot(data[0],data[2])\n",
    "plt.plot(data[0][-10000:],data[2][-10000:])"
   ]
  },
  {
   "cell_type": "code",
   "execution_count": 15,
   "metadata": {},
   "outputs": [
    {
     "data": {
      "text/plain": [
       "[<matplotlib.lines.Line2D at 0x7f35debdbeb8>]"
      ]
     },
     "execution_count": 15,
     "metadata": {},
     "output_type": "execute_result"
    },
    {
     "data": {
      "image/png": "[encoded data removed]",
      "text/plain": [
       "<Figure size 432x288 with 1 Axes>"
      ]
     },
     "metadata": {
      "needs_background": "light"
     },
     "output_type": "display_data"
    }
   ],
   "source": [
    "plt.plot(Vars.Lat,data[1][-1]+elevation)\n",
    "plt.plot(Lat_10,ZMT_10)"
   ]
  },
  {
   "cell_type": "code",
   "execution_count": null,
   "metadata": {},
   "outputs": [],
   "source": []
  }
 ],
 "metadata": {
  "kernelspec": {
   "display_name": "Python 3",
   "language": "python",
   "name": "python3"
  },
  "language_info": {
   "codemirror_mode": {
    "name": "ipython",
    "version": 3
   },
   "file_extension": ".py",
   "mimetype": "text/x-python",
   "name": "python",
   "nbconvert_exporter": "python",
   "pygments_lexer": "ipython3",
   "version": "3.6.8"
  }
 },
 "nbformat": 4,
 "nbformat_minor": 2
}
